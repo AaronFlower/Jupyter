{
 "cells": [
  {
   "cell_type": "markdown",
   "metadata": {},
   "source": [
    "## Apriori 关联分析\n",
    "\n",
    "关联分析（Association Rule Learning）分为两个部分：\n",
    "\n",
    "- 发现频繁项集(frequent item sets)\n",
    "- 发现关联规则(Associtation rules)。\n",
    "\n",
    "频繁项集的两个衡量标准：\n",
    "\n",
    "- 支持度(support) ：定义为数据集中包含该项集的记录所点的比例。\n",
    "- 可信度(confidence)：两个项集的支持度之比。\n",
    "\n",
    "### Apriori 原理\n",
    "\n",
    "包含 N 种物品的数据集共有 $2^N - 1$ 种项集组合。生成这些项集是一种非常耗时的工作。使用 Apriori 原理可以降低计算时间。\n",
    "\n",
    "Apriori 原理，先验原理：如果某个项集是频繁的，那么它的所有子集也是频繁的。该原理的**逆反原理**是：如果一个项集是非频繁集，那么它的所有超集也是非频繁的。该原理可以避免项集数目的指数增长，从而在合理的时间内计算出频繁项集。\n"
   ]
  },
  {
   "cell_type": "markdown",
   "metadata": {},
   "source": [
    "### 使用 Apriori 算法发现频繁集"
   ]
  },
  {
   "cell_type": "code",
   "execution_count": 79,
   "metadata": {},
   "outputs": [],
   "source": [
    "def loadData():\n",
    "    return [[1, 3, 4], [2, 3, 5], [1, 2, 3, 5], [2, 5]]\n",
    "\n",
    "def createC1(dataset):\n",
    "    '''\n",
    "        生成基本项集\n",
    "    '''\n",
    "    C1 = []\n",
    "    for tran in dataset:\n",
    "        for item in tran:\n",
    "            if not [item] in C1:\n",
    "                C1.append([item])\n",
    "    C1.sort()\n",
    "    return list(map(frozenset, C1))\n",
    "\n",
    "def scanDataset(dataset, Ck, minSupport):\n",
    "    '''\n",
    "        找出在数据集中超过最小支持度 minSupport 的 k 阶项集。\n",
    "        dataset: 交易记录数据集。\n",
    "        Ck: k 阶项集。\n",
    "        minSupport: 最小支持度\n",
    "    '''\n",
    "    ssCnt = {}\n",
    "    for tran in dataset:\n",
    "        for candidate in Ck:\n",
    "            if candidate.issubset(tran):\n",
    "                ssCnt[candidate] = ssCnt.get(candidate, 0) + 1\n",
    "                \n",
    "    numItems = float(len(dataset))\n",
    "    retList = []\n",
    "    supportData = {}\n",
    "    for key in ssCnt:\n",
    "        support = ssCnt[key] / numItems\n",
    "        if support >= minSupport:\n",
    "            retList.insert(0, key)\n",
    "        supportData[key] = support\n",
    "    return retList, supportData"
   ]
  },
  {
   "cell_type": "code",
   "execution_count": 85,
   "metadata": {},
   "outputs": [
    {
     "name": "stdout",
     "output_type": "stream",
     "text": [
      "[frozenset({5}), frozenset({2}), frozenset({3}), frozenset({1})]\n",
      "[] [] True\n",
      "frozenset({2, 5})\n"
     ]
    }
   ],
   "source": [
    "data = loadData()\n",
    "# print(data)\n",
    "C1 = createC1(data)\n",
    "# print(list(C1))\n",
    "\n",
    "dataset = list(map(set, data))\n",
    "L0, supportData = scanDataset(dataset, C1, 0.5)\n",
    "print(L0)\n",
    "print(list(L0[0])[:2-2], list(L0[1])[:2-2], list(L0[0])[:2-2] == list(L0[1])[:2-2])\n",
    "print(L0[0] | L0[1])\n",
    "\n"
   ]
  }
 ],
 "metadata": {
  "kernelspec": {
   "display_name": "Python 3",
   "language": "python",
   "name": "python3"
  },
  "language_info": {
   "codemirror_mode": {
    "name": "ipython",
    "version": 3
   },
   "file_extension": ".py",
   "mimetype": "text/x-python",
   "name": "python",
   "nbconvert_exporter": "python",
   "pygments_lexer": "ipython3",
   "version": "3.7.0"
  }
 },
 "nbformat": 4,
 "nbformat_minor": 2
}
