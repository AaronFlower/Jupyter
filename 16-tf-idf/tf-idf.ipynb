{
 "cells": [
  {
   "cell_type": "markdown",
   "metadata": {},
   "source": [
    "## [TF-IDF 算法](http://www.ruanyifeng.com/blog/2013/03/tf-idf.html)\n",
    "TF, Term Frequency, 词频。\n",
    "IDF, Inverse Doc Frequency, 逆文档频率。\n"
   ]
  },
  {
   "cell_type": "code",
   "execution_count": 23,
   "metadata": {
    "collapsed": false
   },
   "outputs": [],
   "source": [
    "# corpus， 语料库\n",
    "\n",
    "docA = 'the cat sat on my face'\n",
    "docB = 'the dog sat on my bed'\n",
    "\n",
    "# tokenizing， 分词\n",
    "bowA = docA.split(' ')\n",
    "bowB = docB.split(' ')\n",
    "\n",
    "\n",
    "# 字典\n",
    "wordSet = set(bowA) | set(bowB)\n",
    "\n",
    "# 计算 Term Frequency\n",
    "def calcTF(wordSet, bow):\n",
    "    tfBow = dict.fromkeys(wordSet, 0)\n",
    "    for word in bow:\n",
    "        tfBow[word] += 1\n",
    "    return tfBow\n",
    "\n",
    "# 计算 Inverse Doc Frequency\n",
    "def calcIDF(wordSet, bows):\n",
    "    from math import log\n",
    "    idfSet = dict.fromkeys(wordSet, 1)\n",
    "    for bow in bows:\n",
    "        for word in bow:\n",
    "            idfSet[word] += 1\n",
    "    for word in idfSet:\n",
    "        idfSet[word] = 1.0 / log(idfSet[word])\n",
    "    return idfSet\n",
    "\n",
    "# 计算 TF-IDF\n",
    "def calcTfIdf(idfSet, dfBow):\n",
    "    df_idfBow = {}\n",
    "    for word in dfBow:\n",
    "        df_idfBow[word] = dfBow[word] * idfSet[word]\n",
    "    return df_idfBow\n"
   ]
  },
  {
   "cell_type": "code",
   "execution_count": 24,
   "metadata": {
    "collapsed": false
   },
   "outputs": [
    {
     "data": {
      "text/html": [
       "<div>\n",
       "<table border=\"1\" class=\"dataframe\">\n",
       "  <thead>\n",
       "    <tr style=\"text-align: right;\">\n",
       "      <th></th>\n",
       "      <th>0</th>\n",
       "      <th>1</th>\n",
       "      <th>2</th>\n",
       "      <th>3</th>\n",
       "      <th>4</th>\n",
       "      <th>5</th>\n",
       "    </tr>\n",
       "  </thead>\n",
       "  <tbody>\n",
       "    <tr>\n",
       "      <th>0</th>\n",
       "      <td>the</td>\n",
       "      <td>cat</td>\n",
       "      <td>sat</td>\n",
       "      <td>on</td>\n",
       "      <td>my</td>\n",
       "      <td>face</td>\n",
       "    </tr>\n",
       "    <tr>\n",
       "      <th>1</th>\n",
       "      <td>the</td>\n",
       "      <td>dog</td>\n",
       "      <td>sat</td>\n",
       "      <td>on</td>\n",
       "      <td>my</td>\n",
       "      <td>bed</td>\n",
       "    </tr>\n",
       "  </tbody>\n",
       "</table>\n",
       "</div>"
      ],
      "text/plain": [
       "     0    1    2   3   4     5\n",
       "0  the  cat  sat  on  my  face\n",
       "1  the  dog  sat  on  my   bed"
      ]
     },
     "execution_count": 24,
     "metadata": {},
     "output_type": "execute_result"
    }
   ],
   "source": [
    "# Corpus\n",
    "import pandas as pd\n",
    "pd.DataFrame([bowA, bowB])\n"
   ]
  },
  {
   "cell_type": "code",
   "execution_count": 18,
   "metadata": {
    "collapsed": false
   },
   "outputs": [
    {
     "data": {
      "text/html": [
       "<div>\n",
       "<table border=\"1\" class=\"dataframe\">\n",
       "  <thead>\n",
       "    <tr style=\"text-align: right;\">\n",
       "      <th></th>\n",
       "      <th>bed</th>\n",
       "      <th>cat</th>\n",
       "      <th>dog</th>\n",
       "      <th>face</th>\n",
       "      <th>my</th>\n",
       "      <th>on</th>\n",
       "      <th>sat</th>\n",
       "      <th>the</th>\n",
       "    </tr>\n",
       "  </thead>\n",
       "  <tbody>\n",
       "    <tr>\n",
       "      <th>0</th>\n",
       "      <td>0</td>\n",
       "      <td>1</td>\n",
       "      <td>0</td>\n",
       "      <td>1</td>\n",
       "      <td>1</td>\n",
       "      <td>1</td>\n",
       "      <td>1</td>\n",
       "      <td>1</td>\n",
       "    </tr>\n",
       "    <tr>\n",
       "      <th>1</th>\n",
       "      <td>1</td>\n",
       "      <td>0</td>\n",
       "      <td>1</td>\n",
       "      <td>0</td>\n",
       "      <td>1</td>\n",
       "      <td>1</td>\n",
       "      <td>1</td>\n",
       "      <td>1</td>\n",
       "    </tr>\n",
       "  </tbody>\n",
       "</table>\n",
       "</div>"
      ],
      "text/plain": [
       "   bed  cat  dog  face  my  on  sat  the\n",
       "0    0    1    0     1   1   1    1    1\n",
       "1    1    0    1     0   1   1    1    1"
      ]
     },
     "execution_count": 18,
     "metadata": {},
     "output_type": "execute_result"
    }
   ],
   "source": [
    "# Tokenizing ,vectorizing and calc DF\n",
    "aTf = calcTF(wordSet, bowA)\n",
    "bTf = calcTF(wordSet, bowB)\n",
    "pd.DataFrame([aTf, bTf])"
   ]
  },
  {
   "cell_type": "code",
   "execution_count": 19,
   "metadata": {
    "collapsed": false
   },
   "outputs": [
    {
     "data": {
      "text/html": [
       "<div>\n",
       "<table border=\"1\" class=\"dataframe\">\n",
       "  <thead>\n",
       "    <tr style=\"text-align: right;\">\n",
       "      <th></th>\n",
       "      <th>bed</th>\n",
       "      <th>cat</th>\n",
       "      <th>dog</th>\n",
       "      <th>face</th>\n",
       "      <th>my</th>\n",
       "      <th>on</th>\n",
       "      <th>sat</th>\n",
       "      <th>the</th>\n",
       "    </tr>\n",
       "  </thead>\n",
       "  <tbody>\n",
       "    <tr>\n",
       "      <th>0</th>\n",
       "      <td>1.442695</td>\n",
       "      <td>1.442695</td>\n",
       "      <td>1.442695</td>\n",
       "      <td>1.442695</td>\n",
       "      <td>0.910239</td>\n",
       "      <td>0.910239</td>\n",
       "      <td>0.910239</td>\n",
       "      <td>0.910239</td>\n",
       "    </tr>\n",
       "  </tbody>\n",
       "</table>\n",
       "</div>"
      ],
      "text/plain": [
       "        bed       cat       dog      face        my        on       sat  \\\n",
       "0  1.442695  1.442695  1.442695  1.442695  0.910239  0.910239  0.910239   \n",
       "\n",
       "        the  \n",
       "0  0.910239  "
      ]
     },
     "execution_count": 19,
     "metadata": {},
     "output_type": "execute_result"
    }
   ],
   "source": [
    "# calc IDF\n",
    "idfSet = calcIDF(wordSet, [bowA, bowB])\n",
    "pd.DataFrame([idfSet])"
   ]
  },
  {
   "cell_type": "code",
   "execution_count": 22,
   "metadata": {
    "collapsed": false
   },
   "outputs": [
    {
     "data": {
      "text/html": [
       "<div>\n",
       "<table border=\"1\" class=\"dataframe\">\n",
       "  <thead>\n",
       "    <tr style=\"text-align: right;\">\n",
       "      <th></th>\n",
       "      <th>bed</th>\n",
       "      <th>cat</th>\n",
       "      <th>dog</th>\n",
       "      <th>face</th>\n",
       "      <th>my</th>\n",
       "      <th>on</th>\n",
       "      <th>sat</th>\n",
       "      <th>the</th>\n",
       "    </tr>\n",
       "  </thead>\n",
       "  <tbody>\n",
       "    <tr>\n",
       "      <th>0</th>\n",
       "      <td>0.000000</td>\n",
       "      <td>1.442695</td>\n",
       "      <td>0.000000</td>\n",
       "      <td>1.442695</td>\n",
       "      <td>0.910239</td>\n",
       "      <td>0.910239</td>\n",
       "      <td>0.910239</td>\n",
       "      <td>0.910239</td>\n",
       "    </tr>\n",
       "    <tr>\n",
       "      <th>1</th>\n",
       "      <td>1.442695</td>\n",
       "      <td>0.000000</td>\n",
       "      <td>1.442695</td>\n",
       "      <td>0.000000</td>\n",
       "      <td>0.910239</td>\n",
       "      <td>0.910239</td>\n",
       "      <td>0.910239</td>\n",
       "      <td>0.910239</td>\n",
       "    </tr>\n",
       "  </tbody>\n",
       "</table>\n",
       "</div>"
      ],
      "text/plain": [
       "        bed       cat       dog      face        my        on       sat  \\\n",
       "0  0.000000  1.442695  0.000000  1.442695  0.910239  0.910239  0.910239   \n",
       "1  1.442695  0.000000  1.442695  0.000000  0.910239  0.910239  0.910239   \n",
       "\n",
       "        the  \n",
       "0  0.910239  \n",
       "1  0.910239  "
      ]
     },
     "execution_count": 22,
     "metadata": {},
     "output_type": "execute_result"
    }
   ],
   "source": [
    "# calc DF-IDF\n",
    "aTfIdf = calcTfIdf(idfSet, aTf)\n",
    "bTfIdf = calcTfIdf(idfSet, bTf)\n",
    "pd.DataFrame([aTfIdf, bTfIdf])"
   ]
  }
 ],
 "metadata": {
  "kernelspec": {
   "display_name": "Python 3",
   "language": "python",
   "name": "python3"
  },
  "language_info": {
   "codemirror_mode": {
    "name": "ipython",
    "version": 3
   },
   "file_extension": ".py",
   "mimetype": "text/x-python",
   "name": "python",
   "nbconvert_exporter": "python",
   "pygments_lexer": "ipython3",
   "version": "3.6.0"
  }
 },
 "nbformat": 4,
 "nbformat_minor": 2
}
