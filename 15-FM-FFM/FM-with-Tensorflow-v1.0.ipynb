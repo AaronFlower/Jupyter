{
 "cells": [
  {
   "cell_type": "markdown",
   "metadata": {},
   "source": [
    "## FM with Tensorflow 1.0\n",
    "\n",
    "[Factorization Machines with Tensorflow](http://nowave.it/factorization-machines-with-tensorflow.html) 这篇 Blog 写的真的很赞。\n"
   ]
  },
  {
   "cell_type": "code",
   "execution_count": 2,
   "metadata": {},
   "outputs": [],
   "source": [
    "import numpy as np\n",
    "# Example dummy data from Rendle 2010 \n",
    "# http://www.csie.ntu.edu.tw/~b97053/paper/Rendle2010FM.pdf\n",
    "# Stolen from https://github.com/coreylynch/pyFM\n",
    "# Categorical variables (Users, Movies, Last Rated) have been one-hot-encoded \n",
    "x_data = np.matrix([\n",
    "#    Users  |     Movies     |    Movie Ratings   | Time | Last Movies Rated\n",
    "#   A  B  C | TI  NH  SW  ST | TI   NH   SW   ST  |      | TI  NH  SW  ST\n",
    "    [1, 0, 0,  1,  0,  0,  0,   0.3, 0.3, 0.3, 0,     13,   0,  0,  0,  0 ],\n",
    "    [1, 0, 0,  0,  1,  0,  0,   0.3, 0.3, 0.3, 0,     14,   1,  0,  0,  0 ],\n",
    "    [1, 0, 0,  0,  0,  1,  0,   0.3, 0.3, 0.3, 0,     16,   0,  1,  0,  0 ],\n",
    "    [0, 1, 0,  0,  0,  1,  0,   0,   0,   0.5, 0.5,   5,    0,  0,  0,  0 ],\n",
    "    [0, 1, 0,  0,  0,  0,  1,   0,   0,   0.5, 0.5,   8,    0,  0,  1,  0 ],\n",
    "    [0, 0, 1,  1,  0,  0,  0,   0.5, 0,   0.5, 0,     9,    0,  0,  0,  0 ],\n",
    "    [0, 0, 1,  0,  0,  1,  0,   0.5, 0,   0.5, 0,     12,   1,  0,  0,  0 ]\n",
    "])\n",
    "# ratings\n",
    "y_data = np.array([5, 3, 1, 4, 5, 1, 5])\n",
    "\n",
    "# Let's add an axis to make tensoflow happy.\n",
    "y_data.shape += (1, )"
   ]
  },
  {
   "cell_type": "code",
   "execution_count": 3,
   "metadata": {
    "scrolled": true
   },
   "outputs": [
    {
     "name": "stdout",
     "output_type": "stream",
     "text": [
      "2.0.0\n"
     ]
    }
   ],
   "source": [
    "# import tensorflow as tf\n",
    "import tensorflow.compat.v1 as tf\n",
    "tf.disable_eager_execution()\n",
    "print(tf.__version__)"
   ]
  },
  {
   "cell_type": "markdown",
   "metadata": {},
   "source": [
    "## Placeholders\n",
    "\n",
    "Placeholders 的作用是用来作为占位符，一般用来作为数据的占位符。然后在开启一个 Session 运行时，再将数据填充上。"
   ]
  },
  {
   "cell_type": "code",
   "execution_count": 5,
   "metadata": {},
   "outputs": [],
   "source": [
    "# number of latent factors\n",
    "k = 5\n",
    "\n",
    "n, p = x_data.shape\n",
    "\n",
    "# design matrix\n",
    "X = tf.placeholder('float', shape=[n, p])\n",
    "\n",
    "# target vector\n",
    "y = tf.placeholder('float', shape=[n, 1])\n",
    "\n",
    "# bias and weights\n",
    "w0 = tf.Variable(tf.zeros([1]))\n",
    "W = tf.Variable(tf.zeros([p]))\n",
    "\n",
    "# interaction factors, random initialiazed\n",
    "V = tf.Variable(tf.random_normal([k, p], stddev=0.01))\n",
    "\n",
    "# estimate of y, initialize to 0.\n",
    "y_hat = tf.Variable(tf.zeros([n, 1]))"
   ]
  },
  {
   "cell_type": "markdown",
   "metadata": {},
   "source": [
    "### linear_terms"
   ]
  },
  {
   "cell_type": "code",
   "execution_count": 6,
   "metadata": {},
   "outputs": [],
   "source": [
    "linear_terms = tf.add(\n",
    "                    w0, \n",
    "                    tf.reduce_sum(tf.multiply(W, X), 1, keepdims=True)\n",
    "                )"
   ]
  },
  {
   "cell_type": "markdown",
   "metadata": {},
   "source": [
    "### interaction terms"
   ]
  },
  {
   "cell_type": "code",
   "execution_count": 7,
   "metadata": {},
   "outputs": [],
   "source": [
    "interactions = tf.multiply(0.5, \n",
    "                    tf.reduce_sum(\n",
    "                        tf.subtract(\n",
    "                            tf.pow(tf.matmul(X, tf.transpose(V)), 2), \n",
    "                            tf.matmul(tf.pow(X, 2), tf.transpose(tf.pow(V, 2)))\n",
    "                        ),\n",
    "                        1, \n",
    "                        keepdims=True\n",
    "                    )\n",
    "                )"
   ]
  },
  {
   "cell_type": "markdown",
   "metadata": {},
   "source": [
    "### y_hat"
   ]
  },
  {
   "cell_type": "code",
   "execution_count": 8,
   "metadata": {},
   "outputs": [],
   "source": [
    "y_hat = tf.add(linear_terms, interactions)"
   ]
  },
  {
   "cell_type": "code",
   "execution_count": 9,
   "metadata": {},
   "outputs": [],
   "source": [
    "### L2 regularized\n",
    "lambda_w = tf.constant(0.001, name='lambda_w')\n",
    "lambda_v = tf.constant(0.001, name='lambda_v')\n",
    "\n",
    "l2_norm = tf.reduce_sum(\n",
    "            tf.add(\n",
    "                tf.multiply(lambda_w, tf.pow(W, 2)),\n",
    "                tf.multiply(lambda_v, tf.pow(V, 2))\n",
    "            )\n",
    "        )\n",
    "\n",
    "error = tf.reduce_mean(tf.square(tf.subtract(y, y_hat)))\n",
    "loss = tf.add(error, l2_norm)"
   ]
  },
  {
   "cell_type": "markdown",
   "metadata": {},
   "source": [
    "### train with optimizer\n"
   ]
  },
  {
   "cell_type": "code",
   "execution_count": 11,
   "metadata": {},
   "outputs": [],
   "source": [
    "eta = tf.constant(0.1)\n",
    "optimizer = tf.train.AdagradOptimizer(eta).minimize(loss)"
   ]
  },
  {
   "cell_type": "code",
   "execution_count": 12,
   "metadata": {},
   "outputs": [
    {
     "name": "stdout",
     "output_type": "stream",
     "text": [
      "MSE:  2.6334617e-06\n",
      "Loss (regularized error): 0.0032062565\n",
      "Predictions: [[5.0008225]\n",
      " [3.0021558]\n",
      " [1.0024109]\n",
      " [3.9997218]\n",
      " [5.001162 ]\n",
      " [1.001924 ]\n",
      " [5.0014725]]\n",
      "Learnt weights: [ 0.13208246  0.18306005 -0.10841523 -0.01566492 -0.05459929  0.18787012\n",
      "  0.08919552 -0.00697165  0.07593074  0.07488453  0.13808195  0.10128716\n",
      "  0.14856166 -0.1532194   0.08919552  0.        ]\n",
      "Learnt factors: [[-7.36950859e-02 -2.33698264e-01  9.86326411e-02 -1.04981445e-01\n",
      "   2.38596946e-01 -1.55026436e-01 -7.00005814e-02  1.34370672e-02\n",
      "  -2.69906539e-02 -7.78662041e-02 -2.05926731e-01 -2.14775398e-01\n",
      "  -1.74245656e-01  3.39775354e-01 -7.75893107e-02 -3.79515626e-03]\n",
      " [-9.29042026e-02 -2.32147098e-01  7.66933113e-02 -1.07213557e-01\n",
      "   2.00149998e-01 -1.49390191e-01 -7.83170089e-02  6.60254946e-03\n",
      "  -3.57870311e-02 -8.26184526e-02 -2.05183178e-01 -2.08080307e-01\n",
      "  -1.98463157e-01  3.34118664e-01 -7.95174316e-02  5.80727914e-03]\n",
      " [ 1.98745012e-01  1.40414238e-01 -2.55441338e-01  2.13614345e-01\n",
      "  -3.26802552e-01  2.65166342e-01 -5.44089600e-02 -5.87606709e-03\n",
      "   2.15870410e-01  6.58238158e-02  1.18754029e-01  2.52909392e-01\n",
      "   3.08706522e-01 -4.21208411e-01 -5.29733188e-02  1.65151828e-03]\n",
      " [ 1.48013579e-02 -1.66076660e-01  7.31202215e-02 -1.39401562e-03\n",
      "   2.12936714e-01 -1.15209378e-01 -7.17053860e-02  1.41434241e-02\n",
      "   1.24578262e-02 -3.44865695e-02 -1.50860041e-01 -1.48074493e-01\n",
      "  -1.43475085e-01  2.85377890e-01 -6.98763952e-02  1.01048313e-03]\n",
      " [ 7.77279437e-02  2.40906656e-01 -8.73041973e-02  1.02268398e-01\n",
      "  -1.99824840e-01  1.61508352e-01  7.37332553e-02 -1.63633041e-02\n",
      "   3.83750871e-02  6.16921149e-02  1.92835957e-01  1.80791125e-01\n",
      "   1.78398594e-01 -3.18501115e-01  7.75663704e-02  1.54547160e-04]]\n"
     ]
    }
   ],
   "source": [
    "N_EPOCHS = 1000\n",
    "\n",
    "# Launch the graph\n",
    "init = tf.global_variables_initializer()\n",
    "with tf.Session() as sess:\n",
    "    sess.run(init)\n",
    "    \n",
    "    for epoch in range(N_EPOCHS):\n",
    "        indices = np.arange(n)\n",
    "        np.random.shuffle(indices)\n",
    "        x_train, y_train = x_data[indices], y_data[indices]\n",
    "        feed_dict = {X: x_train, y: y_train}\n",
    "        sess.run(optimizer, feed_dict=feed_dict)\n",
    "    \n",
    "    feed_dict = {X: x_data, y: y_data}\n",
    "    print('MSE: ', sess.run(error, feed_dict=feed_dict))\n",
    "    print('Loss (regularized error):', sess.run(loss, feed_dict=feed_dict))\n",
    "    print('Predictions:', sess.run(y_hat, feed_dict=feed_dict))\n",
    "    print('Learnt weights:', sess.run(W, feed_dict=feed_dict))\n",
    "    print('Learnt factors:', sess.run(V, feed_dict=feed_dict))"
   ]
  },
  {
   "cell_type": "markdown",
   "metadata": {},
   "source": [
    "### References\n",
    "\n",
    "1. [Factorization Machines with Tensorflow](http://nowave.it/factorization-machines-with-tensorflow.html)"
   ]
  }
 ],
 "metadata": {
  "kernelspec": {
   "display_name": "Python 3",
   "language": "python",
   "name": "python3"
  },
  "language_info": {
   "codemirror_mode": {
    "name": "ipython",
    "version": 3
   },
   "file_extension": ".py",
   "mimetype": "text/x-python",
   "name": "python",
   "nbconvert_exporter": "python",
   "pygments_lexer": "ipython3",
   "version": "3.7.5"
  }
 },
 "nbformat": 4,
 "nbformat_minor": 2
}
