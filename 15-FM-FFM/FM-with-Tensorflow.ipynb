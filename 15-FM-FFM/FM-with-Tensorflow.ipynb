{
 "cells": [
  {
   "cell_type": "markdown",
   "metadata": {},
   "source": [
    "## FM with Tensorflow\n",
    "\n",
    "[Factorization Machines with Tensorflow](http://nowave.it/factorization-machines-with-tensorflow.html) 这篇 Blog 写的真的很赞。\n"
   ]
  },
  {
   "cell_type": "code",
   "execution_count": 40,
   "metadata": {},
   "outputs": [],
   "source": [
    "import numpy as np\n",
    "# Example dummy data from Rendle 2010 \n",
    "# http://www.csie.ntu.edu.tw/~b97053/paper/Rendle2010FM.pdf\n",
    "# Stolen from https://github.com/coreylynch/pyFM\n",
    "# Categorical variables (Users, Movies, Last Rated) have been one-hot-encoded \n",
    "x_data = np.matrix([\n",
    "#    Users  |     Movies     |    Movie Ratings   | Time | Last Movies Rated\n",
    "#   A  B  C | TI  NH  SW  ST | TI   NH   SW   ST  |      | TI  NH  SW  ST\n",
    "    [1, 0, 0,  1,  0,  0,  0,   0.3, 0.3, 0.3, 0,     13,   0,  0,  0,  0 ],\n",
    "    [1, 0, 0,  0,  1,  0,  0,   0.3, 0.3, 0.3, 0,     14,   1,  0,  0,  0 ],\n",
    "    [1, 0, 0,  0,  0,  1,  0,   0.3, 0.3, 0.3, 0,     16,   0,  1,  0,  0 ],\n",
    "    [0, 1, 0,  0,  0,  1,  0,   0,   0,   0.5, 0.5,   5,    0,  0,  0,  0 ],\n",
    "    [0, 1, 0,  0,  0,  0,  1,   0,   0,   0.5, 0.5,   8,    0,  0,  1,  0 ],\n",
    "    [0, 0, 1,  1,  0,  0,  0,   0.5, 0,   0.5, 0,     9,    0,  0,  0,  0 ],\n",
    "    [0, 0, 1,  0,  0,  1,  0,   0.5, 0,   0.5, 0,     12,   1,  0,  0,  0 ]\n",
    "])\n",
    "# ratings\n",
    "y_data = np.array([5, 3, 1, 4, 5, 1, 5])\n",
    "\n",
    "# Let's add an axis to make tensoflow happy.\n",
    "y_data.shape += (1, )"
   ]
  },
  {
   "cell_type": "code",
   "execution_count": 41,
   "metadata": {
    "scrolled": true
   },
   "outputs": [
    {
     "name": "stdout",
     "output_type": "stream",
     "text": [
      "2.0.0\n"
     ]
    }
   ],
   "source": [
    "# import tensorflow as tf\n",
    "import tensorflow.compat.v1 as tf\n",
    "tf.disable_eager_execution()\n",
    "print(tf.__version__)"
   ]
  },
  {
   "cell_type": "markdown",
   "metadata": {},
   "source": [
    "## Placeholders\n",
    "\n",
    "Placeholders 的作用是用来作为占位符，一般用来作为数据的占位符。然后在开启一个 Session 运行时，再将数据填充上。"
   ]
  },
  {
   "cell_type": "code",
   "execution_count": 42,
   "metadata": {},
   "outputs": [],
   "source": [
    "# number of latent factors\n",
    "k = 5\n",
    "\n",
    "n, p = x_data.shape\n",
    "\n",
    "# design matrix\n",
    "X = tf.placeholder('float', shape=[n, p])\n",
    "\n",
    "# target vector\n",
    "y = tf.placeholder('float', shape=[n, 1])\n",
    "\n",
    "# bias and weights\n",
    "w0 = tf.Variable(tf.zeros([1]))\n",
    "W = tf.Variable(tf.zeros([p]))\n",
    "\n",
    "# interaction factors, random initialiazed\n",
    "V = tf.Variable(tf.random_normal([k, p], stddev=0.01))\n",
    "\n",
    "# estimate of y, initialize to 0.\n",
    "y_hat = tf.Variable(tf.zeros([n, 1]))"
   ]
  },
  {
   "cell_type": "markdown",
   "metadata": {},
   "source": [
    "### linear_terms"
   ]
  },
  {
   "cell_type": "code",
   "execution_count": 43,
   "metadata": {},
   "outputs": [],
   "source": [
    "linear_terms = tf.add(\n",
    "                    w0, \n",
    "                    tf.reduce_sum(tf.multiply(W, X), 1, keepdims=True)\n",
    "                )"
   ]
  },
  {
   "cell_type": "markdown",
   "metadata": {},
   "source": [
    "### interaction terms"
   ]
  },
  {
   "cell_type": "code",
   "execution_count": 44,
   "metadata": {},
   "outputs": [],
   "source": [
    "interactions = tf.multiply(0.5, \n",
    "                    tf.reduce_sum(\n",
    "                        tf.subtract(\n",
    "                            tf.pow(tf.matmul(X, tf.transpose(V)), 2), \n",
    "                            tf.matmul(tf.pow(X, 2), tf.transpose(tf.pow(V, 2)))\n",
    "                        ),\n",
    "                        1, \n",
    "                        keepdims=True\n",
    "                    )\n",
    "                )"
   ]
  },
  {
   "cell_type": "markdown",
   "metadata": {},
   "source": [
    "### y_hat"
   ]
  },
  {
   "cell_type": "code",
   "execution_count": 45,
   "metadata": {},
   "outputs": [],
   "source": [
    "y_hat = tf.add(linear_terms, interactions)"
   ]
  },
  {
   "cell_type": "code",
   "execution_count": 46,
   "metadata": {},
   "outputs": [],
   "source": [
    "### L2 regularized\n",
    "lambda_w = tf.constant(0.001, name='lambda_w')\n",
    "lambda_v = tf.constant(0.001, name='lambda_v')\n",
    "\n",
    "l2_norm = tf.reduce_sum(\n",
    "            tf.add(\n",
    "                tf.multiply(lambda_w, tf.pow(W, 2)),\n",
    "                tf.multiply(lambda_v, tf.pow(V, 2))\n",
    "            )\n",
    "        )\n",
    "\n",
    "error = tf.reduce_mean(tf.square(tf.subtract(y, y_hat)))\n",
    "loss = tf.add(error, l2_norm)"
   ]
  },
  {
   "cell_type": "markdown",
   "metadata": {},
   "source": [
    "### train with optimizer\n"
   ]
  },
  {
   "cell_type": "code",
   "execution_count": 47,
   "metadata": {},
   "outputs": [],
   "source": [
    "eta = tf.constant(0.1)\n",
    "optimizer = tf.train.AdagradOptimizer(eta).minimize(loss)"
   ]
  },
  {
   "cell_type": "code",
   "execution_count": 49,
   "metadata": {},
   "outputs": [
    {
     "name": "stdout",
     "output_type": "stream",
     "text": [
      "MSE:  5.4072837e-07\n",
      "Loss (regularized error): 0.003516308\n",
      "Predictions: [[4.999163 ]\n",
      " [3.0002472]\n",
      " [1.0005132]\n",
      " [3.9988155]\n",
      " [4.9998255]\n",
      " [1.0010649]\n",
      " [4.999561 ]]\n",
      "Learnt weights: [ 0.12459119  0.19839069 -0.0933651  -0.00271082 -0.06172945  0.20701723\n",
      "  0.0896178   0.00170326  0.07182097  0.08769058  0.15037209  0.10752896\n",
      "  0.17412657 -0.19192496  0.0896178   0.        ]\n",
      "Learnt facors: [[-1.12008616e-01 -2.87603408e-01  1.11922644e-01 -1.44394144e-01\n",
      "   2.32248694e-01 -2.18376473e-01 -6.92940727e-02 -4.15536994e-03\n",
      "  -6.79169819e-02 -8.92268568e-02 -2.53333658e-01 -2.24281833e-01\n",
      "  -2.52054662e-01  3.92731220e-01 -9.44441929e-02 -4.12356574e-03]\n",
      " [-1.05130754e-01 -2.67685205e-01  1.20438792e-01 -1.05224602e-01\n",
      "   2.45371193e-01 -2.09761217e-01 -5.18973842e-02 -7.07101449e-03\n",
      "  -3.56599502e-02 -5.34529313e-02 -2.22231746e-01 -2.17157274e-01\n",
      "  -2.50922233e-01  3.89144957e-01 -5.07472269e-02 -1.87486049e-03]\n",
      " [ 1.45810679e-01 -6.13388326e-03 -2.56886601e-01  9.30850953e-02\n",
      "  -4.28107023e-01  1.66921690e-01  3.71409510e-03 -4.91957702e-02\n",
      "   8.90808553e-02 -3.56602632e-02  1.23372441e-02  1.90193444e-01\n",
      "   1.45191252e-01 -4.68304336e-01 -4.01397527e-04  3.63960490e-03]\n",
      " [-1.21508248e-01 -2.85120636e-01  1.15302108e-01 -1.56074017e-01\n",
      "   2.07644373e-01 -2.23113358e-01 -8.87286216e-02 -3.55972610e-02\n",
      "  -8.34506229e-02 -7.45273009e-02 -2.47804448e-01 -2.42753476e-01\n",
      "  -2.46211007e-01  3.68003249e-01 -7.89420456e-02  7.34816957e-03]\n",
      " [ 5.99986734e-03 -1.56449787e-02  5.24922907e-02 -7.40768528e-03\n",
      "   8.09134319e-02 -2.56976131e-02  6.60262676e-03  2.59958338e-02\n",
      "  -2.74202935e-02  2.09096111e-02 -1.70954596e-02 -3.67687717e-02\n",
      "  -3.18953618e-02  1.00343637e-01  8.04792531e-03 -7.81689305e-03]]\n"
     ]
    }
   ],
   "source": [
    "N_EPOCHS = 1000\n",
    "\n",
    "# Launch the graph\n",
    "init = tf.global_variables_initializer()\n",
    "with tf.Session() as sess:\n",
    "    sess.run(init)\n",
    "    \n",
    "    for epoch in range(N_EPOCHS):\n",
    "        indices = np.arange(n)\n",
    "        np.random.shuffle(indices)\n",
    "        x_train, y_train = x_data[indices], y_data[indices]\n",
    "        feed_dict = {X: x_train, y: y_train}\n",
    "        sess.run(optimizer, feed_dict=feed_dict)\n",
    "    \n",
    "    feed_dict = {X: x_data, y: y_data}\n",
    "    print('MSE: ', sess.run(error, feed_dict=feed_dict))\n",
    "    print('Loss (regularized error):', sess.run(loss, feed_dict=feed_dict))\n",
    "    print('Predictions:', sess.run(y_hat, feed_dict=feed_dict))\n",
    "    print('Learnt weights:', sess.run(W, feed_dict=feed_dict))\n",
    "    print('Learnt facors:', sess.run(V, feed_dict=feed_dict))"
   ]
  },
  {
   "cell_type": "markdown",
   "metadata": {},
   "source": [
    "### References\n",
    "\n",
    "1. [Factorization Machines with Tensorflow](http://nowave.it/factorization-machines-with-tensorflow.html)"
   ]
  }
 ],
 "metadata": {
  "kernelspec": {
   "display_name": "Python 3",
   "language": "python",
   "name": "python3"
  },
  "language_info": {
   "codemirror_mode": {
    "name": "ipython",
    "version": 3
   },
   "file_extension": ".py",
   "mimetype": "text/x-python",
   "name": "python",
   "nbconvert_exporter": "python",
   "pygments_lexer": "ipython3",
   "version": "3.7.5"
  }
 },
 "nbformat": 4,
 "nbformat_minor": 2
}
