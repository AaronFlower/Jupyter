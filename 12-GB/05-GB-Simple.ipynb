{
 "cells": [
  {
   "cell_type": "markdown",
   "metadata": {},
   "source": [
    "## GB 最简单的形式\n",
    "\n",
    "- 递推公式为: $F_m = F_{m - 1} + \\alpha_m h _m$\n",
    "\n",
    "#### 算法：\n",
    "\n",
    "1. 初始化：$ F_0 = \\underset{\\gamma}{\\arg\\min} \\sum_{i=1}^n L(y_i, \\gamma) $\n",
    "    \n",
    "2. 迭代: For m = 1 to M\n",
    "\n",
    "$$ \n",
    "\\begin{align}\n",
    "r_m &= -\\left[\\frac{\\partial L(y_i, F(x_i))}{\\partial F(x_i)}\\right]_{F(x)=F_{m-1}(x)} \\quad \\mbox{for } i=1,\\ldots,N \\\\\n",
    "h_m &= \\Omega(X, r_m) \\\\\n",
    "\\alpha_m &= \\underset{\\alpha}{\\operatorname{arg\\,min}} \\sum_{i=1}^n L\\left(y_i, F_{m-1}(x_i) + \\alpha h_m\\right) \\\\\n",
    "F_m &= F_{m - 1} + \\alpha_m h_m\n",
    "\\end{align}\n",
    "$$\n",
    "\n",
    "3. 输出：$F_{M}$\n",
    "\n",
    "#### 说明\n",
    "\n",
    "算法最主要点是：\n",
    "\n",
    "1. 如何选择损失函数 L\n",
    "2. 如何求 $\\alpha_m$\n",
    "3. 基学习器\n",
    "\n",
    "- 当 L 为 MSE 时：用 mean。\n",
    "- 当 L 为 MAE 时: 用 medain。\n",
    "        "
   ]
  }
 ],
 "metadata": {
  "kernelspec": {
   "display_name": "Python 3",
   "language": "python",
   "name": "python3"
  },
  "language_info": {
   "codemirror_mode": {
    "name": "ipython",
    "version": 3
   },
   "file_extension": ".py",
   "mimetype": "text/x-python",
   "name": "python",
   "nbconvert_exporter": "python",
   "pygments_lexer": "ipython3",
   "version": "3.7.5"
  }
 },
 "nbformat": 4,
 "nbformat_minor": 2
}
