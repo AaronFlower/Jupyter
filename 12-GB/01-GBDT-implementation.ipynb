{
 "cells": [
  {
   "cell_type": "markdown",
   "metadata": {},
   "source": [
    "## GBDT\n",
    "\n",
    "根据上篇 `00-GradientBoosting` 来用代码来实现一篇。\n",
    "\n",
    "实现时需要注意：\n",
    "\n",
    "- 回归时，如果是 MSE, 则训练用残差训练，预测是叶子上样本残差的均值。但是，如果是 MAE，则训练用 sign(残差训练)，但是预测时却是叶子上残差的中位数。 median.\n",
    "- 分类时，"
   ]
  }
 ],
 "metadata": {
  "kernelspec": {
   "display_name": "Python 3",
   "language": "python",
   "name": "python3"
  },
  "language_info": {
   "codemirror_mode": {
    "name": "ipython",
    "version": 3
   },
   "file_extension": ".py",
   "mimetype": "text/x-python",
   "name": "python",
   "nbconvert_exporter": "python",
   "pygments_lexer": "ipython3",
   "version": "3.7.4"
  }
 },
 "nbformat": 4,
 "nbformat_minor": 2
}
