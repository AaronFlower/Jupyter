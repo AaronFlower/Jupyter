{
 "cells": [
  {
   "cell_type": "markdown",
   "metadata": {
    "deletable": true,
    "editable": true
   },
   "source": [
    "## Python 3 Tutorial"
   ]
  },
  {
   "cell_type": "markdown",
   "metadata": {
    "deletable": true,
    "editable": true
   },
   "source": [
    "## Data of Structures 数据结构\n",
    "### 1. Dict 字典"
   ]
  },
  {
   "cell_type": "code",
   "execution_count": 10,
   "metadata": {
    "collapsed": false,
    "deletable": true,
    "editable": true
   },
   "outputs": [
    {
     "name": "stdout",
     "output_type": "stream",
     "text": [
      "<class 'list'>\n",
      "dict_items([(0, 1), ('a', 'apple')]) dict_keys([0, 'a']) dict_values([1, 'apple'])\n"
     ]
    }
   ],
   "source": [
    "k = {0:1, 'a': 'apple'}\n",
    "print (type(a))\n",
    "print (k.items(), k.keys(), k.values())\n",
    "# 但是注意，却不能直接以 k.keys 进行 index , 'dict_keys' object does not support indexing, 即 k.keys()[0]\n",
    "# 可以使用 list(d.keys()) (or simply list(d)) 来完成。"
   ]
  },
  {
   "cell_type": "markdown",
   "metadata": {
    "deletable": true,
    "editable": true
   },
   "source": [
    "### 2. list 列表"
   ]
  },
  {
   "cell_type": "code",
   "execution_count": 15,
   "metadata": {
    "collapsed": false,
    "deletable": true,
    "editable": true
   },
   "outputs": [
    {
     "name": "stdout",
     "output_type": "stream",
     "text": [
      "[1, 'a', 4] <class 'list'> \n",
      "\n",
      "append result: [1, 2, 3, [4, 5, 6]]\n",
      "extend result: [1, 2, 3, 4, 5, 6]\n",
      "\n",
      "[[0], [2], [], [], []]\n",
      "[[1], [1], [1], [1], [1]]\n"
     ]
    }
   ],
   "source": [
    "# 在 Python 中是没有内置的 array 类型的，一般可以用 list 代替。\n",
    "lt = [1, 'a', 4]\n",
    "print (lt, type(lt), '\\n')\n",
    "# append 与 extend 的区别\n",
    "a = [1, 2, 3]\n",
    "b = [1, 2, 3]\n",
    "c = [4, 5, 6]\n",
    "a.append(c)\n",
    "b.extend(c)\n",
    "print ('append result:', a)\n",
    "print ('extend result:', b)\n",
    "# 创建多个空 list\n",
    "# 正确的方式\n",
    "print ()\n",
    "mlist1 = [[] for _ in range(5)]\n",
    "mlist1[0].append(0);mlist1[1].append(2)\n",
    "print (mlist1)\n",
    "# 错误的方式, 因为 [] 是一个 Object 引用。\n",
    "mlist2 = [[]] * 5\n",
    "mlist2[0].append(1)\n",
    "print (mlist2)"
   ]
  },
  {
   "cell_type": "markdown",
   "metadata": {
    "deletable": true,
    "editable": true
   },
   "source": [
    "### 3. Tuple"
   ]
  },
  {
   "cell_type": "code",
   "execution_count": 22,
   "metadata": {
    "collapsed": false,
    "deletable": true,
    "editable": true
   },
   "outputs": [
    {
     "name": "stdout",
     "output_type": "stream",
     "text": [
      "tuple (1, 2, 3, 'Hello') <class 'tuple'>\n"
     ]
    }
   ],
   "source": [
    "# Tuple 是用逗号分隔的数据类型\n",
    "t = 1, 2, 3, 'Hello'\n",
    "print ('tuple', t, type(t))"
   ]
  },
  {
   "cell_type": "markdown",
   "metadata": {
    "deletable": true,
    "editable": true
   },
   "source": [
    "### 4. Set"
   ]
  },
  {
   "cell_type": "code",
   "execution_count": 23,
   "metadata": {
    "collapsed": false,
    "deletable": true,
    "editable": true,
    "scrolled": true
   },
   "outputs": [
    {
     "name": "stdout",
     "output_type": "stream",
     "text": [
      "Set {'o', 'l', 'H', 'e'} <class 'set'>\n"
     ]
    }
   ],
   "source": [
    "s = set('Hello')\n",
    "print('Set', s, type(s))"
   ]
  },
  {
   "cell_type": "markdown",
   "metadata": {
    "deletable": true,
    "editable": true
   },
   "source": [
    "### 5. 字符串"
   ]
  },
  {
   "cell_type": "code",
   "execution_count": 24,
   "metadata": {
    "collapsed": false,
    "deletable": true,
    "editable": true
   },
   "outputs": [
    {
     "name": "stdout",
     "output_type": "stream",
     "text": [
      "String Hello <class 'str'>\n"
     ]
    }
   ],
   "source": [
    "h = 'Hello'\n",
    "print('String', h, type(h))"
   ]
  },
  {
   "cell_type": "markdown",
   "metadata": {
    "deletable": true,
    "editable": true
   },
   "source": [
    "### 6. Slicing Operator , colon(:)\n",
    "colon(:) 可以用来操作 list, tuple, str 类型\n"
   ]
  },
  {
   "cell_type": "code",
   "execution_count": 41,
   "metadata": {
    "collapsed": false,
    "deletable": true,
    "editable": true
   },
   "outputs": [
    {
     "name": "stdout",
     "output_type": "stream",
     "text": [
      "Hello llo He lo\n",
      "[1, 2, 3, 4, 'b'] [4, 'b'] [4, 'b']\n",
      "(1, 2, 4, 'd') ('d',) (4, 'd')\n"
     ]
    }
   ],
   "source": [
    "h = 'Hello'\n",
    "print (h[:], h[2:], h[:2], h[-2:])\n",
    "l = [1,2,3,4,'b']\n",
    "print (l[:], l[3:], l[-2:])\n",
    "t = 1,2,4,'d'\n",
    "print (t[:], t[3:], t[-2:])"
   ]
  }
 ],
 "metadata": {
  "kernelspec": {
   "display_name": "Python 3",
   "language": "python",
   "name": "python3"
  },
  "language_info": {
   "codemirror_mode": {
    "name": "ipython",
    "version": 3
   },
   "file_extension": ".py",
   "mimetype": "text/x-python",
   "name": "python",
   "nbconvert_exporter": "python",
   "pygments_lexer": "ipython3",
   "version": "3.6.0"
  }
 },
 "nbformat": 4,
 "nbformat_minor": 2
}
