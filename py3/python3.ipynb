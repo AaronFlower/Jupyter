{
 "cells": [
  {
   "cell_type": "markdown",
   "metadata": {
    "deletable": true,
    "editable": true
   },
   "source": [
    "## Python 3 Tutorial"
   ]
  },
  {
   "cell_type": "markdown",
   "metadata": {
    "deletable": true,
    "editable": true
   },
   "source": [
    "### Types 数据类型\n",
    "#### 1. Dict 字典"
   ]
  },
  {
   "cell_type": "code",
   "execution_count": 1,
   "metadata": {
    "collapsed": false,
    "deletable": true,
    "editable": true
   },
   "outputs": [
    {
     "data": {
      "text/plain": [
       "(dict_items([(0, 1), ('a', 'apple')]),\n",
       " dict_keys([0, 'a']),\n",
       " dict_values([1, 'apple']))"
      ]
     },
     "execution_count": 1,
     "metadata": {},
     "output_type": "execute_result"
    }
   ],
   "source": [
    "k = {0:1, 'a': 'apple'}\n",
    "k.items(),k.keys(),k.values()"
   ]
  },
  {
   "cell_type": "code",
   "execution_count": 4,
   "metadata": {
    "collapsed": false
   },
   "outputs": [
    {
     "name": "stdout",
     "output_type": "stream",
     "text": [
      "[[0], [2], [], [], []]\n",
      "[[1], [1], [1], [1], [1]]\n"
     ]
    }
   ],
   "source": [
    "# 创建多个空 list\n",
    "# 正确的方式\n",
    "mlist1 = [[] for _ in range(5)]\n",
    "mlist1[0].append(0);mlist1[1].append(2)\n",
    "print (mlist1)\n",
    "# 错误的方式, 因为 [] 是一个 Object 引用。\n",
    "mlist2 = [[]] * 5\n",
    "mlist2[0].append(1)\n",
    "print (mlist2)"
   ]
  }
 ],
 "metadata": {
  "kernelspec": {
   "display_name": "Python 3",
   "language": "python",
   "name": "python3"
  },
  "language_info": {
   "codemirror_mode": {
    "name": "ipython",
    "version": 3
   },
   "file_extension": ".py",
   "mimetype": "text/x-python",
   "name": "python",
   "nbconvert_exporter": "python",
   "pygments_lexer": "ipython3",
   "version": "3.6.0"
  }
 },
 "nbformat": 4,
 "nbformat_minor": 2
}
