{
 "cells": [
  {
   "cell_type": "markdown",
   "metadata": {},
   "source": [
    "## 排序\n",
    "可参考 [Python Sorting](https://wiki.python.org/moin/HowTo/Sorting)"
   ]
  },
  {
   "cell_type": "code",
   "execution_count": 45,
   "metadata": {
    "collapsed": false
   },
   "outputs": [
    {
     "name": "stdout",
     "output_type": "stream",
     "text": [
      "Using list member method:\n",
      "origin: [1, -1, 3, 5, 3, 9]\n",
      "sorted: [1, -1, 3, 5, 3, 9]\n",
      "Use copy\n",
      "orgin: [1, -1, 3, 5, 3, 9]\n",
      "sorted: [-1, 1, 3, 3, 5, 9]\n",
      "reversed: [9, 3, 5, 3, -1, 1]\n",
      "\n",
      "Using sorted function:\n",
      "[-1, 1, 3, 3, 5, 9]\n"
     ]
    }
   ],
   "source": [
    "'''\n",
    "基本排序 sort, reverse, sorted\n",
    "'''\n",
    "print ('Using list member method:')\n",
    "a = [1, -1, 3, 5, 3, 9]\n",
    "print('origin:', a)\n",
    "print('sorted:', a) # 会在 a 上直接排序。\n",
    "b = [1, -1, 3, 5, 3, 9]\n",
    "print ('Use copy')\n",
    "bsorted = b.copy()\n",
    "bsorted.sort()\n",
    "print ('orgin:', b)\n",
    "print ('sorted:', bsorted)\n",
    "breversed = b.copy()\n",
    "breversed.reverse()\n",
    "print ('reversed:', breversed)\n",
    "\n",
    "print ('\\nUsing sorted function:')\n",
    "print (sorted(b))"
   ]
  },
  {
   "cell_type": "code",
   "execution_count": 43,
   "metadata": {
    "collapsed": false
   },
   "outputs": [
    {
     "name": "stdout",
     "output_type": "stream",
     "text": [
      "origin a: [1, -3, 2, 0, 5]\n",
      "sorted indices: [1 3 0 2 4]\n",
      "argsorted: [-3, 0, 1, 2, 5]\n",
      "Two dimensions argsort:\n",
      "Origin:\n",
      " [9, 3, 5] \n",
      " [-2, 5, -3]\n",
      "Order by row:\n",
      "[[1 2 0]\n",
      " [2 0 1]]\n",
      "[3, 5, 9]\n",
      "[-3, -2, 5]\n",
      "\n",
      "Origin:\n",
      " [9, 3, 5] \n",
      " [-2, 5, -3]\n",
      "Order by col:\n",
      "[[1 0 1]\n",
      " [0 1 0]]\n",
      "[-2, 3, -3]\n",
      "[9, 5, 5]\n"
     ]
    }
   ],
   "source": [
    "'''\n",
    "获取排序下标 numpy.argsort\n",
    "numpy.argsort(a, axis=-1, kind='quicksort', order=None)[source]\n",
    "\n",
    "https://docs.scipy.org/doc/numpy/reference/generated/numpy.argsort.html\n",
    "\n",
    "'''\n",
    "import numpy as np\n",
    "# 一维\n",
    "a = [1, -3, 2, 0, 5]\n",
    "sortedIndices = np.argsort(a)\n",
    "print('origin a:', a)\n",
    "print('sorted indices:', sortedIndices)\n",
    "print('argsorted:', [a[i] for i in sortedIndices])\n",
    "\n",
    "# 二维\n",
    "print ('Two dimensions argsort:')\n",
    "a = [[9, 3, 5], [-2, 5, -3]]\n",
    "print ('Origin:\\n', a[0], '\\n', a[1])\n",
    "print ('Order by row:') # 对每行进行排序。\n",
    "sortedAxis1 = np.argsort(a)\n",
    "print (np.argsort(a)) # 默认 axis = -1 , 即最后一个维度。 在这个例子中与 axis = -1, axis = 0 等价\n",
    "\n",
    "m = len(a)\n",
    "n = len(a[0])\n",
    "for i in range(m):\n",
    "    print ([a[i][sortedAxis1[i][j]] for j in range(n)])\n",
    "\n",
    "\n",
    "print ('\\nOrigin:\\n', a[0], '\\n', a[1])\n",
    "print ('Order by col:') # 对每列进行排序。\n",
    "sortedAxis0 = np.argsort(a, axis=0)\n",
    "print (sortedAxis0)\n",
    "for i in range(m):\n",
    "    print([a[sortedAxis0[i][j]][j] for j in range(n)])\n"
   ]
  },
  {
   "cell_type": "code",
   "execution_count": 70,
   "metadata": {
    "collapsed": false
   },
   "outputs": [
    {
     "name": "stdout",
     "output_type": "stream",
     "text": [
      "Stirng sort:\n",
      "Hello FOO [' ', 'F', 'H', 'O', 'O', 'e', 'l', 'l', 'o']\n",
      "Hello FOO [' ', 'e', 'F', 'H', 'l', 'l', 'o', 'O', 'O']\n",
      "\n",
      "Dict sort:\n",
      "[0, 1, 2, 4, 5]\n",
      "[(5, 'A'), (2, 'B'), (0, 'B'), (1, 'D'), (4, 'E')]\n",
      "\n",
      "List sort:\n",
      "[('a', 4), ('b', 2), ('c', 3), ('d', 4)]\n",
      "[('b', 2), ('c', 3), ('a', 4), ('d', 4)]\n"
     ]
    }
   ],
   "source": [
    "'''\n",
    "对字典进行排序, sorted, sorted(iterable, [key=None, reverse=False])\n",
    "在 python3 中去掉了 cmp 参数。\n",
    "因为 sorted 可以接受任务 iterable 的参数，所以也可以对字典排序，只要给出对 iterable items.\n",
    "'''\n",
    "import operator \n",
    "print ('Stirng sort:')\n",
    "s = 'Hello FOO'\n",
    "print (s, sorted(s))\n",
    "print (s, sorted(s, key = str.lower))\n",
    "\n",
    "print ('\\nDict sort:')\n",
    "d = {1: 'D', 2: 'B', 0: 'B', 4: 'E', 5: 'A'}\n",
    "print (sorted(d))\n",
    "print (sorted(d.items(), key=operator.itemgetter(1)))\n",
    "\n",
    "print ('\\nList sort:')\n",
    "l = [('b',2),('a',4),('c',3),('d',4)]\n",
    "# 根据下标 0 的值作为 key 来排序。\n",
    "print (sorted(l, key = lambda x:x[0]))\n",
    "# 根据下标 1 的值作为 key 来排序。\n",
    "print (sorted(l, key = lambda x:x[1]))\n"
   ]
  }
 ],
 "metadata": {
  "kernelspec": {
   "display_name": "Python 3",
   "language": "python",
   "name": "python3"
  },
  "language_info": {
   "codemirror_mode": {
    "name": "ipython",
    "version": 3
   },
   "file_extension": ".py",
   "mimetype": "text/x-python",
   "name": "python",
   "nbconvert_exporter": "python",
   "pygments_lexer": "ipython3",
   "version": "3.6.0"
  }
 },
 "nbformat": 4,
 "nbformat_minor": 2
}
