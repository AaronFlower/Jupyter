{
 "cells": [
  {
   "cell_type": "markdown",
   "metadata": {},
   "source": [
    "## Learn Word2Vec by implementing it in TF\n",
    "\n",
    "Best way to understand an algorithm is to implement it.\n",
    "\n",
    "[Best way to understand an algorithm is to implement it](https://towardsdatascience.com/learn-word2vec-by-implementing-it-in-tensorflow-45641adaf2ac)"
   ]
  },
  {
   "cell_type": "code",
   "execution_count": 20,
   "metadata": {},
   "outputs": [],
   "source": [
    "import numpy as np\n",
    "import tensorflow.compat.v1 as tf\n",
    "\n",
    "tf.disable_eager_execution()"
   ]
  },
  {
   "cell_type": "code",
   "execution_count": 21,
   "metadata": {},
   "outputs": [
    {
     "name": "stdout",
     "output_type": "stream",
     "text": [
      "['he', 'is', 'the', 'king', 'the', 'king', 'is', 'royal', 'she', 'is', 'the', 'royal', 'queen']\n",
      "{'queen', 'royal', 'he', 'the', 'she', 'is', 'king'}\n"
     ]
    }
   ],
   "source": [
    "corpus_raw = 'He is the king . The king is royal . She is the royal  queen '\n",
    "corpus_raw = corpus_raw.lower()\n",
    "\n",
    "words = []\n",
    "for word in corpus_raw.split():\n",
    "    if word != '.':\n",
    "        words.append(word)\n",
    "print(words)\n",
    "words = set(words)\n",
    "print(words)"
   ]
  },
  {
   "cell_type": "code",
   "execution_count": 22,
   "metadata": {},
   "outputs": [
    {
     "data": {
      "text/plain": [
       "['queen', 'king', 'is', 'he', 'she', 'royal', 'the']"
      ]
     },
     "execution_count": 22,
     "metadata": {},
     "output_type": "execute_result"
    }
   ],
   "source": [
    "words = ['queen', 'king', 'is', 'he', 'she', 'royal', 'the']\n",
    "words"
   ]
  },
  {
   "cell_type": "code",
   "execution_count": 23,
   "metadata": {},
   "outputs": [
    {
     "name": "stdout",
     "output_type": "stream",
     "text": [
      "{'queen': 0, 'king': 1, 'is': 2, 'he': 3, 'she': 4, 'royal': 5, 'the': 6}\n",
      "\n",
      "{0: 'queen', 1: 'king', 2: 'is', 3: 'he', 4: 'she', 5: 'royal', 6: 'the'}\n"
     ]
    }
   ],
   "source": [
    "word2int = {}\n",
    "int2word = {}\n",
    "vocab_size = len(words)\n",
    "\n",
    "for i, word in enumerate(words):\n",
    "    word2int[word] = i\n",
    "    int2word[i] = word\n",
    "\n",
    "print(word2int)\n",
    "print()\n",
    "print(int2word)"
   ]
  },
  {
   "cell_type": "code",
   "execution_count": 24,
   "metadata": {},
   "outputs": [
    {
     "data": {
      "text/plain": [
       "[['he', 'is', 'the', 'king'],\n",
       " ['the', 'king', 'is', 'royal'],\n",
       " ['she', 'is', 'the', 'royal', 'queen']]"
      ]
     },
     "execution_count": 24,
     "metadata": {},
     "output_type": "execute_result"
    }
   ],
   "source": [
    "sentences = []\n",
    "for sentence in corpus_raw.split('.'):\n",
    "    sentences.append(sentence.split())\n",
    "    \n",
    "sentences"
   ]
  },
  {
   "cell_type": "markdown",
   "metadata": {},
   "source": [
    "#### 现在我们需要生成训练数据了"
   ]
  },
  {
   "cell_type": "code",
   "execution_count": 25,
   "metadata": {},
   "outputs": [
    {
     "data": {
      "text/plain": [
       "[['he', 'is'],\n",
       " ['he', 'the'],\n",
       " ['is', 'he'],\n",
       " ['is', 'the'],\n",
       " ['is', 'king'],\n",
       " ['the', 'he'],\n",
       " ['the', 'is'],\n",
       " ['the', 'king'],\n",
       " ['king', 'is'],\n",
       " ['king', 'the'],\n",
       " ['the', 'king'],\n",
       " ['the', 'is'],\n",
       " ['king', 'the'],\n",
       " ['king', 'is'],\n",
       " ['king', 'royal'],\n",
       " ['is', 'the'],\n",
       " ['is', 'king'],\n",
       " ['is', 'royal'],\n",
       " ['royal', 'king'],\n",
       " ['royal', 'is'],\n",
       " ['she', 'is'],\n",
       " ['she', 'the'],\n",
       " ['is', 'she'],\n",
       " ['is', 'the'],\n",
       " ['is', 'royal'],\n",
       " ['the', 'she'],\n",
       " ['the', 'is'],\n",
       " ['the', 'royal'],\n",
       " ['the', 'queen'],\n",
       " ['royal', 'is'],\n",
       " ['royal', 'the'],\n",
       " ['royal', 'queen'],\n",
       " ['queen', 'the'],\n",
       " ['queen', 'royal']]"
      ]
     },
     "execution_count": 25,
     "metadata": {},
     "output_type": "execute_result"
    }
   ],
   "source": [
    "data = []\n",
    "\n",
    "WINDOW_SIZE = 2\n",
    "\n",
    "for sentence in sentences:\n",
    "    for word_index, word in enumerate(sentence):\n",
    "        low_bound = max(word_index - WINDOW_SIZE, 0)\n",
    "        up_bound = min(word_index + WINDOW_SIZE, len(sentence)) + 1\n",
    "        for nb_word in sentence[low_bound:up_bound]:\n",
    "            if nb_word != word:\n",
    "                data.append([word, nb_word])\n",
    "data\n",
    "        "
   ]
  },
  {
   "cell_type": "markdown",
   "metadata": {},
   "source": [
    "#### 训练数据\n",
    "\n",
    "对于训练数据，我们需要划分出 X 和 Y, 并且对它们其做 one_hot。从上面的盒子，第一列是 X, input_word; 第二列是 Y, output_word;"
   ]
  },
  {
   "cell_type": "code",
   "execution_count": 26,
   "metadata": {},
   "outputs": [
    {
     "name": "stdout",
     "output_type": "stream",
     "text": [
      "[[0. 0. 0. 1. 0. 0. 0.]\n",
      " [0. 0. 0. 1. 0. 0. 0.]\n",
      " [0. 0. 1. 0. 0. 0. 0.]\n",
      " [0. 0. 1. 0. 0. 0. 0.]\n",
      " [0. 0. 1. 0. 0. 0. 0.]\n",
      " [0. 0. 0. 0. 0. 0. 1.]\n",
      " [0. 0. 0. 0. 0. 0. 1.]\n",
      " [0. 0. 0. 0. 0. 0. 1.]\n",
      " [0. 1. 0. 0. 0. 0. 0.]\n",
      " [0. 1. 0. 0. 0. 0. 0.]\n",
      " [0. 0. 0. 0. 0. 0. 1.]\n",
      " [0. 0. 0. 0. 0. 0. 1.]\n",
      " [0. 1. 0. 0. 0. 0. 0.]\n",
      " [0. 1. 0. 0. 0. 0. 0.]\n",
      " [0. 1. 0. 0. 0. 0. 0.]\n",
      " [0. 0. 1. 0. 0. 0. 0.]\n",
      " [0. 0. 1. 0. 0. 0. 0.]\n",
      " [0. 0. 1. 0. 0. 0. 0.]\n",
      " [0. 0. 0. 0. 0. 1. 0.]\n",
      " [0. 0. 0. 0. 0. 1. 0.]\n",
      " [0. 0. 0. 0. 1. 0. 0.]\n",
      " [0. 0. 0. 0. 1. 0. 0.]\n",
      " [0. 0. 1. 0. 0. 0. 0.]\n",
      " [0. 0. 1. 0. 0. 0. 0.]\n",
      " [0. 0. 1. 0. 0. 0. 0.]\n",
      " [0. 0. 0. 0. 0. 0. 1.]\n",
      " [0. 0. 0. 0. 0. 0. 1.]\n",
      " [0. 0. 0. 0. 0. 0. 1.]\n",
      " [0. 0. 0. 0. 0. 0. 1.]\n",
      " [0. 0. 0. 0. 0. 1. 0.]\n",
      " [0. 0. 0. 0. 0. 1. 0.]\n",
      " [0. 0. 0. 0. 0. 1. 0.]\n",
      " [1. 0. 0. 0. 0. 0. 0.]\n",
      " [1. 0. 0. 0. 0. 0. 0.]]\n",
      "\n",
      "[[0. 0. 1. 0. 0. 0. 0.]\n",
      " [0. 0. 0. 0. 0. 0. 1.]\n",
      " [0. 0. 0. 1. 0. 0. 0.]\n",
      " [0. 0. 0. 0. 0. 0. 1.]\n",
      " [0. 1. 0. 0. 0. 0. 0.]\n",
      " [0. 0. 0. 1. 0. 0. 0.]\n",
      " [0. 0. 1. 0. 0. 0. 0.]\n",
      " [0. 1. 0. 0. 0. 0. 0.]\n",
      " [0. 0. 1. 0. 0. 0. 0.]\n",
      " [0. 0. 0. 0. 0. 0. 1.]\n",
      " [0. 1. 0. 0. 0. 0. 0.]\n",
      " [0. 0. 1. 0. 0. 0. 0.]\n",
      " [0. 0. 0. 0. 0. 0. 1.]\n",
      " [0. 0. 1. 0. 0. 0. 0.]\n",
      " [0. 0. 0. 0. 0. 1. 0.]\n",
      " [0. 0. 0. 0. 0. 0. 1.]\n",
      " [0. 1. 0. 0. 0. 0. 0.]\n",
      " [0. 0. 0. 0. 0. 1. 0.]\n",
      " [0. 1. 0. 0. 0. 0. 0.]\n",
      " [0. 0. 1. 0. 0. 0. 0.]\n",
      " [0. 0. 1. 0. 0. 0. 0.]\n",
      " [0. 0. 0. 0. 0. 0. 1.]\n",
      " [0. 0. 0. 0. 1. 0. 0.]\n",
      " [0. 0. 0. 0. 0. 0. 1.]\n",
      " [0. 0. 0. 0. 0. 1. 0.]\n",
      " [0. 0. 0. 0. 1. 0. 0.]\n",
      " [0. 0. 1. 0. 0. 0. 0.]\n",
      " [0. 0. 0. 0. 0. 1. 0.]\n",
      " [1. 0. 0. 0. 0. 0. 0.]\n",
      " [0. 0. 1. 0. 0. 0. 0.]\n",
      " [0. 0. 0. 0. 0. 0. 1.]\n",
      " [1. 0. 0. 0. 0. 0. 0.]\n",
      " [0. 0. 0. 0. 0. 0. 1.]\n",
      " [0. 0. 0. 0. 0. 1. 0.]]\n"
     ]
    }
   ],
   "source": [
    "def to_one_hot(data_point_index, vocab_size):\n",
    "    one_hot_code = np.zeros(vocab_size)\n",
    "    one_hot_code[data_point_index] = 1\n",
    "    return one_hot_code\n",
    "\n",
    "x_train = [] # input word\n",
    "y_train = [] # output word\n",
    "\n",
    "for word_pair in data:\n",
    "    x_train.append(to_one_hot(word2int[ word_pair[0] ], vocab_size))\n",
    "    y_train.append(to_one_hot(word2int[ word_pair[1] ], vocab_size))\n",
    "\n",
    "x_train = np.array(x_train)\n",
    "y_train = np.array(y_train)\n",
    "\n",
    "print(x_train)\n",
    "print()\n",
    "print(y_train)"
   ]
  },
  {
   "cell_type": "code",
   "execution_count": 27,
   "metadata": {},
   "outputs": [
    {
     "name": "stdout",
     "output_type": "stream",
     "text": [
      "(34, 7) (34, 7)\n"
     ]
    }
   ],
   "source": [
    "print(x_train.shape, y_train.shape)"
   ]
  },
  {
   "cell_type": "markdown",
   "metadata": {},
   "source": [
    "###  TensorFlow 模型\n",
    "\n",
    "有了 X, Y，我们就可以构建我们的 TF 模型了。\n"
   ]
  },
  {
   "cell_type": "code",
   "execution_count": 28,
   "metadata": {},
   "outputs": [],
   "source": [
    "EMBEDDING_DIM = 5\n",
    "\n",
    "def model():\n",
    "    x = tf.placeholder(tf.float32, shape=(None, vocab_size))\n",
    "    y_label = tf.placeholder(tf.float32, shape=(None, vocab_size))\n",
    "    W1 = tf.Variable(tf.random_normal([vocab_size, EMBEDDING_DIM]))\n",
    "    b1 = tf.Variable(tf.random_normal([EMBEDDING_DIM]))\n",
    "    \n",
    "    hidden_representation = tf.add(tf.matmul(x, W1), b1)\n",
    "    \n",
    "    W2 = tf.Variable(tf.random_normal([EMBEDDING_DIM, vocab_size]))\n",
    "    b2 = tf.Variable(tf.random_normal([vocab_size]))\n",
    "    \n",
    "    z = tf.add(tf.matmul(hidden_representation, W2), b2)\n",
    "    \n",
    "    predict = tf.nn.softmax(z)\n",
    "    \n",
    "    cross_entropy_loss = tf.reduce_mean(\n",
    "        -tf.reduce_sum(y_label * tf.log(predict), reduction_indices=[1]))\n",
    "    return x, y_label, predict, cross_entropy_loss, W1, b1\n",
    "                             "
   ]
  },
  {
   "cell_type": "code",
   "execution_count": 29,
   "metadata": {},
   "outputs": [
    {
     "name": "stdout",
     "output_type": "stream",
     "text": [
      "[[ 0.6037853   0.6518512  -2.9716039   1.2559943   1.0694216 ]\n",
      " [ 0.04293491 -0.595455   -2.0238845  -0.6429834  -2.4206436 ]\n",
      " [-1.2269549   2.5857193   0.38521102  0.15727368  0.6382453 ]\n",
      " [-0.34678775 -1.3753464   0.07432036 -0.337929   -0.01936926]\n",
      " [-0.74828684 -1.2002064   0.3237147  -0.35348463 -0.66281503]\n",
      " [ 0.02022447 -1.3378646   1.4180533   1.6034536   1.2215294 ]\n",
      " [ 2.7362833   1.3575916   1.9014097   1.1230485   0.4995059 ]]\n",
      "[-0.43320796 -0.67651874 -0.3098079  -0.7158712  -0.16610207]\n"
     ]
    }
   ],
   "source": [
    "n_iters = 10000\n",
    "with tf.Session() as sess:\n",
    "    x, y_label, predict, loss, W1, b1 = model()\n",
    "    \n",
    "    init = tf.global_variables_initializer()\n",
    "    train_step = tf.train.GradientDescentOptimizer(0.1).minimize(loss)\n",
    "    \n",
    "    feed_dict = {\n",
    "        x: x_train,\n",
    "        y_label: y_train\n",
    "    }\n",
    "    sess.run(init)\n",
    "    for i in range(n_iters):\n",
    "        sess.run(train_step, feed_dict)\n",
    "        _, loss_val = sess.run([train_step, loss], feed_dict)\n",
    "#         if (i % 500 == 0):\n",
    "#             print('Epoch %d loss is %4.3f' % (i, loss_val))\n",
    "    \n",
    "    print(sess.run(W1))\n",
    "    print(sess.run(b1))\n",
    "    vectors = sess.run(W1 + b1)"
   ]
  },
  {
   "cell_type": "code",
   "execution_count": 30,
   "metadata": {},
   "outputs": [
    {
     "name": "stdout",
     "output_type": "stream",
     "text": [
      "[[ 0.17057732 -0.02466756 -3.2814116   0.5401231   0.9033196 ]\n",
      " [-0.39027303 -1.2719737  -2.3336926  -1.3588545  -2.5867457 ]\n",
      " [-1.6601629   1.9092007   0.07540312 -0.55859756  0.47214323]\n",
      " [-0.7799957  -2.051865   -0.23548754 -1.0538002  -0.18547133]\n",
      " [-1.1814948  -1.8767252   0.01390681 -1.0693558  -0.8289171 ]\n",
      " [-0.41298348 -2.0143833   1.1082454   0.8875824   1.0554273 ]\n",
      " [ 2.3030753   0.6810729   1.5916018   0.40717733  0.33340383]]\n"
     ]
    }
   ],
   "source": [
    "# 现在我们字典中的 7 个单词就被转换成了 vector 了。\n",
    "print(vectors)"
   ]
  },
  {
   "cell_type": "code",
   "execution_count": 31,
   "metadata": {},
   "outputs": [
    {
     "name": "stdout",
     "output_type": "stream",
     "text": [
      "[ 0.17057732 -0.02466756 -3.2814116   0.5401231   0.9033196 ]\n"
     ]
    }
   ],
   "source": [
    "# 看下 'queen' 单词的表示\n",
    "print(vectors[word2int['queen']])"
   ]
  },
  {
   "cell_type": "markdown",
   "metadata": {},
   "source": [
    "### With Embeddins\n",
    "\n",
    "其实上面学习到的 Vectors 就是一个 Embeddings 矩阵。"
   ]
  },
  {
   "cell_type": "code",
   "execution_count": 33,
   "metadata": {},
   "outputs": [
    {
     "name": "stdout",
     "output_type": "stream",
     "text": [
      "[[ 0.17057732 -0.02466756 -3.2814116   0.5401231   0.9033196 ]\n",
      " [-0.41298348 -2.0143833   1.1082454   0.8875824   1.0554273 ]]\n"
     ]
    }
   ],
   "source": [
    "inputs = tf.placeholder(tf.int32, [None], name='word_ids')\n",
    "embeddings = tf.constant(vectors)\n",
    "embedded = tf.nn.embedding_lookup(embeddings, inputs)\n",
    "\n",
    "with tf.Session() as sess:\n",
    "    transformed = sess.run(embedded, {\n",
    "        inputs: [word2int['queen'], word2int['royal']]\n",
    "    })\n",
    "    print(transformed)"
   ]
  },
  {
   "cell_type": "markdown",
   "metadata": {},
   "source": [
    "### Word2Vec \n",
    "\n",
    "Wrod2Vec 转换完成后，我们就可以计算它们的相似度，并把他们给画出来了。"
   ]
  },
  {
   "cell_type": "code",
   "execution_count": 228,
   "metadata": {},
   "outputs": [],
   "source": [
    "def euclidean_dist(vec1, vec2):\n",
    "    return np.sqrt(np.sum((vec1 - vec2) ** 2))\n",
    "\n",
    "def find_closest(word_index, vectors):\n",
    "    min_dist = np.inf\n",
    "    min_index = -1\n",
    "    query_vector = vectors[word_index]\n",
    "    for index, vector in enumerate(vectors):\n",
    "        dist = euclidean_dist(query_vector, vector)\n",
    "        if dist < min_dist and not np.array_equal(vector, query_vector):\n",
    "            min_dist = dist\n",
    "            min_index = index\n",
    "    return min_index"
   ]
  },
  {
   "cell_type": "code",
   "execution_count": 210,
   "metadata": {},
   "outputs": [
    {
     "name": "stdout",
     "output_type": "stream",
     "text": [
      "he\n",
      "king\n",
      "he\n"
     ]
    }
   ],
   "source": [
    "print(int2word[find_closest(word2int['king'], vectors)])\n",
    "print(int2word[find_closest(word2int['queen'], vectors)])\n",
    "print(int2word[find_closest(word2int['royal'], vectors)])"
   ]
  },
  {
   "cell_type": "markdown",
   "metadata": {},
   "source": [
    "###  绘制图形\n",
    "\n",
    "首先对数据进行下降维，从 5 维降到 2 维。可以使用 tSNE(teesnee)!\n",
    "\n",
    "在绘制之前，我们需要先对向量做一下规一化处理，这样才能更好的绘制。"
   ]
  },
  {
   "cell_type": "code",
   "execution_count": 229,
   "metadata": {},
   "outputs": [],
   "source": [
    "from sklearn.manifold import TSNE\n",
    "model = TSNE(n_components=2, random_state=0)\n",
    "np.set_printoptions(suppress=True)\n",
    "vectors = model.fit_transform(vectors)"
   ]
  },
  {
   "cell_type": "code",
   "execution_count": 230,
   "metadata": {},
   "outputs": [
    {
     "name": "stdout",
     "output_type": "stream",
     "text": [
      "[[ 0.6365995   0.77119464]\n",
      " [-0.39817494  0.9173095 ]\n",
      " [ 0.9058182  -0.4236667 ]\n",
      " [ 0.57071555 -0.8211478 ]\n",
      " [-0.9965617  -0.08285362]\n",
      " [ 0.99798524 -0.0634459 ]\n",
      " [-0.3477955  -0.93757045]]\n"
     ]
    }
   ],
   "source": [
    "from sklearn import preprocessing\n",
    "\n",
    "normalizer = preprocessing.Normalizer()\n",
    "vectors = normalizer.fit_transform(vectors, 'l2')\n",
    "print(vectors)"
   ]
  },
  {
   "cell_type": "code",
   "execution_count": 231,
   "metadata": {},
   "outputs": [
    {
     "name": "stdout",
     "output_type": "stream",
     "text": [
      "she 0.6365995 0.77119464\n",
      "is -0.39817494 0.9173095\n",
      "king 0.9058182 -0.4236667\n",
      "queen 0.57071555 -0.8211478\n",
      "the -0.9965617 -0.082853615\n",
      "royal 0.99798524 -0.0634459\n",
      "he -0.3477955 -0.93757045\n"
     ]
    },
    {
     "data": {
      "image/png": "[encoded data removed]",
      "text/plain": [
       "<Figure size 432x288 with 1 Axes>"
      ]
     },
     "metadata": {
      "needs_background": "light"
     },
     "output_type": "display_data"
    }
   ],
   "source": [
    "import matplotlib.pyplot as plt\n",
    "\n",
    "fig, ax = plt.subplots()\n",
    "\n",
    "for word in words:\n",
    "    vec = vectors[word2int[word]]\n",
    "    print(word, vec[0], vec[1])\n",
    "    ax.annotate(word, (vec[0], vec[1]))\n",
    "plt.show()"
   ]
  }
 ],
 "metadata": {
  "kernelspec": {
   "display_name": "Python 3",
   "language": "python",
   "name": "python3"
  },
  "language_info": {
   "codemirror_mode": {
    "name": "ipython",
    "version": 3
   },
   "file_extension": ".py",
   "mimetype": "text/x-python",
   "name": "python",
   "nbconvert_exporter": "python",
   "pygments_lexer": "ipython3",
   "version": "3.7.4"
  }
 },
 "nbformat": 4,
 "nbformat_minor": 2
}
