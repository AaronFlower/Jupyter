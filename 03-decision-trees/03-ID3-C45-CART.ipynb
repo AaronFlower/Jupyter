{
 "cells": [
  {
   "cell_type": "markdown",
   "metadata": {},
   "source": [
    "## 决策树\n",
    "决策树的算法实现。根据不同的划分方法，生成不同的树。\n",
    "\n",
    "1. 信息增益划分 ID3.\n",
    "2. 信息增益率划分 C4.5\n",
    "3. Gini 系数划分 CART\n"
   ]
  },
  {
   "cell_type": "code",
   "execution_count": 124,
   "metadata": {},
   "outputs": [],
   "source": [
    "import copy\n",
    "from math import log\n",
    "from math import inf\n",
    "\n",
    "def findBestSplitFeature(data, labels):\n",
    "    '''\n",
    "        Find the best feature to split data. This function is a stub function.\n",
    "        Always return the first feature as the best split feature.\n",
    "    '''\n",
    "    return 0\n",
    "\n",
    "\n",
    "def splitDataSet(data, labels, feature, value):\n",
    "    '''\n",
    "        Get sub dataset and labels by feature and value\n",
    "    '''\n",
    "    subData = []\n",
    "    subLabels = []\n",
    "    for i, item in enumerate(data):\n",
    "        if (item[feature] == value):\n",
    "            citem = item.copy()\n",
    "            del citem[feature]\n",
    "            subData.append(citem)\n",
    "            subLabels.append(labels[i])\n",
    "    return subData, subLabels\n",
    "\n",
    "def calcEntropy(labels):\n",
    "    '''\n",
    "        Calc Shannon Entropy\n",
    "    '''\n",
    "    m = len(labels)\n",
    "    keys = set(labels)\n",
    "    ent = 0.0\n",
    "    for k in keys:\n",
    "        count = labels.count(k)\n",
    "        ent += - (count/m) * (log(count/m) / log(2))\n",
    "    return ent\n",
    "    \n",
    "\n",
    "def splitByInfoGain(data, labels):\n",
    "    '''\n",
    "        Find the best feature to split data by Information gain.\n",
    "    '''\n",
    "    m = len(data)\n",
    "    features = len(data[0])\n",
    "    Edata = calcEntropy(labels)\n",
    "\n",
    "    maxGain = 0\n",
    "    splitFeature = -1\n",
    "    \n",
    "    for feature in range(features):\n",
    "        values = set([item[feature] for item in data])\n",
    "        subEnt = 0\n",
    "        for value in values:\n",
    "            subData, subLabels = splitDataSet(data, labels, feature, value)\n",
    "            subEnt += (len(subData) / m) * calcEntropy(subLabels)\n",
    "        gain = Edata - subEnt\n",
    "        \n",
    "        if (gain >= maxGain):\n",
    "            maxGain = gain\n",
    "            splitFeature = feature\n",
    "    return splitFeature\n",
    "\n",
    "def splitByInfoGainRatio(data, labels):\n",
    "    '''\n",
    "        Find the best feature to split data by Information gain Ratio.\n",
    "    '''\n",
    "    m = len(data)\n",
    "    features = len(data[0])\n",
    "    Edata = calcEntropy(labels)\n",
    "\n",
    "    maxRatio = 0\n",
    "    splitFeature = -1\n",
    "    \n",
    "    for feature in range(features):\n",
    "        values = set([item[feature] for item in data])\n",
    "        subEnt = 0\n",
    "        intrinsicVal = 0.0\n",
    "        for value in values:\n",
    "            subData, subLabels = splitDataSet(data, labels, feature, value)\n",
    "            freq = len(subData) / m\n",
    "            subEnt += freq * calcEntropy(subLabels)\n",
    "            intrinsicVal += -(freq * log(freq) / log(2))\n",
    "        ratio = subEnt / intrinsicVal\n",
    "        \n",
    "        if (ratio >= maxRatio):\n",
    "            maxRatio = ratio\n",
    "            splitFeature = feature\n",
    "    return splitFeature\n",
    "\n",
    "def calcGiniIndex(labels):\n",
    "    '''\n",
    "        calculte gini index\n",
    "    '''\n",
    "    m = len(labels)\n",
    "    keys = set(labels)\n",
    "    gini = 0.0\n",
    "    for k in keys:\n",
    "        frac = labels.count(k) / m\n",
    "        gini += 1 - frac * frac\n",
    "    return gini       \n",
    "\n",
    "def splitByGiniIndex(data, labels):\n",
    "    '''\n",
    "        Find the best feature to split data by Min Gini Index.\n",
    "    '''\n",
    "    m = len(data)\n",
    "    features = len(data[0])\n",
    "    \n",
    "    minGini = inf\n",
    "    splitFeature = -1\n",
    "    \n",
    "    for feature in range(features):\n",
    "        values = set([item[feature] for item in data])\n",
    "        gini = 0\n",
    "        for value in values:\n",
    "            subData, subLabels = splitDataSet(data, labels, feature, value)\n",
    "            freq = len(subData) / m\n",
    "            gini += freq * calcGiniIndex(subLabels)\n",
    "        \n",
    "        if (gini <= minGini):\n",
    "            minGini = gini\n",
    "            splitFeature = feature\n",
    "    return splitFeature  \n",
    "\n",
    "class DecisionTree(object):\n",
    "    '''\n",
    "        Create A Decision Tree.\n",
    "    '''\n",
    "    def __init__(self, splitFunc = findBestSplitFeature):\n",
    "        '''\n",
    "            Init a decision tree with a split function.\n",
    "        '''\n",
    "        self.splitFunc = splitFunc\n",
    "        return\n",
    "    \n",
    "    def createNode(self):\n",
    "        return {'isLeaf': False, 'feature': '', 'label': ''}\n",
    "    \n",
    "    def classifyByVotes(self, labels):\n",
    "        '''\n",
    "            Return class of the labels by voting.\n",
    "        '''\n",
    "        keys = set(labels)\n",
    "        maxCount = 0\n",
    "        label = ''\n",
    "        for k in keys:\n",
    "            count = labels.count(k)\n",
    "            if (count >= maxCount):\n",
    "                maxCount = count\n",
    "                label = k    \n",
    "        return label\n",
    "            \n",
    "    def generateTree(self, data, labels, featureNames, indent = 0, output = True):\n",
    "        '''\n",
    "            To recursively construct a decision tree.\n",
    "        '''\n",
    "        node = self.createNode()\n",
    "        if (output):\n",
    "            print(' ' * (4 * indent), data, labels)\n",
    "        # case 0, all examples has the same label\n",
    "        if (len(labels) == labels.count(labels[0])):\n",
    "            node['isLeaf'] = True\n",
    "            node['label'] = labels[0]\n",
    "            return node\n",
    "        \n",
    "        # case 1, all examples has the same feature values.\n",
    "        featureStrs = [','.join(map(str, item)) for item in data]\n",
    "        if (len(set(featureStrs)) == 1):\n",
    "            node['isLeaf'] = True\n",
    "            node['label'] = self.classifyByVotes(labels)\n",
    "            return node\n",
    "        \n",
    "        feature = self.splitFunc(data, labels)\n",
    "        \n",
    "        node['feature'] = featureNames[feature]\n",
    "        cfeatureNames = featureNames.copy()\n",
    "        del cfeatureNames[feature]\n",
    "        \n",
    "        values = set([item[feature] for item in data])        \n",
    "        for value in values:\n",
    "            subData, subLabels,  = splitDataSet(data, labels, feature, value)\n",
    "            # case 3\n",
    "            if (len(subData) == len(data)):\n",
    "                node['isLeaf'] = True\n",
    "                node['label'] = self.classifyByVotes(subLabels)\n",
    "                return node\n",
    "            \n",
    "            node[value] = self.generateTree(subData, subLabels, cfeatureNames, indent + 1, output)\n",
    "            \n",
    "        return node\n",
    "    \n",
    "    def model(self, data, labels, featuresNames = None, output = True):\n",
    "        '''\n",
    "            Model the decisiton tree\n",
    "        '''\n",
    "        return self.generateTree(data, labels, featuresNames, output=output)\n",
    "        "
   ]
  },
  {
   "cell_type": "code",
   "execution_count": 125,
   "metadata": {},
   "outputs": [],
   "source": [
    "# 创建数据集\n",
    "def loadDataSet():\n",
    "    data = [\n",
    "        [1, 1],\n",
    "        [1, 1],\n",
    "        [1, 0],\n",
    "        [0, 1],\n",
    "        [0, 1]\n",
    "    ]\n",
    "    labels = ['yes', 'yes', 'no', 'no', 'no']\n",
    "    features = ['no surfacing', 'flippers']\n",
    "    return data, labels, features"
   ]
  },
  {
   "cell_type": "markdown",
   "metadata": {},
   "source": [
    "#### 1. 始终使用第一个特征进行划分"
   ]
  },
  {
   "cell_type": "code",
   "execution_count": 126,
   "metadata": {},
   "outputs": [
    {
     "name": "stdout",
     "output_type": "stream",
     "text": [
      " [[1, 1], [1, 1], [1, 0], [0, 1], [0, 1]] ['yes', 'yes', 'no', 'no', 'no']\n",
      "     [[1], [1]] ['no', 'no']\n",
      "     [[1], [1], [0]] ['yes', 'yes', 'no']\n",
      "         [[]] ['no']\n",
      "         [[], []] ['yes', 'yes']\n"
     ]
    },
    {
     "data": {
      "text/plain": [
       "{'isLeaf': False,\n",
       " 'feature': 'no surfacing',\n",
       " 'label': '',\n",
       " 0: {'isLeaf': True, 'feature': '', 'label': 'no'},\n",
       " 1: {'isLeaf': False,\n",
       "  'feature': 'flippers',\n",
       "  'label': '',\n",
       "  0: {'isLeaf': True, 'feature': '', 'label': 'no'},\n",
       "  1: {'isLeaf': True, 'feature': '', 'label': 'yes'}}}"
      ]
     },
     "execution_count": 126,
     "metadata": {},
     "output_type": "execute_result"
    }
   ],
   "source": [
    "data, labels, features = loadDataSet()\n",
    "tree = DecisionTree()\n",
    "tree.model(data, labels, features)"
   ]
  },
  {
   "cell_type": "markdown",
   "metadata": {},
   "source": [
    "#### 2. 使用信息增益进行划分"
   ]
  },
  {
   "cell_type": "code",
   "execution_count": 127,
   "metadata": {
    "scrolled": true
   },
   "outputs": [
    {
     "name": "stdout",
     "output_type": "stream",
     "text": [
      " [[1, 1], [1, 1], [1, 0], [0, 1], [0, 1]] ['yes', 'yes', 'no', 'no', 'no']\n",
      "     [[1], [1]] ['no', 'no']\n",
      "     [[1], [1], [0]] ['yes', 'yes', 'no']\n",
      "         [[]] ['no']\n",
      "         [[], []] ['yes', 'yes']\n"
     ]
    },
    {
     "data": {
      "text/plain": [
       "{'isLeaf': False,\n",
       " 'feature': 'no surfacing',\n",
       " 'label': '',\n",
       " 0: {'isLeaf': True, 'feature': '', 'label': 'no'},\n",
       " 1: {'isLeaf': False,\n",
       "  'feature': 'flippers',\n",
       "  'label': '',\n",
       "  0: {'isLeaf': True, 'feature': '', 'label': 'no'},\n",
       "  1: {'isLeaf': True, 'feature': '', 'label': 'yes'}}}"
      ]
     },
     "execution_count": 127,
     "metadata": {},
     "output_type": "execute_result"
    }
   ],
   "source": [
    "data, labels, features = loadDataSet()\n",
    "tree = DecisionTree(splitByInfoGain)\n",
    "tree.model(data, labels, features)"
   ]
  },
  {
   "cell_type": "markdown",
   "metadata": {},
   "source": [
    "#### 3. 使用增益率进行划分\n"
   ]
  },
  {
   "cell_type": "code",
   "execution_count": 128,
   "metadata": {},
   "outputs": [
    {
     "name": "stdout",
     "output_type": "stream",
     "text": [
      " [[1, 1], [1, 1], [1, 0], [0, 1], [0, 1]] ['yes', 'yes', 'no', 'no', 'no']\n",
      "     [[1]] ['no']\n",
      "     [[1], [1], [0], [0]] ['yes', 'yes', 'no', 'no']\n",
      "         [[], []] ['no', 'no']\n",
      "         [[], []] ['yes', 'yes']\n"
     ]
    },
    {
     "data": {
      "text/plain": [
       "{'isLeaf': False,\n",
       " 'feature': 'flippers',\n",
       " 'label': '',\n",
       " 0: {'isLeaf': True, 'feature': '', 'label': 'no'},\n",
       " 1: {'isLeaf': False,\n",
       "  'feature': 'no surfacing',\n",
       "  'label': '',\n",
       "  0: {'isLeaf': True, 'feature': '', 'label': 'no'},\n",
       "  1: {'isLeaf': True, 'feature': '', 'label': 'yes'}}}"
      ]
     },
     "execution_count": 128,
     "metadata": {},
     "output_type": "execute_result"
    }
   ],
   "source": [
    "data, labels, features = loadDataSet()\n",
    "tree = DecisionTree(splitByInfoGainRatio)\n",
    "tree.model(data, labels, features)"
   ]
  },
  {
   "cell_type": "markdown",
   "metadata": {},
   "source": [
    "#### 4. 使用 Gini 系数来划分"
   ]
  },
  {
   "cell_type": "code",
   "execution_count": 129,
   "metadata": {},
   "outputs": [
    {
     "name": "stdout",
     "output_type": "stream",
     "text": [
      " [[1, 1], [1, 1], [1, 0], [0, 1], [0, 1]] ['yes', 'yes', 'no', 'no', 'no']\n",
      "     [[1], [1]] ['no', 'no']\n",
      "     [[1], [1], [0]] ['yes', 'yes', 'no']\n",
      "         [[]] ['no']\n",
      "         [[], []] ['yes', 'yes']\n"
     ]
    },
    {
     "data": {
      "text/plain": [
       "{'isLeaf': False,\n",
       " 'feature': 'no surfacing',\n",
       " 'label': '',\n",
       " 0: {'isLeaf': True, 'feature': '', 'label': 'no'},\n",
       " 1: {'isLeaf': False,\n",
       "  'feature': 'flippers',\n",
       "  'label': '',\n",
       "  0: {'isLeaf': True, 'feature': '', 'label': 'no'},\n",
       "  1: {'isLeaf': True, 'feature': '', 'label': 'yes'}}}"
      ]
     },
     "execution_count": 129,
     "metadata": {},
     "output_type": "execute_result"
    }
   ],
   "source": [
    "data, labels, features = loadDataSet()\n",
    "tree = DecisionTree(splitByGiniIndex)\n",
    "tree.model(data, labels, features)"
   ]
  },
  {
   "cell_type": "markdown",
   "metadata": {},
   "source": [
    "### 使用隐形眼镜数据集来测试"
   ]
  },
  {
   "cell_type": "code",
   "execution_count": 130,
   "metadata": {},
   "outputs": [],
   "source": [
    "def loadLensData():\n",
    "    fr = open('lenses.txt')\n",
    "    data = []\n",
    "    labels = []\n",
    "    for line in fr.readlines():\n",
    "        lineData = line.strip().split('\\t')\n",
    "        labels.append(lineData[-1])\n",
    "        del lineData[-1]\n",
    "        data.append(lineData)\n",
    "    features = ['Age', 'Prescript', 'Astigmatic', 'tearRate']\n",
    "    fr.close()\n",
    "    return data, labels, features"
   ]
  },
  {
   "cell_type": "code",
   "execution_count": 132,
   "metadata": {},
   "outputs": [
    {
     "data": {
      "text/plain": [
       "{'isLeaf': False,\n",
       " 'feature': 'tearRate',\n",
       " 'label': '',\n",
       " 'reduced': {'isLeaf': True, 'feature': '', 'label': 'no lenses'},\n",
       " 'normal': {'isLeaf': False,\n",
       "  'feature': 'Astigmatic',\n",
       "  'label': '',\n",
       "  'yes': {'isLeaf': False,\n",
       "   'feature': 'Prescript',\n",
       "   'label': '',\n",
       "   'hyper': {'isLeaf': False,\n",
       "    'feature': 'Age',\n",
       "    'label': '',\n",
       "    'pre': {'isLeaf': True, 'feature': '', 'label': 'no lenses'},\n",
       "    'young': {'isLeaf': True, 'feature': '', 'label': 'hard'},\n",
       "    'presbyopic': {'isLeaf': True, 'feature': '', 'label': 'no lenses'}},\n",
       "   'myope': {'isLeaf': True, 'feature': '', 'label': 'hard'}},\n",
       "  'no': {'isLeaf': False,\n",
       "   'feature': 'Age',\n",
       "   'label': '',\n",
       "   'pre': {'isLeaf': True, 'feature': '', 'label': 'soft'},\n",
       "   'young': {'isLeaf': True, 'feature': '', 'label': 'soft'},\n",
       "   'presbyopic': {'isLeaf': False,\n",
       "    'feature': 'Prescript',\n",
       "    'label': '',\n",
       "    'hyper': {'isLeaf': True, 'feature': '', 'label': 'soft'},\n",
       "    'myope': {'isLeaf': True, 'feature': '', 'label': 'no lenses'}}}}}"
      ]
     },
     "execution_count": 132,
     "metadata": {},
     "output_type": "execute_result"
    }
   ],
   "source": [
    "data, labels, features = loadLensData() \n",
    "tree = DecisionTree(splitByInfoGain)\n",
    "tree.model(data, labels, features, output = False)"
   ]
  },
  {
   "cell_type": "markdown",
   "metadata": {},
   "source": [
    "上面使用信息增益生成一个隐形眼镜的 ID3 树，有时间可以把树画出来。"
   ]
  }
 ],
 "metadata": {
  "kernelspec": {
   "display_name": "Python 3",
   "language": "python",
   "name": "python3"
  },
  "language_info": {
   "codemirror_mode": {
    "name": "ipython",
    "version": 3
   },
   "file_extension": ".py",
   "mimetype": "text/x-python",
   "name": "python",
   "nbconvert_exporter": "python",
   "pygments_lexer": "ipython3",
   "version": "3.7.0"
  }
 },
 "nbformat": 4,
 "nbformat_minor": 2
}
