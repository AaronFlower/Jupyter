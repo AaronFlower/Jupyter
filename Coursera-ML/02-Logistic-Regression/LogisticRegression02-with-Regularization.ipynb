{
 "cells": [
  {
   "cell_type": "markdown",
   "metadata": {},
   "source": [
    "## 使用 Regularization 解决过度拟合的问题\n",
    "\n",
    "下面是工厂测试是根据产品参数判断产品是否通过的例子。"
   ]
  },
  {
   "cell_type": "markdown",
   "metadata": {},
   "source": [
    "### Visualizing data"
   ]
  },
  {
   "cell_type": "code",
   "execution_count": 1,
   "metadata": {},
   "outputs": [
    {
     "data": {
      "image/png": "[encoded data removed]",
      "text/plain": [
       "<IPython.core.display.Image object>"
      ]
     },
     "metadata": {},
     "output_type": "display_data"
    }
   ],
   "source": [
    "clc;\n",
    "clear;\n",
    "close all;\n",
    "\n",
    "data = load('ex2data2.txt');\n",
    "x = data(:, 1:2);\n",
    "y = data(:, 3);\n",
    "pos = find(y == 1);\n",
    "neg = find(y == 0);\n",
    "hold on;\n",
    "plot(x(pos, 1), x(pos, 2), 'k+', 'markersize', 3);\n",
    "plot(x(neg, 1), x(neg, 2), 'ko', 'markersize', 3, 'markerFaceColor', 'y');\n",
    "hold off;"
   ]
  },
  {
   "cell_type": "markdown",
   "metadata": {},
   "source": [
    "### Without Feature Mapping and Regularization"
   ]
  },
  {
   "cell_type": "markdown",
   "metadata": {},
   "source": [
    "#### Sigmoid Function"
   ]
  },
  {
   "cell_type": "code",
   "execution_count": 2,
   "metadata": {},
   "outputs": [],
   "source": [
    "% Compute Sigmoid Function\n",
    "function g = sigmoid(x)\n",
    "    g = 1 ./ (1 + exp(-x));\n",
    "end"
   ]
  },
  {
   "cell_type": "code",
   "execution_count": 3,
   "metadata": {},
   "outputs": [],
   "source": [
    "% Compute Cost Function and Grad\n",
    "function [J, grad] = computeCost(theta, X, y)\n",
    "    m = length(y);\n",
    "    h = sigmoid(X * theta);\n",
    "    \n",
    "    J = -(1 / m) * sum(y .* log(h) + (1 - y) .* log(1 - h));\n",
    "    grad = (1 / m) * X' * (h - y);\n",
    "end"
   ]
  },
  {
   "cell_type": "code",
   "execution_count": 4,
   "metadata": {},
   "outputs": [
    {
     "name": "stdout",
     "output_type": "stream",
     "text": [
      "J =  0.69315\n",
      "grad =\n",
      "\n",
      "   0.008474576\n",
      "   0.018788093\n",
      "   0.000077771\n",
      "\n"
     ]
    }
   ],
   "source": [
    "m = size(x, 1);\n",
    "X = [ones(m, 1), x];\n",
    "n = size(X, 2);\n",
    "theta = zeros(n, 1);\n",
    "[J, grad] = computeCost(theta, X, y)"
   ]
  },
  {
   "cell_type": "markdown",
   "metadata": {},
   "source": [
    "### Compute theta using fminunc"
   ]
  },
  {
   "cell_type": "code",
   "execution_count": 5,
   "metadata": {},
   "outputs": [
    {
     "name": "stdout",
     "output_type": "stream",
     "text": [
      "theta =\n",
      "\n",
      "  -0.014185\n",
      "  -0.303528\n",
      "  -0.018218\n",
      "\n",
      "cost =  0.69024\n"
     ]
    }
   ],
   "source": [
    "options = optimset('GradObj', 'on', 'MaxIter', 400);\n",
    "initial_theta = zeros(n, 1);\n",
    "[theta, cost] = fminunc(@(t)(computeCost(t, X, y)), initial_theta, options)"
   ]
  },
  {
   "cell_type": "markdown",
   "metadata": {},
   "source": [
    "### Plotting Decision Boundary"
   ]
  },
  {
   "cell_type": "code",
   "execution_count": 6,
   "metadata": {},
   "outputs": [
    {
     "data": {
      "image/png": "[encoded data removed]",
      "text/plain": [
       "<IPython.core.display.Image object>"
      ]
     },
     "metadata": {},
     "output_type": "display_data"
    }
   ],
   "source": [
    "x1 = [-1:0.01:1.5];\n",
    "x2 = - (theta(1) .+ theta(2) .* x1)./theta(3);\n",
    "pos = find(y == 1);\n",
    "net = find(y == 0);\n",
    "hold on;\n",
    "plot(x1, x2, '-')\n",
    "plot(x(pos, 1), x(pos, 2), 'r+', 'markersize', 3)\n",
    "plot(x(neg, 1), x(neg, 2), 'bo', 'markerSize', 3, 'MarkerFaceColor', 'y')\n",
    "legend('Decision Boundary', 'Admitted', 'Not Admitted')\n",
    "xlabel('Exam1 score')\n",
    "ylabel('Exam2 score')\n",
    "title('Plog Decision Boundary')\n",
    "hold off;"
   ]
  },
  {
   "cell_type": "markdown",
   "metadata": {},
   "source": [
    "上图所示，如果当只用两个特征时，你只能拟合出一条直线出来。所以我们要想好怎样利用这两个 feature, 我们可以把特征进行 map, \n",
    "生成更多的特征来进行拟合。"
   ]
  },
  {
   "cell_type": "markdown",
   "metadata": {},
   "source": [
    "### Feature Mapping\n",
    "\n",
    "将现有的特征映射到更多的维度。"
   ]
  },
  {
   "cell_type": "code",
   "execution_count": 7,
   "metadata": {},
   "outputs": [],
   "source": [
    "% 根据二项式展开来映射更多的特征\n",
    "function out = mapFeature(X1, X2, degree)\n",
    "    m = size(X1, 1);\n",
    "    out = ones(m, 1);\n",
    "    \n",
    "    for i = 1:degree\n",
    "        for j = 0:i\n",
    "            out(:, end + 1) = X1 .^ (i - j) .* X2 .^ (j);\n",
    "        end\n",
    "    end\n",
    "end\n",
    "    "
   ]
  },
  {
   "cell_type": "code",
   "execution_count": 8,
   "metadata": {},
   "outputs": [
    {
     "name": "stdout",
     "output_type": "stream",
     "text": [
      "ans =\n",
      "\n",
      " Columns 1 through 13:\n",
      "\n",
      "     1    -3     2     9    -6     4   -27    18   -12     8    81   -54    36\n",
      "     1     2     3     4     6     9     8    12    18    27    16    24    36\n",
      "\n",
      " Columns 14 through 26:\n",
      "\n",
      "   -24    16  -243   162  -108    72   -48    32   729  -486   324  -216   144\n",
      "    54    81    32    48    72   108   162   243    64    96   144   216   324\n",
      "\n",
      " Columns 27 and 28:\n",
      "\n",
      "   -96    64\n",
      "   486   729\n",
      "\n",
      "ans =\n",
      "\n",
      "    1    2    3    4    6    9    8   12   18   27\n",
      "\n"
     ]
    }
   ],
   "source": [
    "a = [-3; 2];\n",
    "b = [2; 3];\n",
    "mapFeature(a, b, 6)\n",
    "mapFeature(2, 3, 3)"
   ]
  },
  {
   "cell_type": "markdown",
   "metadata": {},
   "source": [
    "### Logistic Regression Without Regularization\n"
   ]
  },
  {
   "cell_type": "markdown",
   "metadata": {},
   "source": [
    "首先将我们的维度，调用 `mapFeature` 进行 Feature Mapping. 求出拟合参数。"
   ]
  },
  {
   "cell_type": "code",
   "execution_count": 9,
   "metadata": {},
   "outputs": [
    {
     "name": "stdout",
     "output_type": "stream",
     "text": [
      "theta =\n",
      "\n",
      "    1.79571\n",
      "   -2.88733\n",
      "    1.12066\n",
      "   -1.54554\n",
      "   -9.71673\n",
      "   12.04460\n",
      "    7.08675\n",
      "   24.57407\n",
      "   40.79083\n",
      "    2.69598\n",
      "   15.81996\n",
      "   -2.50585\n",
      "  -29.59604\n",
      "   -5.02291\n",
      "  -43.13834\n",
      "   11.36623\n",
      "   -4.28287\n",
      "    0.73731\n",
      "  -15.99184\n",
      "  -34.02226\n",
      "   26.42723\n",
      "  -54.85742\n",
      "  -28.71752\n",
      "  -10.76192\n",
      "   24.04492\n",
      "  -52.71023\n",
      "  -34.19925\n",
      "   -6.83135\n",
      "\n",
      "cost =  0.28371\n"
     ]
    }
   ],
   "source": [
    "mX = mapFeature(x(:, 1), x(:,2), 6);\n",
    "[m, n] = size(mX);\n",
    "theta = zeros(n, 1);\n",
    "options = optimset('GradObj', 'on', 'MaxIter', 400);\n",
    "initial_theta = zeros(n, 1);\n",
    "[theta, cost] = fminunc(@(t)(computeCost(t, mX, y)), initial_theta, options)"
   ]
  },
  {
   "cell_type": "markdown",
   "metadata": {},
   "source": [
    "### Plotting Decision Boundary\n"
   ]
  },
  {
   "cell_type": "code",
   "execution_count": 10,
   "metadata": {},
   "outputs": [
    {
     "data": {
      "image/png": "[encoded data removed]",
      "text/plain": [
       "<IPython.core.display.Image object>"
      ]
     },
     "metadata": {},
     "output_type": "display_data"
    }
   ],
   "source": [
    "pos = find(y == 1);\n",
    "neg = find(y == 0);\n",
    "hold on;\n",
    "plot(x(pos,1), x(pos, 2), 'k+', 'markersize', 3);\n",
    "plot(x(neg,1), x(neg, 2), 'ko', 'markersize', 3, 'markerFaceColor', 'y');\n",
    "\n",
    "u = linspace(-1, 1.5, 50);\n",
    "v = linspace(-1, 1.5, 50);\n",
    "\n",
    "z = zeros(length(u), length(v));\n",
    "% Evaluate z = theta*x over the grid\n",
    "for i = 1:length(u)\n",
    "    for j = 1:length(v)\n",
    "        z(i,j) = mapFeature(u(i), v(j), 6)*theta;\n",
    "    end\n",
    "end\n",
    "z = z'; % important to transpose z before calling contour\n",
    "\n",
    "% Plot z = 0\n",
    "% Notice you need to specify the range [0, 0]\n",
    "contour(u, v, z, [0, 0], 'LineWidth', 2)\n",
    "\n",
    "hold off;"
   ]
  },
  {
   "cell_type": "markdown",
   "metadata": {},
   "source": [
    "### Logistic Regression with Regularization"
   ]
  },
  {
   "cell_type": "code",
   "execution_count": 11,
   "metadata": {},
   "outputs": [],
   "source": [
    "% Compute cost function\n",
    "function [J, grad] = computeCostReg(theta, X, y, lambda)\n",
    "    [m, n] = size(X);\n",
    "    h = sigmoid(X * theta);\n",
    "    J = -(1 / m) * sum(y .* log(h) + (1 - y) .* log(1 - h)) + (lambda / (2 * m)) * sum(theta(2:end) .^ 2);\n",
    "    grad = (1 / m) * X' * (h - y) + (lambda / m) .* theta;\n",
    "    grad(1) = grad(1) - (lambda / m) * theta(1);\n",
    "end"
   ]
  },
  {
   "cell_type": "code",
   "execution_count": 12,
   "metadata": {},
   "outputs": [
    {
     "name": "stdout",
     "output_type": "stream",
     "text": [
      "theta =\n",
      "\n",
      "   1.273005\n",
      "   0.624876\n",
      "   1.177376\n",
      "  -2.020142\n",
      "  -0.912616\n",
      "  -1.429907\n",
      "   0.125668\n",
      "  -0.368551\n",
      "  -0.360033\n",
      "  -0.171068\n",
      "  -1.460894\n",
      "  -0.052499\n",
      "  -0.618889\n",
      "  -0.273745\n",
      "  -1.192301\n",
      "  -0.240993\n",
      "  -0.207934\n",
      "  -0.047224\n",
      "  -0.278327\n",
      "  -0.296602\n",
      "  -0.453957\n",
      "  -1.045511\n",
      "   0.026463\n",
      "  -0.294330\n",
      "   0.014381\n",
      "  -0.328703\n",
      "  -0.143796\n",
      "  -0.924883\n",
      "\n",
      "cost =  0.52900\n"
     ]
    }
   ],
   "source": [
    "mX = mapFeature(x(:, 1), x(:,2), 6);\n",
    "[m, n] = size(mX);\n",
    "theta = zeros(n, 1);\n",
    "options = optimset('GradObj', 'on', 'MaxIter', 400);\n",
    "initial_theta = zeros(n, 1);\n",
    "[theta, cost] = fminunc(@(t)(computeCostReg(t, mX, y, 1)), initial_theta, options)"
   ]
  },
  {
   "cell_type": "code",
   "execution_count": 13,
   "metadata": {},
   "outputs": [
    {
     "data": {
      "image/png": "[encoded data removed]",
      "text/plain": [
       "<IPython.core.display.Image object>"
      ]
     },
     "metadata": {},
     "output_type": "display_data"
    }
   ],
   "source": [
    "pos = find(y == 1);\n",
    "neg = find(y == 0);\n",
    "hold on;\n",
    "plot(x(pos,1), x(pos, 2), 'k+', 'markersize', 3);\n",
    "plot(x(neg,1), x(neg, 2), 'ko', 'markersize', 3, 'markerFaceColor', 'y');\n",
    "\n",
    "u = linspace(-1, 1.5, 50);\n",
    "v = linspace(-1, 1.5, 50);\n",
    "\n",
    "z = zeros(length(u), length(v));\n",
    "% Evaluate z = theta*x over the grid\n",
    "for i = 1:length(u)\n",
    "    for j = 1:length(v)\n",
    "        z(i,j) = mapFeature(u(i), v(j), 6)*theta;\n",
    "    end\n",
    "end\n",
    "z = z'; % important to transpose z before calling contour\n",
    "\n",
    "% Plot z = 0\n",
    "% Notice you need to specify the range [0, 0]\n",
    "contour(u, v, z, [0, 0], 'LineWidth', 2)\n",
    "legend('Positive', 'Negative')\n",
    "title('Decision Boundary with lambda = 1')\n",
    "hold off;"
   ]
  },
  {
   "cell_type": "markdown",
   "metadata": {},
   "source": [
    "### Lambda = 0, overfitting"
   ]
  },
  {
   "cell_type": "code",
   "execution_count": 14,
   "metadata": {},
   "outputs": [
    {
     "data": {
      "image/png": "[encoded data removed]",
      "text/plain": [
       "<IPython.core.display.Image object>"
      ]
     },
     "metadata": {},
     "output_type": "display_data"
    }
   ],
   "source": [
    "mX = mapFeature(x(:, 1), x(:,2), 6);\n",
    "[m, n] = size(mX);\n",
    "theta = zeros(n, 1);\n",
    "options = optimset('GradObj', 'on', 'MaxIter', 400);\n",
    "initial_theta = zeros(n, 1);\n",
    "[theta, cost] = fminunc(@(t)(computeCostReg(t, mX, y, 0)), initial_theta, options);\n",
    "\n",
    "pos = find(y == 1);\n",
    "neg = find(y == 0);\n",
    "hold on;\n",
    "plot(x(pos,1), x(pos, 2), 'k+', 'markersize', 3);\n",
    "plot(x(neg,1), x(neg, 2), 'ko', 'markersize', 3, 'markerFaceColor', 'y');\n",
    "\n",
    "u = linspace(-1, 1.5, 50);\n",
    "v = linspace(-1, 1.5, 50);\n",
    "\n",
    "z = zeros(length(u), length(v));\n",
    "% Evaluate z = theta*x over the grid\n",
    "for i = 1:length(u)\n",
    "    for j = 1:length(v)\n",
    "        z(i,j) = mapFeature(u(i), v(j), 6)*theta;\n",
    "    end\n",
    "end\n",
    "z = z'; % important to transpose z before calling contour\n",
    "\n",
    "% Plot z = 0\n",
    "% Notice you need to specify the range [0, 0]\n",
    "contour(u, v, z, [0, 0], 'LineWidth', 2)\n",
    "legend('Positive', 'Negative')\n",
    "title('Decision Boundary with lambda = 0, Overfitting')\n",
    "hold off;\n"
   ]
  },
  {
   "cell_type": "markdown",
   "metadata": {},
   "source": [
    "### Lambda = 100, underfitting"
   ]
  },
  {
   "cell_type": "code",
   "execution_count": 15,
   "metadata": {},
   "outputs": [
    {
     "data": {
      "image/png": "[encoded data removed]",
      "text/plain": [
       "<IPython.core.display.Image object>"
      ]
     },
     "metadata": {},
     "output_type": "display_data"
    }
   ],
   "source": [
    "mX = mapFeature(x(:, 1), x(:,2), 6);\n",
    "[m, n] = size(mX);\n",
    "theta = zeros(n, 1);\n",
    "options = optimset('GradObj', 'on', 'MaxIter', 400);\n",
    "initial_theta = zeros(n, 1);\n",
    "[theta, cost] = fminunc(@(t)(computeCostReg(t, mX, y, 100)), initial_theta, options);\n",
    "\n",
    "pos = find(y == 1);\n",
    "neg = find(y == 0);\n",
    "hold on;\n",
    "plot(x(pos,1), x(pos, 2), 'k+', 'markersize', 3);\n",
    "plot(x(neg,1), x(neg, 2), 'ko', 'markersize', 3, 'markerFaceColor', 'y');\n",
    "\n",
    "u = linspace(-1, 1.5, 50);\n",
    "v = linspace(-1, 1.5, 50);\n",
    "\n",
    "z = zeros(length(u), length(v));\n",
    "% Evaluate z = theta*x over the grid\n",
    "for i = 1:length(u)\n",
    "    for j = 1:length(v)\n",
    "        z(i,j) = mapFeature(u(i), v(j), 6)*theta;\n",
    "    end\n",
    "end\n",
    "z = z'; % important to transpose z before calling contour\n",
    "\n",
    "% Plot z = 0\n",
    "% Notice you need to specify the range [0, 0]\n",
    "contour(u, v, z, [0, 0], 'LineWidth', 2)\n",
    "legend('Positive', 'Negative')\n",
    "title('Decision Boundary with lambda = 0, Overfitting')\n",
    "hold off;"
   ]
  }
 ],
 "metadata": {
  "kernelspec": {
   "display_name": "Octave",
   "language": "octave",
   "name": "octave"
  },
  "language_info": {
   "file_extension": ".m",
   "help_links": [
    {
     "text": "GNU Octave",
     "url": "https://www.gnu.org/software/octave/support.html"
    },
    {
     "text": "Octave Kernel",
     "url": "https://github.com/Calysto/octave_kernel"
    },
    {
     "text": "MetaKernel Magics",
     "url": "https://metakernel.readthedocs.io/en/latest/source/README.html"
    }
   ],
   "mimetype": "text/x-octave",
   "name": "octave",
   "version": "5.1.0"
  }
 },
 "nbformat": 4,
 "nbformat_minor": 2
}
