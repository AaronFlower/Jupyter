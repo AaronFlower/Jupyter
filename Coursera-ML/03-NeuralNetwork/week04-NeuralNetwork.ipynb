{
 "cells": [
  {
   "cell_type": "markdown",
   "metadata": {},
   "source": [
    "## Week04 Homework NeuralNetwork"
   ]
  },
  {
   "cell_type": "markdown",
   "metadata": {},
   "source": [
    "### Visualizing Data"
   ]
  },
  {
   "cell_type": "code",
   "execution_count": 47,
   "metadata": {},
   "outputs": [
    {
     "name": "stdout",
     "output_type": "stream",
     "text": [
      "\u001b[H\u001b[2J\n",
      "\u001b[H\u001b[2J\n"
     ]
    }
   ],
   "source": [
    "clc;\n",
    "clear;\n",
    "close all;"
   ]
  },
  {
   "cell_type": "code",
   "execution_count": 48,
   "metadata": {},
   "outputs": [
    {
     "name": "stdout",
     "output_type": "stream",
     "text": [
      "Variables in the current scope:\n",
      "\n",
      "   Attr Name        Size                     Bytes  Class\n",
      "   ==== ====        ====                     =====  ===== \n",
      "        X        5000x400                 16000000  double\n",
      "        y        5000x1                      40000  double\n",
      "\n",
      "Total is 2005000 elements using 16040000 bytes\n",
      "\n"
     ]
    }
   ],
   "source": [
    "load('ex3data1.mat');\n",
    "whos"
   ]
  },
  {
   "cell_type": "markdown",
   "metadata": {},
   "source": [
    "`gray` 默认会返回一个 64 * 3 的 colormap。 默认是 64 行，自己可以设置。一行三个元素的分别代表 RGB 值。 然后可以用 `colormap` 来设置当前的 colormap."
   ]
  },
  {
   "cell_type": "code",
   "execution_count": 3,
   "metadata": {},
   "outputs": [
    {
     "name": "stdout",
     "output_type": "stream",
     "text": [
      "m =  5000\n",
      "n =  400\n",
      "sel =\n",
      "\n",
      "   3879   3963   2967   1790\n",
      "\n"
     ]
    },
    {
     "data": {
      "image/svg+xml": [
       "<svg height=\"420px\" viewBox=\"0 0 560 420\" width=\"560px\" xmlns=\"http://www.w3.org/2000/svg\" xmlns:xlink=\"http://www.w3.org/1999/xlink\">\n",
       "\n",
       "<title>Gnuplot</title>\n",
       "<desc>Produced by GNUPLOT 5.2 patchlevel 2 </desc>\n",
       "\n",
       "<g id=\"gnuplot_canvas\">\n",
       "\n",
       "<rect fill=\"none\" height=\"420\" width=\"560\" x=\"0\" y=\"0\"/>\n",
       "<defs>\n",
       "\n",
       "\t<circle id=\"gpDot\" r=\"0.5\" stroke-width=\"0.5\"/>\n",
       "\t<path d=\"M-1,0 h2 M0,-1 v2\" id=\"gpPt0\" stroke=\"currentColor\" stroke-width=\"0.222\"/>\n",
       "\t<path d=\"M-1,-1 L1,1 M1,-1 L-1,1\" id=\"gpPt1\" stroke=\"currentColor\" stroke-width=\"0.222\"/>\n",
       "\t<path d=\"M-1,0 L1,0 M0,-1 L0,1 M-1,-1 L1,1 M-1,1 L1,-1\" id=\"gpPt2\" stroke=\"currentColor\" stroke-width=\"0.222\"/>\n",
       "\t<rect height=\"2\" id=\"gpPt3\" stroke=\"currentColor\" stroke-width=\"0.222\" width=\"2\" x=\"-1\" y=\"-1\"/>\n",
       "\t<rect fill=\"currentColor\" height=\"2\" id=\"gpPt4\" stroke=\"currentColor\" stroke-width=\"0.222\" width=\"2\" x=\"-1\" y=\"-1\"/>\n",
       "\t<circle cx=\"0\" cy=\"0\" id=\"gpPt5\" r=\"1\" stroke=\"currentColor\" stroke-width=\"0.222\"/>\n",
       "\t<use fill=\"currentColor\" id=\"gpPt6\" stroke=\"none\" xlink:href=\"#gpPt5\"/>\n",
       "\t<path d=\"M0,-1.33 L-1.33,0.67 L1.33,0.67 z\" id=\"gpPt7\" stroke=\"currentColor\" stroke-width=\"0.222\"/>\n",
       "\t<use fill=\"currentColor\" id=\"gpPt8\" stroke=\"none\" xlink:href=\"#gpPt7\"/>\n",
       "\t<use id=\"gpPt9\" stroke=\"currentColor\" transform=\"rotate(180)\" xlink:href=\"#gpPt7\"/>\n",
       "\t<use fill=\"currentColor\" id=\"gpPt10\" stroke=\"none\" xlink:href=\"#gpPt9\"/>\n",
       "\t<use id=\"gpPt11\" stroke=\"currentColor\" transform=\"rotate(45)\" xlink:href=\"#gpPt3\"/>\n",
       "\t<use fill=\"currentColor\" id=\"gpPt12\" stroke=\"none\" xlink:href=\"#gpPt11\"/>\n",
       "\t<path d=\"M0,1.330 L1.265,0.411 L0.782,-1.067 L-0.782,-1.076 L-1.265,0.411 z\" id=\"gpPt13\" stroke=\"currentColor\" stroke-width=\"0.222\"/>\n",
       "\t<use fill=\"currentColor\" id=\"gpPt14\" stroke=\"none\" xlink:href=\"#gpPt13\"/>\n",
       "\t<filter filterUnits=\"objectBoundingBox\" height=\"1\" id=\"textbox\" width=\"1\" x=\"0\" y=\"0\">\n",
       "\t  <feFlood flood-color=\"white\" flood-opacity=\"1\" result=\"bgnd\"/>\n",
       "\t  <feComposite in=\"SourceGraphic\" in2=\"bgnd\" operator=\"atop\"/>\n",
       "\t</filter>\n",
       "\t<filter filterUnits=\"objectBoundingBox\" height=\"1\" id=\"greybox\" width=\"1\" x=\"0\" y=\"0\">\n",
       "\t  <feFlood flood-color=\"lightgrey\" flood-opacity=\"1\" result=\"grey\"/>\n",
       "\t  <feComposite in=\"SourceGraphic\" in2=\"grey\" operator=\"atop\"/>\n",
       "\t</filter>\n",
       "</defs>\n",
       "<g color=\"white\" fill=\"none\" stroke=\"currentColor\" stroke-linecap=\"butt\" stroke-linejoin=\"miter\" stroke-width=\"1.00\">\n",
       "</g>\n",
       "<g color=\"black\" fill=\"none\" stroke=\"currentColor\" stroke-linecap=\"butt\" stroke-linejoin=\"miter\" stroke-width=\"1.00\">\n",
       "\t<g shape-rendering=\"crispEdges\" stroke=\"none\">\n",
       "\t\t<polygon fill=\"rgb(255, 255, 255)\" points=\"72.8,172.2 252.1,172.2 252.1,31.7 72.8,31.7 \"/>\n",
       "\t</g>\n",
       "</g>\n",
       "<g color=\"black\" fill=\"none\" stroke=\"rgb(255, 255, 255)\" stroke-linecap=\"butt\" stroke-linejoin=\"miter\" stroke-width=\"0.50\">\n",
       "</g>\n",
       "<g color=\"black\" fill=\"none\" stroke=\"currentColor\" stroke-linecap=\"butt\" stroke-linejoin=\"miter\" stroke-width=\"0.50\">\n",
       "\t<path d=\"M72.8,31.6 L72.8,172.2 L252.2,172.2 L252.2,31.6 L72.8,31.6 Z  \" stroke=\"black\"/></g>\n",
       "<g color=\"black\" fill=\"none\" stroke=\"currentColor\" stroke-linecap=\"butt\" stroke-linejoin=\"miter\" stroke-width=\"0.50\">\n",
       "</g>\n",
       "\t<g id=\"gnuplot_plot_1a\"><title>gnuplot_plot_1a</title>\n",
       "<g color=\"white\" fill=\"none\" stroke=\"black\" stroke-linecap=\"butt\" stroke-linejoin=\"miter\" stroke-width=\"1.00\">\n",
       "</g>\n",
       "<g color=\"black\" fill=\"none\" stroke=\"currentColor\" stroke-linecap=\"butt\" stroke-linejoin=\"miter\" stroke-width=\"1.00\">\n",
       "<image height=\"140.6\" preserveAspectRatio=\"none\" width=\"179.4\" x=\"72.8\" xlink:href=\"data:image/png;base64,iVBORw0KGgoAAAANSUhEUgAAABQAAAAUCAYAAACNiR0NAAAACXBIWXMAAA7EAAAOxAGVKw4bAAAB1klEQVQ4jb2UsYrqQBSG/907hilGSTGFhXYKNkIsLFIETJlHUUjjA8itLWwFGx/BIvgOgk0gohZCCi0sBC0GGfDA3mJJuNEoy93lnmaK/OfjP/OfzJtpmh/4QmmtQURgjIFz/lT3/hUYEcF1XYxGI7iuCyL6HhAALMuC7/uwLOtngESUGfvbwHv4jwJfOXz6JXFxfwKfiXPOc8G5QK01bNtGt9tNmyqVCrTW8DwPYRhiuVzm3udb3h5qreG6LiaTCaSU0FqnLhPAbDbDcDjE4XDIQHOBSbPneZBSYrvdQggB3/dh2zam0yk2mw3CMEQURRngw8h/31UQBBnX7XYbjuMgjmOMx2OYpvkw8nsCSfZMSolWqwXOOaSUmYbb7fbpgrGnSTMigpQS/X4fnU4HhUIBnHOcz+e06Xg8IggCXC4XKKVQrVYhhMgNhQFAtVpFrVYDEWGxWCCO41RQr9fRaDQwGAxSZ+VyGZxzKKUeHTLGEEURer0eisUi9vt9RiiEgJQSzWYTvu/DcRwopdLk7+sX5/w3EeF6veJ0OgEAOOcwDAOGYYCIoJTCer3GbrdDqVTCfD7HarWCYRgPwKdrk1dJcK/exOc/ZZ6YMQghXmr+6XH4r8A/UBnW7DsqQb0AAAAASUVORK5CYII=\" y=\"31.6\"/>\n",
       "</g>\n",
       "\t</g>\n",
       "<g color=\"white\" fill=\"none\" stroke=\"rgb(148,   0, 211)\" stroke-linecap=\"butt\" stroke-linejoin=\"miter\" stroke-width=\"0.50\">\n",
       "</g>\n",
       "<g color=\"black\" fill=\"none\" stroke=\"currentColor\" stroke-linecap=\"butt\" stroke-linejoin=\"miter\" stroke-width=\"0.50\">\n",
       "\t<path d=\"M72.8,140.6 L85.3,140.6 M252.2,140.6 L239.7,140.6  \" stroke=\"black\"/>\t<g fill=\"rgb(0,0,0)\" font-family=\"{}\" font-size=\"10.00\" stroke=\"none\" text-anchor=\"end\" transform=\"translate(64.5,143.9)\">\n",
       "\t\t<text><tspan font-family=\"{}\">5</tspan></text>\n",
       "\t</g>\n",
       "</g>\n",
       "<g color=\"black\" fill=\"none\" stroke=\"currentColor\" stroke-linecap=\"butt\" stroke-linejoin=\"miter\" stroke-width=\"0.50\">\n",
       "\t<path d=\"M72.8,105.4 L85.3,105.4 M252.2,105.4 L239.7,105.4  \" stroke=\"black\"/>\t<g fill=\"rgb(0,0,0)\" font-family=\"{}\" font-size=\"10.00\" stroke=\"none\" text-anchor=\"end\" transform=\"translate(64.5,108.7)\">\n",
       "\t\t<text><tspan font-family=\"{}\">10</tspan></text>\n",
       "\t</g>\n",
       "</g>\n",
       "<g color=\"black\" fill=\"none\" stroke=\"currentColor\" stroke-linecap=\"butt\" stroke-linejoin=\"miter\" stroke-width=\"0.50\">\n",
       "\t<path d=\"M72.8,70.3 L85.3,70.3 M252.2,70.3 L239.7,70.3  \" stroke=\"black\"/>\t<g fill=\"rgb(0,0,0)\" font-family=\"{}\" font-size=\"10.00\" stroke=\"none\" text-anchor=\"end\" transform=\"translate(64.5,73.6)\">\n",
       "\t\t<text><tspan font-family=\"{}\">15</tspan></text>\n",
       "\t</g>\n",
       "</g>\n",
       "<g color=\"black\" fill=\"none\" stroke=\"currentColor\" stroke-linecap=\"butt\" stroke-linejoin=\"miter\" stroke-width=\"0.50\">\n",
       "\t<path d=\"M72.8,35.1 L85.3,35.1 M252.2,35.1 L239.7,35.1  \" stroke=\"black\"/>\t<g fill=\"rgb(0,0,0)\" font-family=\"{}\" font-size=\"10.00\" stroke=\"none\" text-anchor=\"end\" transform=\"translate(64.5,38.4)\">\n",
       "\t\t<text><tspan font-family=\"{}\">20</tspan></text>\n",
       "\t</g>\n",
       "</g>\n",
       "<g color=\"black\" fill=\"none\" stroke=\"currentColor\" stroke-linecap=\"butt\" stroke-linejoin=\"miter\" stroke-width=\"0.50\">\n",
       "\t<path d=\"M113.2,172.2 L113.2,159.7 M113.2,31.6 L113.2,44.1  \" stroke=\"black\"/>\t<g fill=\"rgb(0,0,0)\" font-family=\"{}\" font-size=\"10.00\" stroke=\"none\" text-anchor=\"middle\" transform=\"translate(113.2,193.5)\">\n",
       "\t\t<text><tspan font-family=\"{}\">5</tspan></text>\n",
       "\t</g>\n",
       "</g>\n",
       "<g color=\"black\" fill=\"none\" stroke=\"currentColor\" stroke-linecap=\"butt\" stroke-linejoin=\"miter\" stroke-width=\"0.50\">\n",
       "\t<path d=\"M158.0,172.2 L158.0,159.7 M158.0,31.6 L158.0,44.1  \" stroke=\"black\"/>\t<g fill=\"rgb(0,0,0)\" font-family=\"{}\" font-size=\"10.00\" stroke=\"none\" text-anchor=\"middle\" transform=\"translate(158.0,193.5)\">\n",
       "\t\t<text><tspan font-family=\"{}\">10</tspan></text>\n",
       "\t</g>\n",
       "</g>\n",
       "<g color=\"black\" fill=\"none\" stroke=\"currentColor\" stroke-linecap=\"butt\" stroke-linejoin=\"miter\" stroke-width=\"0.50\">\n",
       "\t<path d=\"M202.9,172.2 L202.9,159.7 M202.9,31.6 L202.9,44.1  \" stroke=\"black\"/>\t<g fill=\"rgb(0,0,0)\" font-family=\"{}\" font-size=\"10.00\" stroke=\"none\" text-anchor=\"middle\" transform=\"translate(202.9,193.5)\">\n",
       "\t\t<text><tspan font-family=\"{}\">15</tspan></text>\n",
       "\t</g>\n",
       "</g>\n",
       "<g color=\"black\" fill=\"none\" stroke=\"currentColor\" stroke-linecap=\"butt\" stroke-linejoin=\"miter\" stroke-width=\"0.50\">\n",
       "\t<path d=\"M247.7,172.2 L247.7,159.7 M247.7,31.6 L247.7,44.1  \" stroke=\"black\"/>\t<g fill=\"rgb(0,0,0)\" font-family=\"{}\" font-size=\"10.00\" stroke=\"none\" text-anchor=\"middle\" transform=\"translate(247.7,193.5)\">\n",
       "\t\t<text><tspan font-family=\"{}\">20</tspan></text>\n",
       "\t</g>\n",
       "</g>\n",
       "<g color=\"black\" fill=\"none\" stroke=\"currentColor\" stroke-linecap=\"butt\" stroke-linejoin=\"miter\" stroke-width=\"0.50\">\n",
       "</g>\n",
       "<g color=\"black\" fill=\"none\" stroke=\"black\" stroke-linecap=\"butt\" stroke-linejoin=\"miter\" stroke-width=\"2.00\">\n",
       "</g>\n",
       "<g color=\"black\" fill=\"none\" stroke=\"currentColor\" stroke-linecap=\"butt\" stroke-linejoin=\"miter\" stroke-width=\"2.00\">\n",
       "</g>\n",
       "<g color=\"black\" fill=\"none\" stroke=\"black\" stroke-linecap=\"butt\" stroke-linejoin=\"miter\" stroke-width=\"0.50\">\n",
       "</g>\n",
       "<g color=\"black\" fill=\"none\" stroke=\"currentColor\" stroke-linecap=\"butt\" stroke-linejoin=\"miter\" stroke-width=\"0.50\">\n",
       "\t<path d=\"M72.8,31.6 L72.8,172.2 L252.2,172.2 L252.2,31.6 L72.8,31.6 Z  \" stroke=\"black\"/></g>\n",
       "<g color=\"black\" fill=\"none\" stroke=\"currentColor\" stroke-linecap=\"butt\" stroke-linejoin=\"miter\" stroke-width=\"0.50\">\n",
       "</g>\n",
       "<g color=\"black\" fill=\"none\" stroke=\"black\" stroke-linecap=\"butt\" stroke-linejoin=\"miter\" stroke-width=\"1.00\">\n",
       "</g>\n",
       "<g color=\"black\" fill=\"none\" stroke=\"currentColor\" stroke-linecap=\"butt\" stroke-linejoin=\"miter\" stroke-width=\"1.00\">\n",
       "\t<g shape-rendering=\"crispEdges\" stroke=\"none\">\n",
       "\t\t<polygon fill=\"rgb(255, 255, 255)\" points=\"327.2,172.2 506.6,172.2 506.6,31.7 327.2,31.7 \"/>\n",
       "\t</g>\n",
       "</g>\n",
       "<g color=\"black\" fill=\"none\" stroke=\"rgb(255, 255, 255)\" stroke-linecap=\"butt\" stroke-linejoin=\"miter\" stroke-width=\"0.50\">\n",
       "</g>\n",
       "<g color=\"black\" fill=\"none\" stroke=\"currentColor\" stroke-linecap=\"butt\" stroke-linejoin=\"miter\" stroke-width=\"0.50\">\n",
       "\t<path d=\"M327.2,31.6 L327.2,172.2 L506.7,172.2 L506.7,31.6 L327.2,31.6 Z  \" stroke=\"black\"/></g>\n",
       "<g color=\"black\" fill=\"none\" stroke=\"currentColor\" stroke-linecap=\"butt\" stroke-linejoin=\"miter\" stroke-width=\"0.50\">\n",
       "</g>\n",
       "\t<g id=\"gnuplot_plot_1b\"><title>gnuplot_plot_1b</title>\n",
       "<g color=\"white\" fill=\"none\" stroke=\"black\" stroke-linecap=\"butt\" stroke-linejoin=\"miter\" stroke-width=\"1.00\">\n",
       "</g>\n",
       "<g color=\"black\" fill=\"none\" stroke=\"currentColor\" stroke-linecap=\"butt\" stroke-linejoin=\"miter\" stroke-width=\"1.00\">\n",
       "<image height=\"140.6\" preserveAspectRatio=\"none\" width=\"179.5\" x=\"327.2\" xlink:href=\"data:image/png;base64,iVBORw0KGgoAAAANSUhEUgAAABQAAAAUCAYAAACNiR0NAAAACXBIWXMAAA7EAAAOxAGVKw4bAAABVklEQVQ4jcWUv4rCQBDGP70ppkhhoZDAphAsYmVhYW2p3T5GLPIGgXsdm7yEnQgRbIU0go2FxRYLDu5VynmniRLBD7ZZZn58zL8GMztUSETQbrfR7Xax2WwgIg9jm1Wwi2azGdI0BRHVB3qehziOsVqtcDweQUT1HTIzTqdTZdzTwGf1NNBa+z6giGC/36PT6YCZ6wMBYLfbodfrgZnrd9lai/V6jX6/j1ar9bpDEblxISJYLBZQSiEMw9eBvu9DKXXTCBEBEZXO4F2giGAymSDLMmitr06NMTgcDlBKlQK/iOj798f5fIYxBqPRCEmSIAgC5HmO7XaL4XCIwWCA+XyOZvNB+ZnZ/X1E5DzPc3Ecu6Io3HK5dOPx2KVp6oqicL7vOyL6l8fMrlF2bay1iKIIWmtorcHMsNZiOp3CGHM3pxQI4FrDy7iISOnWVAJf1eeOw8eAP6pTmjHoUBkIAAAAAElFTkSuQmCC\" y=\"31.6\"/>\n",
       "</g>\n",
       "\t</g>\n",
       "<g color=\"white\" fill=\"none\" stroke=\"rgb(148,   0, 211)\" stroke-linecap=\"butt\" stroke-linejoin=\"miter\" stroke-width=\"0.50\">\n",
       "</g>\n",
       "<g color=\"black\" fill=\"none\" stroke=\"currentColor\" stroke-linecap=\"butt\" stroke-linejoin=\"miter\" stroke-width=\"0.50\">\n",
       "\t<path d=\"M327.2,140.6 L339.7,140.6 M506.7,140.6 L494.2,140.6  \" stroke=\"black\"/>\t<g fill=\"rgb(0,0,0)\" font-family=\"{}\" font-size=\"10.00\" stroke=\"none\" text-anchor=\"end\" transform=\"translate(318.9,143.9)\">\n",
       "\t\t<text><tspan font-family=\"{}\">5</tspan></text>\n",
       "\t</g>\n",
       "</g>\n",
       "<g color=\"black\" fill=\"none\" stroke=\"currentColor\" stroke-linecap=\"butt\" stroke-linejoin=\"miter\" stroke-width=\"0.50\">\n",
       "\t<path d=\"M327.2,105.4 L339.7,105.4 M506.7,105.4 L494.2,105.4  \" stroke=\"black\"/>\t<g fill=\"rgb(0,0,0)\" font-family=\"{}\" font-size=\"10.00\" stroke=\"none\" text-anchor=\"end\" transform=\"translate(318.9,108.7)\">\n",
       "\t\t<text><tspan font-family=\"{}\">10</tspan></text>\n",
       "\t</g>\n",
       "</g>\n",
       "<g color=\"black\" fill=\"none\" stroke=\"currentColor\" stroke-linecap=\"butt\" stroke-linejoin=\"miter\" stroke-width=\"0.50\">\n",
       "\t<path d=\"M327.2,70.3 L339.7,70.3 M506.7,70.3 L494.2,70.3  \" stroke=\"black\"/>\t<g fill=\"rgb(0,0,0)\" font-family=\"{}\" font-size=\"10.00\" stroke=\"none\" text-anchor=\"end\" transform=\"translate(318.9,73.6)\">\n",
       "\t\t<text><tspan font-family=\"{}\">15</tspan></text>\n",
       "\t</g>\n",
       "</g>\n",
       "<g color=\"black\" fill=\"none\" stroke=\"currentColor\" stroke-linecap=\"butt\" stroke-linejoin=\"miter\" stroke-width=\"0.50\">\n",
       "\t<path d=\"M327.2,35.1 L339.7,35.1 M506.7,35.1 L494.2,35.1  \" stroke=\"black\"/>\t<g fill=\"rgb(0,0,0)\" font-family=\"{}\" font-size=\"10.00\" stroke=\"none\" text-anchor=\"end\" transform=\"translate(318.9,38.4)\">\n",
       "\t\t<text><tspan font-family=\"{}\">20</tspan></text>\n",
       "\t</g>\n",
       "</g>\n",
       "<g color=\"black\" fill=\"none\" stroke=\"currentColor\" stroke-linecap=\"butt\" stroke-linejoin=\"miter\" stroke-width=\"0.50\">\n",
       "\t<path d=\"M367.6,172.2 L367.6,159.7 M367.6,31.6 L367.6,44.1  \" stroke=\"black\"/>\t<g fill=\"rgb(0,0,0)\" font-family=\"{}\" font-size=\"10.00\" stroke=\"none\" text-anchor=\"middle\" transform=\"translate(367.6,193.5)\">\n",
       "\t\t<text><tspan font-family=\"{}\">5</tspan></text>\n",
       "\t</g>\n",
       "</g>\n",
       "<g color=\"black\" fill=\"none\" stroke=\"currentColor\" stroke-linecap=\"butt\" stroke-linejoin=\"miter\" stroke-width=\"0.50\">\n",
       "\t<path d=\"M412.5,172.2 L412.5,159.7 M412.5,31.6 L412.5,44.1  \" stroke=\"black\"/>\t<g fill=\"rgb(0,0,0)\" font-family=\"{}\" font-size=\"10.00\" stroke=\"none\" text-anchor=\"middle\" transform=\"translate(412.5,193.5)\">\n",
       "\t\t<text><tspan font-family=\"{}\">10</tspan></text>\n",
       "\t</g>\n",
       "</g>\n",
       "<g color=\"black\" fill=\"none\" stroke=\"currentColor\" stroke-linecap=\"butt\" stroke-linejoin=\"miter\" stroke-width=\"0.50\">\n",
       "\t<path d=\"M457.3,172.2 L457.3,159.7 M457.3,31.6 L457.3,44.1  \" stroke=\"black\"/>\t<g fill=\"rgb(0,0,0)\" font-family=\"{}\" font-size=\"10.00\" stroke=\"none\" text-anchor=\"middle\" transform=\"translate(457.3,193.5)\">\n",
       "\t\t<text><tspan font-family=\"{}\">15</tspan></text>\n",
       "\t</g>\n",
       "</g>\n",
       "<g color=\"black\" fill=\"none\" stroke=\"currentColor\" stroke-linecap=\"butt\" stroke-linejoin=\"miter\" stroke-width=\"0.50\">\n",
       "\t<path d=\"M502.2,172.2 L502.2,159.7 M502.2,31.6 L502.2,44.1  \" stroke=\"black\"/>\t<g fill=\"rgb(0,0,0)\" font-family=\"{}\" font-size=\"10.00\" stroke=\"none\" text-anchor=\"middle\" transform=\"translate(502.2,193.5)\">\n",
       "\t\t<text><tspan font-family=\"{}\">20</tspan></text>\n",
       "\t</g>\n",
       "</g>\n",
       "<g color=\"black\" fill=\"none\" stroke=\"currentColor\" stroke-linecap=\"butt\" stroke-linejoin=\"miter\" stroke-width=\"0.50\">\n",
       "</g>\n",
       "<g color=\"black\" fill=\"none\" stroke=\"black\" stroke-linecap=\"butt\" stroke-linejoin=\"miter\" stroke-width=\"2.00\">\n",
       "</g>\n",
       "<g color=\"black\" fill=\"none\" stroke=\"currentColor\" stroke-linecap=\"butt\" stroke-linejoin=\"miter\" stroke-width=\"2.00\">\n",
       "</g>\n",
       "<g color=\"black\" fill=\"none\" stroke=\"black\" stroke-linecap=\"butt\" stroke-linejoin=\"miter\" stroke-width=\"0.50\">\n",
       "</g>\n",
       "<g color=\"black\" fill=\"none\" stroke=\"currentColor\" stroke-linecap=\"butt\" stroke-linejoin=\"miter\" stroke-width=\"0.50\">\n",
       "\t<path d=\"M327.2,31.6 L327.2,172.2 L506.7,172.2 L506.7,31.6 L327.2,31.6 Z  \" stroke=\"black\"/></g>\n",
       "<g color=\"black\" fill=\"none\" stroke=\"currentColor\" stroke-linecap=\"butt\" stroke-linejoin=\"miter\" stroke-width=\"0.50\">\n",
       "</g>\n",
       "<g color=\"black\" fill=\"none\" stroke=\"black\" stroke-linecap=\"butt\" stroke-linejoin=\"miter\" stroke-width=\"1.00\">\n",
       "</g>\n",
       "<g color=\"black\" fill=\"none\" stroke=\"currentColor\" stroke-linecap=\"butt\" stroke-linejoin=\"miter\" stroke-width=\"1.00\">\n",
       "\t<g shape-rendering=\"crispEdges\" stroke=\"none\">\n",
       "\t\t<polygon fill=\"rgb(255, 255, 255)\" points=\"72.8,373.8 252.1,373.8 252.1,233.3 72.8,233.3 \"/>\n",
       "\t</g>\n",
       "</g>\n",
       "<g color=\"black\" fill=\"none\" stroke=\"rgb(255, 255, 255)\" stroke-linecap=\"butt\" stroke-linejoin=\"miter\" stroke-width=\"0.50\">\n",
       "</g>\n",
       "<g color=\"black\" fill=\"none\" stroke=\"currentColor\" stroke-linecap=\"butt\" stroke-linejoin=\"miter\" stroke-width=\"0.50\">\n",
       "\t<path d=\"M72.8,233.2 L72.8,373.8 L252.2,373.8 L252.2,233.2 L72.8,233.2 Z  \" stroke=\"black\"/></g>\n",
       "<g color=\"black\" fill=\"none\" stroke=\"currentColor\" stroke-linecap=\"butt\" stroke-linejoin=\"miter\" stroke-width=\"0.50\">\n",
       "</g>\n",
       "\t<g id=\"gnuplot_plot_1c\"><title>gnuplot_plot_1c</title>\n",
       "<g color=\"white\" fill=\"none\" stroke=\"black\" stroke-linecap=\"butt\" stroke-linejoin=\"miter\" stroke-width=\"1.00\">\n",
       "</g>\n",
       "<g color=\"black\" fill=\"none\" stroke=\"currentColor\" stroke-linecap=\"butt\" stroke-linejoin=\"miter\" stroke-width=\"1.00\">\n",
       "<image height=\"140.6\" preserveAspectRatio=\"none\" width=\"179.4\" x=\"72.8\" xlink:href=\"data:image/png;base64,iVBORw0KGgoAAAANSUhEUgAAABQAAAAUCAYAAACNiR0NAAAACXBIWXMAAA7EAAAOxAGVKw4bAAACLUlEQVQ4ja1UIW8yQRB9/TJixQnEiWtyouKQJypwRSAqkIhKREVNE6jqX6hAnMVhmoDjJyAwJ5oACeLwFZxo0ia9ZDe5TV4VFMpSvuT7JpncZebeu9l5s3OmlCL+o8lvSWutGyTHYc6MtRZhGOL+/h5RFCGOYwDAcrnEy8sLRqMR8jx3Ep79PPKGbDAYoFarIcsyFEUBAPB9H9VqFWma4uHhAVmWHVarlOKuA+DNzQ3X6zVbrRbDMGQQBAyCgFEUMUkSkuRgMOBPrFKKTsLb21smSUIAFJE99zyPw+GQ6/WalUrlgPCPq+F5nqMoCiilICJ7boxBnudHhTmIigjSNMVyuYSI7CltrUUURWg2m5jP584pcP7GGANjzEG8Uqmg1+vB9310u10YY06LsttLEaFSiiJCAOx0OiTJJEmcGKcoSin6vs96vc6LiwuKCMMw5OPjI7XWHI/H2/hfq9xsNqm15mQy4dPTE6fTKcuy5Hg8ZhiGR8mchCLCRqPB19dXkqTWmrPZjHd3d9u853l7rdjDu1S+urqC53mw1sIYg8ViAWst2u02Li8voZTCx8cHiqJAmqZI0/RbRFeFnU6HZVlSa82yLLmxzbvWepv7/PxkHMffAroqfH5+xmq1QhAEiOMY7XYbWZah3+8DAFarFd7f33F+fo5WqwWt9RZ/sBx2h3jzvL6+xtvbG+bz+fbGbHLWWiilThPu2maAf9uD2xOe/ALYq+CUHSyHf7UvqmGI7weooBYAAAAASUVORK5CYII=\" y=\"233.2\"/>\n",
       "</g>\n",
       "\t</g>\n",
       "<g color=\"white\" fill=\"none\" stroke=\"rgb(148,   0, 211)\" stroke-linecap=\"butt\" stroke-linejoin=\"miter\" stroke-width=\"0.50\">\n",
       "</g>\n",
       "<g color=\"black\" fill=\"none\" stroke=\"currentColor\" stroke-linecap=\"butt\" stroke-linejoin=\"miter\" stroke-width=\"0.50\">\n",
       "\t<path d=\"M72.8,342.2 L85.3,342.2 M252.2,342.2 L239.7,342.2  \" stroke=\"black\"/>\t<g fill=\"rgb(0,0,0)\" font-family=\"{}\" font-size=\"10.00\" stroke=\"none\" text-anchor=\"end\" transform=\"translate(64.5,345.5)\">\n",
       "\t\t<text><tspan font-family=\"{}\">5</tspan></text>\n",
       "\t</g>\n",
       "</g>\n",
       "<g color=\"black\" fill=\"none\" stroke=\"currentColor\" stroke-linecap=\"butt\" stroke-linejoin=\"miter\" stroke-width=\"0.50\">\n",
       "\t<path d=\"M72.8,307.0 L85.3,307.0 M252.2,307.0 L239.7,307.0  \" stroke=\"black\"/>\t<g fill=\"rgb(0,0,0)\" font-family=\"{}\" font-size=\"10.00\" stroke=\"none\" text-anchor=\"end\" transform=\"translate(64.5,310.3)\">\n",
       "\t\t<text><tspan font-family=\"{}\">10</tspan></text>\n",
       "\t</g>\n",
       "</g>\n",
       "<g color=\"black\" fill=\"none\" stroke=\"currentColor\" stroke-linecap=\"butt\" stroke-linejoin=\"miter\" stroke-width=\"0.50\">\n",
       "\t<path d=\"M72.8,271.9 L85.3,271.9 M252.2,271.9 L239.7,271.9  \" stroke=\"black\"/>\t<g fill=\"rgb(0,0,0)\" font-family=\"{}\" font-size=\"10.00\" stroke=\"none\" text-anchor=\"end\" transform=\"translate(64.5,275.2)\">\n",
       "\t\t<text><tspan font-family=\"{}\">15</tspan></text>\n",
       "\t</g>\n",
       "</g>\n",
       "<g color=\"black\" fill=\"none\" stroke=\"currentColor\" stroke-linecap=\"butt\" stroke-linejoin=\"miter\" stroke-width=\"0.50\">\n",
       "\t<path d=\"M72.8,236.7 L85.3,236.7 M252.2,236.7 L239.7,236.7  \" stroke=\"black\"/>\t<g fill=\"rgb(0,0,0)\" font-family=\"{}\" font-size=\"10.00\" stroke=\"none\" text-anchor=\"end\" transform=\"translate(64.5,240.0)\">\n",
       "\t\t<text><tspan font-family=\"{}\">20</tspan></text>\n",
       "\t</g>\n",
       "</g>\n",
       "<g color=\"black\" fill=\"none\" stroke=\"currentColor\" stroke-linecap=\"butt\" stroke-linejoin=\"miter\" stroke-width=\"0.50\">\n",
       "\t<path d=\"M113.2,373.8 L113.2,361.3 M113.2,233.2 L113.2,245.7  \" stroke=\"black\"/>\t<g fill=\"rgb(0,0,0)\" font-family=\"{}\" font-size=\"10.00\" stroke=\"none\" text-anchor=\"middle\" transform=\"translate(113.2,395.1)\">\n",
       "\t\t<text><tspan font-family=\"{}\">5</tspan></text>\n",
       "\t</g>\n",
       "</g>\n",
       "<g color=\"black\" fill=\"none\" stroke=\"currentColor\" stroke-linecap=\"butt\" stroke-linejoin=\"miter\" stroke-width=\"0.50\">\n",
       "\t<path d=\"M158.0,373.8 L158.0,361.3 M158.0,233.2 L158.0,245.7  \" stroke=\"black\"/>\t<g fill=\"rgb(0,0,0)\" font-family=\"{}\" font-size=\"10.00\" stroke=\"none\" text-anchor=\"middle\" transform=\"translate(158.0,395.1)\">\n",
       "\t\t<text><tspan font-family=\"{}\">10</tspan></text>\n",
       "\t</g>\n",
       "</g>\n",
       "<g color=\"black\" fill=\"none\" stroke=\"currentColor\" stroke-linecap=\"butt\" stroke-linejoin=\"miter\" stroke-width=\"0.50\">\n",
       "\t<path d=\"M202.9,373.8 L202.9,361.3 M202.9,233.2 L202.9,245.7  \" stroke=\"black\"/>\t<g fill=\"rgb(0,0,0)\" font-family=\"{}\" font-size=\"10.00\" stroke=\"none\" text-anchor=\"middle\" transform=\"translate(202.9,395.1)\">\n",
       "\t\t<text><tspan font-family=\"{}\">15</tspan></text>\n",
       "\t</g>\n",
       "</g>\n",
       "<g color=\"black\" fill=\"none\" stroke=\"currentColor\" stroke-linecap=\"butt\" stroke-linejoin=\"miter\" stroke-width=\"0.50\">\n",
       "\t<path d=\"M247.7,373.8 L247.7,361.3 M247.7,233.2 L247.7,245.7  \" stroke=\"black\"/>\t<g fill=\"rgb(0,0,0)\" font-family=\"{}\" font-size=\"10.00\" stroke=\"none\" text-anchor=\"middle\" transform=\"translate(247.7,395.1)\">\n",
       "\t\t<text><tspan font-family=\"{}\">20</tspan></text>\n",
       "\t</g>\n",
       "</g>\n",
       "<g color=\"black\" fill=\"none\" stroke=\"currentColor\" stroke-linecap=\"butt\" stroke-linejoin=\"miter\" stroke-width=\"0.50\">\n",
       "</g>\n",
       "<g color=\"black\" fill=\"none\" stroke=\"black\" stroke-linecap=\"butt\" stroke-linejoin=\"miter\" stroke-width=\"2.00\">\n",
       "</g>\n",
       "<g color=\"black\" fill=\"none\" stroke=\"currentColor\" stroke-linecap=\"butt\" stroke-linejoin=\"miter\" stroke-width=\"2.00\">\n",
       "</g>\n",
       "<g color=\"black\" fill=\"none\" stroke=\"black\" stroke-linecap=\"butt\" stroke-linejoin=\"miter\" stroke-width=\"0.50\">\n",
       "</g>\n",
       "<g color=\"black\" fill=\"none\" stroke=\"currentColor\" stroke-linecap=\"butt\" stroke-linejoin=\"miter\" stroke-width=\"0.50\">\n",
       "\t<path d=\"M72.8,233.2 L72.8,373.8 L252.2,373.8 L252.2,233.2 L72.8,233.2 Z  \" stroke=\"black\"/></g>\n",
       "<g color=\"black\" fill=\"none\" stroke=\"currentColor\" stroke-linecap=\"butt\" stroke-linejoin=\"miter\" stroke-width=\"0.50\">\n",
       "</g>\n",
       "<g color=\"black\" fill=\"none\" stroke=\"currentColor\" stroke-linecap=\"butt\" stroke-linejoin=\"miter\" stroke-width=\"0.50\">\n",
       "</g>\n",
       "\t<g id=\"gnuplot_plot_1d\"><title>gnuplot_plot_1d</title>\n",
       "<g color=\"white\" fill=\"none\" stroke=\"black\" stroke-linecap=\"butt\" stroke-linejoin=\"miter\" stroke-width=\"1.00\">\n",
       "</g>\n",
       "<g color=\"black\" fill=\"none\" stroke=\"currentColor\" stroke-linecap=\"butt\" stroke-linejoin=\"miter\" stroke-width=\"1.00\">\n",
       "<image height=\"140.6\" preserveAspectRatio=\"none\" width=\"140.6\" x=\"346.6\" xlink:href=\"data:image/png;base64,iVBORw0KGgoAAAANSUhEUgAAABQAAAAUCAYAAACNiR0NAAAACXBIWXMAAA7EAAAOxAGVKw4bAAACXUlEQVQ4ja2UsUsjQRjFf5cbwhQjTGGhsEVAAkrcYrESSWFhYWFnq4Wgvf4F9xcINvkHAjaCFikjlloknYWFhYENbIoUWwxkiEPmimMX464X4e6DYZZhvsd773s7P5RSnv9YouzQOVd62TmHEAIhStu+Btzd3eXo6Ij19XX6/T7GGADiOObu7o7hcIiUshxRKeWzJaX0tVrNPz4++lar5eM49pPJxL+/v/usHh4efBiGXmvtpZT+Y79SyhcYrq6uMhwOeXl54ebmBq01+/v7pGnK5uYmURRxe3vLyckJT09PBfk/Pg8l88hai7UWACklzjmklJyennJ2dsbr6yvHx8cYY+ZBP1POpGe7lNILIfIF+PPzcz+ZTHwYhgXZpUMRQuQTDcOQWq2G1prxeIxzjoODA7rdLkmSFHoLkuFPPJRSubzMBmMMl5eX9Pt94jjOpz9Hpoyhc469vT0uLi7odDq022201gwGA5IkIU3TXMlCwMz87e1tlpeXcc7R6/Vy8xcF+2e1Wv318aBSqeCcIwgC1tbW2NraotFoUK1WmU6npGnKbDZjNptRqVS+7yFAvV7n6uqKZrOJMYY0TWm321xfXzMYDEplFxhmLBuNBkop7u/vEUKwsbGB1pqdnR0ODw9ZWlqi1+sxnU7nmBYYOudYWVmh1WoRRRFvb29YawnDECll7uFoNKLZbDIajeZYfjnlTqdDEARIKanX62itsdbS7Xax1vL8/Mx4PF7862WAGVCSJERRRBAEGGNyQOdcHv6FgBlo1pB9A3PP1rdy+PFy1vC33H2uYpD+sX4DDB47GRifkfwAAAAASUVORK5CYII=\" y=\"233.2\"/>\n",
       "</g>\n",
       "\t</g>\n",
       "<g color=\"white\" fill=\"none\" stroke=\"rgb(148,   0, 211)\" stroke-linecap=\"butt\" stroke-linejoin=\"miter\" stroke-width=\"0.50\">\n",
       "</g>\n",
       "<g color=\"black\" fill=\"none\" stroke=\"currentColor\" stroke-linecap=\"butt\" stroke-linejoin=\"miter\" stroke-width=\"0.50\">\n",
       "</g>\n",
       "<g color=\"black\" fill=\"none\" stroke=\"black\" stroke-linecap=\"butt\" stroke-linejoin=\"miter\" stroke-width=\"2.00\">\n",
       "</g>\n",
       "<g color=\"black\" fill=\"none\" stroke=\"currentColor\" stroke-linecap=\"butt\" stroke-linejoin=\"miter\" stroke-width=\"2.00\">\n",
       "</g>\n",
       "<g color=\"black\" fill=\"none\" stroke=\"black\" stroke-linecap=\"butt\" stroke-linejoin=\"miter\" stroke-width=\"0.50\">\n",
       "</g>\n",
       "<g color=\"black\" fill=\"none\" stroke=\"currentColor\" stroke-linecap=\"butt\" stroke-linejoin=\"miter\" stroke-width=\"0.50\">\n",
       "</g>\n",
       "</g>\n",
       "</svg>"
      ],
      "text/plain": [
       "<IPython.core.display.SVG object>"
      ]
     },
     "metadata": {},
     "output_type": "display_data"
    }
   ],
   "source": [
    "% 将第一个测试数据显示出来。imagesc: Display a scaled version of the matrix IMG as a color image.\n",
    "[m n] = size(X)\n",
    "rand_indices = randperm(m); % randperm 返回 1 ~ M 的随机排列。然后我们从中选择几个就都是随机生成了，而且不会有重复的随机数。\n",
    "sel = rand_indices(1:4)\n",
    "subplot(2, 2, 1)\n",
    "colormap(gray)\n",
    "imagesc(reshape(X(sel(1),:), 20, 20))\n",
    "\n",
    "subplot(2, 2, 2)\n",
    "colormap(gray)\n",
    "imagesc(reshape(X(sel(2),:), 20, 20))\n",
    "\n",
    "subplot(2, 2, 3)\n",
    "colormap(gray)\n",
    "imagesc(reshape(X(sel(3),:), 20, 20))\n",
    "\n",
    "subplot(2, 2, 4)\n",
    "colormap(gray)\n",
    "imagesc(reshape(X(sel(4),:), 20, 20))\n",
    "axis image off"
   ]
  },
  {
   "cell_type": "code",
   "execution_count": 4,
   "metadata": {},
   "outputs": [],
   "source": [
    "% display function\n",
    "function displayData(sel, root)\n",
    "    colormap(gray);\n",
    "    width = 20;\n",
    "    height = 20;\n",
    "    pad = 1;\n",
    "    rows = root;\n",
    "    cols = root;\n",
    "    display_arrays = -ones(pad + rows * (height + 1), pad + cols * (width + 1));\n",
    "    for i = 1:root\n",
    "        for j = 1:root\n",
    "            index = (i - 1) * root + j;\n",
    "            % Octave 中的数组访问可以是 scalar, 当然也可以传一个数组，会把数组中的值当成下标来取值。\n",
    "            display_arrays(\n",
    "                pad + (j - 1) * (height + pad) + (1:height),\n",
    "                pad + (i - 1) * (width + pad) + (1:width)\n",
    "            ) = reshape(sel(index, :), 20, 20) / max(abs(sel(index, :)));\n",
    "        end\n",
    "    end\n",
    "    imagesc(display_arrays, [-1, 1]);\n",
    "end"
   ]
  },
  {
   "cell_type": "code",
   "execution_count": 5,
   "metadata": {
    "scrolled": true
   },
   "outputs": [
    {
     "data": {
      "image/png": "[encoded data removed]",
      "text/plain": [
       "<IPython.core.display.Image object>"
      ]
     },
     "metadata": {},
     "output_type": "display_data"
    }
   ],
   "source": [
    "% 我们可以随机将 15 * 15 个数字显示在一起，看一下数据。\n",
    "[m, n] = size(X);\n",
    "randIndices = randperm(m); % 随机选择一个 permutaion.\n",
    "displayData(X(randIndices(1:225), :), 15)"
   ]
  },
  {
   "cell_type": "markdown",
   "metadata": {},
   "source": [
    "现我们需要识别0-9的数字，于是我们需要训练一个 multiclass classifier. 这个分类器还是得用 Logistic Regression 来学习出来，由于我们有 10 个类别，所以我们需要调用十次 Logistic classifier. 为了方便使用下标，我们将 0 类标记成 10."
   ]
  },
  {
   "cell_type": "code",
   "execution_count": 38,
   "metadata": {},
   "outputs": [],
   "source": [
    "% sigmoid function \n",
    "function x = sigmoid(z) \n",
    "    x = 1 ./ (1 + exp(-z));\n",
    "end\n",
    "\n",
    "% compute cost function with regularization.\n",
    "function [J, grad] = computeCostFunction(theta, X, y, lambda)\n",
    "    m= length(y);\n",
    "    h = sigmoid(X * theta);\n",
    "    J = -(1/m) * sum(y .* log(h) + (1 - y) .* log(1 - h)) + (lambda / (2 * m)) * sum(theta(2:end) .^ 2);\n",
    "    grad = (1/m) * X' * (h - y) + (lambda / m) * theta;\n",
    "    grad(1) -= (lambda / m) * theta(1);\n",
    "end"
   ]
  },
  {
   "cell_type": "code",
   "execution_count": 40,
   "metadata": {},
   "outputs": [
    {
     "name": "stdout",
     "output_type": "stream",
     "text": [
      "\n",
      "Testing lrCostFunction() with regularization\n",
      "\n",
      "Cost: 2.534819\n",
      "Expected cost: 2.534819\n",
      "Gradients:\n",
      " 0.146561 \n",
      " -0.548558 \n",
      " 0.724722 \n",
      " 1.398003 \n",
      "Expected gradients:\n",
      " 0.146561\n",
      " -0.548558\n",
      " 0.724722\n",
      " 1.398003\n",
      "Testing lrCostFunction() with regularization\n"
     ]
    }
   ],
   "source": [
    "fprintf('\\nTesting lrCostFunction() with regularization');\n",
    "\n",
    "theta_t = [-2; -1; 1; 2];\n",
    "X_t = [ones(5,1) reshape(1:15,5,3)/10];\n",
    "y_t = ([1;0;1;0;1] >= 0.5);\n",
    "lambda_t = 3;\n",
    "[J grad] = computeCostFunction(theta_t, X_t, y_t, lambda_t);\n",
    "\n",
    "fprintf('\\nCost: %f\\n', J);\n",
    "fprintf('Expected cost: 2.534819\\n');\n",
    "fprintf('Gradients:\\n');\n",
    "fprintf(' %f \\n', grad);\n",
    "fprintf('Expected gradients:\\n');\n",
    "fprintf(' 0.146561\\n -0.548558\\n 0.724722\\n 1.398003\\n');"
   ]
  },
  {
   "cell_type": "code",
   "execution_count": 52,
   "metadata": {},
   "outputs": [
    {
     "name": "stdout",
     "output_type": "stream",
     "text": [
      "J =  0.69315\n"
     ]
    }
   ],
   "source": [
    "[m, n] = size(X);\n",
    "XMat = [ones(m, 1), X];\n",
    "theta = zeros(n + 1, 1); % 测试的时候初始化 theta 全为 0， 计算更快。\n",
    "[J, grad] = computeCostFunction(theta, XMat, y == 1, 0.1);\n",
    "J"
   ]
  },
  {
   "cell_type": "markdown",
   "metadata": {},
   "source": [
    "下面我们来构建我们的 multiclass classifier."
   ]
  },
  {
   "cell_type": "code",
   "execution_count": 82,
   "metadata": {},
   "outputs": [],
   "source": [
    "function [all_theta] = multiclassify(X, y, numOfClasses, lambda)\n",
    "    [m n] = size(X);\n",
    "    X = [ones(m, 1) X];\n",
    "    all_theta = zeros(numOfClasses, n + 1);\n",
    "    options = optimset('GradObj', 'on', 'MaxIter', 50);\n",
    "    \n",
    "    for i = 1:numOfClasses\n",
    "        all_theta(i, :) = fmincg(@(t)(computeCostFunction(t, X, y == i, lambda)), all_theta(i, :)', options);\n",
    "    end\n",
    "end"
   ]
  },
  {
   "cell_type": "code",
   "execution_count": 83,
   "metadata": {},
   "outputs": [
    {
     "name": "stdout",
     "output_type": "stream",
     "text": [
      "Iteration    50 | Cost: 1.361425e-02\n",
      "Iteration    50 | Cost: 5.725253e-02\n",
      "Iteration    50 | Cost: 6.298232e-02\n",
      "Iteration    50 | Cost: 3.639015e-02\n",
      "Iteration    50 | Cost: 6.187217e-02\n",
      "Iteration    50 | Cost: 2.211872e-02\n",
      "Iteration    50 | Cost: 3.530125e-02\n",
      "Iteration    50 | Cost: 8.600959e-02\n",
      "Iteration    50 | Cost: 7.978074e-02\n",
      "Iteration    50 | Cost: 9.957241e-03\n"
     ]
    }
   ],
   "source": [
    "% 使用 fmincg 函数计算更快一些并且输出 cost.\n",
    "[all_theta] = multiclassify(X, y, 10, 0.1);"
   ]
  },
  {
   "cell_type": "code",
   "execution_count": 88,
   "metadata": {},
   "outputs": [],
   "source": [
    "% 我们在原始数据上测试下我们模型准确率。\n",
    "function pred = predict(X, all_theta)\n",
    "    [m n] = size(X);\n",
    "    X = [ones(m, 1) X];\n",
    "    [pm, pred] = max(sigmoid(X * all_theta'), [], 2);\n",
    "end"
   ]
  },
  {
   "cell_type": "code",
   "execution_count": 93,
   "metadata": {},
   "outputs": [
    {
     "name": "stdout",
     "output_type": "stream",
     "text": [
      "The training accuracy is: 94.780000\n",
      "The training accuracy is: 94.780000\n"
     ]
    }
   ],
   "source": [
    "pre = predict(X, all_theta);\n",
    "\n",
    "fprintf('The training accuracy is: %f', mean(double(pre == y)) * 100);"
   ]
  }
 ],
 "metadata": {
  "kernelspec": {
   "display_name": "Octave",
   "language": "octave",
   "name": "octave"
  },
  "language_info": {
   "file_extension": ".m",
   "help_links": [
    {
     "text": "GNU Octave",
     "url": "https://www.gnu.org/software/octave/support.html"
    },
    {
     "text": "Octave Kernel",
     "url": "https://github.com/Calysto/octave_kernel"
    },
    {
     "text": "MetaKernel Magics",
     "url": "https://github.com/calysto/metakernel/blob/master/metakernel/magics/README.md"
    }
   ],
   "mimetype": "text/x-octave",
   "name": "octave",
   "version": "4.0.3"
  }
 },
 "nbformat": 4,
 "nbformat_minor": 2
}
