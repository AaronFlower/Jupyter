{
 "cells": [
  {
   "cell_type": "code",
   "execution_count": 1,
   "metadata": {},
   "outputs": [
    {
     "name": "stdout",
     "output_type": "stream",
     "text": [
      "\u001b[H\u001b[2J\n",
      "\u001b[H\u001b[2J\n"
     ]
    }
   ],
   "source": [
    "clear;\n",
    "clc;\n",
    "close all;"
   ]
  },
  {
   "cell_type": "code",
   "execution_count": 8,
   "metadata": {},
   "outputs": [
    {
     "name": "stdout",
     "output_type": "stream",
     "text": [
      "Variables in the current scope:\n",
      "\n",
      "   Attr Name        Size                     Bytes  Class\n",
      "   ==== ====        ====                     =====  ===== \n",
      "        Theta1     25x401                    80200  double\n",
      "        Theta2     10x26                      2080  double\n",
      "        X        5000x400                 16000000  double\n",
      "        y        5000x1                      40000  double\n",
      "\n",
      "Total is 2015285 elements using 16122280 bytes\n",
      "\n"
     ]
    }
   ],
   "source": [
    "load 'ex4data1.mat'\n",
    "load 'ex4weights.mat'\n",
    "whos"
   ]
  },
  {
   "cell_type": "markdown",
   "metadata": {},
   "source": [
    "### 手动计算一遍 cost function"
   ]
  },
  {
   "cell_type": "code",
   "execution_count": 97,
   "metadata": {},
   "outputs": [
    {
     "name": "stdout",
     "output_type": "stream",
     "text": [
      "ans =\n",
      "\n",
      "   5000     26\n",
      "\n",
      "ans =\n",
      "\n",
      "   5000     10\n",
      "\n",
      "ans =  0.287629165161319\n"
     ]
    }
   ],
   "source": [
    "[m n] = size(X);\n",
    "a1 = [ones(m, 1), X];\n",
    "size(a1);\n",
    "z2 = a1 * Theta1';\n",
    "size(z2);\n",
    "a2 = [ones(m, 1), sigmoid(z2)];\n",
    "size(a2)\n",
    "z3 = a2 * Theta2';\n",
    "size(z3)\n",
    "a3 = sigmoid(z3);\n",
    "% size(a3)\n",
    "% a3(1:20)\n",
    "% for i = 1:10\n",
    "%     yMat = [y == i, yMat];\n",
    "% end\n",
    "yMat = [\n",
    "    y == 1, y == 2, y == 3, y == 4, y == 5, y == 6, y == 7, y == 8, y == 9, y == 10\n",
    "];\n",
    "% size(yMat)\n",
    "% randIndices = randperm(5000);\n",
    "% yMat(randIndices(1:10), :);\n",
    "format long\n",
    "-(1/m) * sum(sum(yMat .* log(a3) + (1 - yMat) .* log(1 - a3)))"
   ]
  },
  {
   "cell_type": "code",
   "execution_count": 88,
   "metadata": {},
   "outputs": [
    {
     "name": "stdout",
     "output_type": "stream",
     "text": [
      "v =\n",
      "\n",
      "   1\n",
      "   1\n",
      "   1\n",
      "\n",
      "v2 =\n",
      "\n",
      "   3\n",
      "   3\n",
      "   3\n",
      "\n",
      "ans =\n",
      "\n",
      "   1   3\n",
      "   1   3\n",
      "   1   3\n",
      "\n",
      "ans =\n",
      "\n",
      "   3   9\n",
      "\n",
      "ans =\n",
      "\n",
      "   4\n",
      "   4\n",
      "   4\n",
      "\n"
     ]
    }
   ],
   "source": [
    "v = ones(3, 1)\n",
    "v2 = 3 * ones(3, 1)\n",
    "[v,v2]\n",
    "sum([v, v2])\n",
    "sum([v, v2], 2)"
   ]
  }
 ],
 "metadata": {
  "kernelspec": {
   "display_name": "Octave",
   "language": "octave",
   "name": "octave"
  },
  "language_info": {
   "file_extension": ".m",
   "help_links": [
    {
     "text": "GNU Octave",
     "url": "https://www.gnu.org/software/octave/support.html"
    },
    {
     "text": "Octave Kernel",
     "url": "https://github.com/Calysto/octave_kernel"
    },
    {
     "text": "MetaKernel Magics",
     "url": "https://github.com/calysto/metakernel/blob/master/metakernel/magics/README.md"
    }
   ],
   "mimetype": "text/x-octave",
   "name": "octave",
   "version": "4.0.3"
  }
 },
 "nbformat": 4,
 "nbformat_minor": 2
}
