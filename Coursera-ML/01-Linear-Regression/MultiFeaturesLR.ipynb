{
 "cells": [
  {
   "cell_type": "markdown",
   "metadata": {},
   "source": [
    "## 经典的预测房价的问题"
   ]
  },
  {
   "cell_type": "code",
   "execution_count": 4,
   "metadata": {},
   "outputs": [
    {
     "name": "stdout",
     "output_type": "stream",
     "text": [
      "     Feets   Bedrooms   Price\n",
      "     2104        3   399900\n",
      "     1600        3   329900\n",
      "     2400        3   369000\n",
      "     1416        2   232000\n",
      "     3000        4   539900\n"
     ]
    }
   ],
   "source": [
    "data = load('ex1data2.txt');\n",
    "disp ('     Feets   Bedrooms   Price');\n",
    "disp(data(1:5, :));"
   ]
  },
  {
   "cell_type": "code",
   "execution_count": 9,
   "metadata": {},
   "outputs": [],
   "source": [
    "% feature normalize\n",
    "function [X, mu, sigma] = featureNormalize(X)\n",
    "    mu = mean(X);\n",
    "    sigma = std(X);\n",
    "    n = size(X, 2);\n",
    "    \n",
    "    for i = 1:n\n",
    "        X(:,i) = (X(:, i) - mu(i)) / sigma(i);\n",
    "    end\n",
    "end\n",
    "% compute cost function\n",
    "function J = computeCost(X, y, theta)\n",
    "    m = length(y);\n",
    "    diff = X * theta - y;\n",
    "    J = diff' * diff / (2 * m);\n",
    "end\n",
    "\n",
    "% gradient desent\n",
    "function [theta, J_history] = gradientDescent(X, y, theta, alpha, num_iters)\n",
    "    m = length(y);\n",
    "    J_history = zeros(num_iters, 1);\n",
    "    \n",
    "    for i = 1:num_iters\n",
    "        diff = X * theta - y;\n",
    "        theta = theta - alpha * X' * diff / m;\n",
    "        J_history(i) = computeCost(X, y, theta);\n",
    "    end\n",
    "end  "
   ]
  },
  {
   "cell_type": "code",
   "execution_count": 23,
   "metadata": {},
   "outputs": [
    {
     "name": "stdout",
     "output_type": "stream",
     "text": [
      "Theta computed from gradient descent: \n",
      " 334302.063993 \n",
      " 100087.116006 \n",
      " 3673.548451 \n",
      "\n"
     ]
    }
   ],
   "source": [
    "[m, n] = size(data);\n",
    "\n",
    "x = data(:, 1:n-1);\n",
    "y = data(:, n);\n",
    "\n",
    "[nX, mu, sigma] = featureNormalize(x);\n",
    "\n",
    "X = [ones(m, 1), nX];\n",
    "alpha = 0.01;\n",
    "num_iters = 400;\n",
    "theta = zeros(n, 1);\n",
    "computeCost(X, y, theta);\n",
    "[theta, J_history] = gradientDescent(X, y, theta, alpha, num_iters);\n",
    "% Display gradient descent's result\n",
    "fprintf('Theta computed from gradient descent: \\n');\n",
    "fprintf(' %f \\n', theta);\n",
    "fprintf('\\n');"
   ]
  },
  {
   "cell_type": "code",
   "execution_count": 25,
   "metadata": {},
   "outputs": [
    {
     "data": {
      "image/svg+xml": [
       "<svg height=\"420px\" viewBox=\"0 0 560 420\" width=\"560px\" xmlns=\"http://www.w3.org/2000/svg\" xmlns:xlink=\"http://www.w3.org/1999/xlink\">\n",
       "\n",
       "<title>Gnuplot</title>\n",
       "<desc>Produced by GNUPLOT 5.2 patchlevel 2 </desc>\n",
       "\n",
       "<g id=\"gnuplot_canvas\">\n",
       "\n",
       "<rect fill=\"none\" height=\"420\" width=\"560\" x=\"0\" y=\"0\"/>\n",
       "<defs>\n",
       "\n",
       "\t<circle id=\"gpDot\" r=\"0.5\" stroke-width=\"0.5\"/>\n",
       "\t<path d=\"M-1,0 h2 M0,-1 v2\" id=\"gpPt0\" stroke=\"currentColor\" stroke-width=\"0.222\"/>\n",
       "\t<path d=\"M-1,-1 L1,1 M1,-1 L-1,1\" id=\"gpPt1\" stroke=\"currentColor\" stroke-width=\"0.222\"/>\n",
       "\t<path d=\"M-1,0 L1,0 M0,-1 L0,1 M-1,-1 L1,1 M-1,1 L1,-1\" id=\"gpPt2\" stroke=\"currentColor\" stroke-width=\"0.222\"/>\n",
       "\t<rect height=\"2\" id=\"gpPt3\" stroke=\"currentColor\" stroke-width=\"0.222\" width=\"2\" x=\"-1\" y=\"-1\"/>\n",
       "\t<rect fill=\"currentColor\" height=\"2\" id=\"gpPt4\" stroke=\"currentColor\" stroke-width=\"0.222\" width=\"2\" x=\"-1\" y=\"-1\"/>\n",
       "\t<circle cx=\"0\" cy=\"0\" id=\"gpPt5\" r=\"1\" stroke=\"currentColor\" stroke-width=\"0.222\"/>\n",
       "\t<use fill=\"currentColor\" id=\"gpPt6\" stroke=\"none\" xlink:href=\"#gpPt5\"/>\n",
       "\t<path d=\"M0,-1.33 L-1.33,0.67 L1.33,0.67 z\" id=\"gpPt7\" stroke=\"currentColor\" stroke-width=\"0.222\"/>\n",
       "\t<use fill=\"currentColor\" id=\"gpPt8\" stroke=\"none\" xlink:href=\"#gpPt7\"/>\n",
       "\t<use id=\"gpPt9\" stroke=\"currentColor\" transform=\"rotate(180)\" xlink:href=\"#gpPt7\"/>\n",
       "\t<use fill=\"currentColor\" id=\"gpPt10\" stroke=\"none\" xlink:href=\"#gpPt9\"/>\n",
       "\t<use id=\"gpPt11\" stroke=\"currentColor\" transform=\"rotate(45)\" xlink:href=\"#gpPt3\"/>\n",
       "\t<use fill=\"currentColor\" id=\"gpPt12\" stroke=\"none\" xlink:href=\"#gpPt11\"/>\n",
       "\t<path d=\"M0,1.330 L1.265,0.411 L0.782,-1.067 L-0.782,-1.076 L-1.265,0.411 z\" id=\"gpPt13\" stroke=\"currentColor\" stroke-width=\"0.222\"/>\n",
       "\t<use fill=\"currentColor\" id=\"gpPt14\" stroke=\"none\" xlink:href=\"#gpPt13\"/>\n",
       "\t<filter filterUnits=\"objectBoundingBox\" height=\"1\" id=\"textbox\" width=\"1\" x=\"0\" y=\"0\">\n",
       "\t  <feFlood flood-color=\"white\" flood-opacity=\"1\" result=\"bgnd\"/>\n",
       "\t  <feComposite in=\"SourceGraphic\" in2=\"bgnd\" operator=\"atop\"/>\n",
       "\t</filter>\n",
       "\t<filter filterUnits=\"objectBoundingBox\" height=\"1\" id=\"greybox\" width=\"1\" x=\"0\" y=\"0\">\n",
       "\t  <feFlood flood-color=\"lightgrey\" flood-opacity=\"1\" result=\"grey\"/>\n",
       "\t  <feComposite in=\"SourceGraphic\" in2=\"grey\" operator=\"atop\"/>\n",
       "\t</filter>\n",
       "</defs>\n",
       "<g color=\"white\" fill=\"none\" stroke=\"currentColor\" stroke-linecap=\"butt\" stroke-linejoin=\"miter\" stroke-width=\"1.00\">\n",
       "</g>\n",
       "<g color=\"black\" fill=\"none\" stroke=\"currentColor\" stroke-linecap=\"butt\" stroke-linejoin=\"miter\" stroke-width=\"1.00\">\n",
       "\t<g shape-rendering=\"crispEdges\" stroke=\"none\">\n",
       "\t\t<polygon fill=\"rgb(255, 255, 255)\" points=\"62.2,384.0 534.9,384.0 534.9,18.2 62.2,18.2 \"/>\n",
       "\t</g>\n",
       "</g>\n",
       "<g color=\"black\" fill=\"none\" stroke=\"rgb(255, 255, 255)\" stroke-linecap=\"butt\" stroke-linejoin=\"miter\" stroke-width=\"0.50\">\n",
       "</g>\n",
       "<g color=\"black\" fill=\"none\" stroke=\"currentColor\" stroke-linecap=\"butt\" stroke-linejoin=\"miter\" stroke-width=\"0.50\">\n",
       "\t<path d=\"M62.2,384.0 L74.7,384.0 M535.0,384.0 L522.5,384.0  \" stroke=\"black\"/>\t<g fill=\"rgb(0,0,0)\" font-family=\"{}\" font-size=\"10.00\" stroke=\"none\" text-anchor=\"end\" transform=\"translate(53.9,387.3)\">\n",
       "\t\t<text><tspan font-family=\"{}\">0</tspan></text>\n",
       "\t</g>\n",
       "</g>\n",
       "<g color=\"black\" fill=\"none\" stroke=\"currentColor\" stroke-linecap=\"butt\" stroke-linejoin=\"miter\" stroke-width=\"0.50\">\n",
       "\t<path d=\"M62.2,331.7 L74.7,331.7 M535.0,331.7 L522.5,331.7  \" stroke=\"black\"/>\t<g fill=\"rgb(0,0,0)\" font-family=\"{}\" font-size=\"10.00\" stroke=\"none\" text-anchor=\"end\" transform=\"translate(53.9,335.0)\">\n",
       "\t\t<text><tspan font-family=\"{}\">1e+10</tspan></text>\n",
       "\t</g>\n",
       "</g>\n",
       "<g color=\"black\" fill=\"none\" stroke=\"currentColor\" stroke-linecap=\"butt\" stroke-linejoin=\"miter\" stroke-width=\"0.50\">\n",
       "\t<path d=\"M62.2,279.5 L74.7,279.5 M535.0,279.5 L522.5,279.5  \" stroke=\"black\"/>\t<g fill=\"rgb(0,0,0)\" font-family=\"{}\" font-size=\"10.00\" stroke=\"none\" text-anchor=\"end\" transform=\"translate(53.9,282.8)\">\n",
       "\t\t<text><tspan font-family=\"{}\">2e+10</tspan></text>\n",
       "\t</g>\n",
       "</g>\n",
       "<g color=\"black\" fill=\"none\" stroke=\"currentColor\" stroke-linecap=\"butt\" stroke-linejoin=\"miter\" stroke-width=\"0.50\">\n",
       "\t<path d=\"M62.2,227.2 L74.7,227.2 M535.0,227.2 L522.5,227.2  \" stroke=\"black\"/>\t<g fill=\"rgb(0,0,0)\" font-family=\"{}\" font-size=\"10.00\" stroke=\"none\" text-anchor=\"end\" transform=\"translate(53.9,230.5)\">\n",
       "\t\t<text><tspan font-family=\"{}\">3e+10</tspan></text>\n",
       "\t</g>\n",
       "</g>\n",
       "<g color=\"black\" fill=\"none\" stroke=\"currentColor\" stroke-linecap=\"butt\" stroke-linejoin=\"miter\" stroke-width=\"0.50\">\n",
       "\t<path d=\"M62.2,174.9 L74.7,174.9 M535.0,174.9 L522.5,174.9  \" stroke=\"black\"/>\t<g fill=\"rgb(0,0,0)\" font-family=\"{}\" font-size=\"10.00\" stroke=\"none\" text-anchor=\"end\" transform=\"translate(53.9,178.2)\">\n",
       "\t\t<text><tspan font-family=\"{}\">4e+10</tspan></text>\n",
       "\t</g>\n",
       "</g>\n",
       "<g color=\"black\" fill=\"none\" stroke=\"currentColor\" stroke-linecap=\"butt\" stroke-linejoin=\"miter\" stroke-width=\"0.50\">\n",
       "\t<path d=\"M62.2,122.6 L74.7,122.6 M535.0,122.6 L522.5,122.6  \" stroke=\"black\"/>\t<g fill=\"rgb(0,0,0)\" font-family=\"{}\" font-size=\"10.00\" stroke=\"none\" text-anchor=\"end\" transform=\"translate(53.9,125.9)\">\n",
       "\t\t<text><tspan font-family=\"{}\">5e+10</tspan></text>\n",
       "\t</g>\n",
       "</g>\n",
       "<g color=\"black\" fill=\"none\" stroke=\"currentColor\" stroke-linecap=\"butt\" stroke-linejoin=\"miter\" stroke-width=\"0.50\">\n",
       "\t<path d=\"M62.2,70.4 L74.7,70.4 M535.0,70.4 L522.5,70.4  \" stroke=\"black\"/>\t<g fill=\"rgb(0,0,0)\" font-family=\"{}\" font-size=\"10.00\" stroke=\"none\" text-anchor=\"end\" transform=\"translate(53.9,73.7)\">\n",
       "\t\t<text><tspan font-family=\"{}\">6e+10</tspan></text>\n",
       "\t</g>\n",
       "</g>\n",
       "<g color=\"black\" fill=\"none\" stroke=\"currentColor\" stroke-linecap=\"butt\" stroke-linejoin=\"miter\" stroke-width=\"0.50\">\n",
       "\t<path d=\"M62.2,18.1 L74.7,18.1 M535.0,18.1 L522.5,18.1  \" stroke=\"black\"/>\t<g fill=\"rgb(0,0,0)\" font-family=\"{}\" font-size=\"10.00\" stroke=\"none\" text-anchor=\"end\" transform=\"translate(53.9,21.4)\">\n",
       "\t\t<text><tspan font-family=\"{}\">7e+10</tspan></text>\n",
       "\t</g>\n",
       "</g>\n",
       "<g color=\"black\" fill=\"none\" stroke=\"currentColor\" stroke-linecap=\"butt\" stroke-linejoin=\"miter\" stroke-width=\"0.50\">\n",
       "\t<path d=\"M62.2,384.0 L62.2,371.5 M62.2,18.1 L62.2,30.6  \" stroke=\"black\"/>\t<g fill=\"rgb(0,0,0)\" font-family=\"{}\" font-size=\"10.00\" stroke=\"none\" text-anchor=\"middle\" transform=\"translate(62.2,405.3)\">\n",
       "\t\t<text><tspan font-family=\"{}\">0</tspan></text>\n",
       "\t</g>\n",
       "</g>\n",
       "<g color=\"black\" fill=\"none\" stroke=\"currentColor\" stroke-linecap=\"butt\" stroke-linejoin=\"miter\" stroke-width=\"0.50\">\n",
       "\t<path d=\"M121.3,384.0 L121.3,371.5 M121.3,18.1 L121.3,30.6  \" stroke=\"black\"/>\t<g fill=\"rgb(0,0,0)\" font-family=\"{}\" font-size=\"10.00\" stroke=\"none\" text-anchor=\"middle\" transform=\"translate(121.3,405.3)\">\n",
       "\t\t<text><tspan font-family=\"{}\">50</tspan></text>\n",
       "\t</g>\n",
       "</g>\n",
       "<g color=\"black\" fill=\"none\" stroke=\"currentColor\" stroke-linecap=\"butt\" stroke-linejoin=\"miter\" stroke-width=\"0.50\">\n",
       "\t<path d=\"M180.4,384.0 L180.4,371.5 M180.4,18.1 L180.4,30.6  \" stroke=\"black\"/>\t<g fill=\"rgb(0,0,0)\" font-family=\"{}\" font-size=\"10.00\" stroke=\"none\" text-anchor=\"middle\" transform=\"translate(180.4,405.3)\">\n",
       "\t\t<text><tspan font-family=\"{}\">100</tspan></text>\n",
       "\t</g>\n",
       "</g>\n",
       "<g color=\"black\" fill=\"none\" stroke=\"currentColor\" stroke-linecap=\"butt\" stroke-linejoin=\"miter\" stroke-width=\"0.50\">\n",
       "\t<path d=\"M239.5,384.0 L239.5,371.5 M239.5,18.1 L239.5,30.6  \" stroke=\"black\"/>\t<g fill=\"rgb(0,0,0)\" font-family=\"{}\" font-size=\"10.00\" stroke=\"none\" text-anchor=\"middle\" transform=\"translate(239.5,405.3)\">\n",
       "\t\t<text><tspan font-family=\"{}\">150</tspan></text>\n",
       "\t</g>\n",
       "</g>\n",
       "<g color=\"black\" fill=\"none\" stroke=\"currentColor\" stroke-linecap=\"butt\" stroke-linejoin=\"miter\" stroke-width=\"0.50\">\n",
       "\t<path d=\"M298.6,384.0 L298.6,371.5 M298.6,18.1 L298.6,30.6  \" stroke=\"black\"/>\t<g fill=\"rgb(0,0,0)\" font-family=\"{}\" font-size=\"10.00\" stroke=\"none\" text-anchor=\"middle\" transform=\"translate(298.6,405.3)\">\n",
       "\t\t<text><tspan font-family=\"{}\">200</tspan></text>\n",
       "\t</g>\n",
       "</g>\n",
       "<g color=\"black\" fill=\"none\" stroke=\"currentColor\" stroke-linecap=\"butt\" stroke-linejoin=\"miter\" stroke-width=\"0.50\">\n",
       "\t<path d=\"M357.7,384.0 L357.7,371.5 M357.7,18.1 L357.7,30.6  \" stroke=\"black\"/>\t<g fill=\"rgb(0,0,0)\" font-family=\"{}\" font-size=\"10.00\" stroke=\"none\" text-anchor=\"middle\" transform=\"translate(357.7,405.3)\">\n",
       "\t\t<text><tspan font-family=\"{}\">250</tspan></text>\n",
       "\t</g>\n",
       "</g>\n",
       "<g color=\"black\" fill=\"none\" stroke=\"currentColor\" stroke-linecap=\"butt\" stroke-linejoin=\"miter\" stroke-width=\"0.50\">\n",
       "\t<path d=\"M416.8,384.0 L416.8,371.5 M416.8,18.1 L416.8,30.6  \" stroke=\"black\"/>\t<g fill=\"rgb(0,0,0)\" font-family=\"{}\" font-size=\"10.00\" stroke=\"none\" text-anchor=\"middle\" transform=\"translate(416.8,405.3)\">\n",
       "\t\t<text><tspan font-family=\"{}\">300</tspan></text>\n",
       "\t</g>\n",
       "</g>\n",
       "<g color=\"black\" fill=\"none\" stroke=\"currentColor\" stroke-linecap=\"butt\" stroke-linejoin=\"miter\" stroke-width=\"0.50\">\n",
       "\t<path d=\"M475.9,384.0 L475.9,371.5 M475.9,18.1 L475.9,30.6  \" stroke=\"black\"/>\t<g fill=\"rgb(0,0,0)\" font-family=\"{}\" font-size=\"10.00\" stroke=\"none\" text-anchor=\"middle\" transform=\"translate(475.9,405.3)\">\n",
       "\t\t<text><tspan font-family=\"{}\">350</tspan></text>\n",
       "\t</g>\n",
       "</g>\n",
       "<g color=\"black\" fill=\"none\" stroke=\"currentColor\" stroke-linecap=\"butt\" stroke-linejoin=\"miter\" stroke-width=\"0.50\">\n",
       "\t<path d=\"M535.0,384.0 L535.0,371.5 M535.0,18.1 L535.0,30.6  \" stroke=\"black\"/>\t<g fill=\"rgb(0,0,0)\" font-family=\"{}\" font-size=\"10.00\" stroke=\"none\" text-anchor=\"middle\" transform=\"translate(535.0,405.3)\">\n",
       "\t\t<text><tspan font-family=\"{}\">400</tspan></text>\n",
       "\t</g>\n",
       "</g>\n",
       "<g color=\"black\" fill=\"none\" stroke=\"currentColor\" stroke-linecap=\"butt\" stroke-linejoin=\"miter\" stroke-width=\"0.50\">\n",
       "</g>\n",
       "<g color=\"black\" fill=\"none\" stroke=\"currentColor\" stroke-linecap=\"butt\" stroke-linejoin=\"miter\" stroke-width=\"0.50\">\n",
       "\t<path d=\"M62.2,18.1 L62.2,384.0 L535.0,384.0 L535.0,18.1 L62.2,18.1 Z  \" stroke=\"black\"/></g>\n",
       "<g color=\"black\" fill=\"none\" stroke=\"currentColor\" stroke-linecap=\"butt\" stroke-linejoin=\"miter\" stroke-width=\"0.50\">\n",
       "</g>\n",
       "\t<g id=\"gnuplot_plot_1a\"><title>gnuplot_plot_1a</title>\n",
       "<g color=\"black\" fill=\"none\" stroke=\"currentColor\" stroke-linecap=\"butt\" stroke-linejoin=\"miter\" stroke-width=\"0.50\">\n",
       "\t<path d=\"M63.4,47.9 L64.6,54.5 L65.7,61.0 L66.9,67.3 L68.1,73.5 L69.3,79.6 L70.5,85.5 L71.7,91.4   L72.8,97.1 L74.0,102.6 L75.2,108.1 L76.4,113.5 L77.6,118.7 L78.7,123.9 L79.9,128.9 L81.1,133.8   L82.3,138.6 L83.5,143.4 L84.7,148.0 L85.8,152.5 L87.0,157.0 L88.2,161.3 L89.4,165.6 L90.6,169.8   L91.8,173.9 L92.9,177.9 L94.1,181.8 L95.3,185.6 L96.5,189.4 L97.7,193.1 L98.8,196.7 L100.0,200.2   L101.2,203.7 L102.4,207.1 L103.6,210.4 L104.8,213.6 L105.9,216.8 L107.1,219.9 L108.3,223.0 L109.5,226.0   L110.7,228.9 L111.8,231.8 L113.0,234.6 L114.2,237.4 L115.4,240.1 L116.6,242.7 L117.8,245.3 L118.9,247.9   L120.1,250.4 L121.3,252.8 L122.5,255.2 L123.7,257.5 L124.8,259.8 L126.0,262.1 L127.2,264.3 L128.4,266.4   L129.6,268.5 L130.8,270.6 L131.9,272.6 L133.1,274.6 L134.3,276.6 L135.5,278.5 L136.7,280.4 L137.8,282.2   L139.0,284.0 L140.2,285.7 L141.4,287.5 L142.6,289.2 L143.8,290.8 L144.9,292.4 L146.1,294.0 L147.3,295.6   L148.5,297.1 L149.7,298.6 L150.9,300.1 L152.0,301.5 L153.2,302.9 L154.4,304.3 L155.6,305.6 L156.8,306.9   L157.9,308.2 L159.1,309.5 L160.3,310.8 L161.5,312.0 L162.7,313.2 L163.9,314.3 L165.0,315.5 L166.2,316.6   L167.4,317.7 L168.6,318.8 L169.8,319.9 L170.9,320.9 L172.1,321.9 L173.3,322.9 L174.5,323.9 L175.7,324.8   L176.9,325.8 L178.0,326.7 L179.2,327.6 L180.4,328.5 L181.6,329.3 L182.8,330.2 L183.9,331.0 L185.1,331.8   L186.3,332.6 L187.5,333.4 L188.7,334.2 L189.9,334.9 L191.0,335.7 L192.2,336.4 L193.4,337.1 L194.6,337.8   L195.8,338.5 L196.9,339.2 L198.1,339.8 L199.3,340.4 L200.5,341.1 L201.7,341.7 L202.9,342.3 L204.0,342.9   L205.2,343.5 L206.4,344.0 L207.6,344.6 L208.8,345.1 L210.0,345.7 L211.1,346.2 L212.3,346.7 L213.5,347.2   L214.7,347.7 L215.9,348.2 L217.0,348.7 L218.2,349.1 L219.4,349.6 L220.6,350.0 L221.8,350.5 L223.0,350.9   L224.1,351.3 L225.3,351.8 L226.5,352.2 L227.7,352.6 L228.9,352.9 L230.0,353.3 L231.2,353.7 L232.4,354.1   L233.6,354.4 L234.8,354.8 L236.0,355.1 L237.1,355.5 L238.3,355.8 L239.5,356.1 L240.7,356.5 L241.9,356.8   L243.0,357.1 L244.2,357.4 L245.4,357.7 L246.6,358.0 L247.8,358.2 L249.0,358.5 L250.1,358.8 L251.3,359.1   L252.5,359.3 L253.7,359.6 L254.9,359.8 L256.0,360.1 L257.2,360.3 L258.4,360.6 L259.6,360.8 L260.8,361.0   L262.0,361.3 L263.1,361.5 L264.3,361.7 L265.5,361.9 L266.7,362.1 L267.9,362.3 L269.1,362.5 L270.2,362.7   L271.4,362.9 L272.6,363.1 L273.8,363.3 L275.0,363.5 L276.1,363.6 L277.3,363.8 L278.5,364.0 L279.7,364.2   L280.9,364.3 L282.1,364.5 L283.2,364.7 L284.4,364.8 L285.6,365.0 L286.8,365.1 L288.0,365.3 L289.1,365.4   L290.3,365.5 L291.5,365.7 L292.7,365.8 L293.9,366.0 L295.1,366.1 L296.2,366.2 L297.4,366.3 L298.6,366.5   L299.8,366.6 L301.0,366.7 L302.1,366.8 L303.3,366.9 L304.5,367.0 L305.7,367.2 L306.9,367.3 L308.1,367.4   L309.2,367.5 L310.4,367.6 L311.6,367.7 L312.8,367.8 L314.0,367.9 L315.1,368.0 L316.3,368.1 L317.5,368.2   L318.7,368.2 L319.9,368.3 L321.1,368.4 L322.2,368.5 L323.4,368.6 L324.6,368.7 L325.8,368.7 L327.0,368.8   L328.2,368.9 L329.3,369.0 L330.5,369.0 L331.7,369.1 L332.9,369.2 L334.1,369.3 L335.2,369.3 L336.4,369.4   L337.6,369.5 L338.8,369.5 L340.0,369.6 L341.2,369.7 L342.3,369.7 L343.5,369.8 L344.7,369.8 L345.9,369.9   L347.1,370.0 L348.2,370.0 L349.4,370.1 L350.6,370.1 L351.8,370.2 L353.0,370.2 L354.2,370.3 L355.3,370.3   L356.5,370.4 L357.7,370.4 L358.9,370.5 L360.1,370.5 L361.2,370.6 L362.4,370.6 L363.6,370.7 L364.8,370.7   L366.0,370.7 L367.2,370.8 L368.3,370.8 L369.5,370.9 L370.7,370.9 L371.9,370.9 L373.1,371.0 L374.2,371.0   L375.4,371.1 L376.6,371.1 L377.8,371.1 L379.0,371.2 L380.2,371.2 L381.3,371.2 L382.5,371.3 L383.7,371.3   L384.9,371.3 L386.1,371.4 L387.3,371.4 L388.4,371.4 L389.6,371.5 L390.8,371.5 L392.0,371.5 L393.2,371.5   L394.3,371.6 L395.5,371.6 L396.7,371.6 L397.9,371.6 L399.1,371.7 L400.3,371.7 L401.4,371.7 L402.6,371.7   L403.8,371.8 L405.0,371.8 L406.2,371.8 L407.3,371.8 L408.5,371.9 L409.7,371.9 L410.9,371.9 L412.1,371.9   L413.3,371.9 L414.4,372.0 L415.6,372.0 L416.8,372.0 L418.0,372.0 L419.2,372.0 L420.3,372.1 L421.5,372.1   L422.7,372.1 L423.9,372.1 L425.1,372.1 L426.3,372.2 L427.4,372.2 L428.6,372.2 L429.8,372.2 L431.0,372.2   L432.2,372.2 L433.3,372.3 L434.5,372.3 L435.7,372.3 L436.9,372.3 L438.1,372.3 L439.3,372.3 L440.4,372.3   L441.6,372.4 L442.8,372.4 L444.0,372.4 L445.2,372.4 L446.4,372.4 L447.5,372.4 L448.7,372.4 L449.9,372.4   L451.1,372.5 L452.3,372.5 L453.4,372.5 L454.6,372.5 L455.8,372.5 L457.0,372.5 L458.2,372.5 L459.4,372.5   L460.5,372.6 L461.7,372.6 L462.9,372.6 L464.1,372.6 L465.3,372.6 L466.4,372.6 L467.6,372.6 L468.8,372.6   L470.0,372.6 L471.2,372.6 L472.4,372.6 L473.5,372.7 L474.7,372.7 L475.9,372.7 L477.1,372.7 L478.3,372.7   L479.4,372.7 L480.6,372.7 L481.8,372.7 L483.0,372.7 L484.2,372.7 L485.4,372.7 L486.5,372.7 L487.7,372.8   L488.9,372.8 L490.1,372.8 L491.3,372.8 L492.4,372.8 L493.6,372.8 L494.8,372.8 L496.0,372.8 L497.2,372.8   L498.4,372.8 L499.5,372.8 L500.7,372.8 L501.9,372.8 L503.1,372.8 L504.3,372.8 L505.5,372.9 L506.6,372.9   L507.8,372.9 L509.0,372.9 L510.2,372.9 L511.4,372.9 L512.5,372.9 L513.7,372.9 L514.9,372.9 L516.1,372.9   L517.3,372.9 L518.5,372.9 L519.6,372.9 L520.8,372.9 L522.0,372.9 L523.2,372.9 L524.4,372.9 L525.5,372.9   L526.7,372.9 L527.9,373.0 L529.1,373.0 L530.3,373.0 L531.5,373.0 L532.6,373.0 L533.8,373.0 L535.0,373.0    \" stroke=\"rgb(  0,   0, 255)\"/></g>\n",
       "\t</g>\n",
       "<g color=\"white\" fill=\"none\" stroke=\"rgb(  0,   0, 255)\" stroke-linecap=\"butt\" stroke-linejoin=\"miter\" stroke-width=\"2.00\">\n",
       "</g>\n",
       "<g color=\"black\" fill=\"none\" stroke=\"currentColor\" stroke-linecap=\"butt\" stroke-linejoin=\"miter\" stroke-width=\"2.00\">\n",
       "</g>\n",
       "<g color=\"black\" fill=\"none\" stroke=\"black\" stroke-linecap=\"butt\" stroke-linejoin=\"miter\" stroke-width=\"0.50\">\n",
       "</g>\n",
       "<g color=\"black\" fill=\"none\" stroke=\"currentColor\" stroke-linecap=\"butt\" stroke-linejoin=\"miter\" stroke-width=\"0.50\">\n",
       "</g>\n",
       "</g>\n",
       "</svg>"
      ],
      "text/plain": [
       "<IPython.core.display.SVG object>"
      ]
     },
     "metadata": {},
     "output_type": "display_data"
    }
   ],
   "source": [
    "plot(1:400, J_history)"
   ]
  },
  {
   "cell_type": "code",
   "execution_count": 26,
   "metadata": {},
   "outputs": [
    {
     "name": "stdout",
     "output_type": "stream",
     "text": [
      "Predicted price of a 1650 sq-ft, 3 br house (using gradient descent):\n",
      " $289314.620338\n"
     ]
    }
   ],
   "source": [
    "x1 = [1 1650 3];\n",
    "x1(2) = (x1(2) - mu(1))/sigma(1);\n",
    "x1(3) = (x1(3) - mu(2))/sigma(2);\n",
    "price = x1 * theta;\n",
    "% ============================================================\n",
    "\n",
    "fprintf(['Predicted price of a 1650 sq-ft, 3 br house ' ...\n",
    "         '(using gradient descent):\\n $%f\\n'], price);"
   ]
  },
  {
   "cell_type": "markdown",
   "metadata": {},
   "source": [
    "### Normal Equations\n",
    "利用 Noraml Equations 就不需要进行 features scaling 了。"
   ]
  },
  {
   "cell_type": "code",
   "execution_count": 28,
   "metadata": {},
   "outputs": [],
   "source": [
    "data = load('ex1data2.txt');\n",
    "[m, n] = size(data);\n",
    "x = data(:, 1:n-1);\n",
    "X = [ones(m, 1) x];\n",
    "y = data(:, n);\n",
    "theta = pinv(X' * X) * X' * y;\n"
   ]
  },
  {
   "cell_type": "code",
   "execution_count": 29,
   "metadata": {},
   "outputs": [
    {
     "name": "stdout",
     "output_type": "stream",
     "text": [
      "Theta computed from gradient descent: \n",
      " 89597.909544 \n",
      " 139.210674 \n",
      " -8738.019113 \n",
      "\n"
     ]
    }
   ],
   "source": [
    "% Display gradient descent's result\n",
    "fprintf('Theta computed from gradient descent: \\n');\n",
    "fprintf(' %f \\n', theta);\n",
    "fprintf('\\n');"
   ]
  },
  {
   "cell_type": "code",
   "execution_count": 30,
   "metadata": {},
   "outputs": [
    {
     "name": "stdout",
     "output_type": "stream",
     "text": [
      "Predicted price of a 1650 sq-ft, 3 br house (using gradient descent):\n",
      " $293081.464335\n"
     ]
    }
   ],
   "source": [
    "x1 = [1 1650 3];\n",
    "price = x1 * theta;\n",
    "% ============================================================\n",
    "\n",
    "fprintf(['Predicted price of a 1650 sq-ft, 3 br house ' ...\n",
    "         '(using gradient descent):\\n $%f\\n'], price);"
   ]
  }
 ],
 "metadata": {
  "kernelspec": {
   "display_name": "Python 3",
   "language": "python",
   "name": "python3"
  },
  "language_info": {
   "codemirror_mode": {
    "name": "ipython",
    "version": 3
   },
   "file_extension": ".py",
   "mimetype": "text/x-python",
   "name": "python",
   "nbconvert_exporter": "python",
   "pygments_lexer": "ipython3",
   "version": "3.7.2"
  }
 },
 "nbformat": 4,
 "nbformat_minor": 2
}
