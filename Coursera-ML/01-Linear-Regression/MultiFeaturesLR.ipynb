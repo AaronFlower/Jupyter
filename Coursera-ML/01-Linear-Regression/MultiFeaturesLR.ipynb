{
 "cells": [
  {
   "cell_type": "markdown",
   "metadata": {},
   "source": [
    "## 经典的预测房价的问题"
   ]
  },
  {
   "cell_type": "code",
   "execution_count": 1,
   "metadata": {},
   "outputs": [
    {
     "name": "stdout",
     "output_type": "stream",
     "text": [
      "     Feets   Bedrooms   Price\n",
      "     2104        3   399900\n",
      "     1600        3   329900\n",
      "     2400        3   369000\n",
      "     1416        2   232000\n",
      "     3000        4   539900\n"
     ]
    }
   ],
   "source": [
    "data = load('ex1data2.txt');\n",
    "disp ('     Feets   Bedrooms   Price');\n",
    "disp(data(1:5, :));"
   ]
  },
  {
   "cell_type": "code",
   "execution_count": 2,
   "metadata": {},
   "outputs": [],
   "source": [
    "% feature normalize\n",
    "function [X, mu, sigma] = featureNormalize(X)\n",
    "    mu = mean(X);\n",
    "    sigma = std(X);\n",
    "    n = size(X, 2);\n",
    "    \n",
    "    for i = 1:n\n",
    "        X(:,i) = (X(:, i) - mu(i)) / sigma(i);\n",
    "    end\n",
    "end\n",
    "% compute cost function\n",
    "function J = computeCost(X, y, theta)\n",
    "    m = length(y);\n",
    "    diff = X * theta - y;\n",
    "    J = diff' * diff / (2 * m);\n",
    "end\n",
    "\n",
    "% gradient desent\n",
    "function [theta, J_history] = gradientDescent(X, y, theta, alpha, num_iters)\n",
    "    m = length(y);\n",
    "    J_history = zeros(num_iters, 1);\n",
    "    \n",
    "    for i = 1:num_iters\n",
    "        diff = X * theta - y;\n",
    "        theta = theta - alpha * X' * diff / m;\n",
    "        J_history(i) = computeCost(X, y, theta);\n",
    "    end\n",
    "end  "
   ]
  },
  {
   "cell_type": "code",
   "execution_count": 3,
   "metadata": {},
   "outputs": [
    {
     "name": "stdout",
     "output_type": "stream",
     "text": [
      "Theta computed from gradient descent: \n",
      " 334302.063993 \n",
      " 100087.116006 \n",
      " 3673.548451 \n",
      "\n"
     ]
    }
   ],
   "source": [
    "[m, n] = size(data);\n",
    "\n",
    "x = data(:, 1:n-1);\n",
    "y = data(:, n);\n",
    "\n",
    "[nX, mu, sigma] = featureNormalize(x);\n",
    "\n",
    "X = [ones(m, 1), nX];\n",
    "alpha = 0.01;\n",
    "num_iters = 400;\n",
    "theta = zeros(n, 1);\n",
    "computeCost(X, y, theta);\n",
    "[theta, J_history] = gradientDescent(X, y, theta, alpha, num_iters);\n",
    "% Display gradient descent's result\n",
    "fprintf('Theta computed from gradient descent: \\n');\n",
    "fprintf(' %f \\n', theta);\n",
    "fprintf('\\n');"
   ]
  },
  {
   "cell_type": "code",
   "execution_count": 4,
   "metadata": {},
   "outputs": [
    {
     "name": "stdout",
     "output_type": "stream",
     "text": [
      "Unable to revert mtime: /Library/Fonts\n"
     ]
    },
    {
     "data": {
      "image/png": "[encoded data removed]",
      "text/plain": [
       "<IPython.core.display.Image object>"
      ]
     },
     "metadata": {},
     "output_type": "display_data"
    }
   ],
   "source": [
    "plot(1:400, J_history)"
   ]
  },
  {
   "cell_type": "code",
   "execution_count": 5,
   "metadata": {},
   "outputs": [
    {
     "name": "stdout",
     "output_type": "stream",
     "text": [
      "Predicted price of a 1650 sq-ft, 3 br house (using gradient descent):\n",
      " $289314.620338\n"
     ]
    }
   ],
   "source": [
    "x1 = [1 1650 3];\n",
    "x1(2) = (x1(2) - mu(1))/sigma(1);\n",
    "x1(3) = (x1(3) - mu(2))/sigma(2);\n",
    "price = x1 * theta;\n",
    "% ============================================================\n",
    "\n",
    "fprintf(['Predicted price of a 1650 sq-ft, 3 br house ' ...\n",
    "         '(using gradient descent):\\n $%f\\n'], price);"
   ]
  },
  {
   "cell_type": "markdown",
   "metadata": {},
   "source": [
    "### Normal Equations\n",
    "利用 Noraml Equations 就不需要进行 features scaling 了。"
   ]
  },
  {
   "cell_type": "code",
   "execution_count": 6,
   "metadata": {},
   "outputs": [],
   "source": [
    "data = load('ex1data2.txt');\n",
    "[m, n] = size(data);\n",
    "x = data(:, 1:n-1);\n",
    "X = [ones(m, 1) x];\n",
    "y = data(:, n);\n",
    "theta = pinv(X' * X) * X' * y;\n"
   ]
  },
  {
   "cell_type": "code",
   "execution_count": 7,
   "metadata": {},
   "outputs": [
    {
     "name": "stdout",
     "output_type": "stream",
     "text": [
      "Theta computed from gradient descent: \n",
      " 89597.909542 \n",
      " 139.210674 \n",
      " -8738.019112 \n",
      "\n"
     ]
    }
   ],
   "source": [
    "% Display gradient descent's result\n",
    "fprintf('Theta computed from gradient descent: \\n');\n",
    "fprintf(' %f \\n', theta);\n",
    "fprintf('\\n');"
   ]
  },
  {
   "cell_type": "code",
   "execution_count": 8,
   "metadata": {},
   "outputs": [
    {
     "name": "stdout",
     "output_type": "stream",
     "text": [
      "Predicted price of a 1650 sq-ft, 3 br house (using gradient descent):\n",
      " $293081.464335\n"
     ]
    }
   ],
   "source": [
    "x1 = [1 1650 3];\n",
    "price = x1 * theta;\n",
    "% ============================================================\n",
    "\n",
    "fprintf(['Predicted price of a 1650 sq-ft, 3 br house ' ...\n",
    "         '(using gradient descent):\\n $%f\\n'], price);"
   ]
  }
 ],
 "metadata": {
  "kernelspec": {
   "display_name": "Octave",
   "language": "octave",
   "name": "octave"
  },
  "language_info": {
   "file_extension": ".m",
   "help_links": [
    {
     "text": "GNU Octave",
     "url": "https://www.gnu.org/software/octave/support.html"
    },
    {
     "text": "Octave Kernel",
     "url": "https://github.com/Calysto/octave_kernel"
    },
    {
     "text": "MetaKernel Magics",
     "url": "https://metakernel.readthedocs.io/en/latest/source/README.html"
    }
   ],
   "mimetype": "text/x-octave",
   "name": "octave",
   "version": "5.1.0"
  }
 },
 "nbformat": 4,
 "nbformat_minor": 2
}
