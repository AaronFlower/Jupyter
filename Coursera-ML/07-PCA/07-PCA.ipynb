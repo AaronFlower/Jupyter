{
 "cells": [
  {
   "cell_type": "code",
   "execution_count": 20,
   "metadata": {},
   "outputs": [
    {
     "name": "stdout",
     "output_type": "stream",
     "text": [
      "\u001b[H\u001b[2J\n",
      "\u001b[H\u001b[2J\n"
     ]
    }
   ],
   "source": [
    "clc;\n",
    "clear;\n",
    "close all;"
   ]
  },
  {
   "cell_type": "code",
   "execution_count": 21,
   "metadata": {},
   "outputs": [
    {
     "name": "stdout",
     "output_type": "stream",
     "text": [
      "Variables in the current scope:\n",
      "\n",
      "   Attr Name        Size                     Bytes  Class\n",
      "   ==== ====        ====                     =====  ===== \n",
      "        X         300x2                       4800  double\n",
      "\n",
      "Total is 600 elements using 4800 bytes\n",
      "\n"
     ]
    }
   ],
   "source": [
    "load('ex7data2.mat');\n",
    "whos"
   ]
  },
  {
   "cell_type": "code",
   "execution_count": 22,
   "metadata": {},
   "outputs": [],
   "source": [
    "function X_norm = featureNormalize(X)\n",
    "    u = mean(X);\n",
    "\n",
    "    X_norm = bsxfun(@minus, X ,u);\n",
    "    \n",
    "    sigma = std(X_norm);\n",
    "    X_norm = bsxfun(@rdivide, X_norm, sigma);\n",
    "end"
   ]
  },
  {
   "cell_type": "code",
   "execution_count": 24,
   "metadata": {},
   "outputs": [],
   "source": [
    "function [U, S] = pca(X)\n",
    "    m = size(X, 1);\n",
    "    Sigma = (1 / m) * X' * X;\n",
    "    \n",
    "    [U S V] = svd(Sigma);\n",
    "end"
   ]
  },
  {
   "cell_type": "code",
   "execution_count": 26,
   "metadata": {},
   "outputs": [
    {
     "name": "stdout",
     "output_type": "stream",
     "text": [
      "U =\n",
      "\n",
      "  -0.70711   0.70711\n",
      "   0.70711   0.70711\n",
      "\n",
      "S =\n",
      "\n",
      "Diagonal Matrix\n",
      "\n",
      "   1.21774         0\n",
      "         0   0.77560\n",
      "\n"
     ]
    }
   ],
   "source": [
    "X_norm = featureNormalize(X);\n",
    "[U, S] = pca(X_norm)"
   ]
  }
 ],
 "metadata": {
  "kernelspec": {
   "display_name": "Octave",
   "language": "octave",
   "name": "octave"
  },
  "language_info": {
   "file_extension": ".m",
   "help_links": [
    {
     "text": "GNU Octave",
     "url": "https://www.gnu.org/software/octave/support.html"
    },
    {
     "text": "Octave Kernel",
     "url": "https://github.com/Calysto/octave_kernel"
    },
    {
     "text": "MetaKernel Magics",
     "url": "https://metakernel.readthedocs.io/en/latest/source/README.html"
    }
   ],
   "mimetype": "text/x-octave",
   "name": "octave",
   "version": "5.1.0"
  }
 },
 "nbformat": 4,
 "nbformat_minor": 2
}
