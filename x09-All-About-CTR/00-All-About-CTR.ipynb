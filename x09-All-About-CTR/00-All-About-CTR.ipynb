{
 "cells": [
  {
   "cell_type": "markdown",
   "metadata": {},
   "source": [
    "## CTR\n",
    "\n",
    "CTR (click through rate) 点击率预估。\n",
    "\n",
    "### 1. 基本概念\n",
    "\n",
    "1. what is Categorical(Nominal), Ordinal, Interval, Numerical feature?\n",
    "\n",
    "TLDR;\n",
    "\n",
    "- Categorical 也称为 Nominal, 是无序的离散特征。如性别（男，女），肤色（黑，白，黄）\n",
    "- Ordianl 也是离散特征，但是有序。如，学历(专科，本科，硕士）。\n",
    "- Interval 是指一个范围内的离散值，如， 年龄段（0~5， 6~15， 等）。\n",
    "- Numercial 就是连续性的特征了。如，身高等。\n",
    "\n",
    "#### 参考\n",
    "\n",
    "1. [WHAT IS THE DIFFERENCE BETWEEN CATEGORICAL, ORDINAL AND INTERVAL VARIABLES?](https://stats.idre.ucla.edu/other/mult-pkg/whatstat/what-is-the-difference-between-categorical-ordinal-and-interval-variables/)\n",
    "2. [Types of Statistical Data: Numerical, Categorical, and Ordinal](http://scaryscientist.blogspot.com/2015/02/classification-of-data-types.html)\n",
    "\n"
   ]
  },
  {
   "cell_type": "markdown",
   "metadata": {},
   "source": [
    "### 2. 相关学习算法\n",
    "\n",
    "1. LR\n",
    "2. FM\n",
    "3. FFM\n",
    "4. NN\n",
    "5. DeepFM\n",
    "6. DeepFFM\n",
    "7. GBDT, boosting, 随机森林。"
   ]
  },
  {
   "cell_type": "markdown",
   "metadata": {},
   "source": [
    "### 3. 框架图\n",
    "\n",
    "<img src=\"https://images2015.cnblogs.com/blog/46419/201508/46419-20150831154135356-274177022.png\"> \n"
   ]
  },
  {
   "cell_type": "markdown",
   "metadata": {},
   "source": [
    "### 4. Step by Step\n",
    "\n",
    "#### 1. 特征提取\n",
    "\n",
    "#### 2. 特征组合\n",
    "\n",
    "1. FM 系列\n",
    "2. Tree 系列\n",
    "\n",
    "#### 3. LR\n",
    "\n",
    "1. 优化算法——OWL-QN, 这个是 batch 训练的方法，主要用于处理L1正则下的LR最优化。\n",
    "    - L1 正则，\n",
    "    - L2 正则\n",
    "    - BFGS, L-BFGS\n",
    "    \n",
    "2. Online learning(FTRL and Facebook enhancement), 在线学习，及时反馈点击信息，不断演化LR模型，从而为新广告更快收敛。\n",
    "   \n",
    "#### 4. 预测CTR可信吗?\n",
    "\n",
    "#### 5. 修修补补\n",
    "\n",
    "#### 参考\n",
    "1. [程序化广告交易中的点击率预估](https://www.cnblogs.com/Matrix_Yao/p/4773221.html)\n",
    "2. [广告点击率 CTR预估中GBDT与LR融合方案](https://www.cnblogs.com/bnuvincent/p/5166394.html)\n",
    "3. [OWL-QN算法](https://www.cnblogs.com/vivounicorn/archive/2012/06/25/2561071.html)\n",
    "4. [优化算法——OWL-QN](https://cloud.tencent.com/developer/article/1065483)"
   ]
  }
 ],
 "metadata": {
  "kernelspec": {
   "display_name": "Python 3",
   "language": "python",
   "name": "python3"
  },
  "language_info": {
   "codemirror_mode": {
    "name": "ipython",
    "version": 3
   },
   "file_extension": ".py",
   "mimetype": "text/x-python",
   "name": "python",
   "nbconvert_exporter": "python",
   "pygments_lexer": "ipython3",
   "version": "3.7.3"
  }
 },
 "nbformat": 4,
 "nbformat_minor": 2
}
