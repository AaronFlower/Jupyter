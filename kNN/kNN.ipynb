{
 "cells": [
  {
   "cell_type": "markdown",
   "metadata": {},
   "source": [
    "## K-近邻算法 K-Nearest Neighbors\n",
    "简单的说，k-近邻算法采用测量不同特征值之间的距离方法进行分类。\n",
    "即对于输入样本 inX，计算 inX 与训练集中各个样本的距离，然后统计最近 k 个样本的标签，返回占比最多的样本作为结果。"
   ]
  },
  {
   "cell_type": "code",
   "execution_count": 63,
   "metadata": {
    "collapsed": true
   },
   "outputs": [],
   "source": [
    "from numpy import *"
   ]
  },
  {
   "cell_type": "code",
   "execution_count": 64,
   "metadata": {
    "collapsed": false
   },
   "outputs": [],
   "source": [
    "'''\n",
    "k-NN 分类器\n",
    "'''\n",
    "import operator\n",
    "def kNNClassifier(inX, dataSet, labels, k):\n",
    "    m = dataSet.shape[0] # 与 shape(dataSet)[0] 等价。\n",
    "    # 计算输入样本 inX 与训练集中各个样本之间的距离。\n",
    "    diffMat = tile(inX, (m, 1)) - dataSet \n",
    "    squaredMat = diffMat.A ** 2\n",
    "    dists = sum(squaredMat, axis = 1)\n",
    "    sortedDistIndices = dists.argsort() # 使用 argsort 是为了保证与 label 标签保持对应。\n",
    "    countLabels = {}\n",
    "    for i in range(k):\n",
    "        votedLabel = labels[sortedDistIndices[i]]\n",
    "        countLabels[votedLabel] = countLabels.get(votedLabel, 0) + 1\n",
    "    sortedCount = sorted(countLabels.items(), key = operator.itemgetter(1), reverse = True)\n",
    "    return sortedCount[0][0]\n",
    "        \n",
    "    "
   ]
  },
  {
   "cell_type": "code",
   "execution_count": 66,
   "metadata": {
    "collapsed": false
   },
   "outputs": [
    {
     "data": {
      "text/plain": [
       "2"
      ]
     },
     "execution_count": 66,
     "metadata": {},
     "output_type": "execute_result"
    }
   ],
   "source": [
    "# 测试 k-NN 分类\n",
    "dataSet = mat([[1,2],[1,1.5],[3,2],[3,3]])\n",
    "labels = [1,1,2,2]\n",
    "inX = [2,3]\n",
    "kNNClassifier([2,3], dataSet, labels, 2)"
   ]
  }
 ],
 "metadata": {
  "kernelspec": {
   "display_name": "Python 3",
   "language": "python",
   "name": "python3"
  },
  "language_info": {
   "codemirror_mode": {
    "name": "ipython",
    "version": 3
   },
   "file_extension": ".py",
   "mimetype": "text/x-python",
   "name": "python",
   "nbconvert_exporter": "python",
   "pygments_lexer": "ipython3",
   "version": "3.6.0"
  }
 },
 "nbformat": 4,
 "nbformat_minor": 2
}
