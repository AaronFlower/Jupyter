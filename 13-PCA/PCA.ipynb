{
 "cells": [
  {
   "cell_type": "markdown",
   "metadata": {},
   "source": [
    "## PCA\n",
    "\n",
    "PCA (Principal Component Analysis) 主成分析，其主要原理是通过计算特征之间的方差来减少特征的维数（Reducing the dimensionality of the data using its variances）。我们希望在减少维度的同时保留其最大化的方差，在方差和多少维度之间也是一个 trade-off 的过程。\n"
   ]
  },
  {
   "cell_type": "markdown",
   "metadata": {},
   "source": [
    "### 1. 算法\n",
    "\n",
    "####  理论实现：\n",
    "\n",
    "```\n",
    "repeat {\n",
    "    1. 第一个坐标轴选择数据集中方差最大的方向。\n",
    "    2. 第二个坐标轴选择与每一个坐标轴正交的最大方差方向。\n",
    "} 重复次数为原数据集中的特征数。\n",
    "```\n",
    "\n",
    "#### 算法实现\n",
    "\n",
    "1. 计算数据集的协方差矩阵 C。\n",
    "2. 求出 C 的特征值，取出前 k 个最大的特征值就可实现降维。\n",
    "\n",
    "假设数据集 X 有 n 个特征，即对应有 $$X_1, X_2, ..., X_n $$ 个随机变量。则其对应的协方差矩阵为：\n",
    "\n",
    "$$\n",
    "C = (c_{ij})_{n \\times n} = \n",
    "    \\begin{bmatrix} \n",
    "    c_{11} & c_{12} & \\dots \\\\\n",
    "    \\vdots & \\ddots & \\\\\n",
    "    c_{n1} &        & c_{nn} \n",
    "    \\end{bmatrix}\n",
    "$$\n",
    "\n",
    "其中 $$c_{ij} = cov(X_i, X_j) =  E\\{ [X_i - E(X_i)] [X_j - E(X_j)] \\}$$\n",
    "\n",
    "求出 $C$ 的特征值和特征向量矩阵，并按特征值的大小降序排列成 W。（这里可以称之为 whitening 矩阵，用来清除噪声的矩阵）。\n",
    "因为协方差矩阵是一个对称矩阵，所以其特征向量矩阵是正交的，即 $W^T = W^{-1}$。通过下面的式子我们可以得到变换后(Transformation)的矩阵\n",
    "$$ T = XW $$ 而 $$ X = TW^{-1} = TW^T $$。\n",
    "\n",
    "W 矩阵是一个 n * n 的矩阵，如果分析后，可以将 n 降到到 k, 即取 W 的前 k 列进行变化，所以有下面的式子，就可以得到变换后的矩阵。\n",
    "$$ T_{m \\times k} = X_{m \\times n} W_{n \\times k} $$ \n",
    "而根据变换后的矩阵，得到的原矩阵可以用下面的式子（可能会失真， 当 k = n 时就不会失真）。\n",
    "$$ X_{m \\times n} = T_{m \\times k} W^T_{k \\times n} $$。\n",
    "\n",
    "#### 注意\n",
    "1. 一般来说前 k 个特征应覆盖 90% 以上的方差。前 k 个就是 pricinpal component.\n",
    "2. 因为协方差矩阵是对方差十分敏感的，所以在计算协方差矩阵之前，需要对数据进行规一化处理 (normalizing)。\n",
    " \n",
    "例如: 将一个特征单位米 (m) 换算成毫米 (mm) 那么这个特征在计算方差的权重就被放大了 1000 倍，所以要规范化数据。\n",
    "\n",
    "#### 问题\n",
    "如果在计算协方差矩阵的时候，无法一次性将数据加载到内存该怎么办？可以看下 [Incremental Eigenanalysis for Classification](http://citeseerx.ist.psu.edu/viewdoc/download?doi=10.1.1.57.5005&rep=rep1&type=pdf) 这篇论文。"
   ]
  },
  {
   "cell_type": "markdown",
   "metadata": {},
   "source": [
    "### 算法实现\n",
    "将二维数据降至一维。"
   ]
  },
  {
   "cell_type": "code",
   "execution_count": 3,
   "metadata": {},
   "outputs": [],
   "source": [
    "import numpy as np\n",
    "import matplotlib.pyplot as plt"
   ]
  },
  {
   "cell_type": "code",
   "execution_count": 26,
   "metadata": {},
   "outputs": [],
   "source": [
    "def loadData(file, delimiter = '\\t'):\n",
    "    fr = open(file)\n",
    "    data = []\n",
    "    for line in fr.readlines():\n",
    "        lineData = line.strip().split(delimiter)\n",
    "        data.append(list(map(float, lineData)))\n",
    "    fr.close()\n",
    "    return np.mat(data)\n",
    "        "
   ]
  },
  {
   "cell_type": "code",
   "execution_count": 49,
   "metadata": {},
   "outputs": [],
   "source": [
    "def pca(data, topNfeat = 9999999):\n",
    "    # 数据规一化\n",
    "    means = np.mean(data, axis = 0)\n",
    "    data = data - means\n",
    "    \n",
    "    # 计算协方差\n",
    "    covMat = np.cov(data, rowvar = 0) # np.cov 默认是第一行当成一个特征的，这里我们列是一个特征。\n",
    "    \n",
    "    # 计算特征值、特征向量, 并取得前 k 个的最大的特征值。\n",
    "    eigVals, eigVecs = np.linalg.eig(covMat)\n",
    "    eigIndices = np.argsort(eigVals)[::-1]\n",
    "    whitenMat = eigVecs[:, eigIndices[0: topNfeat]]\n",
    "    \n",
    "    # 计算变换后的矩阵，以及从变换后的矩阵重构的矩阵用于调试\n",
    "    transMat = data * whitenMat\n",
    "    reconstrMat = transMat * whitenMat.T + means\n",
    "    \n",
    "    return transMat, reconstrMat "
   ]
  },
  {
   "cell_type": "code",
   "execution_count": 45,
   "metadata": {
    "scrolled": false
   },
   "outputs": [
    {
     "name": "stdout",
     "output_type": "stream",
     "text": [
      "[[ 8.68133   9.665159]\n",
      " [ 8.117695  9.184385]\n",
      " [ 9.534367  8.5399  ]\n",
      " [ 9.703169  9.713803]\n",
      " [ 8.929726  9.255039]\n",
      " [ 8.64048  10.481942]\n",
      " [ 9.299777  9.822688]\n",
      " [ 7.488603  6.343568]\n",
      " [ 9.80885   9.918908]\n",
      " [ 9.474755  9.767924]]\n",
      "[[0.99093562 0.95000645]\n",
      " [0.95000645 1.85237199]]\n",
      "[0.37856684 2.46474077] [[-0.84051366 -0.54179035]\n",
      " [ 0.54179035 -0.84051366]]\n",
      "[0 1]\n",
      "[[-0.84051366 -0.54179035]\n",
      " [ 0.54179035 -0.84051366]]\n",
      "[[-0.84051366 -0.54179035]\n",
      " [ 0.54179035 -0.84051366]]\n",
      "(1000, 2)\n"
     ]
    }
   ],
   "source": [
    "data = loadData('testSet.txt')\n",
    "# fr = open('testSet.txt')\n",
    "# line = fr.readlines()[0]\n",
    "# print(line)\n",
    "# nums = line.strip().split()\n",
    "# list(map(float, nums))\n",
    "# fr.close()\n",
    "data.shape\n",
    "print(data[0:10,:])\n",
    "meanVals = np.mean(data, axis = 0)\n",
    "meanVals\n",
    "data = data - meanVals\n",
    "data[0:10, :]\n",
    "covMat = np.cov(data, rowvar = 0)\n",
    "print(covMat)\n",
    "eigVals, eigVecs = np.linalg.eig(covMat)\n",
    "print(eigVals, eigVecs)\n",
    "print(np.argsort(eigVals))\n",
    "print(eigVecs)\n",
    "print(eigVecs[:, [0, 1]])\n",
    "print(data.shape)"
   ]
  },
  {
   "cell_type": "code",
   "execution_count": 57,
   "metadata": {},
   "outputs": [
    {
     "data": {
      "image/png": "[encoded data removed]",
      "text/plain": [
       "<Figure size 432x288 with 1 Axes>"
      ]
     },
     "metadata": {},
     "output_type": "display_data"
    }
   ],
   "source": [
    "data = loadData('testSet.txt')\n",
    "plt.subplot(1, 1, 1)\n",
    "plt.scatter(data[:, 0].flatten().A[0], data[:, 1].flatten().A[0], marker = '^', s = 90)\n",
    "plt.show()"
   ]
  },
  {
   "cell_type": "code",
   "execution_count": 64,
   "metadata": {},
   "outputs": [
    {
     "data": {
      "image/png": "[encoded data removed]",
      "text/plain": [
       "<Figure size 432x288 with 1 Axes>"
      ]
     },
     "metadata": {},
     "output_type": "display_data"
    }
   ],
   "source": [
    "# 下面的例子是将二维数据降到一维。\n",
    "transData, reconData = pca(data, 1)\n",
    "fig = plt.figure()\n",
    "ax = fig.add_subplot(111)\n",
    "ax.scatter(data[:,0].flatten().A[0], data[:,1].flatten().A[0], marker='^', s=90)\n",
    "ax.scatter(reconData[:,0].flatten().A[0], reconData[:,1].flatten().A[0], marker='o', s=50, c='red')\n",
    "plt.show()"
   ]
  },
  {
   "cell_type": "code",
   "execution_count": 67,
   "metadata": {},
   "outputs": [
    {
     "data": {
      "image/png": "[encoded data removed]",
      "text/plain": [
       "<Figure size 432x288 with 1 Axes>"
      ]
     },
     "metadata": {},
     "output_type": "display_data"
    }
   ],
   "source": [
    "# 下面的例子是将二维数据降到二维， 即不做任何降维。可以看到数据是完全重合的。\n",
    "transData, reconData = pca(data, 2)\n",
    "fig = plt.figure()\n",
    "ax = fig.add_subplot(111)\n",
    "ax.scatter(data[:,0].flatten().A[0], data[:,1].flatten().A[0], marker='^', s=90)\n",
    "ax.scatter(reconData[:,0].flatten().A[0], reconData[:,1].flatten().A[0], marker='o', s=30, c='red')\n",
    "plt.show()"
   ]
  },
  {
   "cell_type": "markdown",
   "metadata": {},
   "source": [
    "## 例子：利用 PCA 对半导体制造数据降维\n",
    "\n",
    "### 1. 缺失值处理\n",
    "因为获得的数据很多值是缺失的 NaN，我们可以用特征的平均数来填充这些值以便我们计算。"
   ]
  },
  {
   "cell_type": "code",
   "execution_count": 113,
   "metadata": {},
   "outputs": [],
   "source": [
    "def replaceNaNWithMean(data):\n",
    "    n = data.shape[1]\n",
    "    for i in range(n):\n",
    "        nanIndices = np.isnan(data[:, i])\n",
    "        mean = np.mean(data[:, i][~nanIndices.A])\n",
    "        data[:, i][nanIndices.A] = mean\n",
    "    return data "
   ]
  },
  {
   "cell_type": "code",
   "execution_count": 137,
   "metadata": {},
   "outputs": [
    {
     "name": "stdout",
     "output_type": "stream",
     "text": [
      "(1567, 590)\n",
      "(590,)\n",
      "[5.34151979e+07 2.17466719e+07 8.24837662e+06 2.07388086e+06\n",
      " 1.31540439e+06 4.67693557e+05 2.90863555e+05 2.83668601e+05\n",
      " 2.37155830e+05 2.08513836e+05 1.96098849e+05 1.86856549e+05\n",
      " 1.52422354e+05 1.13215032e+05 1.08493848e+05 1.02849533e+05\n",
      " 1.00166164e+05 8.33473762e+04 8.15850591e+04 7.76560524e+04\n",
      " 6.66060410e+04 6.52620058e+04 5.96776503e+04 5.16269933e+04\n",
      " 5.03324580e+04 4.54661746e+04 4.41914029e+04 4.15532551e+04\n",
      " 3.55294040e+04 3.31436743e+04 2.67385181e+04 1.47123429e+04\n",
      " 1.44089194e+04 1.09321187e+04 1.04841308e+04 9.48876548e+03\n",
      " 8.34665462e+03 7.22765535e+03 5.34196392e+03 4.95614671e+03\n",
      " 4.23060022e+03 4.10673182e+03 3.41199406e+03 3.24193522e+03\n",
      " 2.74523635e+03 2.35027999e+03 2.16835314e+03 1.86414157e+03\n",
      " 1.76741826e+03 1.70492093e+03]\n"
     ]
    }
   ],
   "source": [
    "sdata = loadData('secom.data', ' ')\n",
    "sdata = replaceNaNWithMean(sdata)\n",
    "covMat = np.cov(sdata, rowvar = 0)\n",
    "eigVals, eigVecs = np.linalg.eig(covMat)\n",
    "# 可以看出只有前 15 个特征才是最重要的。\n",
    "print(sdata.shape)\n",
    "print(eigVals.shape)\n",
    "print(eigVals[0:50])"
   ]
  },
  {
   "cell_type": "markdown",
   "metadata": {},
   "source": [
    "### 绘下前 20 个主成分的总方差占比\n"
   ]
  },
  {
   "cell_type": "code",
   "execution_count": 129,
   "metadata": {},
   "outputs": [
    {
     "data": {
      "image/png": "[encoded data removed]",
      "text/plain": [
       "<Figure size 432x288 with 1 Axes>"
      ]
     },
     "metadata": {},
     "output_type": "display_data"
    }
   ],
   "source": [
    "eigIndices = np.argsort(eigVals)[::-1]\n",
    "sortedVals = eigVals[eigIndices]\n",
    "total = np.sum(sortedVals)\n",
    "varPercentages = sortedVals / total\n",
    "\n",
    "fig = plt.figure()\n",
    "ax = fig.add_subplot(111)\n",
    "ax.plot(range(1, 21), varPercentages[:20], marker = '^')\n",
    "plt.xlabel('Principla Component Number')\n",
    "plt.ylabel('Percentage of variance')\n",
    "plt.show()"
   ]
  },
  {
   "cell_type": "markdown",
   "metadata": {},
   "source": [
    "### 利用 pandas 看下累加方差占比。\n",
    "可以看出，前 6 个特征就可达到 97% 的数据信息。其它的应该都可看成是噪声了，我们可以将 590 维数的数据降到到 6 维，其它压缩比例约为 100:1。好厉害了。"
   ]
  },
  {
   "cell_type": "code",
   "execution_count": 136,
   "metadata": {},
   "outputs": [
    {
     "data": {
      "text/html": [
       "<div>\n",
       "<style scoped>\n",
       "    .dataframe tbody tr th:only-of-type {\n",
       "        vertical-align: middle;\n",
       "    }\n",
       "\n",
       "    .dataframe tbody tr th {\n",
       "        vertical-align: top;\n",
       "    }\n",
       "\n",
       "    .dataframe thead th {\n",
       "        text-align: right;\n",
       "    }\n",
       "</style>\n",
       "<table border=\"1\" class=\"dataframe\">\n",
       "  <thead>\n",
       "    <tr style=\"text-align: right;\">\n",
       "      <th></th>\n",
       "      <th>0</th>\n",
       "      <th>cumulative percentage</th>\n",
       "    </tr>\n",
       "  </thead>\n",
       "  <tbody>\n",
       "    <tr>\n",
       "      <th>0</th>\n",
       "      <td>0.592541</td>\n",
       "      <td>0.592541</td>\n",
       "    </tr>\n",
       "    <tr>\n",
       "      <th>1</th>\n",
       "      <td>0.241238</td>\n",
       "      <td>0.833779</td>\n",
       "    </tr>\n",
       "    <tr>\n",
       "      <th>2</th>\n",
       "      <td>0.091500</td>\n",
       "      <td>0.925279</td>\n",
       "    </tr>\n",
       "    <tr>\n",
       "      <th>3</th>\n",
       "      <td>0.023006</td>\n",
       "      <td>0.948285</td>\n",
       "    </tr>\n",
       "    <tr>\n",
       "      <th>4</th>\n",
       "      <td>0.014592</td>\n",
       "      <td>0.962877</td>\n",
       "    </tr>\n",
       "    <tr>\n",
       "      <th>5</th>\n",
       "      <td>0.005188</td>\n",
       "      <td>0.968065</td>\n",
       "    </tr>\n",
       "    <tr>\n",
       "      <th>6</th>\n",
       "      <td>0.003227</td>\n",
       "      <td>0.971291</td>\n",
       "    </tr>\n",
       "    <tr>\n",
       "      <th>7</th>\n",
       "      <td>0.003147</td>\n",
       "      <td>0.974438</td>\n",
       "    </tr>\n",
       "    <tr>\n",
       "      <th>8</th>\n",
       "      <td>0.002631</td>\n",
       "      <td>0.977069</td>\n",
       "    </tr>\n",
       "    <tr>\n",
       "      <th>9</th>\n",
       "      <td>0.002313</td>\n",
       "      <td>0.979382</td>\n",
       "    </tr>\n",
       "    <tr>\n",
       "      <th>10</th>\n",
       "      <td>0.002175</td>\n",
       "      <td>0.981557</td>\n",
       "    </tr>\n",
       "    <tr>\n",
       "      <th>11</th>\n",
       "      <td>0.002073</td>\n",
       "      <td>0.983630</td>\n",
       "    </tr>\n",
       "    <tr>\n",
       "      <th>12</th>\n",
       "      <td>0.001691</td>\n",
       "      <td>0.985321</td>\n",
       "    </tr>\n",
       "    <tr>\n",
       "      <th>13</th>\n",
       "      <td>0.001256</td>\n",
       "      <td>0.986577</td>\n",
       "    </tr>\n",
       "    <tr>\n",
       "      <th>14</th>\n",
       "      <td>0.001204</td>\n",
       "      <td>0.987780</td>\n",
       "    </tr>\n",
       "    <tr>\n",
       "      <th>15</th>\n",
       "      <td>0.001141</td>\n",
       "      <td>0.988921</td>\n",
       "    </tr>\n",
       "    <tr>\n",
       "      <th>16</th>\n",
       "      <td>0.001111</td>\n",
       "      <td>0.990033</td>\n",
       "    </tr>\n",
       "    <tr>\n",
       "      <th>17</th>\n",
       "      <td>0.000925</td>\n",
       "      <td>0.990957</td>\n",
       "    </tr>\n",
       "    <tr>\n",
       "      <th>18</th>\n",
       "      <td>0.000905</td>\n",
       "      <td>0.991862</td>\n",
       "    </tr>\n",
       "    <tr>\n",
       "      <th>19</th>\n",
       "      <td>0.000861</td>\n",
       "      <td>0.992724</td>\n",
       "    </tr>\n",
       "  </tbody>\n",
       "</table>\n",
       "</div>"
      ],
      "text/plain": [
       "           0  cumulative percentage\n",
       "0   0.592541               0.592541\n",
       "1   0.241238               0.833779\n",
       "2   0.091500               0.925279\n",
       "3   0.023006               0.948285\n",
       "4   0.014592               0.962877\n",
       "5   0.005188               0.968065\n",
       "6   0.003227               0.971291\n",
       "7   0.003147               0.974438\n",
       "8   0.002631               0.977069\n",
       "9   0.002313               0.979382\n",
       "10  0.002175               0.981557\n",
       "11  0.002073               0.983630\n",
       "12  0.001691               0.985321\n",
       "13  0.001256               0.986577\n",
       "14  0.001204               0.987780\n",
       "15  0.001141               0.988921\n",
       "16  0.001111               0.990033\n",
       "17  0.000925               0.990957\n",
       "18  0.000905               0.991862\n",
       "19  0.000861               0.992724"
      ]
     },
     "execution_count": 136,
     "metadata": {},
     "output_type": "execute_result"
    }
   ],
   "source": [
    "import pandas as pd\n",
    "\n",
    "df = pd.DataFrame(varPercentages)\n",
    "df.head()\n",
    "df['cumulative percentage'] = df.cumsum()\n",
    "df.head(20)"
   ]
  }
 ],
 "metadata": {
  "kernelspec": {
   "display_name": "Python 3",
   "language": "python",
   "name": "python3"
  },
  "language_info": {
   "codemirror_mode": {
    "name": "ipython",
    "version": 3
   },
   "file_extension": ".py",
   "mimetype": "text/x-python",
   "name": "python",
   "nbconvert_exporter": "python",
   "pygments_lexer": "ipython3",
   "version": "3.7.0"
  }
 },
 "nbformat": 4,
 "nbformat_minor": 2
}
