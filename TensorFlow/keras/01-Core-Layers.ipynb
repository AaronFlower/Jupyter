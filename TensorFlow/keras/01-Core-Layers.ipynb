{
 "cells": [
  {
   "cell_type": "markdown",
   "metadata": {},
   "source": [
    "## Core Layers\n",
    "\n",
    "- Dense, 就是我们的 NN 的连接层。\n",
    "\n",
    "```\n",
    "keras.layers.Dense(\n",
    "    units, \n",
    "    activation=None, \n",
    "    use_bias=True, \n",
    "    kernel_initializer='glorot_uniform',\n",
    "    bias_initializer='zeros', \n",
    "    kernel_regularizer=None, \n",
    "    bias_regularizer=None, \n",
    "    activity_regularizer=None, \n",
    "    kernel_constraint=None, \n",
    "    bias_constraint=None)\n",
    "```\n",
    "\n",
    "- Activation, 应用一个激活函数，作为输出。\n",
    "\n",
    "```\n",
    "keras.layers.Activation(activation)\n",
    "```\n",
    "\n",
    "- Dropout, Drop 层。\n",
    "\n",
    "```\n",
    "keras.layers.Dropout(rate, noise_shape=None, seed=None)\n",
    "```\n",
    "\n",
    "- Flatten\n",
    "\n",
    "```\n",
    "keras.layers.Flatten(data_format=None)\n",
    "```\n",
    "\n",
    "- Input\n",
    "\n",
    "```\n",
    "keras.engine.input_layer.Input()\n",
    "```\n",
    "\n",
    "用来实例化一个 Keras tensor."
   ]
  }
 ],
 "metadata": {
  "kernelspec": {
   "display_name": "Python 3",
   "language": "python",
   "name": "python3"
  },
  "language_info": {
   "codemirror_mode": {
    "name": "ipython",
    "version": 3
   },
   "file_extension": ".py",
   "mimetype": "text/x-python",
   "name": "python",
   "nbconvert_exporter": "python",
   "pygments_lexer": "ipython3",
   "version": "3.7.4"
  }
 },
 "nbformat": 4,
 "nbformat_minor": 2
}
