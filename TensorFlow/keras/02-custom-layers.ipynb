{
 "cells": [
  {
   "cell_type": "markdown",
   "metadata": {},
   "source": [
    "## 自定义 Layer \n",
    "\n",
    "我们可以通过继承 `tf.keras.Layer` 类来实现的自定义层。当然我们需要实现下面三个方法：\n",
    "\n",
    "- `__init__`: 初始化\n",
    "- `build`: 本层的参数初始化, 用于创建 variables 参数。当然我们也可以在 `__init__` 中创建，但是在 build 中创建可延迟创建。\n",
    "- `call`: 在 call 中实现前向计算。\n",
    "\n",
    "下面的例子，我们在 call 方法中调用了 `tf.matmul` 来实现 FP。"
   ]
  },
  {
   "cell_type": "code",
   "execution_count": 1,
   "metadata": {},
   "outputs": [],
   "source": [
    "import tensorflow as tf\n",
    "from tensorflow import keras"
   ]
  },
  {
   "cell_type": "code",
   "execution_count": 2,
   "metadata": {},
   "outputs": [],
   "source": [
    "class MyDenseLayer(keras.layers.Layer):\n",
    "    \n",
    "    def __init__(self, num_outputs):\n",
    "        super(MyDenseLayer, self).__init__()\n",
    "        self.num_outputs = num_outputs\n",
    "    \n",
    "    def build(self, input_shape):\n",
    "        self.kernel = self.add_variable(\n",
    "            'kernel', \n",
    "            shape=[int(input_shape[-1]), self.num_outputs]\n",
    "        )\n",
    "        \n",
    "    def call(self, input):\n",
    "        return tf.matmul(input, self.kernel)"
   ]
  },
  {
   "cell_type": "code",
   "execution_count": 6,
   "metadata": {},
   "outputs": [
    {
     "name": "stdout",
     "output_type": "stream",
     "text": [
      "tf.Tensor(\n",
      "[[0. 0. 0. 0. 0. 0. 0. 0. 0. 0.]\n",
      " [0. 0. 0. 0. 0. 0. 0. 0. 0. 0.]\n",
      " [0. 0. 0. 0. 0. 0. 0. 0. 0. 0.]\n",
      " [0. 0. 0. 0. 0. 0. 0. 0. 0. 0.]\n",
      " [0. 0. 0. 0. 0. 0. 0. 0. 0. 0.]\n",
      " [0. 0. 0. 0. 0. 0. 0. 0. 0. 0.]\n",
      " [0. 0. 0. 0. 0. 0. 0. 0. 0. 0.]\n",
      " [0. 0. 0. 0. 0. 0. 0. 0. 0. 0.]\n",
      " [0. 0. 0. 0. 0. 0. 0. 0. 0. 0.]\n",
      " [0. 0. 0. 0. 0. 0. 0. 0. 0. 0.]], shape=(10, 10), dtype=float32)\n"
     ]
    }
   ],
   "source": [
    "layer = MyDenseLayer(10)\n",
    "print(layer(tf.zeros([10, 5])))"
   ]
  },
  {
   "cell_type": "code",
   "execution_count": 8,
   "metadata": {},
   "outputs": [
    {
     "name": "stdout",
     "output_type": "stream",
     "text": [
      "[<tf.Variable 'my_dense_layer_3/kernel:0' shape=(5, 10) dtype=float32, numpy=\n",
      "array([[ 0.27690303,  0.50965995, -0.20736629,  0.11878991,  0.5912917 ,\n",
      "        -0.28969958, -0.24481192,  0.01447201, -0.16940105,  0.01887351],\n",
      "       [-0.12437528,  0.1136288 ,  0.5395861 ,  0.40884382, -0.58653873,\n",
      "        -0.45170894, -0.47930998, -0.6269844 ,  0.57022804,  0.3909331 ],\n",
      "       [-0.3814115 ,  0.49193782,  0.35832113,  0.40289456, -0.15691134,\n",
      "         0.5845035 ,  0.46006674,  0.44904023,  0.38020808, -0.4454969 ],\n",
      "       [-0.08192688, -0.534907  , -0.53095317,  0.5481878 , -0.5520864 ,\n",
      "        -0.06580305, -0.18820325,  0.50080425, -0.1010533 , -0.14325225],\n",
      "       [-0.04376864, -0.41920182,  0.5421857 ,  0.11240715,  0.30562395,\n",
      "        -0.09442234,  0.4621666 , -0.21266186,  0.09309238, -0.29268822]],\n",
      "      dtype=float32)>]\n"
     ]
    }
   ],
   "source": [
    "print(layer.trainable_variables)"
   ]
  },
  {
   "cell_type": "code",
   "execution_count": 14,
   "metadata": {
    "collapsed": true
   },
   "outputs": [
    {
     "data": {
      "text/plain": [
       "<tf.Variable 'my_dense_layer_3/kernel:0' shape=(5, 10) dtype=float32, numpy=\n",
       "array([[ 0.27690303,  0.50965995, -0.20736629,  0.11878991,  0.5912917 ,\n",
       "        -0.28969958, -0.24481192,  0.01447201, -0.16940105,  0.01887351],\n",
       "       [-0.12437528,  0.1136288 ,  0.5395861 ,  0.40884382, -0.58653873,\n",
       "        -0.45170894, -0.47930998, -0.6269844 ,  0.57022804,  0.3909331 ],\n",
       "       [-0.3814115 ,  0.49193782,  0.35832113,  0.40289456, -0.15691134,\n",
       "         0.5845035 ,  0.46006674,  0.44904023,  0.38020808, -0.4454969 ],\n",
       "       [-0.08192688, -0.534907  , -0.53095317,  0.5481878 , -0.5520864 ,\n",
       "        -0.06580305, -0.18820325,  0.50080425, -0.1010533 , -0.14325225],\n",
       "       [-0.04376864, -0.41920182,  0.5421857 ,  0.11240715,  0.30562395,\n",
       "        -0.09442234,  0.4621666 , -0.21266186,  0.09309238, -0.29268822]],\n",
       "      dtype=float32)>"
      ]
     },
     "execution_count": 14,
     "metadata": {},
     "output_type": "execute_result"
    }
   ],
   "source": [
    "layer.kernel"
   ]
  },
  {
   "cell_type": "markdown",
   "metadata": {},
   "source": [
    "上面我们只在 call 方法调用了 `tf.matmul` 中实现了前向方法，而 BP 怎么实现那？而且我们也没有实现 `bias`。"
   ]
  }
 ],
 "metadata": {
  "kernelspec": {
   "display_name": "Python 3",
   "language": "python",
   "name": "python3"
  },
  "language_info": {
   "codemirror_mode": {
    "name": "ipython",
    "version": 3
   },
   "file_extension": ".py",
   "mimetype": "text/x-python",
   "name": "python",
   "nbconvert_exporter": "python",
   "pygments_lexer": "ipython3",
   "version": "3.7.4"
  }
 },
 "nbformat": 4,
 "nbformat_minor": 2
}
