{
 "cells": [
  {
   "attachments": {},
   "cell_type": "markdown",
   "metadata": {},
   "source": [
    "## 自定义 Estimator\n",
    "\n",
    "### pre-made esimators 与 custom estimators\n",
    "\n",
    "从下图可以看出，预创建（Pre-made） estimator 是 `tf.estimator.Estimator` 基类的 **子类(subclasses)** 、而自定义 Estimator 是 `tf.estimator.Estimator` 的**实例(instance)**：\n",
    "\n",
    "<img src=\"https://www.tensorflow.org/images/custom_estimators/estimator_types.png\" width=\"450px\" />"
   ]
  },
  {
   "cell_type": "markdown",
   "metadata": {},
   "source": [
    "有时候我们需要以不同的方式来连接隐藏层，或者为模型计算特定的指标，那么我们就可能需要自定义 Estimator 了。\n",
    "\n",
    "`model_fn` 模型函数会实现机器学习算法。自定义 Estimator 时，我们需要自行编写模型函数。\n",
    "\n",
    "模型函数可以实现各种算法，定义各种各样的隐藏层和指标。与输入函数一样，所有模型函数都必须接受一组**标准输入**参数并返回一组**标准输出**值。正如输入函数可以利用 Dataset API 一样，模型函数可以利用 Layers API 和 Metrics API。\n",
    "\n",
    "\n",
    "还是以鸢尾花为例子。以下是我们尝试模拟的鸢尾花模型的结构：\n",
    "\n",
    "<img src=\"https://www.tensorflow.org/images/custom_estimators/full_network.png\" >\n"
   ]
  }
 ],
 "metadata": {
  "kernelspec": {
   "display_name": "Python 3",
   "language": "python",
   "name": "python3"
  },
  "language_info": {
   "codemirror_mode": {
    "name": "ipython",
    "version": 3
   },
   "file_extension": ".py",
   "mimetype": "text/x-python",
   "name": "python",
   "nbconvert_exporter": "python",
   "pygments_lexer": "ipython3",
   "version": "3.7.4"
  }
 },
 "nbformat": 4,
 "nbformat_minor": 2
}
