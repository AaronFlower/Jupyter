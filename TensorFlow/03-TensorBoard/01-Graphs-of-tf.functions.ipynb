{
 "cells": [
  {
   "cell_type": "markdown",
   "metadata": {},
   "source": [
    "## Graphs of tf.functions\n",
    "\n",
    "通过 `Model.fit()` 我们可以生成计算图。当然我们也可以使用 `tf.function` 标准来将 Python 的计算转换成高效的 TensorFlow 图。\n",
    "\n",
    "在 TensorBoard 可视化中，我们可以使用 TensorFlow Summary Trace API 来记录自动图函数。\n",
    "\n",
    "使用 API 的正确方式：\n",
    "\n",
    "- 定义函数并用  `tf.function` 来进行注解。\n",
    "- 在调用时执行 `tf.summary.trace_on()`\n",
    "- 传入 `profiler=True` 可以剖析内存和 CPU 的执行信息。\n",
    "- 调用 `tf.summary.trace_export()` 存储日志数据。"
   ]
  },
  {
   "cell_type": "code",
   "execution_count": 1,
   "metadata": {},
   "outputs": [],
   "source": [
    "from datetime import datetime\n",
    "\n",
    "import tensorflow as tf\n",
    "from tensorflow import keras"
   ]
  },
  {
   "cell_type": "code",
   "execution_count": 3,
   "metadata": {},
   "outputs": [
    {
     "name": "stdout",
     "output_type": "stream",
     "text": [
      "The tensorboard module is not an IPython extension.\n"
     ]
    }
   ],
   "source": [
    "%load_ext tensorboard"
   ]
  },
  {
   "cell_type": "code",
   "execution_count": 2,
   "metadata": {},
   "outputs": [],
   "source": [
    "# The function to be traced\n",
    "@tf.function\n",
    "def my_func(x, y):\n",
    "    # A simple hand-rolled layer\n",
    "    return tf.nn.relu(tf.matmul(x, y))\n",
    "\n",
    "# Set up logging\n",
    "stamp = datetime.now().strftime('%Y%m%d-%H%M%S')\n",
    "logdir = 'logs/func/%s' % stamp\n",
    "writer = tf.summary.create_file_writer(logdir)\n",
    "\n",
    "# Sample data for your function\n",
    "x = tf.random.uniform((3, 3))\n",
    "y = tf.random.uniform((3, 3))\n",
    "\n",
    "# Bracket the function call with\n",
    "# tf.summary.trace_on() and tf.summary.trace_export()\n",
    "tf.summary.trace_on(graph=True, profiler=True)\n",
    "\n",
    "# call only one tf.function when tracing\n",
    "z = my_func(x, y)\n",
    "with writer.as_default():\n",
    "    tf.summary.trace_export(\n",
    "        name='my_func_trace',\n",
    "        step=0,\n",
    "        profiler_outdir=logdir\n",
    "    )"
   ]
  },
  {
   "cell_type": "markdown",
   "metadata": {},
   "source": [
    "在命令行中执行\n",
    "\n",
    "```bash\n",
    "tensorboard --logdir logs/func\n",
    "```\n",
    "就可以在浏览器查看计算信息了。包括内存使用时间和 CPU 执行时间等。"
   ]
  },
  {
   "cell_type": "markdown",
   "metadata": {},
   "source": [
    "<img src=\"./tensorboard-func.png\">"
   ]
  }
 ],
 "metadata": {
  "kernelspec": {
   "display_name": "Python 3",
   "language": "python",
   "name": "python3"
  },
  "language_info": {
   "codemirror_mode": {
    "name": "ipython",
    "version": 3
   },
   "file_extension": ".py",
   "mimetype": "text/x-python",
   "name": "python",
   "nbconvert_exporter": "python",
   "pygments_lexer": "ipython3",
   "version": "3.7.4"
  }
 },
 "nbformat": 4,
 "nbformat_minor": 2
}
