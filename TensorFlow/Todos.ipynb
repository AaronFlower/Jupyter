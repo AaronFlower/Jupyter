{
 "cells": [
  {
   "cell_type": "markdown",
   "metadata": {},
   "source": [
    "Todos \n",
    "\n",
    "- [ ] [文本分类指南](https://developers.google.com/machine-learning/guides/text-classification/)\n",
    "- [ ] [Keras 指南](https://www.tensorflow.org/guide/keras)\n",
    "- [ ] Tensorflow 结构导图，思维导图\n",
    "- [ ] one-hot encode vs. multi-hot encode. （应该是没有多热的)\n",
    "- [ ] Embedding Layer, vs. one-hot encode vs. Label Encoder\n",
    "- [ ] 关于 DropOut, 为什么测试时的活跃单元为多于训练时。\n",
    "- [ ] \n",
    "\n",
    "\n",
    "### 面试问题\n",
    "\n",
    "1. 怎样处理 categorical data (分类数据和分类属性)?\n",
    "2. 决策树中怎样处理 numerical data (数值数据及数值属性）?"
   ]
  }
 ],
 "metadata": {
  "kernelspec": {
   "display_name": "Python 3",
   "language": "python",
   "name": "python3"
  },
  "language_info": {
   "codemirror_mode": {
    "name": "ipython",
    "version": 3
   },
   "file_extension": ".py",
   "mimetype": "text/x-python",
   "name": "python",
   "nbconvert_exporter": "python",
   "pygments_lexer": "ipython3",
   "version": "3.7.3"
  }
 },
 "nbformat": 4,
 "nbformat_minor": 2
}
