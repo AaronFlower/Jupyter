{
 "cells": [
  {
   "cell_type": "markdown",
   "metadata": {},
   "source": [
    "## Embedding Layer, 嵌入层\n",
    "\n",
    "在用 NN 处理文本分类的时候，引入了 Embedding Layer 的概念。那么 Embedding Layer 什么那? 其作用是什么？\n",
    "\n",
    "### 作用\n",
    "\n",
    "嵌入层在文本处理，推荐系统都有应用。\n",
    "\n",
    "### Todos\n",
    "\n",
    "把论文研究下\n",
    "\n",
    "### References\n",
    "\n",
    "1. [深度学习系列 4: 为什么你需要使用嵌入层](https://juejin.im/post/599183c6f265da3e2e5717d2)\n",
    "2. [Efficient Estimation of Word Representations in\n",
    "Vector Space](https://arxiv.org/pdf/1301.3781.pdf)\n",
    "3. [神经网络中embedding层作用](https://www.cnblogs.com/bonelee/p/7904495.html)\n",
    "4. [深度学习中Keras中的Embedding层的理解与使用](http://frankchen.xyz/2017/12/18/How-to-Use-Word-Embedding-Layers-for-Deep-Learning-with-Keras/)\n",
    "5. [神经网络嵌入详解](https://zhuanlan.zhihu.com/p/46396329)\n",
    "6. [Neural Network Embeddings Explained](https://towardsdatascience.com/neural-network-embeddings-explained-4d028e6f0526)\n",
    "7. [Deep Learning #4: Why You Need to Start Using Embedding Layers](https://towardsdatascience.com/deep-learning-4-embedding-layers-f9a02d55ac12)\n"
   ]
  }
 ],
 "metadata": {
  "kernelspec": {
   "display_name": "Python 3",
   "language": "python",
   "name": "python3"
  },
  "language_info": {
   "codemirror_mode": {
    "name": "ipython",
    "version": 3
   },
   "file_extension": ".py",
   "mimetype": "text/x-python",
   "name": "python",
   "nbconvert_exporter": "python",
   "pygments_lexer": "ipython3",
   "version": "3.7.4"
  }
 },
 "nbformat": 4,
 "nbformat_minor": 2
}
