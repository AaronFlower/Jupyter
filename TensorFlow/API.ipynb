{
 "cells": [
  {
   "cell_type": "markdown",
   "metadata": {},
   "source": [
    "# API\n",
    "\n",
    "一些重要的 TF API.\n",
    "\n"
   ]
  },
  {
   "cell_type": "code",
   "execution_count": 1,
   "metadata": {},
   "outputs": [],
   "source": [
    "import numpy as np\n",
    "import tensorflow as tf"
   ]
  },
  {
   "cell_type": "markdown",
   "metadata": {},
   "source": [
    "### `class tf.TensorShape`\n",
    "\n",
    "#### 简介\n",
    "\n",
    "代表一个 Tensor 的 Shape。这是一个非常常用的类型，因为在传递参数时会经常用到这个类型。\n",
    "\n",
    "TensorShape 可以用来表示完整的类型，也可表示部分类型。一般的形式如下：\n",
    "\n",
    "- Fully-known shape, 维度全知类型，即每一个维度的 size 都是已知的。如： `TensorShape([16, 256])`。\n",
    "- Partial-known shape, 维度缺失类型，即有些维度的 size 是不确定的。如: `TensorShape([None, 256])`\n",
    "- Unknown shape，未知类型，即不仅仅是 size 不确定的问题了，而是维度都不确定。如: `TensorShape(None)`\n",
    "\n",
    "\n",
    "#### 属性\n",
    "\n",
    "- `dims`, 返回所有维度的 list\n",
    "- `rank`, 图形的 rank\n"
   ]
  },
  {
   "cell_type": "code",
   "execution_count": 4,
   "metadata": {},
   "outputs": [
    {
     "name": "stdout",
     "output_type": "stream",
     "text": [
      "[Dimension(3), Dimension(6)]\n",
      "2\n"
     ]
    }
   ],
   "source": [
    "s = tf.TensorShape([3, 6])\n",
    "print(s.dims)\n",
    "print(s.rank)"
   ]
  },
  {
   "cell_type": "code",
   "execution_count": 5,
   "metadata": {},
   "outputs": [
    {
     "name": "stdout",
     "output_type": "stream",
     "text": [
      "[Dimension(1), Dimension(2), Dimension(3), Dimension(None), Dimension(None), Dimension(5)]\n",
      "6\n"
     ]
    }
   ],
   "source": [
    "s = tf.TensorShape([1, 2, 3, None, None, 5])\n",
    "print(s.dims)\n",
    "print(s.rank)"
   ]
  },
  {
   "cell_type": "markdown",
   "metadata": {},
   "source": [
    "#### shape 兼容\n",
    "\n",
    "- 自反 (reflexive)\n",
    "- 对称 (symmetric)\n",
    "- 不传递 (not transitive)\n",
    "\n",
    "如果当一个维度全知的形状可以表示两个维度缺失的形状，那么这两个维度缺失的形状就是兼容的。如：\n",
    "\n",
    "- `TensorShape(None)` 与所有的 shape 兼容。\n",
    "- `TensorShape([None, None])` 与所有二维的形状兼容，如与 `TensorShape(None), TensorShape([32, 784])` 兼容。但与 ` TensorShape([None]), TensorShape([None, None, None])` 不兼容。\n",
    "- `TensorShape([32, None])` 与所有第 `0` 维是 32 的二维形状兼容，而且还与 `TensorShape([None, None]), TensorShape(None)` 兼容。但是不与 `TensorShape([64, None]), TensorShape([32]), TensorShape([32, None, 1]) ` 兼容。\n",
    "\n",
    "- `TensorShape([32, 784])` 与 ` TensorShape([32, None]), TensorShape([None, 784]), TensorShape([None, None]) and TensorShape(None)` 兼容. 与 `TensorShape([32, 1, 784]) or TensorShape([None])` 不兼容。\n",
    "\n",
    "\n",
    "\n",
    "1. [tf.TensorShape](https://www.tensorflow.org/api_docs/python/tf/TensorShape)"
   ]
  },
  {
   "cell_type": "code",
   "execution_count": null,
   "metadata": {},
   "outputs": [],
   "source": []
  }
 ],
 "metadata": {
  "kernelspec": {
   "display_name": "Python 3",
   "language": "python",
   "name": "python3"
  },
  "language_info": {
   "codemirror_mode": {
    "name": "ipython",
    "version": 3
   },
   "file_extension": ".py",
   "mimetype": "text/x-python",
   "name": "python",
   "nbconvert_exporter": "python",
   "pygments_lexer": "ipython3",
   "version": "3.7.4"
  }
 },
 "nbformat": 4,
 "nbformat_minor": 2
}
