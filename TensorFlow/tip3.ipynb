{
 "cells": [
  {
   "cell_type": "markdown",
   "metadata": {},
   "source": [
    "## TensorFlow 的一些建议\n",
    "\n",
    "\n",
    "- 用 Eager 模式搭建原型\n",
    "\n",
    "- 用 Datasets 处理数据\n",
    "\n",
    "- 用 Feature Columns 提取特征\n",
    "\n",
    "- 用 Keras 搭建模型\n",
    "\n",
    "- 借用 Canned Estimators\n",
    "\n",
    "- 用 SavedModel 打包模型"
   ]
  }
 ],
 "metadata": {
  "kernelspec": {
   "display_name": "Python 3",
   "language": "python",
   "name": "python3"
  },
  "language_info": {
   "codemirror_mode": {
    "name": "ipython",
    "version": 3
   },
   "file_extension": ".py",
   "mimetype": "text/x-python",
   "name": "python",
   "nbconvert_exporter": "python",
   "pygments_lexer": "ipython3",
   "version": "3.7.4"
  }
 },
 "nbformat": 4,
 "nbformat_minor": 2
}
