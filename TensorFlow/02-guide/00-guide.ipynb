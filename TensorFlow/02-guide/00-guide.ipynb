{
 "cells": [
  {
   "cell_type": "markdown",
   "metadata": {},
   "source": [
    "## TensorFlow 指南\n",
    "\n",
    "这个系列的文档深入介绍 TensorFlow 的工作原理。这些单元包括：\n",
    "\n",
    "### 高阶 API\n",
    "\n",
    "- [Keras](https://www.tensorflow.org/guide/keras), 用于构建和训练深度学习模型的 TensorFlow 高阶 API。"
   ]
  }
 ],
 "metadata": {
  "kernelspec": {
   "display_name": "Python 3",
   "language": "python",
   "name": "python3"
  },
  "language_info": {
   "codemirror_mode": {
    "name": "ipython",
    "version": 3
   },
   "file_extension": ".py",
   "mimetype": "text/x-python",
   "name": "python",
   "nbconvert_exporter": "python",
   "pygments_lexer": "ipython3",
   "version": "3.7.3"
  }
 },
 "nbformat": 4,
 "nbformat_minor": 2
}
