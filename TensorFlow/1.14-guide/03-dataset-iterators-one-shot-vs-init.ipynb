{
 "cells": [
  {
   "cell_type": "markdown",
   "metadata": {},
   "source": [
    "## DataSet Iterator\n",
    "\n",
    "tf.Data API 目前支持下列的迭代器。\n",
    "\n",
    "- 单次(one-shot -- make_one_hot_iterator)\n",
    "- 可初始化 (initializable -- make_initializer_iterator)\n",
    "- 可重新初始化(reinitializable)\n",
    "- 可馈送(feedable)\n"
   ]
  },
  {
   "cell_type": "code",
   "execution_count": 4,
   "metadata": {},
   "outputs": [],
   "source": [
    "import tensorflow.compat.v1 as tf\n",
    "\n",
    "tf.disable_eager_execution()"
   ]
  },
  {
   "cell_type": "markdown",
   "metadata": {},
   "source": [
    "#### 1. 单次\n",
    "\n",
    "单次迭代器是最简单的迭代器形式，仅支持对数据集进行一次迭代，不需要显式初始化。单次迭代器可以处理基于队列的现有输入管道支持的几乎所有情况，但它们不支持参数化。以 Dataset.range() 为例"
   ]
  },
  {
   "cell_type": "code",
   "execution_count": 5,
   "metadata": {},
   "outputs": [],
   "source": [
    "dataset = tf.data.Dataset.range(100)\n",
    "iterator = tf.data.make_one_shot_iterator(dataset)\n",
    "next_element = iterator.get_next()\n",
    "\n",
    "with tf.Session() as sess:\n",
    "    for i in range(100):\n",
    "        value = sess.run(next_element)\n",
    "        assert i == value"
   ]
  },
  {
   "cell_type": "markdown",
   "metadata": {},
   "source": [
    "#### 2. 可初始化\n",
    "\n",
    "与 `tf.placehodler` 相结合。这需要我们先显示运行 `iterator.initializer` 操作，然后才能使用可初始化的迭代器。"
   ]
  },
  {
   "cell_type": "code",
   "execution_count": 10,
   "metadata": {},
   "outputs": [],
   "source": [
    "max_value = tf.placeholder(tf.int64, shape=[])\n",
    "dataset = tf.data.Dataset.range(max_value)\n",
    "iterator = tf.data.make_initializable_iterator(dataset)\n",
    "next_element = iterator.get_next()\n",
    "\n",
    "with tf.Session() as sess:\n",
    "    # 需要我们先运行 iterator 的 initialiizer\n",
    "    sess.run(iterator.initializer, {max_value: 10})\n",
    "    for i in range(10):\n",
    "        value = sess.run(next_element)\n",
    "        assert i == value\n",
    "        \n",
    "# 通过初始化，我们可复用自定义数据集\n",
    "with tf.Session() as sess:\n",
    "    # 需要我们先运行 iterator 的 initialiizer\n",
    "    sess.run(iterator.initializer, {max_value: 100})\n",
    "    for i in range(10):\n",
    "        value = sess.run(next_element)\n",
    "        assert i == value"
   ]
  },
  {
   "cell_type": "markdown",
   "metadata": {},
   "source": [
    "### 3. 可重新初始化\n",
    "\n",
    "可重新初始化可以通过对多个不同 Dataset 对象进行初始化。如**训练集与验证集**相结合。虽然数据集不同，但是这些 Dataset 具有相同的类型的兼容形状。\n"
   ]
  },
  {
   "cell_type": "code",
   "execution_count": 20,
   "metadata": {},
   "outputs": [],
   "source": [
    "# 定义具有相同结构的训练集和验证集\n",
    "\n",
    "train_dataset = tf.data.Dataset.range(100).map(\n",
    "    lambda x: x + tf.random_uniform([], -10, 10, tf.int64)\n",
    ")\n",
    "val_dataset = tf.data.Dataset.range(50)\n",
    "\n",
    "# 可重新初始化迭代器根据数据集的结构来定义，我们可以使用训练集也可使用验证集\n",
    "# 因它们都是相兼容的\n",
    "iterator = tf.data.Iterator.from_structure(\n",
    "    tf.data.get_output_types(train_dataset),\n",
    "    tf.data.get_output_shapes(train_dataset))\n",
    "\n",
    "next_element = iterator.get_next()\n",
    "\n",
    "train_init = iterator.make_initializer(train_dataset)\n",
    "val_init = iterator.make_initializer(val_dataset)\n",
    "\n",
    "# 20 个 Epochs, 当训练集遍历后，遍历验证集\n",
    "with tf.Session() as sess:   \n",
    "    for _ in range(20):\n",
    "        # 初始化训练集\n",
    "        sess.run(train_init)\n",
    "        for _ in range(100):\n",
    "            sess.run(next_element)\n",
    "        \n",
    "        # 初始化验证集，重要的是我们还可以使用同一个 next_element\n",
    "        sess.run(val_init)\n",
    "        for _ in range(50):\n",
    "            sess.run(next_element)\n"
   ]
  },
  {
   "cell_type": "markdown",
   "metadata": {},
   "source": [
    "#### 4. 可馈送\n",
    "\n",
    "可馈送迭代器可以与 `tf.placeholder` 一起使用。它提供的功能**与可重新初始化迭代器相同**，但在迭代器之间切换时**不需要从数据集的开头**初始化迭代器。\n",
    "\n",
    "例如，上面的同一训练和验证数据集为例，您可以使用 `tf.data.Iterator.from_string_handle` 定义一个可让您**在两个数据集之间切换**的可馈送迭代器"
   ]
  },
  {
   "cell_type": "code",
   "execution_count": 40,
   "metadata": {},
   "outputs": [],
   "source": [
    "# 定义具有相同结构的训练集和验证集\n",
    "\n",
    "train_dataset = tf.data.Dataset.range(100).map(\n",
    "    lambda x: x + tf.random_uniform([], -10, 10, tf.int64)\n",
    ")\n",
    "val_dataset = tf.data.Dataset.range(50)\n",
    "\n",
    "# 我们可以使用训练集也可使用验证集, 因它们都是相兼容的。\n",
    "# 可馈送通过一个 handle placeholder 和 数据集的结构来定义。\n",
    "handle = tf.placeholder(tf.string, shape=[])\n",
    "iterator = tf.data.Iterator.from_string_handle(handle,\n",
    "                                                tf.data.get_output_types(train_dataset),\n",
    "                                                tf.data.get_output_shapes(train_dataset))\n",
    "next_element = iterator.get_next()\n",
    "\n",
    "# 更重要的是我们可以使用不同的 iterator 进行 feed\n",
    "train_iterator = tf.data.make_one_shot_iterator(train_dataset)\n",
    "# val_iterator = val_dataset.make_initializable_iterator()\n",
    "val_iterator = tf.data.make_one_shot_iterator(val_dataset)\n",
    "\n",
    "with tf.Session() as sess:\n",
    "    # `Iterator.string_handle()` 返回一个可以馈送的 handle\n",
    "    train_handle = sess.run(train_iterator.string_handle())\n",
    "    val_handle = sess.run(val_iterator.string_handle())\n",
    "    \n",
    "    # Epochs 20 次\n",
    "    for _ in range(1):\n",
    "        # 运行 200 次训练集，是循环迭代, 200 会出错。。。。。迭代完了，好像没有生效\n",
    "        for _ in range(100):\n",
    "            sess.run(next_element, feed_dict={handle: train_handle})\n",
    "        \n",
    "        for _ in range(50):\n",
    "            sess.run(next_element, feed_dict={handle: val_handle})\n"
   ]
  }
 ],
 "metadata": {
  "kernelspec": {
   "display_name": "Python 3",
   "language": "python",
   "name": "python3"
  },
  "language_info": {
   "codemirror_mode": {
    "name": "ipython",
    "version": 3
   },
   "file_extension": ".py",
   "mimetype": "text/x-python",
   "name": "python",
   "nbconvert_exporter": "python",
   "pygments_lexer": "ipython3",
   "version": "3.7.4"
  }
 },
 "nbformat": 4,
 "nbformat_minor": 2
}
