{
 "cells": [
  {
   "cell_type": "code",
   "execution_count": 31,
   "metadata": {},
   "outputs": [],
   "source": [
    "import numpy as np\n",
    "import tensorflow.compat.v1 as tf"
   ]
  },
  {
   "cell_type": "code",
   "execution_count": 32,
   "metadata": {},
   "outputs": [],
   "source": [
    "tf.disable_eager_execution()"
   ]
  },
  {
   "cell_type": "code",
   "execution_count": 38,
   "metadata": {},
   "outputs": [
    {
     "name": "stdout",
     "output_type": "stream",
     "text": [
      "[[ 0.  1.]\n",
      " [ 2.  3.]\n",
      " [ 4.  5.]\n",
      " [ 6.  7.]\n",
      " [ 8.  9.]\n",
      " [10. 11.]]\n"
     ]
    }
   ],
   "source": [
    "X = np.arange(12, dtype=np.float32).reshape(6, 2)\n",
    "print(X)"
   ]
  },
  {
   "cell_type": "markdown",
   "metadata": {},
   "source": [
    "我们应该理解，在数据流计算模型中，数据都是以计算节点来作为输入输出的。那么对于上面的 `dataset` 数据集，我们要想对其操作，也要定义一个计算节点出来，这个节点就是一个迭代器节点。"
   ]
  },
  {
   "cell_type": "code",
   "execution_count": 52,
   "metadata": {},
   "outputs": [
    {
     "name": "stdout",
     "output_type": "stream",
     "text": [
      "67.0\n",
      "51.0\n",
      "55.0\n",
      "71.0\n",
      "31.0\n",
      "67.0\n",
      "Iterator Finished\n"
     ]
    }
   ],
   "source": [
    "g1 = tf.Graph()\n",
    "with g1.as_default():\n",
    "    dataset = tf.data.Dataset.from_tensor_slices(X)\n",
    "    dataset = dataset.shuffle(20).repeat(5).batch(5)\n",
    "    \n",
    "    iterator = tf.data.make_one_shot_iterator(dataset)\n",
    "    w = tf.constant(2, name=\"weights\", dtype=tf.float32)\n",
    "    next_element = iterator.get_next(\"next-row\")\n",
    "    s = tf.add(tf.reduce_sum(next_element), w)\n",
    "    \n",
    "    with tf.Session() as sess:\n",
    "        tf.summary.FileWriter('./logs/iterator', sess.graph)\n",
    "        try:\n",
    "            while True:\n",
    "                print(sess.run(s))\n",
    "        except tf.errors.OutOfRangeError:\n",
    "            print(\"Iterator Finished\")\n"
   ]
  },
  {
   "cell_type": "markdown",
   "metadata": {},
   "source": [
    "查看一下我们的计算图。\n",
    "\n",
    "<img src=\"dataset-iterator.png\" >"
   ]
  }
 ],
 "metadata": {
  "kernelspec": {
   "display_name": "Python 3",
   "language": "python",
   "name": "python3"
  },
  "language_info": {
   "codemirror_mode": {
    "name": "ipython",
    "version": 3
   },
   "file_extension": ".py",
   "mimetype": "text/x-python",
   "name": "python",
   "nbconvert_exporter": "python",
   "pygments_lexer": "ipython3",
   "version": "3.7.4"
  }
 },
 "nbformat": 4,
 "nbformat_minor": 2
}
