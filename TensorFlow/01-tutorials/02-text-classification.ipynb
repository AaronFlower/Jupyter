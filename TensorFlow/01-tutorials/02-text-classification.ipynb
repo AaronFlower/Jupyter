{
 "cells": [
  {
   "cell_type": "markdown",
   "metadata": {},
   "source": [
    "## 文本分类, text-classification\n",
    "\n",
    "这个例子是对 IMDB 数据集的影评进行分类，区别出正面和负面评论。数据集大小为 50000 条，将这些影评拆分成训练集和测试集各 25000 条。\n",
    "\n",
    "我们合适了 [tf.keras](https://www.tensorflow.org/guide/keras) , 它为 TensorFlow 构建和训练模型提供高阶 API."
   ]
  },
  {
   "cell_type": "code",
   "execution_count": 2,
   "metadata": {},
   "outputs": [
    {
     "data": {
      "text/plain": [
       "'2.0.0-alpha0'"
      ]
     },
     "execution_count": 2,
     "metadata": {},
     "output_type": "execute_result"
    }
   ],
   "source": [
    "import tensorflow as tf\n",
    "from tensorflow import keras\n",
    "import numpy as np\n",
    "\n",
    "tf.__version__"
   ]
  },
  {
   "cell_type": "code",
   "execution_count": 3,
   "metadata": {},
   "outputs": [],
   "source": [
    "imdb = keras.datasets.imdb\n",
    "(train_data, train_labels),(test_data, test_labels) = imdb.load_data(num_words=10000)"
   ]
  },
  {
   "cell_type": "markdown",
   "metadata": {},
   "source": [
    "### Have a look of our data"
   ]
  },
  {
   "cell_type": "code",
   "execution_count": 4,
   "metadata": {},
   "outputs": [
    {
     "name": "stdout",
     "output_type": "stream",
     "text": [
      "Training entries: 25000, labels: 25000\n"
     ]
    }
   ],
   "source": [
    "print(\"Training entries: {}, labels: {}\".format(\n",
    "    len(train_data),\n",
    "    len(train_labels)\n",
    "))"
   ]
  },
  {
   "cell_type": "markdown",
   "metadata": {},
   "source": [
    "影评文本已经转换为整数，期中每一个整数都表示字典中的一个特定字词。"
   ]
  },
  {
   "cell_type": "code",
   "execution_count": 6,
   "metadata": {},
   "outputs": [
    {
     "name": "stdout",
     "output_type": "stream",
     "text": [
      "[1, 14, 22, 16, 43, 530, 973, 1622, 1385, 65, 458, 4468, 66, 3941, 4, 173, 36, 256, 5, 25, 100, 43, 838, 112, 50, 670, 2, 9, 35, 480, 284, 5, 150, 4, 172, 112, 167, 2, 336, 385, 39, 4, 172, 4536, 1111, 17, 546, 38, 13, 447, 4, 192, 50, 16, 6, 147, 2025, 19, 14, 22, 4, 1920, 4613, 469, 4, 22, 71, 87, 12, 16, 43, 530, 38, 76, 15, 13, 1247, 4, 22, 17, 515, 17, 12, 16, 626, 18, 2, 5, 62, 386, 12, 8, 316, 8, 106, 5, 4, 2223, 5244, 16, 480, 66, 3785, 33, 4, 130, 12, 16, 38, 619, 5, 25, 124, 51, 36, 135, 48, 25, 1415, 33, 6, 22, 12, 215, 28, 77, 52, 5, 14, 407, 16, 82, 2, 8, 4, 107, 117, 5952, 15, 256, 4, 2, 7, 3766, 5, 723, 36, 71, 43, 530, 476, 26, 400, 317, 46, 7, 4, 2, 1029, 13, 104, 88, 4, 381, 15, 297, 98, 32, 2071, 56, 26, 141, 6, 194, 7486, 18, 4, 226, 22, 21, 134, 476, 26, 480, 5, 144, 30, 5535, 18, 51, 36, 28, 224, 92, 25, 104, 4, 226, 65, 16, 38, 1334, 88, 12, 16, 283, 5, 16, 4472, 113, 103, 32, 15, 16, 5345, 19, 178, 32]\n"
     ]
    }
   ],
   "source": [
    "print(train_data[0])"
   ]
  },
  {
   "cell_type": "markdown",
   "metadata": {},
   "source": [
    "影评的长度可能会有所不同。以下代码显示了第一条和第二条影评中的字词数。由于神经网络的输入必须具有相同长度，因此我们稍后需要解决此问题。"
   ]
  },
  {
   "cell_type": "code",
   "execution_count": 7,
   "metadata": {},
   "outputs": [
    {
     "data": {
      "text/plain": [
       "(218, 189)"
      ]
     },
     "execution_count": 7,
     "metadata": {},
     "output_type": "execute_result"
    }
   ],
   "source": [
    "len(train_data[0]), len(train_data[1])"
   ]
  },
  {
   "cell_type": "markdown",
   "metadata": {},
   "source": [
    "### 将整数转换回字词"
   ]
  },
  {
   "cell_type": "code",
   "execution_count": 13,
   "metadata": {},
   "outputs": [],
   "source": [
    "# A dictionary mapping words to an integer index\n",
    "word_index = imdb.get_word_index()\n",
    "\n",
    "# The first indices are reserve, 将原有每个单词的值 +3\n",
    "# 即偏移出 3 个位置。\n",
    "word_index = {k:(v + 3) for k,v in word_index.items()}\n",
    "\n",
    "word_index[\"<PAD>\"] = 0\n",
    "word_index[\"<START>\"] = 1\n",
    "word_index[\"<UNK>\"] = 2 #unkonwn\n",
    "word_index[\"<UNUSED>\"] = 3\n",
    "\n",
    "reverse_word_index = dict(\n",
    "    [value, key] for (key, value) in word_index.items()\n",
    ")\n",
    "\n",
    "def decode_review(text):\n",
    "    return ' '.join([\n",
    "        reverse_word_index.get(i, '?') for i in text\n",
    "    ])"
   ]
  },
  {
   "cell_type": "code",
   "execution_count": 14,
   "metadata": {},
   "outputs": [
    {
     "data": {
      "text/plain": [
       "\"<START> this film was just brilliant casting location scenery story direction everyone's really suited the part they played and you could just imagine being there robert <UNK> is an amazing actor and now the same being director <UNK> father came from the same scottish island as myself so i loved the fact there was a real connection with this film the witty remarks throughout the film were great it was just brilliant so much that i bought the film as soon as it was released for <UNK> and would recommend it to everyone to watch and the fly fishing was amazing really cried at the end it was so sad and you know what they say if you cry at a film it must have been good and this definitely was also <UNK> to the two little boy's that played the <UNK> of norman and paul they were just brilliant children are often left out of the <UNK> list i think because the stars that play them all grown up are such a big profile for the whole film but these children are amazing and should be praised for what they have done don't you think the whole story was so lovely because it was true and was someone's life after all that was shared with us all\""
      ]
     },
     "execution_count": 14,
     "metadata": {},
     "output_type": "execute_result"
    }
   ],
   "source": [
    "decode_review(train_data[0])"
   ]
  },
  {
   "cell_type": "markdown",
   "metadata": {},
   "source": [
    "### 准备数据\n",
    "\n",
    "影评 (整个数组) 必须转换成张量，然后才能传给神经网络。我们可以使用两种方法实现这种转换:\n",
    "\n",
    "1. 对数组进行**独立热编码**，将它们转换为 0 和 1 构成的向量。例如，序列 [3, 5] 将变成一个 10000 维的向量，除索引 3 和 5 转换为 1 之外，其余全转换为 0。然后，将它作为网络的第一层，一个可以处理浮点向量数据的密集层。不过，这种方法会占用大量内存，需要一个大小为 num_words * num_reviews 的矩阵。\n",
    "\n",
    "2. 或者，我们可以**填充数组**，使它们都具有相同的长度。然后创建一个形状为 `max_length * num_reviews` 的整数张量。我们可以使用一个能够处理这种形状的**嵌入层（embedding layer）**作为网络中的第一层。\n",
    "\n",
    "下面我们使用 [pad_sequences](https://www.tensorflow.org/versions/r2.0/api_docs/python/tf/keras/preprocessing/sequence/pad_sequences) 对数据进行预处理。"
   ]
  },
  {
   "cell_type": "code",
   "execution_count": 15,
   "metadata": {},
   "outputs": [],
   "source": [
    "pad_seq = keras.preprocessing.sequence.pad_sequences\n",
    "\n",
    "train_data = pad_seq(\n",
    "    train_data,\n",
    "    value=word_index['<PAD>'],\n",
    "    padding='post', # pad 的值追加到后面\n",
    "    maxlen=256,     # 超过长度的会被 truncate 截断。\n",
    ")\n",
    "\n",
    "test_data = pad_seq(\n",
    "    test_data,\n",
    "    value=word_index['<PAD>'],\n",
    "    padding='post',\n",
    "    maxlen=256\n",
    ")"
   ]
  },
  {
   "cell_type": "code",
   "execution_count": 19,
   "metadata": {
    "scrolled": true
   },
   "outputs": [
    {
     "name": "stdout",
     "output_type": "stream",
     "text": [
      "256 256\n",
      "[   1   14   22   16   43  530  973 1622 1385   65  458 4468   66 3941\n",
      "    4  173   36  256    5   25  100   43  838  112   50  670    2    9\n",
      "   35  480  284    5  150    4  172  112  167    2  336  385   39    4\n",
      "  172 4536 1111   17  546   38   13  447    4  192   50   16    6  147\n",
      " 2025   19   14   22    4 1920 4613  469    4   22   71   87   12   16\n",
      "   43  530   38   76   15   13 1247    4   22   17  515   17   12   16\n",
      "  626   18    2    5   62  386   12    8  316    8  106    5    4 2223\n",
      " 5244   16  480   66 3785   33    4  130   12   16   38  619    5   25\n",
      "  124   51   36  135   48   25 1415   33    6   22   12  215   28   77\n",
      "   52    5   14  407   16   82    2    8    4  107  117 5952   15  256\n",
      "    4    2    7 3766    5  723   36   71   43  530  476   26  400  317\n",
      "   46    7    4    2 1029   13  104   88    4  381   15  297   98   32\n",
      " 2071   56   26  141    6  194 7486   18    4  226   22   21  134  476\n",
      "   26  480    5  144   30 5535   18   51   36   28  224   92   25  104\n",
      "    4  226   65   16   38 1334   88   12   16  283    5   16 4472  113\n",
      "  103   32   15   16 5345   19  178   32    0    0    0    0    0    0\n",
      "    0    0    0    0    0    0    0    0    0    0    0    0    0    0\n",
      "    0    0    0    0    0    0    0    0    0    0    0    0    0    0\n",
      "    0    0    0    0]\n"
     ]
    }
   ],
   "source": [
    "print(len(train_data[0]), len(test_data[0]))\n",
    "\n",
    "print(train_data[0])"
   ]
  },
  {
   "cell_type": "markdown",
   "metadata": {},
   "source": [
    "### 构建模型\n",
    "\n",
    "我们需要指出神经网络有多少层，每层使用多少神经元。这里有一个嵌入层 (Embedding Layer) 的概念需要多了解下。"
   ]
  },
  {
   "cell_type": "code",
   "execution_count": 45,
   "metadata": {},
   "outputs": [
    {
     "name": "stdout",
     "output_type": "stream",
     "text": [
      "Model: \"sequential_1\"\n",
      "_________________________________________________________________\n",
      "Layer (type)                 Output Shape              Param #   \n",
      "=================================================================\n",
      "embedding_1 (Embedding)      (None, None, 16)          160000    \n",
      "_________________________________________________________________\n",
      "global_average_pooling1d_1 ( (None, 16)                0         \n",
      "_________________________________________________________________\n",
      "dense_2 (Dense)              (None, 16)                272       \n",
      "_________________________________________________________________\n",
      "dense_3 (Dense)              (None, 1)                 17        \n",
      "=================================================================\n",
      "Total params: 160,289\n",
      "Trainable params: 160,289\n",
      "Non-trainable params: 0\n",
      "_________________________________________________________________\n"
     ]
    }
   ],
   "source": [
    "# input shape is the vocabulary count used for the movie \n",
    "# reviews (10,000)\n",
    "\n",
    "vocab_size = 10000\n",
    "\n",
    "model = keras.Sequential()\n",
    "# Embedding Layer\n",
    "model.add(keras.layers.Embedding(vocab_size, 16))\n",
    "model.add(keras.layers.GlobalAveragePooling1D())\n",
    "model.add(keras.layers.Dense(16, activation=tf.nn.relu))\n",
    "model.add(keras.layers.Dense(1, activation=tf.nn.sigmoid))\n",
    "\n",
    "model.summary()"
   ]
  },
  {
   "cell_type": "markdown",
   "metadata": {},
   "source": [
    "按顺序堆叠各个层以构建分类器：\n",
    "\n",
    "1. 第一层是 Embedding 层。该层会在整数编码的词汇表中查找每个字词-索引的嵌入向量。模型在接受训练时会学习这些向量。这些向量会向输出数组添加一个维度。生成的维度为：(batch, sequence, embedding)。\n",
    "\n",
    "2. 接下来，一个 GlobalAveragePooling1D 层通过对序列维度求平均值，针对每个样本返回一个长度固定的输出向量。这样，模型便能够以尽可能简单的方式处理各种长度的输入。\n",
    "\n",
    "3. 该长度固定的输出向量会传入一个全连接 (Dense) 层（包含 16 个隐藏单元）。\n",
    "4. 最后一层与单个输出节点密集连接。应用 sigmoid 激活函数后，结果是介于 0 到 1 之间的浮点值，表示概率或置信水平。"
   ]
  },
  {
   "cell_type": "markdown",
   "metadata": {},
   "source": [
    "### 编译模型\n",
    "\n",
    "在定义好模型的层数和神经元的个数后，我们还需要指定损失函数和优化器。由于这是一个二元分类问题且模型会输出一个概率，因此我们使用 `binary_crossentropy` 。"
   ]
  },
  {
   "cell_type": "code",
   "execution_count": 46,
   "metadata": {},
   "outputs": [],
   "source": [
    "model.compile(\n",
    "    optimizer=tf.optimizers.Adam(),\n",
    "    loss='binary_crossentropy',\n",
    "    metrics=['accuracy']\n",
    ")"
   ]
  },
  {
   "cell_type": "markdown",
   "metadata": {},
   "source": [
    "### 创建验证集\n",
    "\n",
    "在训练时，我们需要检查模型处理从未见过的数据的准确率。我们从原始训练数据中分离出 10000 个样本，创建一个验证集。\n",
    "\n",
    "（为什么现在不使用测试集？验证集在训练时会多次使用用来调整模型，而测试数据仅一次用来评估准确率。）"
   ]
  },
  {
   "cell_type": "code",
   "execution_count": 47,
   "metadata": {},
   "outputs": [],
   "source": [
    "x_val, x_train = train_data[:10000], train_data[10000:]\n",
    "y_val, y_train = train_labels[:10000], train_labels[10000:]"
   ]
  },
  {
   "cell_type": "markdown",
   "metadata": {},
   "source": [
    "### 训练模型\n",
    "\n",
    "使用 Mini-batchsize 训练。"
   ]
  },
  {
   "cell_type": "code",
   "execution_count": 48,
   "metadata": {},
   "outputs": [
    {
     "name": "stdout",
     "output_type": "stream",
     "text": [
      "Train on 15000 samples, validate on 10000 samples\n",
      "Epoch 1/40\n",
      "15000/15000 [==============================] - 1s 60us/sample - loss: 0.6916 - accuracy: 0.5479 - val_loss: 0.6889 - val_accuracy: 0.6625\n",
      "Epoch 2/40\n",
      "15000/15000 [==============================] - 1s 40us/sample - loss: 0.6847 - accuracy: 0.6816 - val_loss: 0.6797 - val_accuracy: 0.6519\n",
      "Epoch 3/40\n",
      "15000/15000 [==============================] - 1s 42us/sample - loss: 0.6714 - accuracy: 0.7085 - val_loss: 0.6628 - val_accuracy: 0.7307\n",
      "Epoch 4/40\n",
      "15000/15000 [==============================] - 1s 46us/sample - loss: 0.6478 - accuracy: 0.7550 - val_loss: 0.6362 - val_accuracy: 0.7575\n",
      "Epoch 5/40\n",
      "15000/15000 [==============================] - 1s 52us/sample - loss: 0.6144 - accuracy: 0.7791 - val_loss: 0.6014 - val_accuracy: 0.7747\n",
      "Epoch 6/40\n",
      "15000/15000 [==============================] - 1s 48us/sample - loss: 0.5729 - accuracy: 0.8136 - val_loss: 0.5610 - val_accuracy: 0.8043\n",
      "Epoch 7/40\n",
      "15000/15000 [==============================] - 1s 47us/sample - loss: 0.5268 - accuracy: 0.8350 - val_loss: 0.5184 - val_accuracy: 0.8231\n",
      "Epoch 8/40\n",
      "15000/15000 [==============================] - 1s 55us/sample - loss: 0.4798 - accuracy: 0.8522 - val_loss: 0.4779 - val_accuracy: 0.8399\n",
      "Epoch 9/40\n",
      "15000/15000 [==============================] - 1s 59us/sample - loss: 0.4360 - accuracy: 0.8694 - val_loss: 0.4408 - val_accuracy: 0.8498\n",
      "Epoch 10/40\n",
      "15000/15000 [==============================] - 1s 65us/sample - loss: 0.3970 - accuracy: 0.8790 - val_loss: 0.4098 - val_accuracy: 0.8577\n",
      "Epoch 11/40\n",
      "15000/15000 [==============================] - 1s 64us/sample - loss: 0.3633 - accuracy: 0.8875 - val_loss: 0.3844 - val_accuracy: 0.8637\n",
      "Epoch 12/40\n",
      "15000/15000 [==============================] - 1s 100us/sample - loss: 0.3354 - accuracy: 0.8934 - val_loss: 0.3642 - val_accuracy: 0.8667\n",
      "Epoch 13/40\n",
      "15000/15000 [==============================] - 1s 71us/sample - loss: 0.3115 - accuracy: 0.8975 - val_loss: 0.3477 - val_accuracy: 0.8711\n",
      "Epoch 14/40\n",
      "15000/15000 [==============================] - 1s 55us/sample - loss: 0.2905 - accuracy: 0.9041 - val_loss: 0.3352 - val_accuracy: 0.8716\n",
      "Epoch 15/40\n",
      "15000/15000 [==============================] - 1s 59us/sample - loss: 0.2725 - accuracy: 0.9087 - val_loss: 0.3244 - val_accuracy: 0.8743\n",
      "Epoch 16/40\n",
      "15000/15000 [==============================] - 1s 56us/sample - loss: 0.2569 - accuracy: 0.9133 - val_loss: 0.3147 - val_accuracy: 0.8788\n",
      "Epoch 17/40\n",
      "15000/15000 [==============================] - 1s 58us/sample - loss: 0.2421 - accuracy: 0.9189 - val_loss: 0.3074 - val_accuracy: 0.8803\n",
      "Epoch 18/40\n",
      "15000/15000 [==============================] - 1s 59us/sample - loss: 0.2293 - accuracy: 0.9236 - val_loss: 0.3019 - val_accuracy: 0.8814\n",
      "Epoch 19/40\n",
      "15000/15000 [==============================] - 1s 62us/sample - loss: 0.2176 - accuracy: 0.9279 - val_loss: 0.2971 - val_accuracy: 0.8813\n",
      "Epoch 20/40\n",
      "15000/15000 [==============================] - 1s 62us/sample - loss: 0.2070 - accuracy: 0.9307 - val_loss: 0.2928 - val_accuracy: 0.8830\n",
      "Epoch 21/40\n",
      "15000/15000 [==============================] - 1s 67us/sample - loss: 0.1973 - accuracy: 0.9352 - val_loss: 0.2898 - val_accuracy: 0.8837\n",
      "Epoch 22/40\n",
      "15000/15000 [==============================] - 1s 98us/sample - loss: 0.1882 - accuracy: 0.9389 - val_loss: 0.2882 - val_accuracy: 0.8824\n",
      "Epoch 23/40\n",
      "15000/15000 [==============================] - 1s 89us/sample - loss: 0.1795 - accuracy: 0.9423 - val_loss: 0.2856 - val_accuracy: 0.8853\n",
      "Epoch 24/40\n",
      "15000/15000 [==============================] - 1s 69us/sample - loss: 0.1715 - accuracy: 0.9455 - val_loss: 0.2843 - val_accuracy: 0.8846\n",
      "Epoch 25/40\n",
      "15000/15000 [==============================] - 1s 72us/sample - loss: 0.1643 - accuracy: 0.9490 - val_loss: 0.2843 - val_accuracy: 0.8843\n",
      "Epoch 26/40\n",
      "15000/15000 [==============================] - 1s 86us/sample - loss: 0.1572 - accuracy: 0.9520 - val_loss: 0.2839 - val_accuracy: 0.8857\n",
      "Epoch 27/40\n",
      "15000/15000 [==============================] - 1s 75us/sample - loss: 0.1507 - accuracy: 0.9543 - val_loss: 0.2845 - val_accuracy: 0.8837\n",
      "Epoch 28/40\n",
      "15000/15000 [==============================] - 1s 82us/sample - loss: 0.1444 - accuracy: 0.9570 - val_loss: 0.2854 - val_accuracy: 0.8837\n",
      "Epoch 29/40\n",
      "15000/15000 [==============================] - 1s 98us/sample - loss: 0.1386 - accuracy: 0.9587 - val_loss: 0.2854 - val_accuracy: 0.8861\n",
      "Epoch 30/40\n",
      "15000/15000 [==============================] - 2s 122us/sample - loss: 0.1331 - accuracy: 0.9604 - val_loss: 0.2865 - val_accuracy: 0.8868\n",
      "Epoch 31/40\n",
      "15000/15000 [==============================] - 1s 90us/sample - loss: 0.1283 - accuracy: 0.9621 - val_loss: 0.2879 - val_accuracy: 0.8861\n",
      "Epoch 32/40\n",
      "15000/15000 [==============================] - 1s 68us/sample - loss: 0.1226 - accuracy: 0.9658 - val_loss: 0.2894 - val_accuracy: 0.8858\n",
      "Epoch 33/40\n",
      "15000/15000 [==============================] - 1s 69us/sample - loss: 0.1180 - accuracy: 0.9671 - val_loss: 0.2921 - val_accuracy: 0.8861\n",
      "Epoch 34/40\n",
      "15000/15000 [==============================] - 1s 90us/sample - loss: 0.1137 - accuracy: 0.9691 - val_loss: 0.2946 - val_accuracy: 0.8851\n",
      "Epoch 35/40\n",
      "15000/15000 [==============================] - 1s 64us/sample - loss: 0.1092 - accuracy: 0.9698 - val_loss: 0.2978 - val_accuracy: 0.8833\n",
      "Epoch 36/40\n",
      "15000/15000 [==============================] - 1s 55us/sample - loss: 0.1051 - accuracy: 0.9723 - val_loss: 0.3001 - val_accuracy: 0.8832\n",
      "Epoch 37/40\n",
      "15000/15000 [==============================] - 1s 71us/sample - loss: 0.1009 - accuracy: 0.9737 - val_loss: 0.3021 - val_accuracy: 0.8848\n",
      "Epoch 38/40\n",
      "15000/15000 [==============================] - 2s 110us/sample - loss: 0.0972 - accuracy: 0.9756 - val_loss: 0.3041 - val_accuracy: 0.8844\n",
      "Epoch 39/40\n",
      "15000/15000 [==============================] - 2s 131us/sample - loss: 0.0935 - accuracy: 0.9778 - val_loss: 0.3071 - val_accuracy: 0.8834\n",
      "Epoch 40/40\n",
      "15000/15000 [==============================] - 1s 77us/sample - loss: 0.0902 - accuracy: 0.9781 - val_loss: 0.3107 - val_accuracy: 0.8835\n"
     ]
    }
   ],
   "source": [
    "history = model.fit(\n",
    "    x_train,\n",
    "    y_train,\n",
    "    epochs = 40,\n",
    "    batch_size = 512,\n",
    "    validation_data = (x_val, y_val),\n",
    "    verbose = 1\n",
    ")"
   ]
  },
  {
   "cell_type": "markdown",
   "metadata": {},
   "source": [
    "### 模型评估\n",
    "\n",
    "使用测试数据对模型进行简单的评估，使用简单的方法就可以得到 87% 的准确率。如果采用更高级的方法，模型的准确率会接近 95%。"
   ]
  },
  {
   "cell_type": "code",
   "execution_count": 49,
   "metadata": {
    "scrolled": true
   },
   "outputs": [
    {
     "name": "stdout",
     "output_type": "stream",
     "text": [
      "25000/25000 [==============================] - 1s 35us/sample - loss: 0.3324 - accuracy: 0.8729\n",
      "[0.33243002106666564, 0.87292]\n"
     ]
    }
   ],
   "source": [
    "results = model.evaluate(test_data, test_labels)\n",
    "print(results)"
   ]
  },
  {
   "cell_type": "markdown",
   "metadata": {},
   "source": [
    "### 创建准确率和损失随时间变化的图\n",
    "\n",
    "model.fit() 返回一个 History 对象，该对象包含一个字典，其中包括训练期间发生的所有情况：\n"
   ]
  },
  {
   "cell_type": "code",
   "execution_count": 50,
   "metadata": {},
   "outputs": [
    {
     "data": {
      "text/plain": [
       "dict_keys(['loss', 'accuracy', 'val_loss', 'val_accuracy'])"
      ]
     },
     "execution_count": 50,
     "metadata": {},
     "output_type": "execute_result"
    }
   ],
   "source": [
    "history_dict = history.history\n",
    "history_dict.keys()"
   ]
  },
  {
   "cell_type": "code",
   "execution_count": 51,
   "metadata": {},
   "outputs": [
    {
     "data": {
      "image/png": "[encoded data removed]",
      "text/plain": [
       "<Figure size 720x360 with 2 Axes>"
      ]
     },
     "metadata": {
      "needs_background": "light"
     },
     "output_type": "display_data"
    }
   ],
   "source": [
    "import matplotlib.pyplot as plt\n",
    "\n",
    "acc = history.history['accuracy']\n",
    "val_acc = history.history['val_accuracy']\n",
    "loss = history.history['loss']\n",
    "val_loss = history.history['val_loss']\n",
    "\n",
    "epochs = range(1, len(acc) + 1)\n",
    "\n",
    "fig = plt.figure(figsize=(10,5))\n",
    "\n",
    "axes = fig.subplots(1, 2)\n",
    "\n",
    "# \"bo\" is for \"blue dot\"\n",
    "axes[0].plot(epochs, loss, 'bo', label = 'Training loss')\n",
    "\n",
    "# \"b\" is for \"solid blue line\"\n",
    "axes[0].plot(epochs, val_loss, 'b', label = 'Validation loss')\n",
    "axes[0].title.set_text('Training and validation loss')\n",
    "axes[0].set_xlabel('Epochs')\n",
    "axes[0].set_ylabel('Loss')\n",
    "axes[0].legend()\n",
    "\n",
    "\n",
    "# \"bo\" is for \"blue dot\"\n",
    "axes[1].plot(epochs, acc, 'bo', label = 'Training Accuracy')\n",
    "\n",
    "# \"b\" is for \"solid blue line\"\n",
    "axes[1].plot(epochs, val_acc, 'b', label = 'Validation Accuracy')\n",
    "axes[1].title.set_text('Training and validation Accuracy')\n",
    "axes[1].set_xlabel('Epochs')\n",
    "axes[1].set_ylabel('Loss')\n",
    "axes[1].legend()\n",
    "\n",
    "\n",
    "plt.show()"
   ]
  },
  {
   "cell_type": "markdown",
   "metadata": {},
   "source": [
    "从损失图像可以看出，validate accuracy 在大约 20 个周期后达到了峰值。后面就会出现一种过拟合的现象。我们要防止出现这种问题。"
   ]
  }
 ],
 "metadata": {
  "kernelspec": {
   "display_name": "Python 3",
   "language": "python",
   "name": "python3"
  },
  "language_info": {
   "codemirror_mode": {
    "name": "ipython",
    "version": 3
   },
   "file_extension": ".py",
   "mimetype": "text/x-python",
   "name": "python",
   "nbconvert_exporter": "python",
   "pygments_lexer": "ipython3",
   "version": "3.7.3"
  }
 },
 "nbformat": 4,
 "nbformat_minor": 2
}
