{
 "cells": [
  {
   "cell_type": "markdown",
   "metadata": {},
   "source": [
    "## 模型的保存与恢复\n",
    "\n",
    "模型的处理过程可以保存下来。\n",
    "\n",
    "当发布模型时，我们需要共享的是：\n",
    "\n",
    "- 创建模型的代码 code\n",
    "- 模型训练的参数\n",
    "\n",
    "**注意**, 因为保存下来的是模型代码，所以代码要注意安全问题。\n",
    "\n",
    "### 数据集准备\n",
    "\n",
    "本例中，我们使用 Keras 来对 mnist 数据集进行训练。\n"
   ]
  },
  {
   "cell_type": "code",
   "execution_count": 9,
   "metadata": {},
   "outputs": [
    {
     "name": "stdout",
     "output_type": "stream",
     "text": [
      "2.0.0-alpha0\n"
     ]
    }
   ],
   "source": [
    "import os\n",
    "import tensorflow as tf\n",
    "from tensorflow import keras\n",
    "\n",
    "print(tf.__version__)\n"
   ]
  },
  {
   "cell_type": "code",
   "execution_count": 10,
   "metadata": {},
   "outputs": [],
   "source": [
    "mnist = keras.datasets.mnist\n",
    "\n",
    "(train_images, train_labels), (test_images, test_labels) = mnist.load_data()\n",
    "\n",
    "train_labels = train_labels[:1000]\n",
    "test_labels = test_labels[:1000]\n",
    "\n",
    "train_images = train_images[:1000].reshape(-1, 28 * 28) / 255.0\n",
    "test_images = test_images[:1000].reshape(-1, 28 * 28) / 255.0\n",
    "\n"
   ]
  },
  {
   "cell_type": "code",
   "execution_count": 24,
   "metadata": {},
   "outputs": [
    {
     "data": {
      "text/plain": [
       "{0, 1, 2, 3, 4, 5, 6, 7, 8, 9}"
      ]
     },
     "execution_count": 24,
     "metadata": {},
     "output_type": "execute_result"
    }
   ],
   "source": [
    "len(test_labels)\n",
    "set(train_labels)"
   ]
  },
  {
   "cell_type": "markdown",
   "metadata": {},
   "source": [
    "### 模型定义"
   ]
  },
  {
   "cell_type": "code",
   "execution_count": 26,
   "metadata": {},
   "outputs": [],
   "source": [
    "# Returns a short sequential model\n",
    "def create_model():\n",
    "    model = keras.Sequential([\n",
    "        keras.layers.Dense(\n",
    "            512,\n",
    "            activation = tf.nn.relu,\n",
    "            input_shape = (784,)\n",
    "        ),\n",
    "        keras.layers.Dropout(0.2),\n",
    "        keras.layers.Dense(10, activation = tf.nn.softmax)\n",
    "    ])\n",
    "    \n",
    "    model.compile(\n",
    "        optimizer = keras.optimizers.Adam(),\n",
    "        loss = keras.losses.sparse_categorical_crossentropy,\n",
    "        metrics = ['accuracy']\n",
    "    )\n",
    "    \n",
    "    return model\n",
    "    "
   ]
  },
  {
   "cell_type": "code",
   "execution_count": 27,
   "metadata": {},
   "outputs": [
    {
     "name": "stdout",
     "output_type": "stream",
     "text": [
      "Model: \"sequential_8\"\n",
      "_________________________________________________________________\n",
      "Layer (type)                 Output Shape              Param #   \n",
      "=================================================================\n",
      "dense_16 (Dense)             (None, 512)               401920    \n",
      "_________________________________________________________________\n",
      "dropout_8 (Dropout)          (None, 512)               0         \n",
      "_________________________________________________________________\n",
      "dense_17 (Dense)             (None, 10)                5130      \n",
      "=================================================================\n",
      "Total params: 407,050\n",
      "Trainable params: 407,050\n",
      "Non-trainable params: 0\n",
      "_________________________________________________________________\n"
     ]
    }
   ],
   "source": [
    "model = create_model()\n",
    "model.summary()"
   ]
  },
  {
   "cell_type": "markdown",
   "metadata": {},
   "source": [
    "### 保存检查点, checkpoints \n",
    "\n",
    "最常见的情况就是在训练过程中和训练结束后保存相应的检查点，checkpoints。这样在使用模型时就不需要重新训练了，而且训练中断还可以从检查点中恢复。\n",
    "\n",
    "#### 检查点回调的使用\n",
    "\n",
    "在训练的过程中，传递一个 `ModelCheckpoint` 回调即可。"
   ]
  },
  {
   "cell_type": "code",
   "execution_count": 29,
   "metadata": {
    "collapsed": true
   },
   "outputs": [
    {
     "name": "stdout",
     "output_type": "stream",
     "text": [
      "Train on 1000 samples, validate on 1000 samples\n",
      "Epoch 1/10\n",
      " 128/1000 [==>...........................] - ETA: 0s - loss: 2.3501 - accuracy: 0.1250\n",
      "Epoch 00001: saving model to training_1/cp.ckpt\n",
      "1000/1000 [==============================] - 0s 324us/sample - loss: 1.7311 - accuracy: 0.5070 - val_loss: 1.2325 - val_accuracy: 0.7330\n",
      "Epoch 2/10\n",
      " 896/1000 [=========================>....] - ETA: 0s - loss: 0.8324 - accuracy: 0.8192\n",
      "Epoch 00002: saving model to training_1/cp.ckpt\n",
      "1000/1000 [==============================] - 0s 125us/sample - loss: 0.8069 - accuracy: 0.8230 - val_loss: 0.7769 - val_accuracy: 0.7840\n",
      "Epoch 3/10\n",
      " 640/1000 [==================>...........] - ETA: 0s - loss: 0.5237 - accuracy: 0.8641\n",
      "Epoch 00003: saving model to training_1/cp.ckpt\n",
      "1000/1000 [==============================] - 0s 161us/sample - loss: 0.4968 - accuracy: 0.8720 - val_loss: 0.6021 - val_accuracy: 0.8210\n",
      "Epoch 4/10\n",
      " 640/1000 [==================>...........] - ETA: 0s - loss: 0.3529 - accuracy: 0.9094\n",
      "Epoch 00004: saving model to training_1/cp.ckpt\n",
      "1000/1000 [==============================] - 0s 152us/sample - loss: 0.3725 - accuracy: 0.9000 - val_loss: 0.5351 - val_accuracy: 0.8340\n",
      "Epoch 5/10\n",
      " 896/1000 [=========================>....] - ETA: 0s - loss: 0.3010 - accuracy: 0.9163\n",
      "Epoch 00005: saving model to training_1/cp.ckpt\n",
      "1000/1000 [==============================] - 0s 143us/sample - loss: 0.3019 - accuracy: 0.9160 - val_loss: 0.4764 - val_accuracy: 0.8560\n",
      "Epoch 6/10\n",
      " 768/1000 [======================>.......] - ETA: 0s - loss: 0.2397 - accuracy: 0.9440\n",
      "Epoch 00006: saving model to training_1/cp.ckpt\n",
      "1000/1000 [==============================] - 0s 154us/sample - loss: 0.2474 - accuracy: 0.9390 - val_loss: 0.4538 - val_accuracy: 0.8580\n",
      "Epoch 7/10\n",
      " 640/1000 [==================>...........] - ETA: 0s - loss: 0.1860 - accuracy: 0.9531\n",
      "Epoch 00007: saving model to training_1/cp.ckpt\n",
      "1000/1000 [==============================] - 0s 164us/sample - loss: 0.2033 - accuracy: 0.9520 - val_loss: 0.4436 - val_accuracy: 0.8640\n",
      "Epoch 8/10\n",
      " 896/1000 [=========================>....] - ETA: 0s - loss: 0.1859 - accuracy: 0.9609\n",
      "Epoch 00008: saving model to training_1/cp.ckpt\n",
      "1000/1000 [==============================] - 0s 143us/sample - loss: 0.1807 - accuracy: 0.9640 - val_loss: 0.4185 - val_accuracy: 0.8640\n",
      "Epoch 9/10\n",
      " 640/1000 [==================>...........] - ETA: 0s - loss: 0.1487 - accuracy: 0.9719\n",
      "Epoch 00009: saving model to training_1/cp.ckpt\n",
      "1000/1000 [==============================] - 0s 230us/sample - loss: 0.1509 - accuracy: 0.9700 - val_loss: 0.4233 - val_accuracy: 0.8640\n",
      "Epoch 10/10\n",
      " 512/1000 [==============>...............] - ETA: 0s - loss: 0.1182 - accuracy: 0.9902\n",
      "Epoch 00010: saving model to training_1/cp.ckpt\n",
      "1000/1000 [==============================] - 0s 183us/sample - loss: 0.1277 - accuracy: 0.9860 - val_loss: 0.4097 - val_accuracy: 0.8600\n"
     ]
    },
    {
     "data": {
      "text/plain": [
       "<tensorflow.python.keras.callbacks.History at 0x1317b58d0>"
      ]
     },
     "execution_count": 29,
     "metadata": {},
     "output_type": "execute_result"
    }
   ],
   "source": [
    "checkpoint_path = \"training_1/cp.ckpt\"\n",
    "checkpoint_dir = os.path.dirname(checkpoint_path)\n",
    "\n",
    "cp_callback = keras.callbacks.ModelCheckpoint(\n",
    "    checkpoint_path,\n",
    "    save_weights_only = True,\n",
    "    verbose = 1\n",
    ")\n",
    "\n",
    "model = create_model()\n",
    "model.fit(\n",
    "    train_images,\n",
    "    train_labels,\n",
    "    batch_size = 128,\n",
    "    epochs = 10,\n",
    "    validation_data = (test_images, test_labels),\n",
    "    callbacks = [cp_callback]\n",
    ")"
   ]
  },
  {
   "cell_type": "code",
   "execution_count": 32,
   "metadata": {},
   "outputs": [
    {
     "name": "stdout",
     "output_type": "stream",
     "text": [
      "total 9568\r\n",
      "-rw-r--r--  1 eason  staff    71B Jun 26 17:11 checkpoint\r\n",
      "-rw-r--r--  1 eason  staff   4.7M Jun 26 17:11 cp.ckpt.data-00000-of-00001\r\n",
      "-rw-r--r--  1 eason  staff   1.5K Jun 26 17:11 cp.ckpt.index\r\n"
     ]
    }
   ],
   "source": [
    "!ls -lh {checkpoint_dir}"
   ]
  },
  {
   "cell_type": "markdown",
   "metadata": {},
   "source": [
    "现在，我们就可以再创建一个新的模型通过加载保存的参数即可恢复。"
   ]
  },
  {
   "cell_type": "code",
   "execution_count": 36,
   "metadata": {},
   "outputs": [
    {
     "name": "stdout",
     "output_type": "stream",
     "text": [
      "1000/1000 [==============================] - 0s 105us/sample - loss: 2.3328 - accuracy: 0.0870\n",
      "Untrained model, accuracy:  8.70%\n",
      "1000/1000 [==============================] - 0s 58us/sample - loss: 0.4097 - accuracy: 0.8600\n",
      "Restored model, accuracy: 86.00%\n"
     ]
    }
   ],
   "source": [
    "model = create_model()\n",
    "\n",
    "# 一个未经训练后的模型\n",
    "loss, acc = model.evaluate(test_images, test_labels)\n",
    "print('Untrained model, accuracy: {:5.2f}%'.format(100 * acc))\n",
    "\n",
    "# 通过加载保存参数后的模型\n",
    "model.load_weights(checkpoint_path)\n",
    "loss, acc = model.evaluate(test_images, test_labels)\n",
    "print('Restored model, accuracy: {:5.2f}%'.format(100 * acc))"
   ]
  },
  {
   "cell_type": "markdown",
   "metadata": {},
   "source": [
    "### 检查点的选项\n",
    "\n",
    "检查点还可配置相应的名称和检查点的名称。下面我们就训练一个新模型，并且每经过 5 个 epochs 保存一个新的检查点文件。\n"
   ]
  },
  {
   "cell_type": "code",
   "execution_count": 45,
   "metadata": {},
   "outputs": [
    {
     "name": "stdout",
     "output_type": "stream",
     "text": [
      "\n",
      "Epoch 00005: saving model to training_2/cp-0005.ckpt\n",
      "\n",
      "Epoch 00010: saving model to training_2/cp-0010.ckpt\n",
      "\n",
      "Epoch 00015: saving model to training_2/cp-0015.ckpt\n",
      "\n",
      "Epoch 00020: saving model to training_2/cp-0020.ckpt\n",
      "\n",
      "Epoch 00025: saving model to training_2/cp-0025.ckpt\n",
      "\n",
      "Epoch 00030: saving model to training_2/cp-0030.ckpt\n",
      "\n",
      "Epoch 00035: saving model to training_2/cp-0035.ckpt\n",
      "\n",
      "Epoch 00040: saving model to training_2/cp-0040.ckpt\n",
      "\n",
      "Epoch 00045: saving model to training_2/cp-0045.ckpt\n",
      "\n",
      "Epoch 00050: saving model to training_2/cp-0050.ckpt\n"
     ]
    },
    {
     "data": {
      "text/plain": [
       "<tensorflow.python.keras.callbacks.History at 0x127a6bb38>"
      ]
     },
     "execution_count": 45,
     "metadata": {},
     "output_type": "execute_result"
    }
   ],
   "source": [
    "# include the epoch in the file name. (uses `str.format`)\n",
    "checkpoint_path = \"training_2/cp-{epoch:04d}.ckpt\"\n",
    "checkpoint_dir = os.path.dirname(checkpoint_path)\n",
    "\n",
    "cp_callback = tf.keras.callbacks.ModelCheckpoint(\n",
    "    checkpoint_path,\n",
    "    verbose = 1,\n",
    "    save_weights_only = True,\n",
    "    period = 5 # Every 5-epochs we save a new file.\n",
    ")\n",
    "\n",
    "model = create_model()\n",
    "model.save_weights(checkpoint_path.format(epoch = 0))\n",
    "\n",
    "model.fit(\n",
    "    train_images,\n",
    "    train_labels,\n",
    "    epochs = 50,\n",
    "    callbacks = [cp_callback],\n",
    "    validation_data = (test_images, test_labels),\n",
    "    verbose = 0\n",
    ")"
   ]
  },
  {
   "cell_type": "code",
   "execution_count": 46,
   "metadata": {},
   "outputs": [
    {
     "name": "stdout",
     "output_type": "stream",
     "text": [
      "checkpoint                       cp-0025.ckpt.index\r\n",
      "cp-0000.ckpt.data-00000-of-00001 cp-0030.ckpt.data-00000-of-00001\r\n",
      "cp-0000.ckpt.index               cp-0030.ckpt.index\r\n",
      "cp-0005.ckpt.data-00000-of-00001 cp-0035.ckpt.data-00000-of-00001\r\n",
      "cp-0005.ckpt.index               cp-0035.ckpt.index\r\n",
      "cp-0010.ckpt.data-00000-of-00001 cp-0040.ckpt.data-00000-of-00001\r\n",
      "cp-0010.ckpt.index               cp-0040.ckpt.index\r\n",
      "cp-0015.ckpt.data-00000-of-00001 cp-0045.ckpt.data-00000-of-00001\r\n",
      "cp-0015.ckpt.index               cp-0045.ckpt.index\r\n",
      "cp-0020.ckpt.data-00000-of-00001 cp-0050.ckpt.data-00000-of-00001\r\n",
      "cp-0020.ckpt.index               cp-0050.ckpt.index\r\n",
      "cp-0025.ckpt.data-00000-of-00001\r\n"
     ]
    }
   ],
   "source": [
    "!ls {checkpoint_dir}"
   ]
  },
  {
   "cell_type": "markdown",
   "metadata": {},
   "source": [
    "测试一下我们的新的保存点。默认情况下 tensorflow 只保存最近的5个检查点。"
   ]
  },
  {
   "cell_type": "code",
   "execution_count": 48,
   "metadata": {},
   "outputs": [
    {
     "name": "stdout",
     "output_type": "stream",
     "text": [
      "training_2/cp-0050.ckpt\n",
      "1000/1000 [==============================] - 0s 123us/sample - loss: 0.4856 - accuracy: 0.8780\n",
      "Restore model, accuracy: 87.80%\n"
     ]
    }
   ],
   "source": [
    "latest = tf.train.latest_checkpoint(checkpoint_dir)\n",
    "print(latest)\n",
    "\n",
    "model = create_model()\n",
    "model.load_weights(latest)\n",
    "\n",
    "loss, acc = model.evaluate(test_images, test_labels)\n",
    "print('Restore model, accuracy: {:5.2f}%'.format(100 * acc))"
   ]
  },
  {
   "cell_type": "markdown",
   "metadata": {},
   "source": [
    "### 这些文件是什么？\n",
    "\n",
    "上面的文件保存的训练权重的二进制形式。 data 文件保存的是数据，而 index 文件的是数据保存的索引文件。"
   ]
  },
  {
   "cell_type": "markdown",
   "metadata": {},
   "source": [
    "### 手动保存 weights \n",
    "\n",
    "调用 `save_weights()` 方法也可以自己手动保存检查点。"
   ]
  },
  {
   "cell_type": "code",
   "execution_count": 49,
   "metadata": {},
   "outputs": [
    {
     "name": "stdout",
     "output_type": "stream",
     "text": [
      "1000/1000 [==============================] - 0s 120us/sample - loss: 0.4856 - accuracy: 0.8780\n",
      "Restore model, accuracy: 87.80%\n"
     ]
    }
   ],
   "source": [
    "# save the weights\n",
    "model.save_weights('./checkpoints/my_checkpoint')\n",
    "\n",
    "# restore the weights\n",
    "model = create_model()\n",
    "model.load_weights('./checkpoints/my_checkpoint')\n",
    "\n",
    "loss, acc = model.evaluate(test_images, test_labels)\n",
    "print('Restore model, accuracy: {:5.2f}%'.format(100 * acc))\n"
   ]
  },
  {
   "cell_type": "markdown",
   "metadata": {},
   "source": [
    "### 保存整个模型\n",
    "\n",
    "上面我们只是保存了训练后的参数，我们在使用的时候还需要调用 `create_model()` 即原来的模型代码。如果我们将整个模型存储下来，那么我们就不保存代码了。我们需要保存权重参数，模型配置，甚至是 optimizer 的配置。\n",
    "\n",
    "将整个模型保存下来会非常有用，这样其它语文的 API 也可以使用它。如 TensorFlow.js。\n",
    "\n",
    "#### 将模型保存为 HDF5 文件\n",
    "\n",
    "Keras 提供将模型保存为 HDF5 标准的文件。保存后的模型文件可以看成仅仅是一个二进制文件。"
   ]
  },
  {
   "cell_type": "code",
   "execution_count": 50,
   "metadata": {},
   "outputs": [
    {
     "name": "stdout",
     "output_type": "stream",
     "text": [
      "Epoch 1/10\n",
      "1000/1000 [==============================] - 0s 222us/sample - loss: 1.1920 - accuracy: 0.6550\n",
      "Epoch 2/10\n",
      "1000/1000 [==============================] - 0s 125us/sample - loss: 0.4161 - accuracy: 0.8760\n",
      "Epoch 3/10\n",
      "1000/1000 [==============================] - 0s 150us/sample - loss: 0.2946 - accuracy: 0.9150\n",
      "Epoch 4/10\n",
      "1000/1000 [==============================] - 0s 132us/sample - loss: 0.2169 - accuracy: 0.9480\n",
      "Epoch 5/10\n",
      "1000/1000 [==============================] - 0s 140us/sample - loss: 0.1520 - accuracy: 0.9700\n",
      "Epoch 6/10\n",
      "1000/1000 [==============================] - 0s 136us/sample - loss: 0.1205 - accuracy: 0.9830\n",
      "Epoch 7/10\n",
      "1000/1000 [==============================] - 0s 129us/sample - loss: 0.0899 - accuracy: 0.9880\n",
      "Epoch 8/10\n",
      "1000/1000 [==============================] - 0s 130us/sample - loss: 0.0703 - accuracy: 0.9920\n",
      "Epoch 9/10\n",
      "1000/1000 [==============================] - 0s 132us/sample - loss: 0.0505 - accuracy: 0.9970\n",
      "Epoch 10/10\n",
      "1000/1000 [==============================] - 0s 132us/sample - loss: 0.0392 - accuracy: 0.9990\n"
     ]
    }
   ],
   "source": [
    "model = create_model()\n",
    "\n",
    "model.fit(\n",
    "    train_images, \n",
    "    train_labels,\n",
    "    epochs = 10\n",
    ")\n",
    "\n",
    "# Save entire model to a HDF5 file.\n",
    "model.save('my_model.h5')"
   ]
  },
  {
   "cell_type": "code",
   "execution_count": 53,
   "metadata": {},
   "outputs": [
    {
     "name": "stdout",
     "output_type": "stream",
     "text": [
      "-rw-r--r--  1 eason  staff   4.7M Jun 26 17:56 my_model.h5\r\n"
     ]
    }
   ],
   "source": [
    "!ls -lh my_model.h5 "
   ]
  },
  {
   "cell_type": "markdown",
   "metadata": {},
   "source": [
    "#### 加载模型"
   ]
  },
  {
   "cell_type": "code",
   "execution_count": 55,
   "metadata": {},
   "outputs": [
    {
     "name": "stdout",
     "output_type": "stream",
     "text": [
      "Model: \"sequential_18\"\n",
      "_________________________________________________________________\n",
      "Layer (type)                 Output Shape              Param #   \n",
      "=================================================================\n",
      "dense_36 (Dense)             (None, 512)               401920    \n",
      "_________________________________________________________________\n",
      "dropout_18 (Dropout)         (None, 512)               0         \n",
      "_________________________________________________________________\n",
      "dense_37 (Dense)             (None, 10)                5130      \n",
      "=================================================================\n",
      "Total params: 407,050\n",
      "Trainable params: 407,050\n",
      "Non-trainable params: 0\n",
      "_________________________________________________________________\n"
     ]
    }
   ],
   "source": [
    "# Recreate the exact same model, including weights and optimizer\n",
    "\n",
    "new_model = keras.models.load_model('my_model.h5')\n",
    "new_model.summary()"
   ]
  },
  {
   "cell_type": "code",
   "execution_count": 56,
   "metadata": {},
   "outputs": [
    {
     "name": "stdout",
     "output_type": "stream",
     "text": [
      "1000/1000 [==============================] - 0s 107us/sample - loss: 0.4182 - accuracy: 0.8650\n",
      "Restored model, accuracy: 86.50%\n"
     ]
    }
   ],
   "source": [
    "loss, acc = new_model.evaluate(test_images, test_labels)\n",
    "print(\"Restored model, accuracy: {:5.2f}%\".format(100*acc))"
   ]
  },
  {
   "cell_type": "markdown",
   "metadata": {},
   "source": [
    "#### 作为 tf.keras 的模型保存, As a saved_model\n",
    "\n",
    "**注意**, tf.keras model 是实验性的，后面的版本可能会变化。 从下面的信息就可以出 API 又换了。"
   ]
  },
  {
   "cell_type": "code",
   "execution_count": 57,
   "metadata": {},
   "outputs": [
    {
     "name": "stdout",
     "output_type": "stream",
     "text": [
      "Epoch 1/5\n",
      "1000/1000 [==============================] - 0s 293us/sample - loss: 1.1778 - accuracy: 0.6720\n",
      "Epoch 2/5\n",
      "1000/1000 [==============================] - 0s 168us/sample - loss: 0.4316 - accuracy: 0.8700\n",
      "Epoch 3/5\n",
      "1000/1000 [==============================] - 0s 155us/sample - loss: 0.2821 - accuracy: 0.9260\n",
      "Epoch 4/5\n",
      "1000/1000 [==============================] - 0s 141us/sample - loss: 0.2009 - accuracy: 0.9550\n",
      "Epoch 5/5\n",
      "1000/1000 [==============================] - 0s 226us/sample - loss: 0.1617 - accuracy: 0.9680\n"
     ]
    },
    {
     "ename": "AttributeError",
     "evalue": "module 'tensorflow' has no attribute 'contrib'",
     "output_type": "error",
     "traceback": [
      "\u001b[0;31m---------------------------------------------------------------------------\u001b[0m",
      "\u001b[0;31mAttributeError\u001b[0m                            Traceback (most recent call last)",
      "\u001b[0;32m<ipython-input-57-304d817f4802>\u001b[0m in \u001b[0;36m<module>\u001b[0;34m\u001b[0m\n\u001b[1;32m      2\u001b[0m \u001b[0mmodel\u001b[0m\u001b[0;34m.\u001b[0m\u001b[0mfit\u001b[0m\u001b[0;34m(\u001b[0m\u001b[0mtrain_images\u001b[0m\u001b[0;34m,\u001b[0m \u001b[0mtrain_labels\u001b[0m\u001b[0;34m,\u001b[0m \u001b[0mepochs\u001b[0m \u001b[0;34m=\u001b[0m \u001b[0;36m5\u001b[0m\u001b[0;34m)\u001b[0m\u001b[0;34m\u001b[0m\u001b[0;34m\u001b[0m\u001b[0m\n\u001b[1;32m      3\u001b[0m \u001b[0;34m\u001b[0m\u001b[0m\n\u001b[0;32m----> 4\u001b[0;31m saved_model_path = tf.contrib.saved_model.save_keras_model(\n\u001b[0m\u001b[1;32m      5\u001b[0m     \u001b[0mmodel\u001b[0m\u001b[0;34m,\u001b[0m\u001b[0;34m\u001b[0m\u001b[0;34m\u001b[0m\u001b[0m\n\u001b[1;32m      6\u001b[0m     \u001b[0;34m'./saved_models'\u001b[0m\u001b[0;34m\u001b[0m\u001b[0;34m\u001b[0m\u001b[0m\n",
      "\u001b[0;31mAttributeError\u001b[0m: module 'tensorflow' has no attribute 'contrib'"
     ]
    }
   ],
   "source": [
    "model = create_model()\n",
    "model.fit(train_images, train_labels, epochs = 5)\n",
    "\n",
    "saved_model_path = tf.contrib.saved_model.save_keras_model(\n",
    "    model, \n",
    "    './saved_models'\n",
    ")"
   ]
  }
 ],
 "metadata": {
  "kernelspec": {
   "display_name": "Python 3",
   "language": "python",
   "name": "python3"
  },
  "language_info": {
   "codemirror_mode": {
    "name": "ipython",
    "version": 3
   },
   "file_extension": ".py",
   "mimetype": "text/x-python",
   "name": "python",
   "nbconvert_exporter": "python",
   "pygments_lexer": "ipython3",
   "version": "3.7.3"
  }
 },
 "nbformat": 4,
 "nbformat_minor": 2
}
