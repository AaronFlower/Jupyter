{
 "cells": [
  {
   "cell_type": "markdown",
   "metadata": {},
   "source": [
    "## CNN\n",
    "\n",
    "CNN 卷积神经网络。一般模型的结构都包含：卷积层(conv), 池化层（pooling), 密集层(dense)。\n",
    "\n",
    "对于 CNN 来讲，除了像 NN 那们我们需要学习到 Dense 上的参数，我们还需要学习到 conv 卷积层的参数。我们主要在卷积层上应用不同的 filter(kernel), 而且可能不止一个 filter。即在应用一个卷积层后我们的输出的通道会增加很多。\n",
    "\n",
    "\n",
    "而在应用 filter 时，因为 kernel 的 size 会使得原输入的矩阵缩减，我们可能需要使用 padding 来操持原矩阵。\n",
    "\n",
    "除了上面常见的三层外，Dropout 层也是不或缺的，我们可以用来防止过拟合。\n"
   ]
  },
  {
   "cell_type": "code",
   "execution_count": 1,
   "metadata": {},
   "outputs": [],
   "source": [
    "import tensorflow as tf\n",
    "from tensorflow import keras\n"
   ]
  },
  {
   "cell_type": "code",
   "execution_count": 7,
   "metadata": {},
   "outputs": [
    {
     "name": "stdout",
     "output_type": "stream",
     "text": [
      "(60000, 28, 28)\n",
      "(10000, 28, 28)\n"
     ]
    }
   ],
   "source": [
    "(train_images, train_labels),(test_images,test_labels) = keras.datasets.mnist.load_data()\n",
    "\n",
    "print(train_images.shape)\n",
    "print(test_images.shape)"
   ]
  },
  {
   "cell_type": "code",
   "execution_count": 11,
   "metadata": {},
   "outputs": [],
   "source": [
    "# mnist 数据每个样本只有一个通道, 我们需要把这个通常给 reshape 出来\n",
    "# 并且对图片进行规一化\n",
    "\n",
    "train_images = train_images.reshape((60000, 28,28,1))\n",
    "test_images = test_images.reshape((10000, 28,28,1))\n",
    "\n",
    "train_images = train_images / 255.0\n",
    "test_images = test_images /255.0"
   ]
  },
  {
   "cell_type": "markdown",
   "metadata": {},
   "source": [
    "### 创建模型\n",
    "\n",
    "#### 先创建模型的卷积基础"
   ]
  },
  {
   "cell_type": "code",
   "execution_count": 12,
   "metadata": {},
   "outputs": [],
   "source": [
    "model = keras.models.Sequential()\n",
    "model.add(keras.layers.Conv2D(32, (3, 3), activation='relu', input_shape=(28, 28, 1)))\n",
    "model.add(keras.layers.MaxPooling2D((2, 2)))\n",
    "model.add(keras.layers.Conv2D(64, (3, 3), activation='relu'))\n",
    "model.add(keras.layers.MaxPooling2D((2, 2)))\n",
    "model.add(keras.layers.Conv2D(64, (3, 3), activation='relu'))"
   ]
  },
  {
   "cell_type": "code",
   "execution_count": 14,
   "metadata": {},
   "outputs": [
    {
     "name": "stdout",
     "output_type": "stream",
     "text": [
      "Model: \"sequential\"\n",
      "_________________________________________________________________\n",
      "Layer (type)                 Output Shape              Param #   \n",
      "=================================================================\n",
      "conv2d (Conv2D)              (None, 26, 26, 32)        320       \n",
      "_________________________________________________________________\n",
      "max_pooling2d (MaxPooling2D) (None, 13, 13, 32)        0         \n",
      "_________________________________________________________________\n",
      "conv2d_1 (Conv2D)            (None, 11, 11, 64)        18496     \n",
      "_________________________________________________________________\n",
      "max_pooling2d_1 (MaxPooling2 (None, 5, 5, 64)          0         \n",
      "_________________________________________________________________\n",
      "conv2d_2 (Conv2D)            (None, 3, 3, 64)          36928     \n",
      "=================================================================\n",
      "Total params: 55,744\n",
      "Trainable params: 55,744\n",
      "Non-trainable params: 0\n",
      "_________________________________________________________________\n"
     ]
    }
   ],
   "source": [
    "model.summary()"
   ]
  },
  {
   "cell_type": "markdown",
   "metadata": {},
   "source": [
    "#### 分析下卷积层的输入及其参数个数\n",
    "\n",
    "1. 在输入层的卷积层我们在指定 `input_shape` 时不用指定其样本的 `batch size`, 即只是 `(28, 28, 1)` 而不是 `(60000, 28, 28, 1)`.\n",
    "2. 卷积层 `Conv2D` 的 output shape 可以用 28 - 3 + 1 = 26 来计算。但是更复杂的公式是：\n",
    "\n",
    "$$\n",
    "O = \\frac{(w - k + 2p)}{s} + 1\n",
    "$$\n",
    "\n",
    "其中，\n",
    "\n",
    "    - O, output 的 shape\n",
    "    - w, input 的 width\n",
    "    - k, kernel 的 size\n",
    "    - p, padding 的 size\n",
    "    - s, stride 的 size\n",
    "\n",
    "\n",
    "3. 池化层 `MaxPooling2D` 的 Output shape 可以用 26 / 2 = 13 来计算，即公式 $\\frac{w}{k}$. \n",
    "\n",
    "各层的参数计算如下，对于一个卷积层输出的通道都会有一个偏置参数，而输入的每个通道都会有一个 kernel 的参数需要学习。对于池化层是没有参数需要学习的，所以参数为 0 。所以有如下表格：\n",
    "\n",
    "|Layer (type)                 |Output Shape              |Param #   |\n",
    "|-----------------------------|--------------------------|----------|\n",
    "|conv2d (Conv2D)              |(None, 26, 26, 32)        |32 * (1 * (3 * 3) + 1) = 320       |\n",
    "|max_pooling2d (MaxPooling2D) |(None, 13, 13, 32)        |0         |\n",
    "|conv2d_1 (Conv2D)            |(None, 11, 11, 64)        |64 * (32 * (3 * 3) + 1) = 18496     |\n",
    "|max_pooling2d_1 (MaxPooling2 |(None, 5, 5, 64)          |0         |\n",
    "|conv2d_2 (Conv2D)            |(None, 3, 3, 64)          |64 * (64 * (3 * 3) + 1) = 36928    |\n",
    "\n"
   ]
  },
  {
   "cell_type": "markdown",
   "metadata": {},
   "source": [
    "#### 接下来就是在原有的卷积层上添加正常有 NN 就行了\n"
   ]
  },
  {
   "cell_type": "code",
   "execution_count": 17,
   "metadata": {},
   "outputs": [],
   "source": [
    "model.add(keras.layers.Flatten())\n",
    "model.add(keras.layers.Dense(64, activation='relu'))\n",
    "model.add(keras.layers.Dense(10, activation='softmax'))"
   ]
  },
  {
   "cell_type": "code",
   "execution_count": 18,
   "metadata": {},
   "outputs": [
    {
     "name": "stdout",
     "output_type": "stream",
     "text": [
      "Model: \"sequential\"\n",
      "_________________________________________________________________\n",
      "Layer (type)                 Output Shape              Param #   \n",
      "=================================================================\n",
      "conv2d (Conv2D)              (None, 26, 26, 32)        320       \n",
      "_________________________________________________________________\n",
      "max_pooling2d (MaxPooling2D) (None, 13, 13, 32)        0         \n",
      "_________________________________________________________________\n",
      "conv2d_1 (Conv2D)            (None, 11, 11, 64)        18496     \n",
      "_________________________________________________________________\n",
      "max_pooling2d_1 (MaxPooling2 (None, 5, 5, 64)          0         \n",
      "_________________________________________________________________\n",
      "conv2d_2 (Conv2D)            (None, 3, 3, 64)          36928     \n",
      "_________________________________________________________________\n",
      "flatten (Flatten)            (None, 576)               0         \n",
      "_________________________________________________________________\n",
      "dense (Dense)                (None, 64)                36928     \n",
      "_________________________________________________________________\n",
      "dense_1 (Dense)              (None, 10)                650       \n",
      "=================================================================\n",
      "Total params: 93,322\n",
      "Trainable params: 93,322\n",
      "Non-trainable params: 0\n",
      "_________________________________________________________________\n"
     ]
    }
   ],
   "source": [
    "model.summary()"
   ]
  },
  {
   "cell_type": "markdown",
   "metadata": {},
   "source": [
    "#### Compile and train the model"
   ]
  },
  {
   "cell_type": "code",
   "execution_count": 19,
   "metadata": {},
   "outputs": [
    {
     "name": "stdout",
     "output_type": "stream",
     "text": [
      "Epoch 1/5\n",
      "60000/60000 [==============================] - 44s 736us/sample - loss: 0.1584 - accuracy: 0.9513\n",
      "Epoch 2/5\n",
      "60000/60000 [==============================] - 54s 897us/sample - loss: 0.0505 - accuracy: 0.9848\n",
      "Epoch 3/5\n",
      "60000/60000 [==============================] - 60s 997us/sample - loss: 0.0350 - accuracy: 0.9892- loss: 0.0350 - accuracy: \n",
      "Epoch 4/5\n",
      "60000/60000 [==============================] - 57s 955us/sample - loss: 0.0266 - accuracy: 0.9919\n",
      "Epoch 5/5\n",
      "60000/60000 [==============================] - 52s 862us/sample - loss: 0.0205 - accuracy: 0.9936\n"
     ]
    },
    {
     "data": {
      "text/plain": [
       "<tensorflow.python.keras.callbacks.History at 0x105dab090>"
      ]
     },
     "execution_count": 19,
     "metadata": {},
     "output_type": "execute_result"
    }
   ],
   "source": [
    "model.compile(optimizer='adam',\n",
    "              loss='sparse_categorical_crossentropy',\n",
    "              metrics=['accuracy'])\n",
    "model.fit(train_images, train_labels, epochs=5)"
   ]
  },
  {
   "cell_type": "code",
   "execution_count": 21,
   "metadata": {},
   "outputs": [
    {
     "name": "stdout",
     "output_type": "stream",
     "text": [
      "10000/10000 [==============================] - 2s 153us/sample - loss: 0.0312 - accuracy: 0.9902\n"
     ]
    }
   ],
   "source": [
    "test_loss, test_acc = model.evaluate(test_images, test_labels)"
   ]
  },
  {
   "cell_type": "code",
   "execution_count": 22,
   "metadata": {},
   "outputs": [
    {
     "name": "stdout",
     "output_type": "stream",
     "text": [
      "loss : 0.03122959039947309\n",
      "accuarcy: 0.9902\n"
     ]
    }
   ],
   "source": [
    "print('loss :', test_loss)\n",
    "print('accuarcy:', test_acc)"
   ]
  }
 ],
 "metadata": {
  "kernelspec": {
   "display_name": "Python 3",
   "language": "python",
   "name": "python3"
  },
  "language_info": {
   "codemirror_mode": {
    "name": "ipython",
    "version": 3
   },
   "file_extension": ".py",
   "mimetype": "text/x-python",
   "name": "python",
   "nbconvert_exporter": "python",
   "pygments_lexer": "ipython3",
   "version": "3.7.4"
  }
 },
 "nbformat": 4,
 "nbformat_minor": 2
}
