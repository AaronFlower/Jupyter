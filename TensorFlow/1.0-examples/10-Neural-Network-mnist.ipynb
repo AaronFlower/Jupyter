{
 "cells": [
  {
   "cell_type": "markdown",
   "metadata": {},
   "source": [
    "## Neural Network Example\n",
    "\n",
    "<img src=\"https://camo.githubusercontent.com/269f47b8185a2ca349ead57db511250553fd918b/687474703a2f2f63733233316e2e6769746875622e696f2f6173736574732f6e6e312f6e657572616c5f6e6574322e6a706567\" />"
   ]
  },
  {
   "cell_type": "markdown",
   "metadata": {},
   "source": [
    "### TLDR;\n",
    "\n",
    "1. 数据一定要进行规一化处理，防止出现 NaN.\n"
   ]
  },
  {
   "cell_type": "code",
   "execution_count": 117,
   "metadata": {},
   "outputs": [],
   "source": [
    "\"\"\"Neural Network\n",
    "\n",
    "A 2-Hidden Layers Fully Connected Neural Network (a.k.a Multilayer Perceptron)\n",
    "implementation with TensorFlow. This example is using the MNIST database\n",
    "of handwritten digits (http://yann.lecun.com/exdb/mnist/).\n",
    "\n",
    "\"\"\"\n",
    "\n",
    "import numpy as np\n",
    "import tensorflow.compat.v1 as tf\n",
    "\n",
    "tf.disable_eager_execution()"
   ]
  },
  {
   "cell_type": "code",
   "execution_count": 118,
   "metadata": {},
   "outputs": [],
   "source": [
    "def load_dataset(epochs=None, batch_size=None):\n",
    "    \"\"\"\n",
    "    load mnist dataset, train((60000, 28, 28), ()), test((10000, 28, 28), ())\n",
    "    \"\"\"\n",
    "    mnist = tf.keras.datasets.mnist\n",
    "    train, test = mnist.load_data()\n",
    "    train_dataset = tf.data.Dataset.from_tensor_slices(train)\n",
    "    test_dataset = tf.data.Dataset.from_tensor_slices(test)\n",
    "    train_dataset = train_dataset.map(lambda x, y: (tf.reshape(x / 255, [784,]), tf.one_hot(y, 10)))\n",
    "    test_dataset = test_dataset.map(lambda x, y:(tf.reshape(x / 255, [784,]), tf.one_hot(y, 10)))\n",
    "    train_dataset = train_dataset.shuffle(60000)\n",
    "    test_dataset = test_dataset.shuffle(10000)\n",
    "    \n",
    "    if epochs is not None:\n",
    "        train_dataset = train_dataset.repeat(epochs)\n",
    "    if batch_size is not None:\n",
    "        train_dataset = train_dataset.batch(batch_size)\n",
    "        test_dataset = test_dataset.batch(batch_size)\n",
    "    \n",
    "    return train_dataset, test_dataset"
   ]
  },
  {
   "cell_type": "code",
   "execution_count": 119,
   "metadata": {},
   "outputs": [],
   "source": [
    "def glorot(n1, n2):\n",
    "    \"\"\"\n",
    "    Glorot Xiavier Initialization\n",
    "    \"\"\"\n",
    "    return np.sqrt(2.0 / (n1 + n2))\n",
    "\n",
    "def NN_Model():\n",
    "    n_hidden_1 = 32\n",
    "    n_hidden_2 = 32\n",
    "    num_input = 784\n",
    "    num_classes = 10\n",
    "    \n",
    "    glorot = tf.glorot_normal_initializer()\n",
    "    \n",
    "    X = tf.placeholder(tf.float32, [None, num_input])\n",
    "    Y = tf.placeholder(tf.float32, [None, num_classes])\n",
    "    \n",
    "    weights = {\n",
    "        'h1': tf.Variable(glorot([num_input, n_hidden_1])),\n",
    "        'h2': tf.Variable(glorot([n_hidden_1, n_hidden_2])),\n",
    "        'out': tf.Variable(glorot([n_hidden_2, num_classes])),\n",
    "    }\n",
    "    biases = {\n",
    "        'h1': tf.Variable(tf.zeros([n_hidden_1,])),\n",
    "        'h2': tf.Variable(tf.zeros([n_hidden_2,])),\n",
    "        'out': tf.Variable(tf.zeros([num_classes,])),\n",
    "    }\n",
    "    \n",
    "#     z2 = tf.matmul(weights['h1'], X)\n",
    "    z2 = tf.add(tf.matmul(X, weights['h1']), biases['h1'])\n",
    "    a2 = tf.nn.leaky_relu(z2)\n",
    "    z3 = tf.add(tf.matmul(a2, weights['h2']), biases['h2'])\n",
    "    a3 = tf.nn.leaky_relu(z3)\n",
    "    z4 = tf.add(tf.matmul(a3, weights['out']), biases['out'])\n",
    "    y_pred = tf.nn.softmax(z4)\n",
    "#     y_pred = z4\n",
    "    \n",
    "    cross_entropy = -Y * tf.log(y_pred)\n",
    "    loss = tf.reduce_sum(tf.reduce_sum(cross_entropy, reduction_indices=[1]))\n",
    "    \n",
    "    return X, Y, y_pred, loss"
   ]
  },
  {
   "cell_type": "code",
   "execution_count": 126,
   "metadata": {},
   "outputs": [],
   "source": [
    "n_samples = 60000\n",
    "learning_rate = 0.1\n",
    "epochs = 10\n",
    "batch_size = 100\n",
    "\n",
    "def train():\n",
    "    X, Y, y_pred, loss = NN_Model()\n",
    "    optimizer = tf.train.AdamOptimizer().minimize(loss)\n",
    "    \n",
    "    train_dataset, test_dataset = load_dataset(epochs, batch_size)\n",
    "    train_next = tf.data.make_one_shot_iterator(train_dataset).get_next()\n",
    "    test_next = tf.data.make_one_shot_iterator(test_dataset).get_next()\n",
    "    \n",
    "    init = tf.global_variables_initializer()\n",
    "    \n",
    "    with tf.Session() as sess:\n",
    "        sess.run(init)\n",
    "        \n",
    "        # Train the model\n",
    "        for i in range(epochs):\n",
    "            total_loss = 0.0\n",
    "            n_batches = int(n_samples / batch_size)\n",
    "            for j in range(n_batches):\n",
    "#                 if j > 2:\n",
    "#                     break\n",
    "                X_train, Y_train = sess.run(train_next)\n",
    "                feed_dict = {X: X_train, Y: Y_train}\n",
    "                _, loss_val, y_hat = sess.run([optimizer, loss, y_pred], feed_dict)\n",
    "                total_loss += loss_val\n",
    "            print('Epoch %d: loss = %5.3f' % (i+1, total_loss / n_samples))\n",
    "        print('Train Finished!')\n",
    "        \n",
    "        # Test the model\n",
    "        acc = 0\n",
    "        n_test = 0\n",
    "        try:\n",
    "            X_test, Y = sess.run(test_next)\n",
    "            Y_hat = sess.run(y_pred, feed_dict={X: X_test})\n",
    "            Y_hat_idx = np.argmax(Y_hat, axis=1)\n",
    "            Y_idx = np.argmax(Y, axis=1)\n",
    "            acc += np.sum(Y_hat_idx == Y_idx)\n",
    "            n_test += len(Y_idx)\n",
    "        except tf.errors.OutOfRangeError:\n",
    "            print('Test Finished!')\n",
    "        \n",
    "        print('Accuracy: %5.3f' % (acc / n_test))               "
   ]
  },
  {
   "cell_type": "code",
   "execution_count": 127,
   "metadata": {},
   "outputs": [
    {
     "name": "stdout",
     "output_type": "stream",
     "text": [
      "Epoch 1: loss = 0.450\n",
      "Epoch 2: loss = 0.222\n",
      "Epoch 3: loss = 0.180\n",
      "Epoch 4: loss = 0.154\n",
      "Epoch 5: loss = 0.134\n",
      "Epoch 6: loss = 0.118\n",
      "Epoch 7: loss = 0.108\n",
      "Epoch 8: loss = 0.100\n",
      "Epoch 9: loss = 0.091\n",
      "Epoch 10: loss = 0.085\n",
      "Train Finished!\n",
      "Accuracy: 0.960\n"
     ]
    }
   ],
   "source": [
    "train()"
   ]
  },
  {
   "cell_type": "markdown",
   "metadata": {},
   "source": [
    "# TODO\n",
    "\n",
    "- [ ] Dropout\n"
   ]
  }
 ],
 "metadata": {
  "kernelspec": {
   "display_name": "Python 3",
   "language": "python",
   "name": "python3"
  },
  "language_info": {
   "codemirror_mode": {
    "name": "ipython",
    "version": 3
   },
   "file_extension": ".py",
   "mimetype": "text/x-python",
   "name": "python",
   "nbconvert_exporter": "python",
   "pygments_lexer": "ipython3",
   "version": "3.7.5"
  }
 },
 "nbformat": 4,
 "nbformat_minor": 2
}
