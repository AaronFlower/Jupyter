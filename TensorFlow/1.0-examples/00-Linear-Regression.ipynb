{
 "cells": [
  {
   "cell_type": "code",
   "execution_count": 1,
   "metadata": {},
   "outputs": [],
   "source": [
    "import tensorflow.compat.v1 as tf\n",
    "tf.disable_eager_execution()"
   ]
  },
  {
   "cell_type": "code",
   "execution_count": 6,
   "metadata": {},
   "outputs": [],
   "source": [
    "import numpy as np\n",
    "import matplotlib.pyplot as plt"
   ]
  },
  {
   "cell_type": "code",
   "execution_count": 8,
   "metadata": {},
   "outputs": [],
   "source": [
    "# Training Data.\n",
    "train_X = np.array([3.3,4.4,5.5,6.71,6.93,4.168,9.779,6.182,7.59,2.167,\n",
    "              7.042,10.791,5.313,7.997,5.654,9.27,3.1])\n",
    "train_Y = np.array([1.7,2.76,2.09,3.19,1.694,1.573,3.366,2.596,2.53,1.221,\n",
    "              2.827,3.465,1.65,2.904,2.42,2.94,1.3])\n",
    "n_samples = X.shape[0]"
   ]
  },
  {
   "cell_type": "code",
   "execution_count": 9,
   "metadata": {},
   "outputs": [],
   "source": [
    "learning_rate = 0.01\n",
    "epochs = 1000\n",
    "display_step = 50"
   ]
  },
  {
   "cell_type": "markdown",
   "metadata": {},
   "source": [
    "在这个例子中，我们把 Optimizer 也添加进来。"
   ]
  },
  {
   "cell_type": "code",
   "execution_count": 24,
   "metadata": {},
   "outputs": [
    {
     "name": "stdout",
     "output_type": "stream",
     "text": [
      "Epoch:  50 \t cost =  0.0790628 \t W= 0.22544505 \t b =  0.9844758\n",
      "Epoch:  100 \t cost =  0.078818746 \t W= 0.22698817 \t b =  0.9735358\n",
      "Epoch:  150 \t cost =  0.078602605 \t W= 0.22844036 \t b =  0.9632403\n",
      "Epoch:  200 \t cost =  0.07841117 \t W= 0.22980699 \t b =  0.9535516\n",
      "Epoch:  250 \t cost =  0.078241654 \t W= 0.23109312 \t b =  0.9444335\n",
      "Epoch:  300 \t cost =  0.07809151 \t W= 0.23230349 \t b =  0.9358525\n",
      "Epoch:  350 \t cost =  0.07795852 \t W= 0.23344252 \t b =  0.9277773\n",
      "Epoch:  400 \t cost =  0.07784075 \t W= 0.23451445 \t b =  0.9201778\n",
      "Epoch:  450 \t cost =  0.07773646 \t W= 0.23552321 \t b =  0.91302615\n",
      "Epoch:  500 \t cost =  0.077644095 \t W= 0.23647252 \t b =  0.9062959\n",
      "Epoch:  550 \t cost =  0.077562295 \t W= 0.23736592 \t b =  0.8999622\n",
      "Epoch:  600 \t cost =  0.07748984 \t W= 0.23820665 \t b =  0.89400166\n",
      "Epoch:  650 \t cost =  0.07742568 \t W= 0.23899788 \t b =  0.88839227\n",
      "Epoch:  700 \t cost =  0.07736885 \t W= 0.23974246 \t b =  0.88311356\n",
      "Epoch:  750 \t cost =  0.07731853 \t W= 0.24044326 \t b =  0.8781451\n",
      "Epoch:  800 \t cost =  0.07727395 \t W= 0.2411027 \t b =  0.8734701\n",
      "Epoch:  850 \t cost =  0.077234484 \t W= 0.24172327 \t b =  0.86907053\n",
      "Epoch:  900 \t cost =  0.077199526 \t W= 0.24230728 \t b =  0.8649302\n",
      "Epoch:  950 \t cost =  0.07716856 \t W= 0.24285688 \t b =  0.8610338\n",
      "Epoch:  1000 \t cost =  0.07714115 \t W= 0.24337408 \t b =  0.85736704\n",
      "Optimizer Finished!\n",
      "\n",
      "Train_cost: 0.07714115 \t w= 0.24337408 \t b =  0.85736704\n"
     ]
    },
    {
     "data": {
      "image/png": "[encoded data removed]",
      "text/plain": [
       "<Figure size 432x288 with 1 Axes>"
      ]
     },
     "metadata": {
      "needs_background": "light"
     },
     "output_type": "display_data"
    }
   ],
   "source": [
    "g1 = tf.Graph()\n",
    "with g1.as_default():\n",
    "    x = tf.placeholder(tf.float32)\n",
    "    y = tf.placeholder(tf.float32)\n",
    "    \n",
    "    w = tf.Variable(np.random.randn(), name=\"weights\")\n",
    "    b = tf.Variable(np.random.randn(), name=\"bias\")\n",
    "    \n",
    "    pred = tf.add(tf.multiply(w, x), b)\n",
    "    \n",
    "    # reduce_sum 会将传入的数据逐项调用 tf.pow 计算\n",
    "    cost = tf.reduce_sum(tf.pow(pred - y, 2)) / (2 * n_samples)\n",
    "    \n",
    "    # 加入 optimizer 节点\n",
    "    optimizer = tf.train.GradientDescentOptimizer(\n",
    "        learning_rate).minimize(cost)\n",
    "    \n",
    "    # Initializer the variables\n",
    "    init = tf.global_variables_initializer()\n",
    "    \n",
    "    with tf.Session() as sess:\n",
    "        writer = tf.summary.FileWriter(\"./logs/lr\",\n",
    "                                       sess.graph)\n",
    "        sess.run(init)\n",
    "        \n",
    "        # Fit all training data\n",
    "        for epoch in range(epochs):\n",
    "            sess.run(optimizer, feed_dict={x:train_X, \n",
    "                                           y:train_Y})\n",
    "            \n",
    "            if (epoch + 1) % display_step == 0:\n",
    "                c = sess.run(cost, feed_dict={x:train_X,\n",
    "                                         y:train_Y})\n",
    "                print(\"Epoch: \", epoch + 1, \"\\t cost = \", c,\n",
    "                 \"\\t W=\", sess.run(w), \"\\t b = \", sess.run(b))\n",
    "\n",
    "        print(\"Optimizer Finished!\\n\")\n",
    "        train_cost = sess.run(cost, feed_dict={x:train_X,\n",
    "                             y:train_Y})\n",
    "        print(\"Train_cost:\", train_cost, \"\\t w=\", sess.run(w), \"\\t b = \", sess.run(b))\n",
    "        \n",
    "        plt.plot(train_X, train_Y, 'ro', label=\"original data\")\n",
    "        plt.plot(train_X, sess.run(w) * train_X + sess.run(b))\n",
    "        plt.legend()\n",
    "        plt.show()\n",
    "        "
   ]
  },
  {
   "cell_type": "markdown",
   "metadata": {},
   "source": [
    "查看一下我们的模型计算图。\n",
    "\n",
    "<img src=\"./lr.png\" >"
   ]
  }
 ],
 "metadata": {
  "kernelspec": {
   "display_name": "Python 3",
   "language": "python",
   "name": "python3"
  },
  "language_info": {
   "codemirror_mode": {
    "name": "ipython",
    "version": 3
   },
   "file_extension": ".py",
   "mimetype": "text/x-python",
   "name": "python",
   "nbconvert_exporter": "python",
   "pygments_lexer": "ipython3",
   "version": "3.7.4"
  }
 },
 "nbformat": 4,
 "nbformat_minor": 2
}
