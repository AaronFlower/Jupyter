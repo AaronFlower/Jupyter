{
 "cells": [
  {
   "cell_type": "code",
   "execution_count": 45,
   "metadata": {},
   "outputs": [],
   "source": [
    "import numpy as np\n",
    "import tensorflow.compat.v1 as tf\n",
    "import matplotlib.pyplot as plt"
   ]
  },
  {
   "cell_type": "code",
   "execution_count": 46,
   "metadata": {},
   "outputs": [],
   "source": [
    "tf.disable_eager_execution()"
   ]
  },
  {
   "cell_type": "code",
   "execution_count": 47,
   "metadata": {},
   "outputs": [],
   "source": [
    "def get_data():\n",
    "    x = np.linspace(-1, 1, 100)\n",
    "    y = 2 * x + np.random.randn(*x.shape) * 0.3\n",
    "    return x, y"
   ]
  },
  {
   "cell_type": "code",
   "execution_count": 62,
   "metadata": {},
   "outputs": [],
   "source": [
    "def linear_regression():\n",
    "    # Note: shape=(None,) 说明该变量是一个一维动态变量，这个维度上可以是任意大小。\n",
    "    # Note: The second argument shape=(None,) indicates that \n",
    "    # these variables take on a 1-dimensional value of a dynamic size.\n",
    "    # We can use the None value in this case to allow for arbitrary batch sizes.\n",
    "    x = tf.placeholder(tf.float32, shape=(None,), name=\"x\")\n",
    "    y = tf.placeholder(tf.float32, shape=(None,), name=\"y\")\n",
    "    \n",
    "    with tf.variable_scope('lreg') as scope:\n",
    "        w = tf.Variable(np.random.normal(), name=\"W\")\n",
    "        b = tf.Variable(np.random.normal(), name=\"b\")\n",
    "        y_pred = tf.multiply(w, x) + b\n",
    "        \n",
    "        loss = tf.reduce_mean(tf.square(y_pred - y))\n",
    "    return x, y, y_pred, loss    "
   ]
  },
  {
   "cell_type": "code",
   "execution_count": 66,
   "metadata": {},
   "outputs": [],
   "source": [
    "def run():\n",
    "    x_batch, y_batch = get_data()\n",
    "    x, y, y_pred, loss = linear_regression()\n",
    "    \n",
    "    optimizer = tf.train.GradientDescentOptimizer(0.1).minimize(loss)\n",
    "    init = tf.global_variables_initializer()\n",
    "    \n",
    "    with tf.Session() as sess:\n",
    "        sess.run(init)\n",
    "        \n",
    "        feed_dict = {x:x_batch, y: y_batch}\n",
    "        for epoch in range(100):\n",
    "            loss_val, _ = sess.run([loss, optimizer], feed_dict)\n",
    "            if (epoch % 20 == 0):\n",
    "                print(\"loss:\", loss_val)\n",
    "\n",
    "        y_pred_batch = sess.run(y_pred, {x: x_batch})\n",
    "    \n",
    "    plt.figure(1)\n",
    "    plt.plot(x_batch, y_batch, 'ro', label=\"Original Data\")\n",
    "    plt.plot(x_batch, y_pred_batch)\n",
    "    plt.legend()\n",
    "    plt.show()\n"
   ]
  },
  {
   "cell_type": "code",
   "execution_count": 67,
   "metadata": {},
   "outputs": [
    {
     "name": "stdout",
     "output_type": "stream",
     "text": [
      "loss: 2.059406\n",
      "loss: 0.1570848\n",
      "loss: 0.10725027\n",
      "loss: 0.10428082\n",
      "loss: 0.10410337\n"
     ]
    },
    {
     "data": {
      "image/png": "[encoded data removed]",
      "text/plain": [
       "<Figure size 432x288 with 1 Axes>"
      ]
     },
     "metadata": {
      "needs_background": "light"
     },
     "output_type": "display_data"
    }
   ],
   "source": [
    "run()"
   ]
  }
 ],
 "metadata": {
  "kernelspec": {
   "display_name": "Python 3",
   "language": "python",
   "name": "python3"
  },
  "language_info": {
   "codemirror_mode": {
    "name": "ipython",
    "version": 3
   },
   "file_extension": ".py",
   "mimetype": "text/x-python",
   "name": "python",
   "nbconvert_exporter": "python",
   "pygments_lexer": "ipython3",
   "version": "3.7.4"
  }
 },
 "nbformat": 4,
 "nbformat_minor": 2
}
