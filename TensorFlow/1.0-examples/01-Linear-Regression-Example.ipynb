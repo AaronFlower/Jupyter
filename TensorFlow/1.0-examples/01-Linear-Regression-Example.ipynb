{
 "cells": [
  {
   "cell_type": "code",
   "execution_count": 11,
   "metadata": {},
   "outputs": [],
   "source": [
    "import tensorflow.compat.v1 as tf\n",
    "import numpy as np\n",
    "import matplotlib.pyplot as plt\n",
    "\n",
    "tf.disable_eager_execution()"
   ]
  },
  {
   "cell_type": "code",
   "execution_count": 12,
   "metadata": {},
   "outputs": [],
   "source": [
    "# Parameters\n",
    "learning_rate = 0.01\n",
    "epochs = 1000\n",
    "display_step = 50\n",
    "\n",
    "# Training Data\n",
    "train_X = np.array([3.3,4.4,5.5,6.71,6.93,4.168,9.779,6.182,7.59,2.167,\n",
    "                         7.042,10.791,5.313,7.997,5.654,9.27,3.1])\n",
    "train_Y = np.array([1.7,2.76,2.09,3.19,1.694,1.573,3.366,2.596,2.53,1.221,\n",
    "                         2.827,3.465,1.65,2.904,2.42,2.94,1.3])\n",
    "\n",
    "n_samples = train_X.shape[0]"
   ]
  },
  {
   "cell_type": "code",
   "execution_count": 13,
   "metadata": {},
   "outputs": [],
   "source": [
    "# tf.Graph Input\n",
    "X = tf.placeholder(\"float\")\n",
    "Y = tf.placeholder(\"float\")\n",
    "\n",
    "# Set model weights\n",
    "W = tf.Variable(np.random.randn(), name=\"weights\")\n",
    "b = tf.Variable(np.random.randn(), name=\"bias\")"
   ]
  },
  {
   "cell_type": "code",
   "execution_count": 14,
   "metadata": {},
   "outputs": [],
   "source": [
    "# Construct a linear model\n",
    "pred = tf.add(tf.multiply(X, W), b)"
   ]
  },
  {
   "cell_type": "code",
   "execution_count": 18,
   "metadata": {},
   "outputs": [],
   "source": [
    "cost = tf.reduce_sum(tf.pow(pred - Y, 2)) / (2 * n_samples)\n",
    "\n",
    "# Gradient descent\n",
    "optimizer = tf.train.GradientDescentOptimizer(learning_rate).minimize(cost)"
   ]
  },
  {
   "cell_type": "code",
   "execution_count": 19,
   "metadata": {},
   "outputs": [],
   "source": [
    "# Initializer the variables\n",
    "init = tf.global_variables_initializer()"
   ]
  },
  {
   "cell_type": "code",
   "execution_count": 34,
   "metadata": {},
   "outputs": [
    {
     "name": "stdout",
     "output_type": "stream",
     "text": [
      "Epoch:  50 \t cost =  0.11896739 \t W= 0.3642444 \t b =  -0.023323044\n",
      "Epoch:  100 \t cost =  0.11411322 \t W= 0.3574255 \t b =  0.025731135\n",
      "Epoch:  150 \t cost =  0.10981983 \t W= 0.3510122 \t b =  0.07186782\n",
      "Epoch:  200 \t cost =  0.106022485 \t W= 0.3449804 \t b =  0.11526047\n",
      "Epoch:  250 \t cost =  0.10266388 \t W= 0.3393073 \t b =  0.15607265\n",
      "Epoch:  300 \t cost =  0.099693395 \t W= 0.3339715 \t b =  0.1944574\n",
      "Epoch:  350 \t cost =  0.09706619 \t W= 0.32895324 \t b =  0.2305591\n",
      "Epoch:  400 \t cost =  0.094742626 \t W= 0.3242334 \t b =  0.26451334\n",
      "Epoch:  450 \t cost =  0.092687584 \t W= 0.3197942 \t b =  0.2964486\n",
      "Epoch:  500 \t cost =  0.09087016 \t W= 0.315619 \t b =  0.3264844\n",
      "Epoch:  550 \t cost =  0.08926279 \t W= 0.31169218 \t b =  0.3547337\n",
      "Epoch:  600 \t cost =  0.08784126 \t W= 0.30799878 \t b =  0.38130325\n",
      "Epoch:  650 \t cost =  0.0865841 \t W= 0.3045252 \t b =  0.40629265\n",
      "Epoch:  700 \t cost =  0.08547231 \t W= 0.30125818 \t b =  0.42979535\n",
      "Epoch:  750 \t cost =  0.08448912 \t W= 0.29818538 \t b =  0.45190057\n",
      "Epoch:  800 \t cost =  0.08361964 \t W= 0.2952953 \t b =  0.47269157\n",
      "Epoch:  850 \t cost =  0.082850784 \t W= 0.2925773 \t b =  0.49224505\n",
      "Epoch:  900 \t cost =  0.0821709 \t W= 0.29002088 \t b =  0.5106355\n",
      "Epoch:  950 \t cost =  0.081569664 \t W= 0.2876163 \t b =  0.5279332\n",
      "Epoch:  1000 \t cost =  0.081038 \t W= 0.285355 \t b =  0.54420155\n",
      "Optimizer Finished!\n",
      "\n",
      "Train_cost: 0.081038 \t W= 0.285355 \t b =  0.54420155\n"
     ]
    },
    {
     "data": {
      "image/png": "[encoded data removed]",
      "text/plain": [
       "<Figure size 432x288 with 1 Axes>"
      ]
     },
     "metadata": {
      "needs_background": "light"
     },
     "output_type": "display_data"
    }
   ],
   "source": [
    "with tf.Session() as sess:\n",
    "    sess.run(init)\n",
    "    \n",
    "    # Fit all training data\n",
    "    for epoch in range(epochs):\n",
    "        for (x, y) in zip(train_X, train_Y):\n",
    "            sess.run(optimizer, feed_dict={X:x, Y:y})\n",
    "            \n",
    "        if (epoch + 1) % display_step == 0:\n",
    "            c = sess.run(cost, feed_dict={X:train_X,\n",
    "                                         Y:train_Y})\n",
    "            print(\"Epoch: \", epoch + 1, \"\\t cost = \", c,\n",
    "                 \"\\t W=\", sess.run(W), \"\\t b = \", sess.run(b))\n",
    "\n",
    "    print(\"Optimizer Finished!\\n\")\n",
    "    train_cost = sess.run(cost, feed_dict={X:train_X,\n",
    "                             Y:train_Y})\n",
    "    print(\"Train_cost:\", train_cost, \"\\t W=\", sess.run(W), \"\\t b = \", sess.run(b))\n",
    "    \n",
    "    # plot the model\n",
    "    # 'ro' 绘制的是点，而不是线 \n",
    "    plt.plot(train_X, train_Y, 'ro', label=\"Original Data\")\n",
    "    plt.plot(train_X, sess.run(W) * train_X + sess.run(b),\n",
    "            label=\"Fitted line\")\n",
    "    plt.legend()\n",
    "    plt.show()"
   ]
  }
 ],
 "metadata": {
  "kernelspec": {
   "display_name": "Python 3",
   "language": "python",
   "name": "python3"
  },
  "language_info": {
   "codemirror_mode": {
    "name": "ipython",
    "version": 3
   },
   "file_extension": ".py",
   "mimetype": "text/x-python",
   "name": "python",
   "nbconvert_exporter": "python",
   "pygments_lexer": "ipython3",
   "version": "3.7.4"
  }
 },
 "nbformat": 4,
 "nbformat_minor": 2
}
