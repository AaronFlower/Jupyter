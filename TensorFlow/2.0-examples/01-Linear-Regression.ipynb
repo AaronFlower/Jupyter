{
 "cells": [
  {
   "cell_type": "code",
   "execution_count": 2,
   "metadata": {},
   "outputs": [
    {
     "name": "stdout",
     "output_type": "stream",
     "text": [
      "2.0.0\n"
     ]
    }
   ],
   "source": [
    "import tensorflow as tf\n",
    "import numpy as np\n",
    "import matplotlib.pyplot as plt\n",
    "\n",
    "print(tf.__version__)"
   ]
  },
  {
   "cell_type": "code",
   "execution_count": 3,
   "metadata": {},
   "outputs": [],
   "source": [
    "# Parameters\n",
    "learning_rate = 0.01\n",
    "training_steps = 1000\n",
    "display_step = 50"
   ]
  },
  {
   "cell_type": "code",
   "execution_count": 4,
   "metadata": {},
   "outputs": [],
   "source": [
    "# Training Data.\n",
    "X = np.array([3.3,4.4,5.5,6.71,6.93,4.168,9.779,6.182,7.59,2.167,\n",
    "              7.042,10.791,5.313,7.997,5.654,9.27,3.1])\n",
    "Y = np.array([1.7,2.76,2.09,3.19,1.694,1.573,3.366,2.596,2.53,1.221,\n",
    "              2.827,3.465,1.65,2.904,2.42,2.94,1.3])\n",
    "n_samples = X.shape[0]"
   ]
  },
  {
   "cell_type": "code",
   "execution_count": 5,
   "metadata": {},
   "outputs": [],
   "source": [
    "# Weight and Bias, initialized randomly\n",
    "W = tf.Variable(np.random.randn(), name=\"weight\")\n",
    "b = tf.Variable(np.random.randn(), name=\"bias\")\n",
    "\n",
    "# Linear_regression (Wx + b)\n",
    "def linear_regression(x):\n",
    "    return W * x + b\n",
    "\n",
    "# Mean square error.\n",
    "def mean_square(y_pred, y_true):\n",
    "    return tf.reduce_sum(tf.pow(y_pred - y_true, 2) / (2 * n_samples))\n",
    "\n",
    "# Stochastic Gradient Descent Optimizer\n",
    "optimizer = tf.optimizers.SGD(learning_rate)"
   ]
  },
  {
   "cell_type": "code",
   "execution_count": 7,
   "metadata": {},
   "outputs": [],
   "source": [
    "# Optimize processes\n",
    "def run_optimization():\n",
    "    # Wrap computation inside a GradientTape for audo diff\n",
    "    with tf.GradientTape() as g:\n",
    "        pred = linear_regression(X)\n",
    "        loss = mean_square(pred, Y)\n",
    "    \n",
    "    # compute gradients\n",
    "    gradients = g.gradient(loss, [W, b])\n",
    "    # apply_gradients(grads_and_vars)， Apply gradients to variables\n",
    "    # 在相应的变量上应用梯度，即在最优化的问题上应用梯度，W, b\n",
    "    optimizer.apply_gradients(zip(gradients, [W, b]))"
   ]
  },
  {
   "cell_type": "code",
   "execution_count": 8,
   "metadata": {},
   "outputs": [
    {
     "name": "stdout",
     "output_type": "stream",
     "text": [
      "step: 50, loss: 0.106042, W: 0.154899, b: 1.484612\n",
      "step: 100, loss: 0.102712, W: 0.160599, b: 1.444203\n",
      "step: 150, loss: 0.099764, W: 0.165963, b: 1.406175\n",
      "step: 200, loss: 0.097152, W: 0.171011, b: 1.370388\n",
      "step: 250, loss: 0.094839, W: 0.175762, b: 1.336710\n",
      "step: 300, loss: 0.092791, W: 0.180232, b: 1.305016\n",
      "step: 350, loss: 0.090977, W: 0.184439, b: 1.275189\n",
      "step: 400, loss: 0.089370, W: 0.188398, b: 1.247120\n",
      "step: 450, loss: 0.087947, W: 0.192124, b: 1.220704\n",
      "step: 500, loss: 0.086687, W: 0.195631, b: 1.195846\n",
      "step: 550, loss: 0.085571, W: 0.198931, b: 1.172451\n",
      "step: 600, loss: 0.084582, W: 0.202036, b: 1.150436\n",
      "step: 650, loss: 0.083707, W: 0.204958, b: 1.129717\n",
      "step: 700, loss: 0.082932, W: 0.207709, b: 1.110219\n",
      "step: 750, loss: 0.082245, W: 0.210297, b: 1.091870\n",
      "step: 800, loss: 0.081637, W: 0.212733, b: 1.074602\n",
      "step: 850, loss: 0.081099, W: 0.215025, b: 1.058351\n",
      "step: 900, loss: 0.080622, W: 0.217182, b: 1.043059\n",
      "step: 950, loss: 0.080199, W: 0.219212, b: 1.028667\n",
      "step: 1000, loss: 0.079825, W: 0.221122, b: 1.015123\n"
     ]
    }
   ],
   "source": [
    "# Run training for the given number of steps.\n",
    "for step in range(1, training_steps + 1):\n",
    "    # Run the optimization to update W and b values.\n",
    "    run_optimization()\n",
    "    \n",
    "    if step % display_step == 0:\n",
    "        pred = linear_regression(X)\n",
    "        loss = mean_square(pred, Y)\n",
    "        print(\"step: %i, loss: %f, W: %f, b: %f\" %\n",
    "              (step, loss, W.numpy(), b.numpy()))"
   ]
  },
  {
   "cell_type": "code",
   "execution_count": 9,
   "metadata": {},
   "outputs": [
    {
     "data": {
      "image/png": "[encoded data removed]",
      "text/plain": [
       "<Figure size 432x288 with 1 Axes>"
      ]
     },
     "metadata": {
      "needs_background": "light"
     },
     "output_type": "display_data"
    }
   ],
   "source": [
    "plt.plot(X, Y, 'ro', label=\"Original data\")\n",
    "plt.plot(X, np.array(W * X + b), label=\"Fitted line\")\n",
    "plt.legend()\n",
    "plt.show()"
   ]
  }
 ],
 "metadata": {
  "kernelspec": {
   "display_name": "Python 3",
   "language": "python",
   "name": "python3"
  },
  "language_info": {
   "codemirror_mode": {
    "name": "ipython",
    "version": 3
   },
   "file_extension": ".py",
   "mimetype": "text/x-python",
   "name": "python",
   "nbconvert_exporter": "python",
   "pygments_lexer": "ipython3",
   "version": "3.7.5"
  }
 },
 "nbformat": 4,
 "nbformat_minor": 2
}
