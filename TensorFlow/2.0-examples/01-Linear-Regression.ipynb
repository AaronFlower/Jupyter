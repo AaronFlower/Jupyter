{
 "cells": [
  {
   "cell_type": "code",
   "execution_count": 10,
   "metadata": {},
   "outputs": [],
   "source": [
    "import tensorflow as tf\n",
    "import numpy as np\n",
    "import matplotlib.pyplot as plt"
   ]
  },
  {
   "cell_type": "code",
   "execution_count": 11,
   "metadata": {},
   "outputs": [],
   "source": [
    "# Parameters\n",
    "learning_rate = 0.01\n",
    "training_steps = 1000\n",
    "display_step = 50"
   ]
  },
  {
   "cell_type": "code",
   "execution_count": 12,
   "metadata": {},
   "outputs": [],
   "source": [
    "# Training Data.\n",
    "X = np.array([3.3,4.4,5.5,6.71,6.93,4.168,9.779,6.182,7.59,2.167,\n",
    "              7.042,10.791,5.313,7.997,5.654,9.27,3.1])\n",
    "Y = np.array([1.7,2.76,2.09,3.19,1.694,1.573,3.366,2.596,2.53,1.221,\n",
    "              2.827,3.465,1.65,2.904,2.42,2.94,1.3])\n",
    "n_samples = X.shape[0]"
   ]
  },
  {
   "cell_type": "code",
   "execution_count": 13,
   "metadata": {},
   "outputs": [],
   "source": [
    "# Weight and Bias, initialized randomly\n",
    "W = tf.Variable(np.random.randn(), name=\"weight\")\n",
    "b = tf.Variable(np.random.randn(), name=\"bias\")\n",
    "\n",
    "# Linear_regression (Wx + b)\n",
    "def linear_regression(x):\n",
    "    return W * x + b\n",
    "\n",
    "# Mean square error.\n",
    "def mean_square(y_pred, y_true):\n",
    "    return tf.reduce_sum(tf.pow(y_pred - y_true, 2) / (2 * n_samples))\n",
    "\n",
    "# Stochastic Gradient Descent Optimizer\n",
    "optimizer = tf.optimizers.SGD(learning_rate)"
   ]
  },
  {
   "cell_type": "code",
   "execution_count": 14,
   "metadata": {},
   "outputs": [],
   "source": [
    "# Optimize processes\n",
    "def run_optimization():\n",
    "    # Wrap computation inside a GradientTape for audo diff\n",
    "    with tf.GradientTape() as g:\n",
    "        pred = linear_regression(X)\n",
    "        loss = mean_square(pred, Y)\n",
    "    \n",
    "    # compute gradients\n",
    "    gradients = g.gradient(loss, [W, b])\n",
    "    # apply_gradients(grads_and_vars)， Apply gradients to variables\n",
    "    # 在相应的变量上应用梯度，即在最优化的问题上应用梯度，W, b\n",
    "    optimizer.apply_gradients(zip(gradients, [W, b]))"
   ]
  },
  {
   "cell_type": "code",
   "execution_count": 15,
   "metadata": {},
   "outputs": [
    {
     "name": "stdout",
     "output_type": "stream",
     "text": [
      "step: 50, loss: 0.085854, W: 0.305195, b: 0.419086\n",
      "step: 100, loss: 0.084833, W: 0.302039, b: 0.441459\n",
      "step: 150, loss: 0.083929, W: 0.299069, b: 0.462514\n",
      "step: 200, loss: 0.083128, W: 0.296274, b: 0.482329\n",
      "step: 250, loss: 0.082419, W: 0.293644, b: 0.500975\n",
      "step: 300, loss: 0.081791, W: 0.291169, b: 0.518524\n",
      "step: 350, loss: 0.081235, W: 0.288839, b: 0.535038\n",
      "step: 400, loss: 0.080743, W: 0.286647, b: 0.550579\n",
      "step: 450, loss: 0.080306, W: 0.284584, b: 0.565205\n",
      "step: 500, loss: 0.079920, W: 0.282643, b: 0.578969\n",
      "step: 550, loss: 0.079578, W: 0.280816, b: 0.591922\n",
      "step: 600, loss: 0.079275, W: 0.279096, b: 0.604111\n",
      "step: 650, loss: 0.079007, W: 0.277478, b: 0.615583\n",
      "step: 700, loss: 0.078769, W: 0.275956, b: 0.626378\n",
      "step: 750, loss: 0.078559, W: 0.274523, b: 0.636538\n",
      "step: 800, loss: 0.078372, W: 0.273174, b: 0.646098\n",
      "step: 850, loss: 0.078207, W: 0.271905, b: 0.655096\n",
      "step: 900, loss: 0.078061, W: 0.270711, b: 0.663563\n",
      "step: 950, loss: 0.077931, W: 0.269587, b: 0.671531\n",
      "step: 1000, loss: 0.077817, W: 0.268529, b: 0.679030\n"
     ]
    }
   ],
   "source": [
    "# Run training for the given number of steps.\n",
    "for step in range(1, training_steps + 1):\n",
    "    # Run the optimization to update W and b values.\n",
    "    run_optimization()\n",
    "    \n",
    "    if step % display_step == 0:\n",
    "        pred = linear_regression(X)\n",
    "        loss = mean_square(pred, Y)\n",
    "        print(\"step: %i, loss: %f, W: %f, b: %f\" %\n",
    "              (step, loss, W.numpy(), b.numpy()))"
   ]
  },
  {
   "cell_type": "code",
   "execution_count": 16,
   "metadata": {},
   "outputs": [
    {
     "data": {
      "image/png": "[encoded data removed]",
      "text/plain": [
       "<Figure size 432x288 with 1 Axes>"
      ]
     },
     "metadata": {
      "needs_background": "light"
     },
     "output_type": "display_data"
    }
   ],
   "source": [
    "plt.plot(X, Y, 'ro', label=\"Original data\")\n",
    "plt.plot(X, np.array(W * X + b), label=\"Fitted line\")\n",
    "plt.legend()\n",
    "plt.show()"
   ]
  }
 ],
 "metadata": {
  "kernelspec": {
   "display_name": "Python 3",
   "language": "python",
   "name": "python3"
  },
  "language_info": {
   "codemirror_mode": {
    "name": "ipython",
    "version": 3
   },
   "file_extension": ".py",
   "mimetype": "text/x-python",
   "name": "python",
   "nbconvert_exporter": "python",
   "pygments_lexer": "ipython3",
   "version": "3.7.4"
  }
 },
 "nbformat": 4,
 "nbformat_minor": 2
}
