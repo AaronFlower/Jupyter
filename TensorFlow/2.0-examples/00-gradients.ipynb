{
 "cells": [
  {
   "cell_type": "markdown",
   "metadata": {},
   "source": [
    "## Gradients \n",
    "\n",
    "在自定义操作的时候，如何验证自己实现定义的操作是否正确那？那就先用系统的实现来验证一遍。\n",
    "\n",
    "### 权重矩阵的梯度求法"
   ]
  },
  {
   "cell_type": "code",
   "execution_count": 2,
   "metadata": {},
   "outputs": [],
   "source": [
    "import tensorflow as tf\n",
    "import numpy as np\n"
   ]
  },
  {
   "cell_type": "code",
   "execution_count": 3,
   "metadata": {},
   "outputs": [
    {
     "name": "stdout",
     "output_type": "stream",
     "text": [
      "[[ 1]\n",
      " [ 2]\n",
      " [-1]]\n",
      "[[1 2 3]\n",
      " [4 5 6]\n",
      " [7 8 9]]\n"
     ]
    }
   ],
   "source": [
    "x = np.array([1, 2, -1]).reshape(3, 1)\n",
    "weights = np.arange(1, 10).reshape(3, 3)\n",
    "print(x)\n",
    "print(weights)"
   ]
  },
  {
   "cell_type": "code",
   "execution_count": 5,
   "metadata": {},
   "outputs": [
    {
     "name": "stdout",
     "output_type": "stream",
     "text": [
      "[[ 2]\n",
      " [ 8]\n",
      " [14]]\n"
     ]
    }
   ],
   "source": [
    "print(weights.dot(x))"
   ]
  },
  {
   "cell_type": "code",
   "execution_count": 8,
   "metadata": {},
   "outputs": [],
   "source": [
    "x = tf.Variable(x, name=\"inputs\", dtype=\"double\")\n",
    "W = tf.Variable(weights, name=\"weights\", dtype=\"double\")"
   ]
  },
  {
   "cell_type": "code",
   "execution_count": 9,
   "metadata": {},
   "outputs": [],
   "source": [
    "def run():\n",
    "    with tf.GradientTape() as t:\n",
    "        z = tf.matmul(W, x)\n",
    "    gradients = t.gradient(z, [W, x])\n",
    "    print('dz_dw = ', gradients[0])\n",
    "    print('dz_dx = ', gradients[1])\n",
    "    "
   ]
  },
  {
   "cell_type": "code",
   "execution_count": 10,
   "metadata": {},
   "outputs": [
    {
     "name": "stdout",
     "output_type": "stream",
     "text": [
      "dz_dw =  tf.Tensor(\n",
      "[[ 1.  2. -1.]\n",
      " [ 1.  2. -1.]\n",
      " [ 1.  2. -1.]], shape=(3, 3), dtype=float64)\n",
      "dz_dx =  tf.Tensor(\n",
      "[[12.]\n",
      " [15.]\n",
      " [18.]], shape=(3, 1), dtype=float64)\n"
     ]
    }
   ],
   "source": [
    "run()"
   ]
  }
 ],
 "metadata": {
  "kernelspec": {
   "display_name": "Python 3",
   "language": "python",
   "name": "python3"
  },
  "language_info": {
   "codemirror_mode": {
    "name": "ipython",
    "version": 3
   },
   "file_extension": ".py",
   "mimetype": "text/x-python",
   "name": "python",
   "nbconvert_exporter": "python",
   "pygments_lexer": "ipython3",
   "version": "3.7.4"
  }
 },
 "nbformat": 4,
 "nbformat_minor": 2
}
