{
 "cells": [
  {
   "cell_type": "markdown",
   "metadata": {},
   "source": [
    "TF v2 把 `get_variables` 给删除了，那么在 TF v2.0 中只能用 `tf.Variables` 来替换了。\n",
    "\n",
    "用下面的例子，看下替换方式。"
   ]
  },
  {
   "cell_type": "code",
   "execution_count": 1,
   "metadata": {},
   "outputs": [],
   "source": [
    "import tensorflow as tf2\n",
    "import tensorflow.compat.v1 as tf1"
   ]
  },
  {
   "cell_type": "code",
   "execution_count": 4,
   "metadata": {},
   "outputs": [
    {
     "data": {
      "text/plain": [
       "<tf.Variable 'var1:0' shape=(2, 3) dtype=float32, numpy=\n",
       "array([[-0.20183122, -0.21179134,  0.5574459 ],\n",
       "       [-0.22913754, -0.72508144,  0.72419655]], dtype=float32)>"
      ]
     },
     "execution_count": 4,
     "metadata": {},
     "output_type": "execute_result"
    }
   ],
   "source": [
    "var1 = tf1.get_variable('var1', shape=[2, 3], dtype=tf1.float32, \n",
    "                      initializer=tf1.glorot_uniform_initializer)\n",
    "var1"
   ]
  },
  {
   "cell_type": "code",
   "execution_count": 16,
   "metadata": {},
   "outputs": [
    {
     "data": {
      "text/plain": [
       "<tf.Variable 'var2:0' shape=(2, 3) dtype=float32, numpy=\n",
       "array([[-0.14312649, -0.7822622 , -0.7224632 ],\n",
       "       [ 0.8112949 ,  0.73705685, -0.61550885]], dtype=float32)>"
      ]
     },
     "execution_count": 16,
     "metadata": {},
     "output_type": "execute_result"
    }
   ],
   "source": [
    "initializer = tf2.keras.initializers.glorot_uniform()\n",
    "\n",
    "var2 = tf2.Variable(initializer((2,3)), name=\"var2\")\n",
    "var2"
   ]
  }
 ],
 "metadata": {
  "kernelspec": {
   "display_name": "Python 3",
   "language": "python",
   "name": "python3"
  },
  "language_info": {
   "codemirror_mode": {
    "name": "ipython",
    "version": 3
   },
   "file_extension": ".py",
   "mimetype": "text/x-python",
   "name": "python",
   "nbconvert_exporter": "python",
   "pygments_lexer": "ipython3",
   "version": "3.7.4"
  }
 },
 "nbformat": 4,
 "nbformat_minor": 2
}
