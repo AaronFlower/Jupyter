{
 "cells": [
  {
   "cell_type": "markdown",
   "metadata": {},
   "source": [
    "## All About TensorFlow\n"
   ]
  },
  {
   "cell_type": "markdown",
   "metadata": {},
   "source": [
    "### Tensors and operations, 张量与操作\n",
    "\n",
    "张量是一个多维数组。张量和 `numpy.ndarray` 类似，用 `data.type` 和 `shape`。不过张量可以在 GPU 上运算。\n",
    "\n",
    "TensorFlow 也提供了一系列的 operations (如 tf.add, tf.matmul 等）。这操作用来生产和消费张量。\n",
    "\n",
    "### tf v1.0 VS.  tf v2.0 \n",
    "\n",
    "- v1.0 在定义操作时用 Placeholder 占位，在 session 运行时需要 feed_dict, 传入具体的参数。\n",
    "- v2.0 删除了 Placeholder 直接 Variable, eager exectution, 要使用 gradient_tape 来完成。"
   ]
  },
  {
   "cell_type": "markdown",
   "metadata": {},
   "source": [
    "### 资料\n",
    "\n",
    "1. [Tensorflow 0.7](https://chromium.googlesource.com/external/github.com/tensorflow/tensorflow/+/r0.7/tensorflow/g3doc/index.md)"
   ]
  }
 ],
 "metadata": {
  "kernelspec": {
   "display_name": "Python 3",
   "language": "python",
   "name": "python3"
  },
  "language_info": {
   "codemirror_mode": {
    "name": "ipython",
    "version": 3
   },
   "file_extension": ".py",
   "mimetype": "text/x-python",
   "name": "python",
   "nbconvert_exporter": "python",
   "pygments_lexer": "ipython3",
   "version": "3.7.5"
  }
 },
 "nbformat": 4,
 "nbformat_minor": 2
}
