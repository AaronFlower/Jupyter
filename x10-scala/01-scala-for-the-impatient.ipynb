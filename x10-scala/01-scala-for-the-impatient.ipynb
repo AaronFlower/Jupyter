{
 "cells": [
  {
   "cell_type": "markdown",
   "metadata": {},
   "source": [
    "## 01. 基础\n",
    "\n",
    "REPL(read-eval-print-loop), 我们可以在 Scala 提供的 REPL 中执行我们的指令。\n",
    "\n",
    "Scala 程序并不是一个解释执行的程序。实际上，在 REPL 中，你输入的内容被快速地编译成字节码，然后交由 JAVA 虚拟机执行。\n"
   ]
  },
  {
   "cell_type": "markdown",
   "metadata": {},
   "source": [
    "### 1.1 REPL\n",
    "\n",
    "在 REPL 中的命令，可以不用完全输入，只需要输入的命令能前缀惟一匹配即可。如下面的两个命令：\n",
    "\n",
    "```\n",
    ":help\n",
    ":warnings\n",
    ":w  # w 目前前缀匹配\n",
    "```"
   ]
  },
  {
   "cell_type": "markdown",
   "metadata": {},
   "source": [
    "### 1.2 变量与常量\n",
    "\n",
    "在 Scala 中鼓励你用 `val` 来定义常量。面且在定义时可以不用指定类型，编译器会进行类型推荐。"
   ]
  },
  {
   "cell_type": "code",
   "execution_count": 3,
   "metadata": {},
   "outputs": [
    {
     "data": {
      "text/plain": [
       "n = 42\n",
       "count = 0\n"
      ]
     },
     "metadata": {},
     "output_type": "display_data"
    },
    {
     "data": {
      "text/plain": [
       "0"
      ]
     },
     "execution_count": 3,
     "metadata": {},
     "output_type": "execute_result"
    }
   ],
   "source": [
    "val n = 8 * 5 + 2\n",
    "var count = 0"
   ]
  },
  {
   "cell_type": "code",
   "execution_count": 4,
   "metadata": {},
   "outputs": [
    {
     "data": {
      "text/plain": [
       "a = 3\n"
      ]
     },
     "metadata": {},
     "output_type": "display_data"
    },
    {
     "data": {
      "text/plain": [
       "hello: String = null\n"
      ]
     },
     "metadata": {},
     "output_type": "display_data"
    },
    {
     "data": {
      "text/plain": [
       "3"
      ]
     },
     "execution_count": 4,
     "metadata": {},
     "output_type": "execute_result"
    }
   ],
   "source": [
    "val hello:String = null\n",
    "var a:Int = 3"
   ]
  },
  {
   "cell_type": "markdown",
   "metadata": {},
   "source": [
    "### 1.3 常用类型\n",
    "\n",
    "与 Java 类似的类型的： `Byte, Char, Short, Int, Long, Float, Double, Boolean`。与 Java 不同的是，这些都是类。 Scala 并不刻意区分基本类型和引用类型。"
   ]
  },
  {
   "cell_type": "code",
   "execution_count": 7,
   "metadata": {},
   "outputs": [
    {
     "data": {
      "text/plain": [
       "3.14"
      ]
     },
     "execution_count": 7,
     "metadata": {},
     "output_type": "execute_result"
    }
   ],
   "source": [
    "3.14.toString()"
   ]
  },
  {
   "cell_type": "code",
   "execution_count": 8,
   "metadata": {},
   "outputs": [
    {
     "data": {
      "text/plain": [
       "Range(1, 2, 3, 4, 5, 6, 7, 8, 9, 10)"
      ]
     },
     "execution_count": 8,
     "metadata": {},
     "output_type": "execute_result"
    }
   ],
   "source": [
    "1.to(10)"
   ]
  },
  {
   "cell_type": "code",
   "execution_count": 9,
   "metadata": {},
   "outputs": [
    {
     "data": {
      "text/plain": [
       "lo"
      ]
     },
     "execution_count": 9,
     "metadata": {},
     "output_type": "execute_result"
    }
   ],
   "source": [
    "\"Hello\".intersect(\"world\")"
   ]
  },
  {
   "cell_type": "markdown",
   "metadata": {},
   "source": [
    "`\"Hello\".intersect(\"world\")` 在这个表达式中，`\"Hello\"` 这个 `java.lang.String` 对象被隐式地转换成一个 `StringOps` 对象，接着 `StringOps` 类的 `intersect()` 方法被调用。\n",
    "\n",
    "同样 Scala 还提供了：\n",
    "\n",
    "- `Int --> RichInt`\n",
    "- `Double --> RichDouble`\n",
    "- `Char --> RichChar`\n",
    "\n",
    "`1.to(10)` 中 Int `1` 被转换成了 `RichInt` 然后再调用 `to()` 方法。\n",
    "\n",
    "另外，还有 `BigInt, BigDecimal` 用于任意大小(且有穷)的数字。分别对应 Java 中的 `java.math.BigInteger` 和 `java.math.BigDecimal`。"
   ]
  },
  {
   "cell_type": "markdown",
   "metadata": {},
   "source": [
    "### 1.4 操作符重载\n",
    "\n",
    "`+, -, *, /, %, &, |, ^, >>, << ` 基本操作符。\n",
    "\n",
    "这些操作符其实是方法。 `a + b` 其实是 `a.+(b)` 的简写。在 Scala 中，方法名可以使用几乎任意的符号来命名。\n",
    "\n",
    "下面两种写法是一样的。\n",
    "\n",
    "```\n",
    "a method b\n",
    "1 to 10\n",
    "\n",
    "a.method(b)\n",
    "1.to(10)\n",
    "```\n",
    "\n",
    "- Scala 没有 `++, --` 运算。\n",
    "- Scala 允许自定义操作符。\n"
   ]
  },
  {
   "cell_type": "markdown",
   "metadata": {},
   "source": [
    "### 1.5 关于方法调用\n",
    "\n",
    "如果方法不需要参数，那么可以不用输入括号。如下:"
   ]
  },
  {
   "cell_type": "code",
   "execution_count": 11,
   "metadata": {},
   "outputs": [
    {
     "data": {
      "text/plain": [
       "Wdlor"
      ]
     },
     "execution_count": 11,
     "metadata": {},
     "output_type": "execute_result"
    }
   ],
   "source": [
    "\"World\".sorted"
   ]
  },
  {
   "cell_type": "markdown",
   "metadata": {},
   "source": [
    "与 Java 的另一个区别是，Java 中类似于 `sqrt` 这样的数学方法是定义在 `Math` 类的静态方法中；而 Scala 则是在单例对象(singleton object) 中定义这些方法。"
   ]
  },
  {
   "cell_type": "code",
   "execution_count": 15,
   "metadata": {},
   "outputs": [],
   "source": [
    "import scala.math._"
   ]
  },
  {
   "cell_type": "code",
   "execution_count": 16,
   "metadata": {},
   "outputs": [
    {
     "data": {
      "text/plain": [
       "3.1622776601683795"
      ]
     },
     "execution_count": 16,
     "metadata": {},
     "output_type": "execute_result"
    }
   ],
   "source": [
    "sqrt(10)"
   ]
  },
  {
   "cell_type": "code",
   "execution_count": 17,
   "metadata": {},
   "outputs": [
    {
     "data": {
      "text/plain": [
       "1024.0"
      ]
     },
     "execution_count": 17,
     "metadata": {},
     "output_type": "execute_result"
    }
   ],
   "source": [
    "pow(2, 10)"
   ]
  },
  {
   "cell_type": "markdown",
   "metadata": {},
   "source": [
    "如果不想引入包，可以直接用下面的方式来调用。"
   ]
  },
  {
   "cell_type": "code",
   "execution_count": 18,
   "metadata": {},
   "outputs": [
    {
     "data": {
      "text/plain": [
       "2.718281828459045"
      ]
     },
     "execution_count": 18,
     "metadata": {},
     "output_type": "execute_result"
    }
   ],
   "source": [
    "scala.math.exp(1)"
   ]
  },
  {
   "cell_type": "markdown",
   "metadata": {},
   "source": [
    "#### Scala 伴生类和伴生对象\n",
    "\n",
    "通常，类都有一个伴生对象（companion object），其对象中的方法就是跟 Java 中的静态方法一样。\n",
    "\n",
    "单例对象与类同名时，这个单例对象被称为这个类的**伴生对象**，而这个类被称为这个单例对象的**伴生类**。伴生类和伴生对象要在同一个源文件中定义，伴生对象和伴生类可以互相访问其私有成员。另外，不与类同名的单例对象称为孤立对象。"
   ]
  },
  {
   "cell_type": "markdown",
   "metadata": {},
   "source": [
    "### 1.6 Apply 方法"
   ]
  },
  {
   "cell_type": "code",
   "execution_count": 20,
   "metadata": {},
   "outputs": [
    {
     "data": {
      "text/plain": [
       "s = Hello world!\n"
      ]
     },
     "metadata": {},
     "output_type": "display_data"
    },
    {
     "data": {
      "text/plain": [
       "o"
      ]
     },
     "execution_count": 20,
     "metadata": {},
     "output_type": "execute_result"
    }
   ],
   "source": [
    "val s = \"Hello world!\"\n",
    "s(4)"
   ]
  },
  {
   "cell_type": "markdown",
   "metadata": {},
   "source": [
    "`s(i)` 表示取字符串中 `s` 中的第 `i` 个字符，为什么用 `()` 而不是 `[]` 那？因为 `s(i)` 其实调用的是在 `scals.collection.StringOps` 类中定义的 `apply` 方法。\n",
    "\n",
    "```\n",
    "def apply(i: Int): Char\n",
    "    //Get the char at the specified index.\n",
    "```\n",
    "\n",
    "所以，`s(4)` 其实是下面语句的简写。"
   ]
  },
  {
   "cell_type": "code",
   "execution_count": 21,
   "metadata": {},
   "outputs": [
    {
     "data": {
      "text/plain": [
       "o"
      ]
     },
     "execution_count": 21,
     "metadata": {},
     "output_type": "execute_result"
    }
   ],
   "source": [
    "s.apply(4)"
   ]
  },
  {
   "cell_type": "markdown",
   "metadata": {},
   "source": [
    "为什么不用 `[]` 操作符？ 我们可以将元素类型为 T 的序列 s 看成一个 `{0, 1, ..., n - 1}` 到 T 的一个函数，这个函数将 `i` 映射到 `s(i)`, 即序列中的第 `i` 个元素。\n",
    "\n",
    "这个想法对 map 就更加有说服力了。"
   ]
  },
  {
   "cell_type": "markdown",
   "metadata": {},
   "source": [
    "### 1.7 Scala Doc\n",
    "\n",
    "每个类名旁边的 C 和 O 表示，对应的类 (C) 和 伴生对象 (O)。对于特质 (trait) 类似于 Java 中的接口，用 t 和 O 标记。"
   ]
  },
  {
   "cell_type": "markdown",
   "metadata": {},
   "source": [
    "## 02. 控制结构和函数\n",
    "\n",
    "在 Scala 中，几乎所有构造出来的语法结构都有值。这个特性使得程序更加精简，也更易读。\n",
    "\n",
    "本章的要点包含：\n",
    "\n",
    "- if 表达式有值\n",
    "- 块也有值 -- 是块中最后一个表达式的值\n",
    "- 分号不是必需的\n",
    "- void 类型是 Unit\n",
    "- 避免在函数中使用 return \n",
    "- 函数定义时别漏掉了 `=`\n",
    "- Scala 处理异常与 Java/C++ 中基本一样\n",
    "- Scala 没有受检异常（即必须要捕获的异常）"
   ]
  },
  {
   "cell_type": "markdown",
   "metadata": {},
   "source": [
    "### 2.1 条件表达式"
   ]
  },
  {
   "cell_type": "code",
   "execution_count": 22,
   "metadata": {},
   "outputs": [
    {
     "data": {
      "text/plain": [
       "x = 2\n"
      ]
     },
     "metadata": {},
     "output_type": "display_data"
    },
    {
     "data": {
      "text/plain": [
       "2"
      ]
     },
     "execution_count": 22,
     "metadata": {},
     "output_type": "execute_result"
    }
   ],
   "source": [
    "val x = 2"
   ]
  },
  {
   "cell_type": "code",
   "execution_count": 24,
   "metadata": {},
   "outputs": [
    {
     "data": {
      "text/plain": [
       "1"
      ]
     },
     "execution_count": 24,
     "metadata": {},
     "output_type": "execute_result"
    }
   ],
   "source": [
    "if (x > 1) 1 else -1"
   ]
  },
  {
   "cell_type": "code",
   "execution_count": 26,
   "metadata": {},
   "outputs": [
    {
     "data": {
      "text/plain": [
       "Positive"
      ]
     },
     "execution_count": 26,
     "metadata": {},
     "output_type": "execute_result"
    }
   ],
   "source": [
    "if (x > 1) \"Positive\" else -1 // 表达式是多类型时，使用是公共类型 Any"
   ]
  },
  {
   "cell_type": "markdown",
   "metadata": {},
   "source": [
    "当不带 else 语句时，可能不返回任何值，这时候会用 unit 类代替，返回 `()`。 可以把 `()` 看成『无有用值』的点位符，类似于 Java / C++ 中的 `void`."
   ]
  },
  {
   "cell_type": "code",
   "execution_count": 27,
   "metadata": {},
   "outputs": [
    {
     "data": {
      "text/plain": [
       "()"
      ]
     },
     "execution_count": 27,
     "metadata": {},
     "output_type": "execute_result"
    }
   ],
   "source": [
    "if (x < 1) \"Positive\""
   ]
  },
  {
   "cell_type": "markdown",
   "metadata": {},
   "source": [
    "### 2.3 块表达式和赋值\n",
    "\n",
    "在一个块中的一系列表达式中，块中最后一个表达式的值就是块的值。赋值动作本身是没有值的 -- 或者说它的值是 Unit 类型的。\n"
   ]
  },
  {
   "cell_type": "code",
   "execution_count": 28,
   "metadata": {},
   "outputs": [
    {
     "data": {
      "text/plain": [
       "distance = 2.23606797749979\n"
      ]
     },
     "metadata": {},
     "output_type": "display_data"
    },
    {
     "data": {
      "text/plain": [
       "2.23606797749979"
      ]
     },
     "execution_count": 28,
     "metadata": {},
     "output_type": "execute_result"
    }
   ],
   "source": [
    "val distance = {\n",
    "    val dx = 1\n",
    "    var dy = 2\n",
    "    sqrt(dx * dx + dy * dy)\n",
    "}"
   ]
  },
  {
   "cell_type": "markdown",
   "metadata": {},
   "source": [
    "### 2.4 输入与输出"
   ]
  },
  {
   "cell_type": "code",
   "execution_count": 35,
   "metadata": {},
   "outputs": [
    {
     "name": "stdout",
     "output_type": "stream",
     "text": [
      "The Answer: 42\n"
     ]
    }
   ],
   "source": [
    "print(\"The \")\n",
    "println(\"Answer: \" + 42)"
   ]
  },
  {
   "cell_type": "markdown",
   "metadata": {},
   "source": [
    "除了基本的输出外，Scala 还提供了三种字符串插值器。\n",
    "\n",
    "- `s\"Hello ${name} !\"`, 字符串中可以用表达式，但不能用格式化指令。\n",
    "- `f\"Hello $name! ${height}%7.3f.%n\"`\n",
    "- `raw\"\\n is a new line\"`"
   ]
  },
  {
   "cell_type": "code",
   "execution_count": 43,
   "metadata": {},
   "outputs": [
    {
     "data": {
      "text/plain": [
       "name = Eason\n",
       "height = 182.2\n"
      ]
     },
     "metadata": {},
     "output_type": "display_data"
    },
    {
     "data": {
      "text/plain": [
       "182.2"
      ]
     },
     "execution_count": 43,
     "metadata": {},
     "output_type": "execute_result"
    }
   ],
   "source": [
    "val name = \"Eason\"\n",
    "val height = 182.2"
   ]
  },
  {
   "cell_type": "code",
   "execution_count": 44,
   "metadata": {
    "scrolled": true
   },
   "outputs": [
    {
     "name": "stdout",
     "output_type": "stream",
     "text": [
      "Hello Eason, Eason !\n",
      "Hello Eason !, \n",
      " your height is 182.20. \n",
      "\n",
      "the \\n is a new line \n"
     ]
    }
   ],
   "source": [
    "println(s\"Hello $name, ${name} !\")\n",
    "println(f\"Hello $name !, \\n your height is ${height}%5.2f. %n\")\n",
    "println(raw\"the \\n is a new line \")"
   ]
  },
  {
   "cell_type": "markdown",
   "metadata": {},
   "source": [
    "而对于输入，可以使用 `scala.io.StdIn` 的 `readLine` 方法中从控制台读取一行输入。当然也有其它 `readInt, readDouble, readByte, readLong, readFloat, readBoolean, readChar` 等方法。"
   ]
  },
  {
   "cell_type": "markdown",
   "metadata": {},
   "source": [
    "### 2.5 循环\n",
    "\n",
    "基本的语法结构为:\n",
    "\n",
    "```\n",
    "for (i <- 表达式）\n",
    "```\n",
    "\n",
    "- 让变量 i 遍历 `<-` 右边表达式的所有值。\n",
    "- 循环变量 i 没有用 val, var 指定。其类型是遍历的元素类型。 "
   ]
  },
  {
   "cell_type": "code",
   "execution_count": 46,
   "metadata": {},
   "outputs": [
    {
     "name": "stdout",
     "output_type": "stream",
     "text": [
      "1, \t2, \t3, \t4, \t5, \t6, \t7, \t8, \t9, \t10, \t"
     ]
    }
   ],
   "source": [
    "for (i <- 1 to 10)\n",
    "    print(s\"${i}, \\t\")"
   ]
  },
  {
   "cell_type": "code",
   "execution_count": 48,
   "metadata": {},
   "outputs": [
    {
     "name": "stdout",
     "output_type": "stream",
     "text": [
      "h \te \tl \tl \to \t"
     ]
    },
    {
     "data": {
      "text/plain": [
       "n = 10\n"
      ]
     },
     "metadata": {},
     "output_type": "display_data"
    },
    {
     "data": {
      "text/plain": [
       "10"
      ]
     },
     "execution_count": 48,
     "metadata": {},
     "output_type": "execute_result"
    }
   ],
   "source": [
    "var n = 10\n",
    "for (n <- \"hello\") // 循环变量 n 上面定义的变量\n",
    "    print(s\"${n} \\t\")"
   ]
  },
  {
   "cell_type": "markdown",
   "metadata": {},
   "source": [
    "### 2.6 高级 for 循环"
   ]
  },
  {
   "cell_type": "code",
   "execution_count": 51,
   "metadata": {},
   "outputs": [
    {
     "name": "stdout",
     "output_type": "stream",
     "text": [
      "(1, H) \n",
      "(1, e) \n",
      "(1, l) \n",
      "(1, l) \n",
      "(1, o) \n",
      "(2, H) \n",
      "(2, e) \n",
      "(2, l) \n",
      "(2, l) \n",
      "(2, o) \n",
      "(3, H) \n",
      "(3, e) \n",
      "(3, l) \n",
      "(3, l) \n",
      "(3, o) \n"
     ]
    }
   ],
   "source": [
    "for (i <- 1 to 3; j <- \"Hello\")\n",
    "    print(s\"($i, $j) \\n\")"
   ]
  },
  {
   "cell_type": "code",
   "execution_count": 52,
   "metadata": {},
   "outputs": [
    {
     "data": {
      "text/plain": [
       "Vector(1, 2, 0, 1, 2, 0, 1, 2, 0, 1)"
      ]
     },
     "execution_count": 52,
     "metadata": {},
     "output_type": "execute_result"
    }
   ],
   "source": [
    "for (i <- 1 to 10) yield i % 3"
   ]
  },
  {
   "cell_type": "code",
   "execution_count": 53,
   "metadata": {
    "scrolled": true
   },
   "outputs": [
    {
     "name": "stdout",
     "output_type": "stream",
     "text": [
      "(1, 3) \n",
      "(2, 2) \n",
      "(2, 3) \n",
      "(3, 1) \n",
      "(3, 2) \n",
      "(3, 3) \n"
     ]
    }
   ],
   "source": [
    "for (i <- 1 to 3; from = 4 - i; j <- from to 3)\n",
    "    print(s\"($i, $j) \\n\")"
   ]
  },
  {
   "cell_type": "markdown",
   "metadata": {},
   "source": [
    "### 2.7 函数\n",
    "\n",
    "要定义函数，你需要给出函数名称，参数，返回值类型（可以省略）和函数值。"
   ]
  },
  {
   "cell_type": "code",
   "execution_count": 54,
   "metadata": {},
   "outputs": [
    {
     "data": {
      "text/plain": [
       "add: (a: Int, b: Int)Int\n"
      ]
     },
     "metadata": {},
     "output_type": "display_data"
    }
   ],
   "source": [
    "def add(a: Int, b:Int) = {\n",
    "    a + b\n",
    "}"
   ]
  },
  {
   "cell_type": "code",
   "execution_count": 55,
   "metadata": {},
   "outputs": [
    {
     "data": {
      "text/plain": [
       "7"
      ]
     },
     "execution_count": 55,
     "metadata": {},
     "output_type": "execute_result"
    }
   ],
   "source": [
    "add(3, 4)"
   ]
  },
  {
   "cell_type": "markdown",
   "metadata": {},
   "source": [
    "函数的参数必须指定类型，而返回值类型可以省略，不过函数是递归函数时，你就必须指定返回类型。"
   ]
  },
  {
   "cell_type": "code",
   "execution_count": 57,
   "metadata": {},
   "outputs": [
    {
     "data": {
      "text/plain": [
       "fac: (n: Int)Int\n"
      ]
     },
     "metadata": {},
     "output_type": "display_data"
    }
   ],
   "source": [
    "def fac(n: Int):Int = {\n",
    "    if (n <= 0) 1 else n * fac(n - 1)\n",
    "}"
   ]
  },
  {
   "cell_type": "code",
   "execution_count": 58,
   "metadata": {},
   "outputs": [
    {
     "data": {
      "text/plain": [
       "24"
      ]
     },
     "execution_count": 58,
     "metadata": {},
     "output_type": "execute_result"
    }
   ],
   "source": [
    "fac(4)"
   ]
  },
  {
   "cell_type": "markdown",
   "metadata": {},
   "source": [
    "### 2.8 默认参数和带名参数 "
   ]
  },
  {
   "cell_type": "code",
   "execution_count": 59,
   "metadata": {},
   "outputs": [
    {
     "data": {
      "text/plain": [
       "decorate: (str: String, left: String, right: String)String\n"
      ]
     },
     "metadata": {},
     "output_type": "display_data"
    }
   ],
   "source": [
    "def decorate(str:String, left: String = \"[\", right: String = \"]\") = {\n",
    "    left + str + right\n",
    "}"
   ]
  },
  {
   "cell_type": "code",
   "execution_count": 60,
   "metadata": {},
   "outputs": [
    {
     "data": {
      "text/plain": [
       "[Hello]"
      ]
     },
     "execution_count": 60,
     "metadata": {},
     "output_type": "execute_result"
    }
   ],
   "source": [
    "// 我们可以使用默认参数\n",
    "decorate(\"Hello\")"
   ]
  },
  {
   "cell_type": "code",
   "execution_count": 61,
   "metadata": {},
   "outputs": [
    {
     "data": {
      "text/plain": [
       "<Hello>"
      ]
     },
     "execution_count": 61,
     "metadata": {},
     "output_type": "execute_result"
    }
   ],
   "source": [
    "// 我们可以使用默认参数\n",
    "decorate(\"Hello\", \"<\", \">\")"
   ]
  },
  {
   "cell_type": "code",
   "execution_count": 62,
   "metadata": {},
   "outputs": [
    {
     "data": {
      "text/plain": [
       "'Hello'"
      ]
     },
     "execution_count": 62,
     "metadata": {},
     "output_type": "execute_result"
    }
   ],
   "source": [
    "// 不一定非要按顺序来传递，也可以根据参数的名称来传递\n",
    "decorate(left = \"'\", str = \"Hello\", right = \"'\")"
   ]
  },
  {
   "cell_type": "markdown",
   "metadata": {},
   "source": [
    "### 2.9 变长参数\n",
    "\n",
    "有时候实现一个可以接受可变长度的参数列表函数也很方便。"
   ]
  },
  {
   "cell_type": "code",
   "execution_count": 63,
   "metadata": {},
   "outputs": [
    {
     "data": {
      "text/plain": [
       "sum: (args: Int*)Int\n"
      ]
     },
     "metadata": {},
     "output_type": "display_data"
    }
   ],
   "source": [
    "def sum(args: Int*) = {\n",
    "    var result = 0\n",
    "    for (n <- args) result += n\n",
    "    result\n",
    "}"
   ]
  },
  {
   "cell_type": "code",
   "execution_count": 64,
   "metadata": {},
   "outputs": [
    {
     "data": {
      "text/plain": [
       "6"
      ]
     },
     "execution_count": 64,
     "metadata": {},
     "output_type": "execute_result"
    }
   ],
   "source": [
    "sum(1,2,3)"
   ]
  },
  {
   "cell_type": "markdown",
   "metadata": {},
   "source": [
    "使用 `_*` 可以对 Range 作为参数序列处理。"
   ]
  },
  {
   "cell_type": "code",
   "execution_count": 66,
   "metadata": {},
   "outputs": [
    {
     "data": {
      "text/plain": [
       "15"
      ]
     },
     "execution_count": 66,
     "metadata": {},
     "output_type": "execute_result"
    }
   ],
   "source": [
    "sum(1 to 5:_*)"
   ]
  },
  {
   "cell_type": "markdown",
   "metadata": {},
   "source": [
    "### 2.10 过程\n",
    "\n",
    "Scala 对于不返回值的函数有特殊的表示法。如果满足下面的特征：\n",
    "\n",
    "1. 函数体包裹在花括号中；\n",
    "2. 没有 `=`\n",
    "\n",
    "那么返回类型就是 `Unit`, 这样的函数称之为**过程(procedure)**。"
   ]
  },
  {
   "cell_type": "code",
   "execution_count": 70,
   "metadata": {},
   "outputs": [
    {
     "data": {
      "text/plain": [
       "box: (s: String)Unit\n"
      ]
     },
     "metadata": {},
     "output_type": "display_data"
    }
   ],
   "source": [
    "def box(s: String) {\n",
    "    val border = \"-\" * (s.length + 2)\n",
    "    print(f\"$border%n|$s|%n$border%n\")\n",
    "}"
   ]
  },
  {
   "cell_type": "code",
   "execution_count": 71,
   "metadata": {},
   "outputs": [
    {
     "name": "stdout",
     "output_type": "stream",
     "text": [
      "-------\n",
      "|hello|\n",
      "-------\n"
     ]
    }
   ],
   "source": [
    "box(\"hello\")"
   ]
  },
  {
   "cell_type": "markdown",
   "metadata": {},
   "source": [
    "### 2.11 懒值 （lazy)\n",
    "\n",
    "当 `val` 被声明为 `lazy` 时，它的初始化过程将被推迟，直到我们首次对它取值。例如："
   ]
  },
  {
   "cell_type": "code",
   "execution_count": 73,
   "metadata": {
    "scrolled": true
   },
   "outputs": [
    {
     "data": {
      "text/plain": [
       "Name: java.io.FileNotFoundException\n",
       "Message: ./foo.txt (No such file or directory)\n",
       "StackTrace:   at java.io.FileInputStream.open0(Native Method)\n",
       "  at java.io.FileInputStream.open(FileInputStream.java:195)\n",
       "  at java.io.FileInputStream.<init>(FileInputStream.java:138)\n",
       "  at scala.io.Source$.fromFile(Source.scala:91)\n",
       "  at scala.io.Source$.fromFile(Source.scala:76)\n",
       "  at scala.io.Source$.fromFile(Source.scala:54)"
      ]
     },
     "execution_count": 73,
     "metadata": {},
     "output_type": "execute_result"
    }
   ],
   "source": [
    "val file1 = scala.io.Source.fromFile(\"./foo.txt\")"
   ]
  },
  {
   "cell_type": "code",
   "execution_count": 74,
   "metadata": {
    "scrolled": true
   },
   "outputs": [
    {
     "data": {
      "text/plain": [
       "lastException: Throwable = null\n",
       "file2: scala.io.BufferedSource = <lazy>\n"
      ]
     },
     "metadata": {},
     "output_type": "display_data"
    }
   ],
   "source": [
    "lazy val file2 = scala.io.Source.fromFile(\"./foo.txt\")"
   ]
  },
  {
   "cell_type": "markdown",
   "metadata": {},
   "source": [
    "`lazy` 对于开销较大的初始化语句而言十分有用。不过，懒值并非没有额外开销。我们每次访问懒值时，都会有一个方法被调用，而这个方法将会以线程安全的方式检查该值是否已经被初始化。"
   ]
  },
  {
   "cell_type": "markdown",
   "metadata": {},
   "source": [
    "### 2.12 异常 \n",
    "\n",
    "Scala 异常处理机制与 C++/Java 的异常处理机制有类似，不过没有『受检』异常，即必须要捕获的异常。\n",
    "\n",
    "```scala\n",
    "val in = new URL(\"http://horstmann.com/fred.gif\").openStream()\n",
    "\n",
    "try {\n",
    "    process(in)\n",
    "} catch {\n",
    "    case _: MalformedURLException => println(s\"Bad URL: $url\")\n",
    "    case ex: IOException => ex.printStackTrace()\n",
    "} finally {\n",
    "    in.close()\n",
    "}\n",
    "```"
   ]
  }
 ],
 "metadata": {
  "kernelspec": {
   "display_name": "Apache Toree - Scala",
   "language": "scala",
   "name": "apache_toree_scala"
  },
  "language_info": {
   "codemirror_mode": "text/x-scala",
   "file_extension": ".scala",
   "mimetype": "text/x-scala",
   "name": "scala",
   "pygments_lexer": "scala",
   "version": "2.11.12"
  }
 },
 "nbformat": 4,
 "nbformat_minor": 2
}
