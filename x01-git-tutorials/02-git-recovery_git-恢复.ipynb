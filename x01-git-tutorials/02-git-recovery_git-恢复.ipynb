{
 "cells": [
  {
   "cell_type": "markdown",
   "metadata": {
    "deletable": true,
    "editable": true
   },
   "source": [
    "## git 恢复\n",
    "### 1. --amend \n",
    "\n",
    "使用用场景：提交后立即(right on the spot)修复。\n",
    "\n",
    "主要用途：\n",
    "\n",
    "1. 修复提交后的信息\n",
    "2. 增加提交后遗落的文件。\n"
   ]
  },
  {
   "cell_type": "code",
   "execution_count": 3,
   "metadata": {
    "collapsed": false,
    "deletable": true,
    "editable": true
   },
   "outputs": [
    {
     "name": "stdout",
     "output_type": "stream",
     "text": [
      "fetch-pull.diff\t\tgit-log\t\t\tgit_HEAD\n",
      "git commit amend\tgit-remote\t\tgit_push\n",
      "git 命令参考.png\tgit-stash.md\t\tgit_push~\n",
      "git 常用命令参考\tgit-undoing.md\t\treadme.md\n",
      "\n",
      "## --amend\n",
      "1. 修复提交信息。\n",
      "2. 添加遗漏文件。\n"
     ]
    }
   ],
   "source": [
    "cd ~/learning/comp2/gitAbc\n",
    "ls\n",
    "echo \n",
    "cat git-undoing.md"
   ]
  },
  {
   "cell_type": "markdown",
   "metadata": {},
   "source": [
    "####  Scenario 1:  修改提交的信息"
   ]
  },
  {
   "cell_type": "code",
   "execution_count": 7,
   "metadata": {
    "collapsed": false,
    "scrolled": true
   },
   "outputs": [
    {
     "name": "stdout",
     "output_type": "stream",
     "text": [
      "## --amend \n",
      "执行场景提交后立即执行(right on the spot)\n",
      "1. 修复提交信息。\n",
      "直接在上次提交后执行 \n",
      "git commit --amend -m 'New message' \n",
      "2. 添加遗漏文件。\n",
      "\n"
     ]
    }
   ],
   "source": [
    "cat git-undoing.md"
   ]
  },
  {
   "cell_type": "code",
   "execution_count": 9,
   "metadata": {
    "collapsed": false
   },
   "outputs": [
    {
     "name": "stdout",
     "output_type": "stream",
     "text": [
      "[master ff598bb] Add git reset intro\n",
      " 1 file changed, 7 insertions(+)\n",
      " create mode 100644 git-undoing.md\n"
     ]
    }
   ],
   "source": [
    "# 故意提交个错误信息\n",
    "git add git-undoing.md\n",
    "git commit -m 'Add git reset intro'"
   ]
  },
  {
   "cell_type": "code",
   "execution_count": 13,
   "metadata": {
    "collapsed": false
   },
   "outputs": [
    {
     "name": "stdout",
     "output_type": "stream",
     "text": [
      "\u001b[33mcommit ff598bb7bc181eb7299a8b879c15a047b99ffcf7\u001b[m\n",
      "Author: AaronFlower <haojunzhan@gmail.com>\n",
      "Date:   Mon Mar 27 23:53:40 2017 +0800\n",
      "\n",
      "    Add git reset intro\n",
      "\n",
      "\u001b[33mcommit c1b1e1f4b59f50169a41744bcfb487e5bf56c397\u001b[m\n",
      "Merge: 0bdf7a3 22ea0b5\n",
      "Author: AaronFlower <haojunzhan@gmail.com>\n",
      "Date:   Thu Mar 23 13:20:55 2017 +0800\n",
      "\n",
      "    Merge branch 'sundryFeature'\n",
      "    confclits fixed\n"
     ]
    }
   ],
   "source": [
    "git log -2"
   ]
  },
  {
   "cell_type": "code",
   "execution_count": 14,
   "metadata": {
    "collapsed": false
   },
   "outputs": [
    {
     "name": "stdout",
     "output_type": "stream",
     "text": [
      "[master 0e8820b] Add git amend intro\n",
      " Date: Mon Mar 27 23:53:40 2017 +0800\n",
      " 1 file changed, 7 insertions(+)\n",
      " create mode 100644 git-undoing.md\n"
     ]
    }
   ],
   "source": [
    "# 修复提交信息\n",
    "git commit --amend -m 'Add git amend intro'"
   ]
  },
  {
   "cell_type": "code",
   "execution_count": 15,
   "metadata": {
    "collapsed": false
   },
   "outputs": [
    {
     "name": "stdout",
     "output_type": "stream",
     "text": [
      "\u001b[33mcommit 0e8820b6cdef99530eeb7326cf2204f3f1da4119\u001b[m\n",
      "Author: AaronFlower <haojunzhan@gmail.com>\n",
      "Date:   Mon Mar 27 23:53:40 2017 +0800\n",
      "\n",
      "    Add git amend intro\n",
      "\n",
      "\u001b[33mcommit c1b1e1f4b59f50169a41744bcfb487e5bf56c397\u001b[m\n",
      "Merge: 0bdf7a3 22ea0b5\n",
      "Author: AaronFlower <haojunzhan@gmail.com>\n",
      "Date:   Thu Mar 23 13:20:55 2017 +0800\n",
      "\n",
      "    Merge branch 'sundryFeature'\n",
      "    confclits fixed\n"
     ]
    }
   ],
   "source": [
    "git log -2"
   ]
  },
  {
   "cell_type": "markdown",
   "metadata": {},
   "source": [
    "**注意**: 用 --amend 方法提交会改变提交的 log 的 hash, 因为 commit message 也是 hash 的组成部分。所以 --amend 只适用于刚提交还没有 push 到远程目录的提交。"
   ]
  },
  {
   "cell_type": "markdown",
   "metadata": {},
   "source": [
    "#### Scenario 2: 添加遗漏的未提交文件"
   ]
  },
  {
   "cell_type": "code",
   "execution_count": 17,
   "metadata": {
    "collapsed": false,
    "scrolled": true
   },
   "outputs": [
    {
     "name": "stdout",
     "output_type": "stream",
     "text": [
      "Scenario 2 test file\n"
     ]
    }
   ],
   "source": [
    "touch amend-lost.txt\n",
    "echo 'Scenario 2 test file'> amend-lost.txt\n",
    "cat amend-lost.txt"
   ]
  },
  {
   "cell_type": "code",
   "execution_count": 18,
   "metadata": {
    "collapsed": false
   },
   "outputs": [
    {
     "name": "stdout",
     "output_type": "stream",
     "text": [
      "[master a8ad008] Add git amend intro and add git appended file\n",
      " Date: Mon Mar 27 23:53:40 2017 +0800\n",
      " 2 files changed, 8 insertions(+)\n",
      " create mode 100644 amend-lost.txt\n",
      " create mode 100644 git-undoing.md\n"
     ]
    }
   ],
   "source": [
    "# 追加到上次的提交中\n",
    "git add amend-lost.txt\n",
    "git commit --amend -m 'Add git amend intro and add git appended file'"
   ]
  },
  {
   "cell_type": "code",
   "execution_count": 19,
   "metadata": {
    "collapsed": false
   },
   "outputs": [
    {
     "name": "stdout",
     "output_type": "stream",
     "text": [
      "\u001b[33mcommit a8ad0080ace1b5cdca68f88c0b00e160035a117a\u001b[m\n",
      "Author: AaronFlower <haojunzhan@gmail.com>\n",
      "Date:   Mon Mar 27 23:53:40 2017 +0800\n",
      "\n",
      "    Add git amend intro and add git appended file\n",
      "\n",
      "\u001b[33mcommit c1b1e1f4b59f50169a41744bcfb487e5bf56c397\u001b[m\n",
      "Merge: 0bdf7a3 22ea0b5\n",
      "Author: AaronFlower <haojunzhan@gmail.com>\n",
      "Date:   Thu Mar 23 13:20:55 2017 +0800\n",
      "\n",
      "    Merge branch 'sundryFeature'\n",
      "    confclits fixed\n"
     ]
    }
   ],
   "source": [
    "git log -2"
   ]
  },
  {
   "cell_type": "markdown",
   "metadata": {},
   "source": [
    "**注意：**可以看出们的--amend 的 log hash 又变了。"
   ]
  },
  {
   "cell_type": "markdown",
   "metadata": {},
   "source": [
    "### 2. cherry-pick\n",
    "\n",
    "使用场景：把代码提交到错误分支，可以使用 cherry-pick 把错误的提交内容转移到正确的分支上。\n"
   ]
  },
  {
   "cell_type": "code",
   "execution_count": 21,
   "metadata": {
    "collapsed": false
   },
   "outputs": [
    {
     "name": "stdout",
     "output_type": "stream",
     "text": [
      "On branch master\n",
      "Your branch is up-to-date with 'origin/master'.\n",
      "Untracked files:\n",
      "  (use \"git add <file>...\" to include in what will be committed)\n",
      "\n",
      "\t\u001b[31mgit-cherry-pick.md\u001b[m\n",
      "\t\u001b[31msourceTreeResetSvnPassword\u001b[m\n",
      "\n",
      "nothing added to commit but untracked files present (use \"git add\" to track)\n",
      "* \u001b[32mmaster\u001b[m\n",
      "  sundryFeature\u001b[m\n",
      "  \u001b[31mremotes/origin/HEAD\u001b[m -> origin/master\n",
      "  \u001b[31mremotes/origin/master\u001b[m\n",
      "  \u001b[31mremotes/origin/sundryFeature\u001b[m\n"
     ]
    }
   ],
   "source": [
    "cd ~/learning/git_repos/gitAbc\n",
    "git status\n",
    "git branch -a"
   ]
  },
  {
   "cell_type": "code",
   "execution_count": 22,
   "metadata": {
    "collapsed": false
   },
   "outputs": [
    {
     "name": "stdout",
     "output_type": "stream",
     "text": [
      "[master abc1d27] Add source tree reset svm password method\n",
      " 1 file changed, 2 insertions(+)\n",
      " create mode 100644 sourceTreeResetSvnPassword\n",
      "[master c4ca511] Add git cherry pick md\n",
      " 1 file changed, 1 insertion(+)\n",
      " create mode 100644 git-cherry-pick.md\n",
      "\u001b[33mcommit c4ca511d02d90f03a91e5cf25f5ed92c059de121\u001b[m\n",
      "Author: AaronFlower <haojunzhan@gmail.com>\n",
      "Date:   Tue Mar 28 08:13:45 2017 +0800\n",
      "\n",
      "    Add git cherry pick md\n",
      "\n",
      "\u001b[33mcommit abc1d2781318f46ee6a43799be1c4aacdc0c3e66\u001b[m\n",
      "Author: AaronFlower <haojunzhan@gmail.com>\n",
      "Date:   Tue Mar 28 08:13:45 2017 +0800\n",
      "\n",
      "    Add source tree reset svm password method\n",
      "\n",
      "\u001b[33mcommit 0bdf7a3f34383daf8ff6968a63cb832e4cb4a8d8\u001b[m\n",
      "Author: AaronFlower <haojunzhan@gmail.com>\n",
      "Date:   Thu Mar 23 08:54:18 2017 +0800\n",
      "\n",
      "    Add modified git_push\n"
     ]
    }
   ],
   "source": [
    "git add sourceTreeResetSvnPassword\n",
    "git commit -m 'Add source tree reset svm password method'\n",
    "git add git-cherry-pick.md\n",
    "git commit -m 'Add git cherry pick md'\n",
    "git log -3"
   ]
  },
  {
   "cell_type": "code",
   "execution_count": 24,
   "metadata": {
    "collapsed": false
   },
   "outputs": [
    {
     "name": "stdout",
     "output_type": "stream",
     "text": [
      "Switched to branch 'sundryFeature'\n",
      "[sundryFeature 126e4ae] Add git cherry pick md\n",
      " Date: Tue Mar 28 08:13:45 2017 +0800\n",
      " 1 file changed, 1 insertion(+)\n",
      " create mode 100644 git-cherry-pick.md\n"
     ]
    }
   ],
   "source": [
    "# 但是我们却把 feature 的分支误提交到了 master 上。修复方法就是使用 cherry-pick\n",
    "# 1. 切换到 sundryFeature 分支上\n",
    "git checkout sundryFeature\n",
    "# 2. cherry-pick 误提交 log 的 hash.\n",
    "git cherry-pick c4ca511db"
   ]
  },
  {
   "cell_type": "code",
   "execution_count": 26,
   "metadata": {
    "collapsed": false
   },
   "outputs": [
    {
     "name": "stdout",
     "output_type": "stream",
     "text": [
      "\u001b[33mcommit 126e4ae91d91aacd55c2f4ddfcbdcce9f1c81d2a\u001b[m\n",
      "Author: AaronFlower <haojunzhan@gmail.com>\n",
      "Date:   Tue Mar 28 08:13:45 2017 +0800\n",
      "\n",
      "    Add git cherry pick md\n",
      "\n",
      "\u001b[33mcommit 0bdf7a3f34383daf8ff6968a63cb832e4cb4a8d8\u001b[m\n",
      "Author: AaronFlower <haojunzhan@gmail.com>\n",
      "Date:   Thu Mar 23 08:54:18 2017 +0800\n",
      "\n",
      "    Add modified git_push\n",
      "\n",
      "\u001b[33mcommit f31c7794f18f7cdf8a0217790ee9ee7fb27664a3\u001b[m\n",
      "Merge: a0ee51c 582aae4\n",
      "Author: AaronFlower <haojunzhan@gmail.com>\n",
      "Date:   Thu Mar 23 08:50:08 2017 +0800\n",
      "\n",
      "    Merge pull request #3 from AaronFlower/sundryFeature\n",
      "    \n",
      "    Sundry feature\n"
     ]
    }
   ],
   "source": [
    "git log -3"
   ]
  },
  {
   "cell_type": "code",
   "execution_count": 28,
   "metadata": {
    "collapsed": false
   },
   "outputs": [
    {
     "name": "stdout",
     "output_type": "stream",
     "text": [
      "Already on 'master'\n",
      "Your branch is ahead of 'origin/master' by 1 commit.\n",
      "  (use \"git push\" to publish your local commits)\n",
      "HEAD is now at abc1d27 Add source tree reset svm password method\n"
     ]
    }
   ],
   "source": [
    "# 将 master 上的错误提交给 reset 掉即可。\n",
    "git checkout master\n",
    "git reset --hard abc1d27"
   ]
  },
  {
   "cell_type": "markdown",
   "metadata": {},
   "source": [
    "**注** cherry-pick 不仅可以转移 1 次提交，还可以转移多次提交。"
   ]
  },
  {
   "cell_type": "markdown",
   "metadata": {},
   "source": [
    "### 3. reset \n",
    "使用场景：撤消 tracking 的提交的内容。\n",
    "1. git reset --soft <commit> # 撤消<commit>之后提交，并将提交内容放置到 staged area\n",
    "2. git reset <commit> # 撤消<commit>之后提交，并将提交内容放置到 working area\n",
    "3. git reset --hard <commit> # 撤消<commit>之后提交，并直接撤消所有更新。"
   ]
  },
  {
   "cell_type": "markdown",
   "metadata": {},
   "source": [
    "### 4. clean\n",
    "git reset 只能撤消 tracking 的文件。如果不一小心 git 目录增加了很多文件，可以使用 git clean 来清除。\n",
    "1. git clean -df # -d: untracked directory, -f untracked file"
   ]
  },
  {
   "cell_type": "code",
   "execution_count": 30,
   "metadata": {
    "collapsed": false
   },
   "outputs": [
    {
     "name": "stdout",
     "output_type": "stream",
     "text": [
      "On branch master\n",
      "Your branch is ahead of 'origin/master' by 1 commit.\n",
      "  (use \"git push\" to publish your local commits)\n",
      "Untracked files:\n",
      "  (use \"git add <file>...\" to include in what will be committed)\n",
      "\n",
      "\t\u001b[31m1.txt\u001b[m\n",
      "\t\u001b[31m2.txt\u001b[m\n",
      "\t\u001b[31m3.txt\u001b[m\n",
      "\n",
      "nothing added to commit but untracked files present (use \"git add\" to track)\n"
     ]
    }
   ],
   "source": [
    "touch 1.txt 2.txt 3.txt\n",
    "git status"
   ]
  },
  {
   "cell_type": "code",
   "execution_count": 31,
   "metadata": {
    "collapsed": false
   },
   "outputs": [
    {
     "name": "stdout",
     "output_type": "stream",
     "text": [
      "Removing 1.txt\n",
      "Removing 2.txt\n",
      "Removing 3.txt\n"
     ]
    }
   ],
   "source": [
    "git clean -df"
   ]
  },
  {
   "cell_type": "code",
   "execution_count": 32,
   "metadata": {
    "collapsed": false
   },
   "outputs": [
    {
     "name": "stdout",
     "output_type": "stream",
     "text": [
      "On branch master\n",
      "Your branch is ahead of 'origin/master' by 1 commit.\n",
      "  (use \"git push\" to publish your local commits)\n",
      "nothing to commit, working tree clean\n"
     ]
    }
   ],
   "source": [
    "git status"
   ]
  },
  {
   "cell_type": "markdown",
   "metadata": {},
   "source": [
    "### 5. reflog\n",
    "git reflog is a lifesaver. 使用 git reflog 可以查看我们所有操作 log, 并且可以恢复到 log 所在的位置。"
   ]
  },
  {
   "cell_type": "code",
   "execution_count": 33,
   "metadata": {
    "collapsed": false
   },
   "outputs": [
    {
     "name": "stdout",
     "output_type": "stream",
     "text": [
      "\u001b[33mabc1d27\u001b[m HEAD@{0}: reset: moving to abc1d27\n",
      "\u001b[33mabc1d27\u001b[m HEAD@{1}: checkout: moving from master to master\n",
      "\u001b[33mabc1d27\u001b[m HEAD@{2}: reset: moving to abc1d27\n",
      "\u001b[33m126e4ae\u001b[m HEAD@{3}: reset: moving to 126e4ae\n",
      "\u001b[33mabc1d27\u001b[m HEAD@{4}: checkout: moving from sundryFeature to master\n",
      "\u001b[33m126e4ae\u001b[m HEAD@{5}: checkout: moving from master to sundryFeature\n",
      "\u001b[33mabc1d27\u001b[m HEAD@{6}: reset: moving to HEAD^\n",
      "\u001b[33mc4ca511\u001b[m HEAD@{7}: checkout: moving from sundryFeature to master\n",
      "\u001b[33m126e4ae\u001b[m HEAD@{8}: cherry-pick: Add git cherry pick md\n",
      "\u001b[33m0bdf7a3\u001b[m HEAD@{9}: checkout: moving from master to sundryFeature\n",
      "\u001b[33mc4ca511\u001b[m HEAD@{10}: commit: Add git cherry pick md\n",
      "\u001b[33mabc1d27\u001b[m HEAD@{11}: commit: Add source tree reset svm password method\n",
      "\u001b[33m0bdf7a3\u001b[m HEAD@{12}: checkout: moving from sundryFeature to master\n",
      "\u001b[33m0bdf7a3\u001b[m HEAD@{13}: checkout: moving from master to sundryFeature\n",
      "\u001b[33m0bdf7a3\u001b[m HEAD@{14}: clone: from https://github.com/AaronFlower/gitAbc.git\n"
     ]
    }
   ],
   "source": [
    "git reflog"
   ]
  },
  {
   "cell_type": "markdown",
   "metadata": {},
   "source": [
    "**注** 如果想恢复到那个位置，拷贝下 commit hash , git reset 下即可。绝 B lifesaver."
   ]
  },
  {
   "cell_type": "markdown",
   "metadata": {},
   "source": [
    "### 6. revert\n",
    "使用场景：误提交的内容，推送到了远程，并且被别人更新了。那么我们可以使用 revert 来撤消，并且不用修改任何信息。\n",
    "1. git revert <commit>\n"
   ]
  }
 ],
 "metadata": {
  "kernelspec": {
   "display_name": "Bash",
   "language": "bash",
   "name": "bash"
  },
  "language_info": {
   "codemirror_mode": "shell",
   "file_extension": ".sh",
   "mimetype": "text/x-sh",
   "name": "bash"
  }
 },
 "nbformat": 4,
 "nbformat_minor": 2
}
