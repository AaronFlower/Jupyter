{
 "cells": [
  {
   "cell_type": "markdown",
   "metadata": {
    "deletable": true,
    "editable": true
   },
   "source": [
    "## Git Stash \n",
    "用途，将工作区的内容暂存起来。\n",
    "常用命令：\n",
    "1. git stash save 'work on add stash function' # 保存 working diretory 的内容，使其变成一个 clean working directory.\n",
    "2. git stash list # 查看 stash 的内容\n",
    "3. git stash apply stash@{0}# 恢复 working directory, 但是并不会从 stash list 中删掉。\n",
    "4. git stash pop # 恢复 working diretory, 并且从 stash list 中删除。\n",
    "5. git stash drop stash@{0} # 直接指定删除 stash list 中的内容。\n",
    "6. git stash clear # 即 git stash drop all, 删除所有 stash 的内容。\n",
    "\n",
    "**提示：** git stash 可以在 branch 之间进行传递，所以在错误分支上修改可以使用 git stash, 然后通过切换到新的 branch 上进行提交。\n",
    "\n",
    "git stash 每次 stash 的顺序是按栈来存储的，** stash@{0} 总是最新的暂存的内容。**"
   ]
  },
  {
   "cell_type": "markdown",
   "metadata": {},
   "source": [
    "### 查看 stash 内容\n",
    "\n",
    "#### 仅查看变更文件\n",
    "**`$ git stash show stash@{0}`** # 如果是 stash@{0} 可以不用指定 stash@{number}。\n",
    "\n",
    " examples/App.vue                        | 61 +++++++++++++++++++++++++++++++++++++++++++++++++++++++++++++\n",
    " examples/mock/index.js                  |  1 -\n",
    " examples/router/index.js                | 96 ++++++++++++++++++++++++++++++++++++++++++++++++++++++++++++++++++++++++++++++++++++++++++++++++\n",
    " src/externals/fileupload/README.md      |  4 ++++\n",
    " src/externals/fileupload/fileupload.vue |  5 +++++\n",
    " src/index.js                            | 21 +++++++++++++++++++++\n",
    " 6 files changed, 187 insertions(+), 1 deletion(-)\n",
    " \n",
    " \n",
    "#### 查看变更文件和内容\n",
    "\n",
    "**`$ git stash show stash@{0} -p`** # 只需要在后面加上一个 `-p` 参数即可\n",
    "\n",
    "diff --git a/README.md b/README.md\n",
    "index b531436..30512a4 100644\n",
    "--- a/README.md\n",
    "+++ b/README.md\n",
    "@@ -92,4 +92,4 @@ http://git.code.oa.com/johnsonhou/tui-cli\n",
    "\n",
    " http://tnpm.oa.com/package/package/@tencent/tui-cli\n",
    "\n",
    "-\n",
    "+## Git stash show test\n"
   ]
  }
 ],
 "metadata": {
  "kernelspec": {
   "display_name": "Bash",
   "language": "bash",
   "name": "bash"
  },
  "language_info": {
   "codemirror_mode": "shell",
   "file_extension": ".sh",
   "mimetype": "text/x-sh",
   "name": "bash"
  }
 },
 "nbformat": 4,
 "nbformat_minor": 2
}
