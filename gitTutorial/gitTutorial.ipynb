{
 "cells": [
  {
   "cell_type": "markdown",
   "metadata": {},
   "source": [
    "## Git Tutorial\n",
    "\n",
    "### [Git books](https://git-scm.com/)\n",
    "\n",
    "### Basic Commands\n",
    "\n",
    "1. git --version\n",
    "2. git config --global\n",
    "3. git help <verb>\n",
    "4. git <verb> --help\n",
    "5. git branch \n",
    "6. git branch -a\n",
    "7. git branch -r\n",
    "8. git remote -v"
   ]
  },
  {
   "cell_type": "markdown",
   "metadata": {},
   "source": [
    "### Two scenarios\n",
    "\n",
    "#### Scenario 1\n",
    "\n",
    "```bash\n",
    "git init # 新建 git 目录进行 tracking. 会在当前目录生 .git 文件夹用来 tracking.\n",
    "rm -rf .git # 不想继续 tracking, 直接删除 .git 文件夹。\n",
    "\n",
    "vim .gitignore # ignore tracking some files.\n",
    "```\n",
    "\n",
    "where are we now ? git 主要有三个区，工作区(working directory)，暂存区(staging directory)，Repos(仓库)\n",
    "\n",
    "<img src=\"./gitAreas.svg\">\n",
    "\n",
    "\n",
    "#### git fetch\n",
    "<img src=\"./gitFetch.svg\">\n",
    "#### git pull  = git fetch + git merge\n"
   ]
  }
 ],
 "metadata": {
  "kernelspec": {
   "display_name": "Python 3",
   "language": "python",
   "name": "python3"
  },
  "language_info": {
   "codemirror_mode": {
    "name": "ipython",
    "version": 3
   },
   "file_extension": ".py",
   "mimetype": "text/x-python",
   "name": "python",
   "nbconvert_exporter": "python",
   "pygments_lexer": "ipython3",
   "version": "3.6.0"
  }
 },
 "nbformat": 4,
 "nbformat_minor": 2
}
