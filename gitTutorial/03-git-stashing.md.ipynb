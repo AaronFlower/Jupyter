{
 "cells": [
  {
   "cell_type": "markdown",
   "metadata": {},
   "source": [
    "## Git Stash \n",
    "用途，将工作区的内容暂存起来。\n",
    "常用命令：\n",
    "1. git stash save 'work on add stash function' # 保存 working diretory 的内容，使其变成一个 clean working directory.\n",
    "2. git stash list # 查看 stash 的内容\n",
    "3. git stash apply stash@{0}# 恢复 working directory, 但是并不会从 stash list 中删掉。\n",
    "4. git stash pop # 恢复 working diretory, 并且从 stash list 中删除。\n",
    "5. git stash drop stash@{0} # 直接指定删除 stash list 中的内容。\n",
    "6. git stash clear # 即 git stash drop all, 删除所有 stash 的内容。\n",
    "\n",
    "**提示：** git stash 可以在 branch 之间进行传递，所以在错误分支上修改可以使用 git stash, 然后通过切换到新的 branch 上进行提交。"
   ]
  }
 ],
 "metadata": {
  "kernelspec": {
   "display_name": "Bash",
   "language": "bash",
   "name": "bash"
  },
  "language_info": {
   "codemirror_mode": "shell",
   "file_extension": ".sh",
   "mimetype": "text/x-sh",
   "name": "bash"
  }
 },
 "nbformat": 4,
 "nbformat_minor": 2
}
