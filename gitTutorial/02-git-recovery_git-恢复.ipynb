{
 "cells": [
  {
   "cell_type": "markdown",
   "metadata": {
    "deletable": true,
    "editable": true
   },
   "source": [
    "## git 恢复\n",
    "### --amend \n",
    "\n",
    "主要用途：\n",
    "\n",
    "1. 修复提交后的信息\n",
    "2. 增加提交后遗落的文件。\n"
   ]
  },
  {
   "cell_type": "code",
   "execution_count": 3,
   "metadata": {
    "collapsed": false,
    "deletable": true,
    "editable": true
   },
   "outputs": [
    {
     "name": "stdout",
     "output_type": "stream",
     "text": [
      "fetch-pull.diff\t\tgit-log\t\t\tgit_HEAD\n",
      "git commit amend\tgit-remote\t\tgit_push\n",
      "git 命令参考.png\tgit-stash.md\t\tgit_push~\n",
      "git 常用命令参考\tgit-undoing.md\t\treadme.md\n",
      "\n",
      "## --amend\n",
      "1. 修复提交信息。\n",
      "2. 添加遗漏文件。\n"
     ]
    }
   ],
   "source": [
    "cd ~/learning/comp2/gitAbc\n",
    "ls\n",
    "echo \n",
    "cat git-undoing.md"
   ]
  },
  {
   "cell_type": "markdown",
   "metadata": {},
   "source": [
    "###  Scenario 1:  修改提交的信息"
   ]
  },
  {
   "cell_type": "code",
   "execution_count": 7,
   "metadata": {
    "collapsed": false,
    "scrolled": true
   },
   "outputs": [
    {
     "name": "stdout",
     "output_type": "stream",
     "text": [
      "## --amend \n",
      "执行场景提交后立即执行(right on the spot)\n",
      "1. 修复提交信息。\n",
      "直接在上次提交后执行 \n",
      "git commit --amend -m 'New message' \n",
      "2. 添加遗漏文件。\n",
      "\n"
     ]
    }
   ],
   "source": [
    "cat git-undoing.md"
   ]
  },
  {
   "cell_type": "code",
   "execution_count": 9,
   "metadata": {
    "collapsed": false
   },
   "outputs": [
    {
     "name": "stdout",
     "output_type": "stream",
     "text": [
      "[master ff598bb] Add git reset intro\n",
      " 1 file changed, 7 insertions(+)\n",
      " create mode 100644 git-undoing.md\n"
     ]
    }
   ],
   "source": [
    "# 故意提交个错误信息\n",
    "git add git-undoing.md\n",
    "git commit -m 'Add git reset intro'"
   ]
  },
  {
   "cell_type": "code",
   "execution_count": 13,
   "metadata": {
    "collapsed": false
   },
   "outputs": [
    {
     "name": "stdout",
     "output_type": "stream",
     "text": [
      "\u001b[33mcommit ff598bb7bc181eb7299a8b879c15a047b99ffcf7\u001b[m\n",
      "Author: AaronFlower <haojunzhan@gmail.com>\n",
      "Date:   Mon Mar 27 23:53:40 2017 +0800\n",
      "\n",
      "    Add git reset intro\n",
      "\n",
      "\u001b[33mcommit c1b1e1f4b59f50169a41744bcfb487e5bf56c397\u001b[m\n",
      "Merge: 0bdf7a3 22ea0b5\n",
      "Author: AaronFlower <haojunzhan@gmail.com>\n",
      "Date:   Thu Mar 23 13:20:55 2017 +0800\n",
      "\n",
      "    Merge branch 'sundryFeature'\n",
      "    confclits fixed\n"
     ]
    }
   ],
   "source": [
    "git log -2"
   ]
  },
  {
   "cell_type": "code",
   "execution_count": 14,
   "metadata": {
    "collapsed": false
   },
   "outputs": [
    {
     "name": "stdout",
     "output_type": "stream",
     "text": [
      "[master 0e8820b] Add git amend intro\n",
      " Date: Mon Mar 27 23:53:40 2017 +0800\n",
      " 1 file changed, 7 insertions(+)\n",
      " create mode 100644 git-undoing.md\n"
     ]
    }
   ],
   "source": [
    "# 修复提交信息\n",
    "git commit --amend -m 'Add git amend intro'"
   ]
  },
  {
   "cell_type": "code",
   "execution_count": 15,
   "metadata": {
    "collapsed": false
   },
   "outputs": [
    {
     "name": "stdout",
     "output_type": "stream",
     "text": [
      "\u001b[33mcommit 0e8820b6cdef99530eeb7326cf2204f3f1da4119\u001b[m\n",
      "Author: AaronFlower <haojunzhan@gmail.com>\n",
      "Date:   Mon Mar 27 23:53:40 2017 +0800\n",
      "\n",
      "    Add git amend intro\n",
      "\n",
      "\u001b[33mcommit c1b1e1f4b59f50169a41744bcfb487e5bf56c397\u001b[m\n",
      "Merge: 0bdf7a3 22ea0b5\n",
      "Author: AaronFlower <haojunzhan@gmail.com>\n",
      "Date:   Thu Mar 23 13:20:55 2017 +0800\n",
      "\n",
      "    Merge branch 'sundryFeature'\n",
      "    confclits fixed\n"
     ]
    }
   ],
   "source": [
    "git log -2"
   ]
  },
  {
   "cell_type": "markdown",
   "metadata": {},
   "source": [
    "*注意*: 用 --amend 方法提交会改变提交的 log 的 hash, 因为 commit message 也是 hash 的组成部分。所以 --amend 只适用于刚提交还没有 push 到远程目录的提交。"
   ]
  },
  {
   "cell_type": "markdown",
   "metadata": {},
   "source": [
    "### Scenario 2: 添加遗漏的未提交文件"
   ]
  },
  {
   "cell_type": "code",
   "execution_count": 17,
   "metadata": {
    "collapsed": false
   },
   "outputs": [
    {
     "name": "stdout",
     "output_type": "stream",
     "text": [
      "Scenario 2 test file\n"
     ]
    }
   ],
   "source": [
    "touch amend-lost.txt\n",
    "echo 'Scenario 2 test file'> amend-lost.txt\n",
    "cat amend-lost.txt"
   ]
  },
  {
   "cell_type": "code",
   "execution_count": 18,
   "metadata": {
    "collapsed": false
   },
   "outputs": [
    {
     "name": "stdout",
     "output_type": "stream",
     "text": [
      "[master a8ad008] Add git amend intro and add git appended file\n",
      " Date: Mon Mar 27 23:53:40 2017 +0800\n",
      " 2 files changed, 8 insertions(+)\n",
      " create mode 100644 amend-lost.txt\n",
      " create mode 100644 git-undoing.md\n"
     ]
    }
   ],
   "source": [
    "# 追加到上次的提交中\n",
    "git add amend-lost.txt\n",
    "git commit --amend -m 'Add git amend intro and add git appended file'"
   ]
  },
  {
   "cell_type": "code",
   "execution_count": 19,
   "metadata": {
    "collapsed": false
   },
   "outputs": [
    {
     "name": "stdout",
     "output_type": "stream",
     "text": [
      "\u001b[33mcommit a8ad0080ace1b5cdca68f88c0b00e160035a117a\u001b[m\n",
      "Author: AaronFlower <haojunzhan@gmail.com>\n",
      "Date:   Mon Mar 27 23:53:40 2017 +0800\n",
      "\n",
      "    Add git amend intro and add git appended file\n",
      "\n",
      "\u001b[33mcommit c1b1e1f4b59f50169a41744bcfb487e5bf56c397\u001b[m\n",
      "Merge: 0bdf7a3 22ea0b5\n",
      "Author: AaronFlower <haojunzhan@gmail.com>\n",
      "Date:   Thu Mar 23 13:20:55 2017 +0800\n",
      "\n",
      "    Merge branch 'sundryFeature'\n",
      "    confclits fixed\n"
     ]
    }
   ],
   "source": [
    "git log -2"
   ]
  },
  {
   "cell_type": "markdown",
   "metadata": {},
   "source": [
    "*注意：*可以看出们的--amend 的 log hash 又变了。"
   ]
  }
 ],
 "metadata": {
  "kernelspec": {
   "display_name": "Bash",
   "language": "bash",
   "name": "bash"
  },
  "language_info": {
   "codemirror_mode": "shell",
   "file_extension": ".sh",
   "mimetype": "text/x-sh",
   "name": "bash"
  }
 },
 "nbformat": 4,
 "nbformat_minor": 2
}
