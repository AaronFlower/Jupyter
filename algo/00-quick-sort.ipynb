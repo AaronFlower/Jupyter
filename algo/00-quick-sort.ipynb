{
 "cells": [
  {
   "cell_type": "markdown",
   "metadata": {},
   "source": [
    "## Quick-sort\n",
    "\n",
    "快速排序，最后要的是 `a[j] <= pivot` 条件的判断。当循环执行完成后，pivot 数组左边的元素都满足这个条件，而 pivot 右边的元素都不满足这个条件。\n",
    "\n",
    "所以，Quick-sort 的条件的应用，无不止这些，如可以将条件改写成判断大偶，则一次就完成奇偶交换。还有其它条件待发现。"
   ]
  },
  {
   "cell_type": "code",
   "execution_count": 10,
   "metadata": {
    "collapsed": false,
    "deletable": true,
    "editable": true
   },
   "outputs": [
    {
     "data": {
      "text/plain": [
       "undefined"
      ]
     },
     "execution_count": 10,
     "metadata": {},
     "output_type": "execute_result"
    }
   ],
   "source": [
    "\n",
    "function swap(a, i, j) {\n",
    "  let tmp = a[i]\n",
    "  a[i] = a[j]\n",
    "  a[j] = tmp\n",
    "}\n",
    "\n",
    "function quickSort(a, start, end) {\n",
    "  if (start < end) {\n",
    "    let pivotIndex = partition(a, start, end)\n",
    "    quickSort(a, start, pivotIndex - 1)\n",
    "    quickSort(a, pivotIndex + 1, end)\n",
    "  }\n",
    "}\n",
    "\n",
    "function partition(a, start, end) {\n",
    "  let i = start -1\n",
    "  let pivot = a[end]\n",
    "  for (j = start; j < end; ++j) {\n",
    "    if (a[j] <= pivot) { // 最重要是 a[j] <= pivot 这个条件，是用来过滤的。\n",
    "      ++i\n",
    "      swap(a, i, j)\n",
    "    }\n",
    "  }\n",
    "  swap(a, i + 1, end)\n",
    "  return i + 1\n",
    "}\n"
   ]
  },
  {
   "cell_type": "code",
   "execution_count": 12,
   "metadata": {
    "collapsed": false
   },
   "outputs": [
    {
     "data": {
      "text/plain": [
       "[ 1, 2, 3, 4, 5, 6, 7, 8 ]"
      ]
     },
     "execution_count": 12,
     "metadata": {},
     "output_type": "execute_result"
    }
   ],
   "source": [
    "a = [2, 1, 7, 8, 3, 5, 6, 4]\n",
    "quickSort(a, 0, a.length -1)\n",
    "a"
   ]
  }
 ],
 "metadata": {
  "kernelspec": {
   "display_name": "Javascript (Node.js)",
   "language": "javascript",
   "name": "javascript"
  },
  "language_info": {
   "file_extension": ".js",
   "mimetype": "application/javascript",
   "name": "javascript",
   "version": "7.5.0"
  }
 },
 "nbformat": 4,
 "nbformat_minor": 2
}
