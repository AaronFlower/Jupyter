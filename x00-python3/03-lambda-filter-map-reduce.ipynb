{
 "cells": [
  {
   "cell_type": "markdown",
   "metadata": {},
   "source": [
    "### Lambda Expression\n",
    "\n",
    "Python 中的  lambda 表达式也就是匿名函数与其它编程语言的匿名函数类似。\n",
    "\n",
    "filter, map, reduce 函数是 python 中常用的用来处理 list 的函数。在 python 2 中 filter, map 直接返回一个 list, 而在 python 3 中则返回的是一个 iterable 对象。 另外，在 python 3 中 reduce 函数也被话在了 functools 中了。"
   ]
  },
  {
   "cell_type": "code",
   "execution_count": 4,
   "metadata": {
    "collapsed": false
   },
   "outputs": [
    {
     "name": "stdout",
     "output_type": "stream",
     "text": [
      "range(0, 20) [0, 1, 2, 3, 4, 5, 6, 7, 8, 9, 10, 11, 12, 13, 14, 15, 16, 17, 18, 19]\n",
      "<filter object at 0x1048632e8> [1, 3, 5, 7, 9, 11, 13, 15, 17, 19]\n",
      "<filter object at 0x1048638d0> [0, 2, 4, 6, 8, 10, 12, 14, 16, 18]\n"
     ]
    }
   ],
   "source": [
    "'''\n",
    "Examples\n",
    "1. filter, lambda 过滤奇偶数\n",
    "'''\n",
    "nums = range(20)\n",
    "oddNums = filter(lambda x: x % 2, nums)\n",
    "evenNums = filter(lambda x: x % 2 == 0, nums)\n",
    "print(nums, list(nums))\n",
    "print(oddNums, list(oddNums))\n",
    "print(evenNums, list(evenNums))"
   ]
  },
  {
   "cell_type": "code",
   "execution_count": 7,
   "metadata": {
    "collapsed": false
   },
   "outputs": [
    {
     "name": "stdout",
     "output_type": "stream",
     "text": [
      "10 15 105\n"
     ]
    }
   ],
   "source": [
    "'''\n",
    "2. lambda 定义返回匿名函数的函数\n",
    "'''\n",
    "def make_incrementor(num):\n",
    "    return lambda x: num + x\n",
    "\n",
    "add5 = make_incrementor(5)\n",
    "add10 = make_incrementor(10)\n",
    "print(add5(5), add10(5), make_incrementor(100)(5))"
   ]
  },
  {
   "cell_type": "code",
   "execution_count": 8,
   "metadata": {
    "collapsed": false
   },
   "outputs": [
    {
     "name": "stdout",
     "output_type": "stream",
     "text": [
      "prime numbers: [2, 3, 5, 7, 11, 13, 17, 19, 23, 29, 31, 37, 41, 43, 47]\n"
     ]
    }
   ],
   "source": [
    "'''\n",
    "3. 寻找素数（算法欠优）\n",
    "'''\n",
    "nums = range(2, 50)\n",
    "for i in range(2, 8):\n",
    "    nums = list(filter(lambda x: x == i or x % i, nums))\n",
    "\n",
    "print('prime numbers:', nums)"
   ]
  },
  {
   "cell_type": "code",
   "execution_count": 9,
   "metadata": {
    "collapsed": false
   },
   "outputs": [
    {
     "name": "stdout",
     "output_type": "stream",
     "text": [
      "range(0, 10) [0, 1, 2, 3, 4, 5, 6, 7, 8, 9]\n",
      "<map object at 0x104845f28> [0, 1, 4, 9, 16, 25, 36, 49, 64, 81]\n",
      "<map object at 0x104845be0> [0, 1, 8, 27, 64, 125, 216, 343, 512, 729]\n"
     ]
    }
   ],
   "source": [
    "'''\n",
    "4. map\n",
    "'''\n",
    "nums = range(10)\n",
    "squares = map(lambda x: x ** 2, nums)\n",
    "cubes = map(lambda x: x ** 3, nums)\n",
    "print (nums, list(nums))\n",
    "print (squares, list(squares))\n",
    "print (cubes, list(cubes))"
   ]
  },
  {
   "cell_type": "code",
   "execution_count": 13,
   "metadata": {
    "collapsed": false
   },
   "outputs": [
    {
     "name": "stdout",
     "output_type": "stream",
     "text": [
      "range(1, 6) [1, 2, 3, 4, 5]\n",
      "sum:  15\n",
      "factorial:  120\n",
      "avg:  3.0\n"
     ]
    }
   ],
   "source": [
    "'''\n",
    "5. reduce\n",
    "'''\n",
    "from functools import reduce\n",
    "nums = range(1, 6)\n",
    "numsSum = reduce(lambda x, y: x + y, nums)\n",
    "factorial = reduce(lambda x, y: x * y, nums)\n",
    "avg = reduce(lambda x, y: x + y, nums) / len(nums)\n",
    "print(nums, list(nums))\n",
    "print('sum: ', numsSum)\n",
    "print('factorial: ', factorial)\n",
    "print('avg: ', avg)"
   ]
  }
 ],
 "metadata": {
  "kernelspec": {
   "display_name": "Python 3",
   "language": "python",
   "name": "python3"
  },
  "language_info": {
   "codemirror_mode": {
    "name": "ipython",
    "version": 3
   },
   "file_extension": ".py",
   "mimetype": "text/x-python",
   "name": "python",
   "nbconvert_exporter": "python",
   "pygments_lexer": "ipython3",
   "version": "3.6.0"
  }
 },
 "nbformat": 4,
 "nbformat_minor": 2
}
