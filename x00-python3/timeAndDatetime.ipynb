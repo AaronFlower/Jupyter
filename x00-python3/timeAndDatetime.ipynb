{
 "cells": [
  {
   "cell_type": "code",
   "execution_count": 27,
   "metadata": {
    "collapsed": false
   },
   "outputs": [
    {
     "name": "stdout",
     "output_type": "stream",
     "text": [
      "1489556055.624275\n",
      "2017-03-15\n",
      "2017-03-15 13:34:15.624275\n",
      "2017-03-15 13:34:15\n",
      "2017-03-14 21:30:54 2017-03-15 04:00:00\n",
      "格式化输出\n",
      "|2017-03-15|\n",
      "|2017-03-15 13:03:15|\n",
      "字符串转成日期\n",
      "2016-07-12 00:00:00\n",
      "2016-07-12\n"
     ]
    }
   ],
   "source": [
    "'''\n",
    "time , date, datetime\n",
    "'''\n",
    "import time \n",
    "from datetime import datetime\n",
    "from datetime import date\n",
    "\n",
    "ts = time.time()\n",
    "print (ts)\n",
    "d = date.fromtimestamp(ts)\n",
    "print (d)\n",
    "dt = datetime.fromtimestamp(ts)\n",
    "print (dt)\n",
    "dt2 = datetime.fromtimestamp(int(ts))\n",
    "print (dt2)\n",
    "\n",
    "beginTs = 1489498254; endTs = 1489521600\n",
    "beginDt = datetime.fromtimestamp(beginTs)\n",
    "endDt = datetime.fromtimestamp(endTs)\n",
    "print (beginDt, endDt)\n",
    "\n",
    "# 关于输出格式 https://docs.python.org/3/library/datetime.html#strftime-and-strptime-behavior\n",
    "# 用 strftime(format) 来完成\n",
    "print ('格式化输出')\n",
    "print (d.strftime('|%Y-%m-%d|'))\n",
    "print (dt.strftime('|%Y-%m-%d %H:%m:%S|'))\n",
    "\n",
    "# 用 strptime(str, parse) 来完成。\n",
    "print ('字符串转成日期')\n",
    "dt = datetime.strptime('2016-07-12', '%Y-%m-%d')\n",
    "print (dt)\n",
    "d = dt.date()\n",
    "print (d)"
   ]
  }
 ],
 "metadata": {
  "kernelspec": {
   "display_name": "Python 3",
   "language": "python",
   "name": "python3"
  },
  "language_info": {
   "codemirror_mode": {
    "name": "ipython",
    "version": 3
   },
   "file_extension": ".py",
   "mimetype": "text/x-python",
   "name": "python",
   "nbconvert_exporter": "python",
   "pygments_lexer": "ipython3",
   "version": "3.6.0"
  }
 },
 "nbformat": 4,
 "nbformat_minor": 2
}
