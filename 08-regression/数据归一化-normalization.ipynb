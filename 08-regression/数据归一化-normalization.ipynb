{
 "cells": [
  {
   "cell_type": "markdown",
   "metadata": {},
   "source": [
    "### [数据标准化](https://en.wikipedia.org/wiki/Normalization_(statistics))\n",
    "\n",
    "在处理样本时有时候需要对数据进行标准化处理。目前最常用的两种是 min-max normaliztion 和 z-score normalization (标准分数归一化). \n",
    "\n",
    "标准化与归一化有什么区别那？ 归一化是标准化的最常见的一种方法而已。\n",
    "\n",
    "\n",
    "其中最典型的就是数据的归一化处理，即将数据统一映射到[0,1]区间上，常见的数据归一化的方法有：\n",
    "\n",
    "参考: [数据的标准化](http://webdataanalysis.net/data-analysis-method/data-normalization/)\n"
   ]
  }
 ],
 "metadata": {
  "kernelspec": {
   "display_name": "Python 3",
   "language": "python",
   "name": "python3"
  },
  "language_info": {
   "codemirror_mode": {
    "name": "ipython",
    "version": 3
   },
   "file_extension": ".py",
   "mimetype": "text/x-python",
   "name": "python",
   "nbconvert_exporter": "python",
   "pygments_lexer": "ipython3",
   "version": "3.7.3"
  }
 },
 "nbformat": 4,
 "nbformat_minor": 2
}
