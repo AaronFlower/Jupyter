{
 "cells": [
  {
   "cell_type": "markdown",
   "metadata": {},
   "source": [
    "## 非平衡数据集\n",
    "\n",
    "当遇到非平衡数据集时，可能需要校准了。如 prior-correction 和 weighting 了。\n"
   ]
  },
  {
   "cell_type": "markdown",
   "metadata": {},
   "source": [
    "实验说明，在下面的数据集中；原始的全量数据集的正负样本比例是 9:1。进行抽样完成后的正负样本比例为, 1:1;"
   ]
  },
  {
   "cell_type": "code",
   "execution_count": 345,
   "metadata": {},
   "outputs": [],
   "source": [
    "import numpy as np\n",
    "import pandas as pd\n",
    "import matplotlib.pyplot as plt"
   ]
  },
  {
   "cell_type": "code",
   "execution_count": 364,
   "metadata": {},
   "outputs": [],
   "source": [
    "countOne = 0\n",
    "countZero = 0\n",
    "fullset = []\n",
    "probs = []\n",
    "for i in range(10000):\n",
    "    x = np.random.randn() # 正态分布, μ = 0, ẟ = 1\n",
    "    p = 1 / (1 + np.exp(-(2 * x - 3.35)))\n",
    "#     p = 1 / (1 + np.exp(-x))\n",
    "    y = np.random.binomial(1, p) # Binomial 分布，概率为 p\n",
    "    if y == 1:\n",
    "        countOne += 1\n",
    "    else:\n",
    "        countZero += 1\n",
    "    fullset.append([x, y])\n",
    "    probs.append(p)\n",
    "\n",
    "subset = []\n",
    "for (x, y) in fullset:\n",
    "    if y == 1 or (y == 0 and np.random.uniform() < 1/9):\n",
    "        subset.append([x, y])\n",
    "#         print(x, y)\n",
    "\n",
    "full_df = pd.DataFrame(fullset, columns=['x', 'y'])\n",
    "sub_df = pd.DataFrame(subset, columns=['x', 'y'])"
   ]
  },
  {
   "cell_type": "code",
   "execution_count": 365,
   "metadata": {},
   "outputs": [],
   "source": [
    "data = np.array(fullset)"
   ]
  },
  {
   "cell_type": "code",
   "execution_count": 366,
   "metadata": {},
   "outputs": [
    {
     "data": {
      "text/plain": [
       "(array([  1.,   0.,   0.,   0.,   0.,   0.,   3.,   1.,   5.,  13.,  11.,\n",
       "         27.,  37.,  62.,  83., 123., 147., 222., 255., 373., 401., 479.,\n",
       "        582., 593., 654., 704., 687., 667., 654., 586., 521., 475., 391.,\n",
       "        321., 288., 190., 125., 108.,  74.,  48.,  31.,  21.,  12.,  10.,\n",
       "          8.,   3.,   2.,   1.,   0.,   1.]),\n",
       " array([-4.55736513, -4.38467474, -4.21198435, -4.03929396, -3.86660357,\n",
       "        -3.69391318, -3.52122279, -3.3485324 , -3.17584201, -3.00315162,\n",
       "        -2.83046123, -2.65777084, -2.48508045, -2.31239006, -2.13969967,\n",
       "        -1.96700928, -1.79431889, -1.6216285 , -1.44893811, -1.27624772,\n",
       "        -1.10355733, -0.93086694, -0.75817655, -0.58548616, -0.41279577,\n",
       "        -0.24010538, -0.06741499,  0.1052754 ,  0.27796579,  0.45065618,\n",
       "         0.62334657,  0.79603696,  0.96872735,  1.14141774,  1.31410813,\n",
       "         1.48679852,  1.65948891,  1.8321793 ,  2.00486969,  2.17756008,\n",
       "         2.35025047,  2.52294086,  2.69563125,  2.86832164,  3.04101203,\n",
       "         3.21370242,  3.38639281,  3.5590832 ,  3.73177359,  3.90446398,\n",
       "         4.07715437]),\n",
       " <a list of 50 Patch objects>)"
      ]
     },
     "execution_count": 366,
     "metadata": {},
     "output_type": "execute_result"
    },
    {
     "data": {
      "image/png": "[encoded data removed]",
      "text/plain": [
       "<Figure size 432x288 with 1 Axes>"
      ]
     },
     "metadata": {
      "needs_background": "light"
     },
     "output_type": "display_data"
    }
   ],
   "source": [
    "plt.hist(data[:,0], 50)"
   ]
  },
  {
   "cell_type": "code",
   "execution_count": 367,
   "metadata": {},
   "outputs": [
    {
     "data": {
      "text/plain": [
       "(array([3.927e+03, 1.446e+03, 8.300e+02, 5.760e+02, 4.160e+02, 3.410e+02,\n",
       "        2.610e+02, 2.060e+02, 2.120e+02, 1.710e+02, 1.470e+02, 1.270e+02,\n",
       "        1.080e+02, 1.000e+02, 7.600e+01, 9.200e+01, 8.200e+01, 8.100e+01,\n",
       "        7.400e+01, 6.200e+01, 6.100e+01, 4.900e+01, 5.000e+01, 3.700e+01,\n",
       "        2.500e+01, 3.100e+01, 3.900e+01, 2.400e+01, 2.800e+01, 2.800e+01,\n",
       "        2.800e+01, 2.800e+01, 2.200e+01, 2.200e+01, 1.900e+01, 1.800e+01,\n",
       "        2.300e+01, 1.900e+01, 7.000e+00, 1.800e+01, 1.700e+01, 9.000e+00,\n",
       "        1.100e+01, 5.000e+00, 1.500e+01, 6.000e+00, 6.000e+00, 1.100e+01,\n",
       "        6.000e+00, 3.000e+00]),\n",
       " array([3.86042173e-06, 1.98412280e-02, 3.96785955e-02, 5.95159631e-02,\n",
       "        7.93533307e-02, 9.91906982e-02, 1.19028066e-01, 1.38865433e-01,\n",
       "        1.58702801e-01, 1.78540168e-01, 1.98377536e-01, 2.18214904e-01,\n",
       "        2.38052271e-01, 2.57889639e-01, 2.77727006e-01, 2.97564374e-01,\n",
       "        3.17401741e-01, 3.37239109e-01, 3.57076476e-01, 3.76913844e-01,\n",
       "        3.96751212e-01, 4.16588579e-01, 4.36425947e-01, 4.56263314e-01,\n",
       "        4.76100682e-01, 4.95938049e-01, 5.15775417e-01, 5.35612784e-01,\n",
       "        5.55450152e-01, 5.75287520e-01, 5.95124887e-01, 6.14962255e-01,\n",
       "        6.34799622e-01, 6.54636990e-01, 6.74474357e-01, 6.94311725e-01,\n",
       "        7.14149092e-01, 7.33986460e-01, 7.53823828e-01, 7.73661195e-01,\n",
       "        7.93498563e-01, 8.13335930e-01, 8.33173298e-01, 8.53010665e-01,\n",
       "        8.72848033e-01, 8.92685400e-01, 9.12522768e-01, 9.32360136e-01,\n",
       "        9.52197503e-01, 9.72034871e-01, 9.91872238e-01]),\n",
       " <a list of 50 Patch objects>)"
      ]
     },
     "execution_count": 367,
     "metadata": {},
     "output_type": "execute_result"
    },
    {
     "data": {
      "image/png": "[encoded data removed]",
      "text/plain": [
       "<Figure size 432x288 with 1 Axes>"
      ]
     },
     "metadata": {
      "needs_background": "light"
     },
     "output_type": "display_data"
    }
   ],
   "source": [
    "plt.hist(probs, 50)"
   ]
  },
  {
   "cell_type": "code",
   "execution_count": 368,
   "metadata": {},
   "outputs": [
    {
     "data": {
      "text/html": [
       "<div>\n",
       "<style scoped>\n",
       "    .dataframe tbody tr th:only-of-type {\n",
       "        vertical-align: middle;\n",
       "    }\n",
       "\n",
       "    .dataframe tbody tr th {\n",
       "        vertical-align: top;\n",
       "    }\n",
       "\n",
       "    .dataframe thead th {\n",
       "        text-align: right;\n",
       "    }\n",
       "</style>\n",
       "<table border=\"1\" class=\"dataframe\">\n",
       "  <thead>\n",
       "    <tr style=\"text-align: right;\">\n",
       "      <th></th>\n",
       "      <th>x</th>\n",
       "      <th>y</th>\n",
       "    </tr>\n",
       "  </thead>\n",
       "  <tbody>\n",
       "    <tr>\n",
       "      <th>count</th>\n",
       "      <td>10000.000000</td>\n",
       "      <td>10000.000000</td>\n",
       "    </tr>\n",
       "    <tr>\n",
       "      <th>mean</th>\n",
       "      <td>-0.008182</td>\n",
       "      <td>0.102000</td>\n",
       "    </tr>\n",
       "    <tr>\n",
       "      <th>std</th>\n",
       "      <td>0.992733</td>\n",
       "      <td>0.302663</td>\n",
       "    </tr>\n",
       "    <tr>\n",
       "      <th>min</th>\n",
       "      <td>-4.557365</td>\n",
       "      <td>0.000000</td>\n",
       "    </tr>\n",
       "    <tr>\n",
       "      <th>25%</th>\n",
       "      <td>-0.679456</td>\n",
       "      <td>0.000000</td>\n",
       "    </tr>\n",
       "    <tr>\n",
       "      <th>50%</th>\n",
       "      <td>-0.012925</td>\n",
       "      <td>0.000000</td>\n",
       "    </tr>\n",
       "    <tr>\n",
       "      <th>75%</th>\n",
       "      <td>0.661639</td>\n",
       "      <td>0.000000</td>\n",
       "    </tr>\n",
       "    <tr>\n",
       "      <th>max</th>\n",
       "      <td>4.077154</td>\n",
       "      <td>1.000000</td>\n",
       "    </tr>\n",
       "  </tbody>\n",
       "</table>\n",
       "</div>"
      ],
      "text/plain": [
       "                  x             y\n",
       "count  10000.000000  10000.000000\n",
       "mean      -0.008182      0.102000\n",
       "std        0.992733      0.302663\n",
       "min       -4.557365      0.000000\n",
       "25%       -0.679456      0.000000\n",
       "50%       -0.012925      0.000000\n",
       "75%        0.661639      0.000000\n",
       "max        4.077154      1.000000"
      ]
     },
     "execution_count": 368,
     "metadata": {},
     "output_type": "execute_result"
    }
   ],
   "source": [
    "full_df.describe()"
   ]
  },
  {
   "cell_type": "code",
   "execution_count": 369,
   "metadata": {},
   "outputs": [
    {
     "data": {
      "text/plain": [
       "0    0.898\n",
       "1    0.102\n",
       "Name: y, dtype: float64"
      ]
     },
     "execution_count": 369,
     "metadata": {},
     "output_type": "execute_result"
    }
   ],
   "source": [
    "full_df['y'].value_counts(normalize=True)"
   ]
  },
  {
   "cell_type": "code",
   "execution_count": 370,
   "metadata": {},
   "outputs": [
    {
     "data": {
      "text/plain": [
       "(array([8980.,    0., 1020.]),\n",
       " array([0.        , 0.33333333, 0.66666667, 1.        ]),\n",
       " <a list of 3 Patch objects>)"
      ]
     },
     "execution_count": 370,
     "metadata": {},
     "output_type": "execute_result"
    },
    {
     "data": {
      "image/png": "[encoded data removed]",
      "text/plain": [
       "<Figure size 432x288 with 1 Axes>"
      ]
     },
     "metadata": {
      "needs_background": "light"
     },
     "output_type": "display_data"
    }
   ],
   "source": [
    "plt.hist(full_df['y'].values, 3)"
   ]
  },
  {
   "cell_type": "code",
   "execution_count": 371,
   "metadata": {},
   "outputs": [
    {
     "data": {
      "text/html": [
       "<div>\n",
       "<style scoped>\n",
       "    .dataframe tbody tr th:only-of-type {\n",
       "        vertical-align: middle;\n",
       "    }\n",
       "\n",
       "    .dataframe tbody tr th {\n",
       "        vertical-align: top;\n",
       "    }\n",
       "\n",
       "    .dataframe thead th {\n",
       "        text-align: right;\n",
       "    }\n",
       "</style>\n",
       "<table border=\"1\" class=\"dataframe\">\n",
       "  <thead>\n",
       "    <tr style=\"text-align: right;\">\n",
       "      <th></th>\n",
       "      <th>x</th>\n",
       "      <th>y</th>\n",
       "    </tr>\n",
       "  </thead>\n",
       "  <tbody>\n",
       "    <tr>\n",
       "      <th>count</th>\n",
       "      <td>2041.000000</td>\n",
       "      <td>2041.000000</td>\n",
       "    </tr>\n",
       "    <tr>\n",
       "      <th>mean</th>\n",
       "      <td>0.552198</td>\n",
       "      <td>0.499755</td>\n",
       "    </tr>\n",
       "    <tr>\n",
       "      <th>std</th>\n",
       "      <td>1.090830</td>\n",
       "      <td>0.500122</td>\n",
       "    </tr>\n",
       "    <tr>\n",
       "      <th>min</th>\n",
       "      <td>-3.425755</td>\n",
       "      <td>0.000000</td>\n",
       "    </tr>\n",
       "    <tr>\n",
       "      <th>25%</th>\n",
       "      <td>-0.184399</td>\n",
       "      <td>0.000000</td>\n",
       "    </tr>\n",
       "    <tr>\n",
       "      <th>50%</th>\n",
       "      <td>0.613822</td>\n",
       "      <td>0.000000</td>\n",
       "    </tr>\n",
       "    <tr>\n",
       "      <th>75%</th>\n",
       "      <td>1.354467</td>\n",
       "      <td>1.000000</td>\n",
       "    </tr>\n",
       "    <tr>\n",
       "      <th>max</th>\n",
       "      <td>4.077154</td>\n",
       "      <td>1.000000</td>\n",
       "    </tr>\n",
       "  </tbody>\n",
       "</table>\n",
       "</div>"
      ],
      "text/plain": [
       "                 x            y\n",
       "count  2041.000000  2041.000000\n",
       "mean      0.552198     0.499755\n",
       "std       1.090830     0.500122\n",
       "min      -3.425755     0.000000\n",
       "25%      -0.184399     0.000000\n",
       "50%       0.613822     0.000000\n",
       "75%       1.354467     1.000000\n",
       "max       4.077154     1.000000"
      ]
     },
     "execution_count": 371,
     "metadata": {},
     "output_type": "execute_result"
    }
   ],
   "source": [
    "sub_df.describe()"
   ]
  },
  {
   "cell_type": "code",
   "execution_count": 372,
   "metadata": {},
   "outputs": [
    {
     "data": {
      "text/plain": [
       "0    0.500245\n",
       "1    0.499755\n",
       "Name: y, dtype: float64"
      ]
     },
     "execution_count": 372,
     "metadata": {},
     "output_type": "execute_result"
    }
   ],
   "source": [
    "sub_df['y'].value_counts(normalize=True)"
   ]
  },
  {
   "cell_type": "code",
   "execution_count": 373,
   "metadata": {},
   "outputs": [
    {
     "data": {
      "text/plain": [
       "(array([1021.,    0., 1020.]),\n",
       " array([0.        , 0.33333333, 0.66666667, 1.        ]),\n",
       " <a list of 3 Patch objects>)"
      ]
     },
     "execution_count": 373,
     "metadata": {},
     "output_type": "execute_result"
    },
    {
     "data": {
      "image/png": "[encoded data removed]",
      "text/plain": [
       "<Figure size 432x288 with 1 Axes>"
      ]
     },
     "metadata": {
      "needs_background": "light"
     },
     "output_type": "display_data"
    }
   ],
   "source": [
    "plt.hist(sub_df['y'], 3)"
   ]
  },
  {
   "cell_type": "markdown",
   "metadata": {},
   "source": [
    "### 在 1:1 的抽样数据上训练\n"
   ]
  },
  {
   "cell_type": "code",
   "execution_count": 375,
   "metadata": {},
   "outputs": [],
   "source": [
    "from sklearn.linear_model import LogisticRegression"
   ]
  },
  {
   "cell_type": "code",
   "execution_count": 376,
   "metadata": {
    "scrolled": true
   },
   "outputs": [
    {
     "name": "stdout",
     "output_type": "stream",
     "text": [
      "coef: [[1.87829335]]\n",
      "interpret: [-1.09440089]\n"
     ]
    }
   ],
   "source": [
    "X = sub_df['x'].values.reshape(-1,1)\n",
    "y = sub_df['y'].values\n",
    "lr = LogisticRegression(class_weight=None,solver='lbfgs').fit(X, y)\n",
    "print(\"coef:\", lr.coef_)\n",
    "print(\"interpret:\", lr.intercept_)"
   ]
  },
  {
   "cell_type": "code",
   "execution_count": 377,
   "metadata": {},
   "outputs": [
    {
     "data": {
      "text/plain": [
       "[<matplotlib.lines.Line2D at 0x136512b90>]"
      ]
     },
     "execution_count": 377,
     "metadata": {},
     "output_type": "execute_result"
    },
    {
     "data": {
      "image/png": "[encoded data removed]",
      "text/plain": [
       "<Figure size 432x288 with 1 Axes>"
      ]
     },
     "metadata": {
      "needs_background": "light"
     },
     "output_type": "display_data"
    }
   ],
   "source": [
    "X.sort(axis=0)\n",
    "sub_X = X\n",
    "sub_y_pred = lr.predict_proba(X)\n",
    "plt.plot(sub_X[:,0], sub_y_pred[:,1])"
   ]
  },
  {
   "cell_type": "markdown",
   "metadata": {},
   "source": [
    "### prior-correction\n",
    "\n",
    "利用先验数据集信息来调整 intercept.\n",
    "\n",
    "当我们知道总体的先验分布 $\\pi$ 时，总体上的intercept $\\beta_0^*$，可以通过采样后(case-control)的 intercept $\\hat{\\beta_0}$ 来估计：\n",
    "\n",
    "$$\n",
    "\\beta_0^* = \\hat{\\beta_0} - log\\big(\\frac{1- \\pi}{\\pi}\\cdot \\frac{n_1}{n_0}\\big)\n",
    "$$\n",
    "- $n_0, n_1$ 是相应的采样数。\n",
    "\n",
    "参考[3]\n"
   ]
  },
  {
   "cell_type": "code",
   "execution_count": 378,
   "metadata": {},
   "outputs": [],
   "source": [
    "p1 = full_df['y'].value_counts(normalize=True)[1] # 原始数据集的先验概率\n",
    "r1 = sub_df['y'].value_counts(normalize=True)[0] # 采样后数据集的先验概率\n",
    "de = r1 * (1 - p1)\n",
    "no = (1-r1) * p1\n",
    "off = np.log(de/no)\n",
    "lr.intercept_ -= off"
   ]
  },
  {
   "cell_type": "code",
   "execution_count": 379,
   "metadata": {},
   "outputs": [
    {
     "name": "stdout",
     "output_type": "stream",
     "text": [
      "coef: [[1.87829335]]\n",
      "interpret: [-3.27057806]\n"
     ]
    },
    {
     "data": {
      "text/plain": [
       "[<matplotlib.lines.Line2D at 0x136584b10>]"
      ]
     },
     "execution_count": 379,
     "metadata": {},
     "output_type": "execute_result"
    },
    {
     "data": {
      "image/png": "[encoded data removed]",
      "text/plain": [
       "<Figure size 432x288 with 1 Axes>"
      ]
     },
     "metadata": {
      "needs_background": "light"
     },
     "output_type": "display_data"
    }
   ],
   "source": [
    "print(\"coef:\", lr.coef_)\n",
    "print(\"interpret:\", lr.intercept_)\n",
    "sub_y_pred_adjusted = lr.predict_proba(X)\n",
    "plt.plot(sub_X[:,0], sub_y_pred_adjusted[:,1])"
   ]
  },
  {
   "cell_type": "markdown",
   "metadata": {},
   "source": [
    "### 在 1:9 的原始数据上训练"
   ]
  },
  {
   "cell_type": "code",
   "execution_count": 380,
   "metadata": {},
   "outputs": [
    {
     "name": "stdout",
     "output_type": "stream",
     "text": [
      "coef: [[1.90938504]]\n",
      "interpret: [-3.26762017]\n"
     ]
    }
   ],
   "source": [
    "X = full_df['x'].values.reshape(-1,1)\n",
    "y = full_df['y'].values\n",
    "lr =  LogisticRegression(class_weight=None,solver='lbfgs').fit(X, y)\n",
    "print(\"coef:\", lr.coef_)\n",
    "print(\"interpret:\", lr.intercept_)"
   ]
  },
  {
   "cell_type": "code",
   "execution_count": 381,
   "metadata": {},
   "outputs": [
    {
     "data": {
      "text/plain": [
       "[<matplotlib.lines.Line2D at 0x1365f6750>]"
      ]
     },
     "execution_count": 381,
     "metadata": {},
     "output_type": "execute_result"
    },
    {
     "data": {
      "image/png": "[encoded data removed]",
      "text/plain": [
       "<Figure size 432x288 with 1 Axes>"
      ]
     },
     "metadata": {
      "needs_background": "light"
     },
     "output_type": "display_data"
    }
   ],
   "source": [
    "X.sort(axis=0)\n",
    "full_y_pred = lr.predict_proba(X)\n",
    "full_X = X\n",
    "plt.plot(full_X[:,0], full_y_pred[:,1])"
   ]
  },
  {
   "cell_type": "markdown",
   "metadata": {},
   "source": [
    "可以看到原始数据与抽样数据集上训练的参数是一样的，但是 intercept/bias 是不一样的。这就需要我们来修正。"
   ]
  },
  {
   "cell_type": "code",
   "execution_count": 382,
   "metadata": {},
   "outputs": [
    {
     "data": {
      "text/plain": [
       "<matplotlib.legend.Legend at 0x13661d450>"
      ]
     },
     "execution_count": 382,
     "metadata": {},
     "output_type": "execute_result"
    },
    {
     "data": {
      "image/png": "[encoded data removed]",
      "text/plain": [
       "<Figure size 432x288 with 1 Axes>"
      ]
     },
     "metadata": {
      "needs_background": "light"
     },
     "output_type": "display_data"
    }
   ],
   "source": [
    "plt.plot(sub_X[:,0], sub_y_pred[:,1], label='unadjusted')\n",
    "plt.plot(sub_X[:,0], sub_y_pred_adjusted[:,1], label='adjusted')\n",
    "plt.plot(full_X[:,0], full_y_pred[:,1], label='origin')\n",
    "plt.legend()"
   ]
  },
  {
   "cell_type": "markdown",
   "metadata": {},
   "source": [
    "### weighting\n",
    "\n",
    "怎样使用 weighting 那？\n"
   ]
  },
  {
   "cell_type": "markdown",
   "metadata": {},
   "source": [
    "\n",
    "### 最好的解释\n",
    "\n",
    "1. [Logistic-Regression: Prior correction at test time](https://stats.stackexchange.com/questions/117592/logistic-regression-prior-correction-at-test-time)\n",
    "2. [Usage Note 22601: Adjusting for oversampling the event level in a binary logistic model](http://support.sas.com/kb/22/601.html)\n",
    "3. [Does down-sampling change logistic regression coefficients?](https://stats.stackexchange.com/questions/67903/does-down-sampling-change-logistic-regression-coefficients)"
   ]
  }
 ],
 "metadata": {
  "kernelspec": {
   "display_name": "Python 3",
   "language": "python",
   "name": "python3"
  },
  "language_info": {
   "codemirror_mode": {
    "name": "ipython",
    "version": 3
   },
   "file_extension": ".py",
   "mimetype": "text/x-python",
   "name": "python",
   "nbconvert_exporter": "python",
   "pygments_lexer": "ipython3",
   "version": "3.7.5"
  }
 },
 "nbformat": 4,
 "nbformat_minor": 2
}
