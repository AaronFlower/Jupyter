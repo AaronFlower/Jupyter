{
 "cells": [
  {
   "cell_type": "markdown",
   "metadata": {},
   "source": [
    "## 非平衡数据集\n",
    "\n",
    "当遇到非平衡数据集时，可能需要校准了。如 prior-correction 和 weighting 了。\n"
   ]
  },
  {
   "cell_type": "markdown",
   "metadata": {},
   "source": [
    "实验说明，在下面的数据集中；原始的全量数据集的正负样本比例是 9:1。进行抽样完成后的正负样本比例为, 1:1;"
   ]
  },
  {
   "cell_type": "code",
   "execution_count": 326,
   "metadata": {},
   "outputs": [],
   "source": [
    "import numpy as np\n",
    "import pandas as pd\n",
    "import matplotlib.pyplot as plt"
   ]
  },
  {
   "cell_type": "code",
   "execution_count": 327,
   "metadata": {},
   "outputs": [],
   "source": [
    "countOne = 0\n",
    "countZero = 0\n",
    "fullset = []\n",
    "probs = []\n",
    "for i in range(10000):\n",
    "    x = np.random.randn() # 正态分布, μ = 0, ẟ = 1\n",
    "    p = 1 / (1 + np.exp(-(2 * x - 3.35)))\n",
    "    y = np.random.binomial(1, p) # Binomial 分布，概率为 p\n",
    "    if y == 1:\n",
    "        countOne += 1\n",
    "    else:\n",
    "        countZero += 1\n",
    "    fullset.append([x, y])\n",
    "    probs.append(p)\n",
    "\n",
    "subset = []\n",
    "for (x, y) in fullset:\n",
    "    if y == 1 or (y == 0 and np.random.uniform() < 1/9):\n",
    "        subset.append([x, y])\n",
    "#         print(x, y)\n",
    "\n",
    "full_df = pd.DataFrame(fullset, columns=['x', 'y'])\n",
    "sub_df = pd.DataFrame(subset, columns=['x', 'y'])"
   ]
  },
  {
   "cell_type": "code",
   "execution_count": 328,
   "metadata": {},
   "outputs": [],
   "source": [
    "data = np.array(fullset)"
   ]
  },
  {
   "cell_type": "code",
   "execution_count": 329,
   "metadata": {},
   "outputs": [
    {
     "data": {
      "text/plain": [
       "(array([  4.,   5.,   1.,   3.,   6.,  12.,  16.,  29.,  40.,  44.,  69.,\n",
       "        109., 131., 160., 215., 241., 299., 310., 391., 474., 481., 528.,\n",
       "        557., 576., 575., 571., 536., 504., 474., 471., 382., 369., 304.,\n",
       "        260., 209., 149., 131., 102.,  82.,  44.,  50.,  26.,  20.,  14.,\n",
       "         13.,   4.,   3.,   2.,   3.,   1.]),\n",
       " array([-3.54332739, -3.39903169, -3.25473598, -3.11044028, -2.96614458,\n",
       "        -2.82184887, -2.67755317, -2.53325747, -2.38896176, -2.24466606,\n",
       "        -2.10037036, -1.95607465, -1.81177895, -1.66748324, -1.52318754,\n",
       "        -1.37889184, -1.23459613, -1.09030043, -0.94600473, -0.80170902,\n",
       "        -0.65741332, -0.51311761, -0.36882191, -0.22452621, -0.0802305 ,\n",
       "         0.0640652 ,  0.2083609 ,  0.35265661,  0.49695231,  0.64124802,\n",
       "         0.78554372,  0.92983942,  1.07413513,  1.21843083,  1.36272653,\n",
       "         1.50702224,  1.65131794,  1.79561365,  1.93990935,  2.08420505,\n",
       "         2.22850076,  2.37279646,  2.51709216,  2.66138787,  2.80568357,\n",
       "         2.94997928,  3.09427498,  3.23857068,  3.38286639,  3.52716209,\n",
       "         3.67145779]),\n",
       " <a list of 50 Patch objects>)"
      ]
     },
     "execution_count": 329,
     "metadata": {},
     "output_type": "execute_result"
    },
    {
     "data": {
      "image/png": "[encoded data removed]",
      "text/plain": [
       "<Figure size 432x288 with 1 Axes>"
      ]
     },
     "metadata": {
      "needs_background": "light"
     },
     "output_type": "display_data"
    }
   ],
   "source": [
    "plt.hist(data[:,0], 50)"
   ]
  },
  {
   "cell_type": "code",
   "execution_count": 330,
   "metadata": {},
   "outputs": [
    {
     "data": {
      "text/plain": [
       "(array([3.906e+03, 1.408e+03, 8.380e+02, 5.440e+02, 4.140e+02, 3.370e+02,\n",
       "        2.950e+02, 2.250e+02, 1.890e+02, 1.780e+02, 1.460e+02, 1.270e+02,\n",
       "        1.280e+02, 9.300e+01, 9.400e+01, 7.800e+01, 8.500e+01, 8.300e+01,\n",
       "        6.100e+01, 4.900e+01, 6.700e+01, 4.300e+01, 5.100e+01, 3.300e+01,\n",
       "        3.900e+01, 3.900e+01, 4.100e+01, 3.200e+01, 2.700e+01, 3.500e+01,\n",
       "        2.400e+01, 2.900e+01, 2.200e+01, 2.600e+01, 2.600e+01, 2.100e+01,\n",
       "        1.700e+01, 1.200e+01, 1.500e+01, 1.600e+01, 2.400e+01, 1.100e+01,\n",
       "        1.200e+01, 1.100e+01, 1.200e+01, 1.000e+01, 1.100e+01, 7.000e+00,\n",
       "        3.000e+00, 6.000e+00]),\n",
       " array([2.93363229e-05, 1.96665142e-02, 3.93036921e-02, 5.89408701e-02,\n",
       "        7.85780480e-02, 9.82152259e-02, 1.17852404e-01, 1.37489582e-01,\n",
       "        1.57126760e-01, 1.76763938e-01, 1.96401115e-01, 2.16038293e-01,\n",
       "        2.35675471e-01, 2.55312649e-01, 2.74949827e-01, 2.94587005e-01,\n",
       "        3.14224183e-01, 3.33861361e-01, 3.53498539e-01, 3.73135717e-01,\n",
       "        3.92772895e-01, 4.12410072e-01, 4.32047250e-01, 4.51684428e-01,\n",
       "        4.71321606e-01, 4.90958784e-01, 5.10595962e-01, 5.30233140e-01,\n",
       "        5.49870318e-01, 5.69507496e-01, 5.89144674e-01, 6.08781852e-01,\n",
       "        6.28419030e-01, 6.48056207e-01, 6.67693385e-01, 6.87330563e-01,\n",
       "        7.06967741e-01, 7.26604919e-01, 7.46242097e-01, 7.65879275e-01,\n",
       "        7.85516453e-01, 8.05153631e-01, 8.24790809e-01, 8.44427987e-01,\n",
       "        8.64065164e-01, 8.83702342e-01, 9.03339520e-01, 9.22976698e-01,\n",
       "        9.42613876e-01, 9.62251054e-01, 9.81888232e-01]),\n",
       " <a list of 50 Patch objects>)"
      ]
     },
     "execution_count": 330,
     "metadata": {},
     "output_type": "execute_result"
    },
    {
     "data": {
      "image/png": "[encoded data removed]",
      "text/plain": [
       "<Figure size 432x288 with 1 Axes>"
      ]
     },
     "metadata": {
      "needs_background": "light"
     },
     "output_type": "display_data"
    }
   ],
   "source": [
    "plt.hist(probs, 50)"
   ]
  },
  {
   "cell_type": "code",
   "execution_count": 331,
   "metadata": {},
   "outputs": [
    {
     "data": {
      "text/html": [
       "<div>\n",
       "<style scoped>\n",
       "    .dataframe tbody tr th:only-of-type {\n",
       "        vertical-align: middle;\n",
       "    }\n",
       "\n",
       "    .dataframe tbody tr th {\n",
       "        vertical-align: top;\n",
       "    }\n",
       "\n",
       "    .dataframe thead th {\n",
       "        text-align: right;\n",
       "    }\n",
       "</style>\n",
       "<table border=\"1\" class=\"dataframe\">\n",
       "  <thead>\n",
       "    <tr style=\"text-align: right;\">\n",
       "      <th></th>\n",
       "      <th>x</th>\n",
       "      <th>y</th>\n",
       "    </tr>\n",
       "  </thead>\n",
       "  <tbody>\n",
       "    <tr>\n",
       "      <th>count</th>\n",
       "      <td>10000.000000</td>\n",
       "      <td>10000.000000</td>\n",
       "    </tr>\n",
       "    <tr>\n",
       "      <th>mean</th>\n",
       "      <td>0.001436</td>\n",
       "      <td>0.108100</td>\n",
       "    </tr>\n",
       "    <tr>\n",
       "      <th>std</th>\n",
       "      <td>0.996595</td>\n",
       "      <td>0.310522</td>\n",
       "    </tr>\n",
       "    <tr>\n",
       "      <th>min</th>\n",
       "      <td>-3.543327</td>\n",
       "      <td>0.000000</td>\n",
       "    </tr>\n",
       "    <tr>\n",
       "      <th>25%</th>\n",
       "      <td>-0.673223</td>\n",
       "      <td>0.000000</td>\n",
       "    </tr>\n",
       "    <tr>\n",
       "      <th>50%</th>\n",
       "      <td>-0.010505</td>\n",
       "      <td>0.000000</td>\n",
       "    </tr>\n",
       "    <tr>\n",
       "      <th>75%</th>\n",
       "      <td>0.683292</td>\n",
       "      <td>0.000000</td>\n",
       "    </tr>\n",
       "    <tr>\n",
       "      <th>max</th>\n",
       "      <td>3.671458</td>\n",
       "      <td>1.000000</td>\n",
       "    </tr>\n",
       "  </tbody>\n",
       "</table>\n",
       "</div>"
      ],
      "text/plain": [
       "                  x             y\n",
       "count  10000.000000  10000.000000\n",
       "mean       0.001436      0.108100\n",
       "std        0.996595      0.310522\n",
       "min       -3.543327      0.000000\n",
       "25%       -0.673223      0.000000\n",
       "50%       -0.010505      0.000000\n",
       "75%        0.683292      0.000000\n",
       "max        3.671458      1.000000"
      ]
     },
     "execution_count": 331,
     "metadata": {},
     "output_type": "execute_result"
    }
   ],
   "source": [
    "full_df.describe()"
   ]
  },
  {
   "cell_type": "code",
   "execution_count": 332,
   "metadata": {},
   "outputs": [
    {
     "data": {
      "text/plain": [
       "0    0.8919\n",
       "1    0.1081\n",
       "Name: y, dtype: float64"
      ]
     },
     "execution_count": 332,
     "metadata": {},
     "output_type": "execute_result"
    }
   ],
   "source": [
    "full_df['y'].value_counts(normalize=True)"
   ]
  },
  {
   "cell_type": "code",
   "execution_count": 333,
   "metadata": {},
   "outputs": [
    {
     "data": {
      "text/plain": [
       "(array([8919.,    0., 1081.]),\n",
       " array([0.        , 0.33333333, 0.66666667, 1.        ]),\n",
       " <a list of 3 Patch objects>)"
      ]
     },
     "execution_count": 333,
     "metadata": {},
     "output_type": "execute_result"
    },
    {
     "data": {
      "image/png": "[encoded data removed]",
      "text/plain": [
       "<Figure size 432x288 with 1 Axes>"
      ]
     },
     "metadata": {
      "needs_background": "light"
     },
     "output_type": "display_data"
    }
   ],
   "source": [
    "plt.hist(full_df['y'].values, 3)"
   ]
  },
  {
   "cell_type": "code",
   "execution_count": 334,
   "metadata": {},
   "outputs": [
    {
     "data": {
      "text/html": [
       "<div>\n",
       "<style scoped>\n",
       "    .dataframe tbody tr th:only-of-type {\n",
       "        vertical-align: middle;\n",
       "    }\n",
       "\n",
       "    .dataframe tbody tr th {\n",
       "        vertical-align: top;\n",
       "    }\n",
       "\n",
       "    .dataframe thead th {\n",
       "        text-align: right;\n",
       "    }\n",
       "</style>\n",
       "<table border=\"1\" class=\"dataframe\">\n",
       "  <thead>\n",
       "    <tr style=\"text-align: right;\">\n",
       "      <th></th>\n",
       "      <th>x</th>\n",
       "      <th>y</th>\n",
       "    </tr>\n",
       "  </thead>\n",
       "  <tbody>\n",
       "    <tr>\n",
       "      <th>count</th>\n",
       "      <td>2098.000000</td>\n",
       "      <td>2098.000000</td>\n",
       "    </tr>\n",
       "    <tr>\n",
       "      <th>mean</th>\n",
       "      <td>0.564660</td>\n",
       "      <td>0.515253</td>\n",
       "    </tr>\n",
       "    <tr>\n",
       "      <th>std</th>\n",
       "      <td>1.106992</td>\n",
       "      <td>0.499886</td>\n",
       "    </tr>\n",
       "    <tr>\n",
       "      <th>min</th>\n",
       "      <td>-3.369616</td>\n",
       "      <td>0.000000</td>\n",
       "    </tr>\n",
       "    <tr>\n",
       "      <th>25%</th>\n",
       "      <td>-0.221063</td>\n",
       "      <td>0.000000</td>\n",
       "    </tr>\n",
       "    <tr>\n",
       "      <th>50%</th>\n",
       "      <td>0.652575</td>\n",
       "      <td>1.000000</td>\n",
       "    </tr>\n",
       "    <tr>\n",
       "      <th>75%</th>\n",
       "      <td>1.370715</td>\n",
       "      <td>1.000000</td>\n",
       "    </tr>\n",
       "    <tr>\n",
       "      <th>max</th>\n",
       "      <td>3.671458</td>\n",
       "      <td>1.000000</td>\n",
       "    </tr>\n",
       "  </tbody>\n",
       "</table>\n",
       "</div>"
      ],
      "text/plain": [
       "                 x            y\n",
       "count  2098.000000  2098.000000\n",
       "mean      0.564660     0.515253\n",
       "std       1.106992     0.499886\n",
       "min      -3.369616     0.000000\n",
       "25%      -0.221063     0.000000\n",
       "50%       0.652575     1.000000\n",
       "75%       1.370715     1.000000\n",
       "max       3.671458     1.000000"
      ]
     },
     "execution_count": 334,
     "metadata": {},
     "output_type": "execute_result"
    }
   ],
   "source": [
    "sub_df.describe()"
   ]
  },
  {
   "cell_type": "code",
   "execution_count": 335,
   "metadata": {},
   "outputs": [
    {
     "data": {
      "text/plain": [
       "1    0.515253\n",
       "0    0.484747\n",
       "Name: y, dtype: float64"
      ]
     },
     "execution_count": 335,
     "metadata": {},
     "output_type": "execute_result"
    }
   ],
   "source": [
    "sub_df['y'].value_counts(normalize=True)"
   ]
  },
  {
   "cell_type": "code",
   "execution_count": 336,
   "metadata": {},
   "outputs": [
    {
     "data": {
      "text/plain": [
       "(array([1017.,    0., 1081.]),\n",
       " array([0.        , 0.33333333, 0.66666667, 1.        ]),\n",
       " <a list of 3 Patch objects>)"
      ]
     },
     "execution_count": 336,
     "metadata": {},
     "output_type": "execute_result"
    },
    {
     "data": {
      "image/png": "[encoded data removed]",
      "text/plain": [
       "<Figure size 432x288 with 1 Axes>"
      ]
     },
     "metadata": {
      "needs_background": "light"
     },
     "output_type": "display_data"
    }
   ],
   "source": [
    "plt.hist(sub_df['y'], 3)"
   ]
  },
  {
   "cell_type": "markdown",
   "metadata": {},
   "source": [
    "### 在 1:1 的抽样数据上训练\n"
   ]
  },
  {
   "cell_type": "code",
   "execution_count": 337,
   "metadata": {},
   "outputs": [],
   "source": [
    "from sklearn.linear_model import LogisticRegression"
   ]
  },
  {
   "cell_type": "code",
   "execution_count": 338,
   "metadata": {
    "scrolled": true
   },
   "outputs": [
    {
     "name": "stdout",
     "output_type": "stream",
     "text": [
      "coef: [[1.83168874]]\n",
      "interpret: [-1.00309902]\n"
     ]
    }
   ],
   "source": [
    "X = sub_df['x'].values.reshape(-1,1)\n",
    "y = sub_df['y'].values\n",
    "lr = LogisticRegression(class_weight=None,solver='lbfgs').fit(X, y)\n",
    "print(\"coef:\", lr.coef_)\n",
    "print(\"interpret:\", lr.intercept_)"
   ]
  },
  {
   "cell_type": "code",
   "execution_count": 339,
   "metadata": {},
   "outputs": [
    {
     "data": {
      "text/plain": [
       "[<matplotlib.lines.Line2D at 0x135bdea50>]"
      ]
     },
     "execution_count": 339,
     "metadata": {},
     "output_type": "execute_result"
    },
    {
     "data": {
      "image/png": "[encoded data removed]",
      "text/plain": [
       "<Figure size 432x288 with 1 Axes>"
      ]
     },
     "metadata": {
      "needs_background": "light"
     },
     "output_type": "display_data"
    }
   ],
   "source": [
    "X.sort(axis=0)\n",
    "sub_X = X\n",
    "sub_y_pred = lr.predict_proba(X)\n",
    "plt.plot(sub_X[:,0], sub_y_pred[:,1])"
   ]
  },
  {
   "cell_type": "code",
   "execution_count": 340,
   "metadata": {},
   "outputs": [],
   "source": [
    "p1 = full_df['y'].value_counts(normalize=True)[1] # 原始数据集的先验概率\n",
    "r1 = sub_df['y'].value_counts(normalize=True)[0] # 采样后数据集的先验概率\n",
    "de = r1 * (1 - p1)\n",
    "no = (1-r1) * p1\n",
    "off = np.log(de/no)\n",
    "lr.intercept_ -= off"
   ]
  },
  {
   "cell_type": "code",
   "execution_count": 341,
   "metadata": {},
   "outputs": [
    {
     "name": "stdout",
     "output_type": "stream",
     "text": [
      "coef: [[1.83168874]]\n",
      "interpret: [-3.05236689]\n"
     ]
    },
    {
     "data": {
      "text/plain": [
       "[<matplotlib.lines.Line2D at 0x135c52b50>]"
      ]
     },
     "execution_count": 341,
     "metadata": {},
     "output_type": "execute_result"
    },
    {
     "data": {
      "image/png": "[encoded data removed]",
      "text/plain": [
       "<Figure size 432x288 with 1 Axes>"
      ]
     },
     "metadata": {
      "needs_background": "light"
     },
     "output_type": "display_data"
    }
   ],
   "source": [
    "print(\"coef:\", lr.coef_)\n",
    "print(\"interpret:\", lr.intercept_)\n",
    "sub_y_pred_adjusted = lr.predict_proba(X)\n",
    "plt.plot(sub_X[:,0], sub_y_pred_adjusted[:,1])"
   ]
  },
  {
   "cell_type": "markdown",
   "metadata": {},
   "source": [
    "### 在 1:9 的原始数据上训练"
   ]
  },
  {
   "cell_type": "code",
   "execution_count": 342,
   "metadata": {},
   "outputs": [
    {
     "name": "stdout",
     "output_type": "stream",
     "text": [
      "coef: [[1.91985387]]\n",
      "interpret: [-3.21958864]\n"
     ]
    }
   ],
   "source": [
    "X = full_df['x'].values.reshape(-1,1)\n",
    "y = full_df['y'].values\n",
    "lr =  LogisticRegression(class_weight=None,solver='lbfgs').fit(X, y)\n",
    "print(\"coef:\", lr.coef_)\n",
    "print(\"interpret:\", lr.intercept_)"
   ]
  },
  {
   "cell_type": "code",
   "execution_count": 343,
   "metadata": {},
   "outputs": [
    {
     "data": {
      "text/plain": [
       "[<matplotlib.lines.Line2D at 0x135cc2850>]"
      ]
     },
     "execution_count": 343,
     "metadata": {},
     "output_type": "execute_result"
    },
    {
     "data": {
      "image/png": "[encoded data removed]",
      "text/plain": [
       "<Figure size 432x288 with 1 Axes>"
      ]
     },
     "metadata": {
      "needs_background": "light"
     },
     "output_type": "display_data"
    }
   ],
   "source": [
    "X.sort(axis=0)\n",
    "full_y_pred = lr.predict_proba(X)\n",
    "full_X = X\n",
    "plt.plot(full_X[:,0], full_y_pred[:,1])"
   ]
  },
  {
   "cell_type": "markdown",
   "metadata": {},
   "source": [
    "可以看到原始数据与抽样数据集上训练的参数是一样的，但是 intercept/bias 是不一样的。这就需要我们来修正。"
   ]
  },
  {
   "cell_type": "code",
   "execution_count": 344,
   "metadata": {},
   "outputs": [
    {
     "data": {
      "text/plain": [
       "<matplotlib.legend.Legend at 0x135d0aa50>"
      ]
     },
     "execution_count": 344,
     "metadata": {},
     "output_type": "execute_result"
    },
    {
     "data": {
      "image/png": "[encoded data removed]",
      "text/plain": [
       "<Figure size 432x288 with 1 Axes>"
      ]
     },
     "metadata": {
      "needs_background": "light"
     },
     "output_type": "display_data"
    }
   ],
   "source": [
    "plt.plot(sub_X[:,0], sub_y_pred[:,1], label='unadjusted')\n",
    "plt.plot(sub_X[:,0], sub_y_pred_adjusted[:,1], label='adjusted')\n",
    "plt.plot(full_X[:,0], full_y_pred[:,1], label='origin')\n",
    "plt.legend()"
   ]
  },
  {
   "cell_type": "markdown",
   "metadata": {},
   "source": [
    "\n",
    "### 最好的解释\n",
    "\n",
    "1. [Logistic-Regression: Prior correction at test time](https://stats.stackexchange.com/questions/117592/logistic-regression-prior-correction-at-test-time)\n",
    "2. [Usage Note 22601: Adjusting for oversampling the event level in a binary logistic model](http://support.sas.com/kb/22/601.html)"
   ]
  }
 ],
 "metadata": {
  "kernelspec": {
   "display_name": "Python 3",
   "language": "python",
   "name": "python3"
  },
  "language_info": {
   "codemirror_mode": {
    "name": "ipython",
    "version": 3
   },
   "file_extension": ".py",
   "mimetype": "text/x-python",
   "name": "python",
   "nbconvert_exporter": "python",
   "pygments_lexer": "ipython3",
   "version": "3.7.5"
  }
 },
 "nbformat": 4,
 "nbformat_minor": 2
}
