{
 "cells": [
  {
   "cell_type": "markdown",
   "metadata": {},
   "source": [
    "## Regression\n",
    "\n",
    "做回归测试时，一定要注意，学习因子不要太大。不然的话是不会收敛的，而且会导致 loss 越来越大。\n",
    "\n",
    "```\n",
    "C = 3\n",
    "C = 0.3\n",
    "C = 0.1\n",
    "```\n",
    "\n",
    "太大时，训练时的误差可能让你怀疑人生。\n"
   ]
  }
 ],
 "metadata": {
  "kernelspec": {
   "display_name": "Python 3",
   "language": "python",
   "name": "python3"
  },
  "language_info": {
   "codemirror_mode": {
    "name": "ipython",
    "version": 3
   },
   "file_extension": ".py",
   "mimetype": "text/x-python",
   "name": "python",
   "nbconvert_exporter": "python",
   "pygments_lexer": "ipython3",
   "version": "3.7.5"
  }
 },
 "nbformat": 4,
 "nbformat_minor": 2
}
