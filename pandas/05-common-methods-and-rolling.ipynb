{
 "cells": [
  {
   "cell_type": "markdown",
   "metadata": {},
   "source": [
    "## Rolling Data\n",
    "\n",
    "有时候我们可能需要计算一些数据的统计值，我们可以使用 [rolling](https://pandas.pydata.org/pandas-docs/stable/generated/pandas.DataFrame.rolling.html) 函数来完成。\n"
   ]
  },
  {
   "cell_type": "code",
   "execution_count": null,
   "metadata": {
    "collapsed": true
   },
   "outputs": [],
   "source": [
    "DataFrame.rolling(window, # 必填参数决定窗口的大小，具体的例子可以参考文档。\n",
    "                  min_periods=None, \n",
    "                  freq=None, \n",
    "                  center=False, \n",
    "                  win_type=None, \n",
    "                  on=None, \n",
    "                  axis=0, \n",
    "                  closed=None)"
   ]
  },
  {
   "cell_type": "markdown",
   "metadata": {},
   "source": [
    "### 介绍 rolling 函数，先介绍一些汇总函数\n",
    "\n",
    "| Method                                   | Description                              |\n",
    "| ---------------------------------------- | ---------------------------------------- |\n",
    "| [`count()`](https://pandas.pydata.org/pandas-docs/stable/generated/pandas.core.window.Rolling.count.html#pandas.core.window.Rolling.count) | Number of non-null observations          |\n",
    "| [`sum()`](https://pandas.pydata.org/pandas-docs/stable/generated/pandas.core.window.Rolling.sum.html#pandas.core.window.Rolling.sum) | Sum of values                            |\n",
    "| [`mean()`](https://pandas.pydata.org/pandas-docs/stable/generated/pandas.core.window.Rolling.mean.html#pandas.core.window.Rolling.mean) | Mean of values                           |\n",
    "| [`median()`](https://pandas.pydata.org/pandas-docs/stable/generated/pandas.core.window.Rolling.median.html#pandas.core.window.Rolling.median) | Arithmetic median of values              |\n",
    "| [`min()`](https://pandas.pydata.org/pandas-docs/stable/generated/pandas.core.window.Rolling.min.html#pandas.core.window.Rolling.min) | Minimum                                  |\n",
    "| [`max()`](https://pandas.pydata.org/pandas-docs/stable/generated/pandas.core.window.Rolling.max.html#pandas.core.window.Rolling.max) | Maximum                                  |\n",
    "| [`std()`](https://pandas.pydata.org/pandas-docs/stable/generated/pandas.core.window.Rolling.std.html#pandas.core.window.Rolling.std) | Bessel-corrected sample standard deviation |\n",
    "| [`var()`](https://pandas.pydata.org/pandas-docs/stable/generated/pandas.core.window.Rolling.var.html#pandas.core.window.Rolling.var) | Unbiased variance                        |\n",
    "| [`skew()`](https://pandas.pydata.org/pandas-docs/stable/generated/pandas.core.window.Rolling.skew.html#pandas.core.window.Rolling.skew) | Sample skewness (3rd moment)             |\n",
    "| [`kurt()`](https://pandas.pydata.org/pandas-docs/stable/generated/pandas.core.window.Rolling.kurt.html#pandas.core.window.Rolling.kurt) | Sample kurtosis (4th moment)             |\n",
    "| [`quantile()`](https://pandas.pydata.org/pandas-docs/stable/generated/pandas.core.window.Rolling.quantile.html#pandas.core.window.Rolling.quantile) | Sample quantile (value at %)             |\n",
    "| [`apply()`](https://pandas.pydata.org/pandas-docs/stable/generated/pandas.core.window.Rolling.apply.html#pandas.core.window.Rolling.apply) | Generic apply                            |\n",
    "| [`cov()`](https://pandas.pydata.org/pandas-docs/stable/generated/pandas.core.window.Rolling.cov.html#pandas.core.window.Rolling.cov) | Unbiased covariance (binary)             |\n",
    "| [`corr()`](https://pandas.pydata.org/pandas-docs/stable/generated/pandas.core.window.Rolling.corr.html#pandas.core.window.Rolling.corr) | Correlation (binary)                     |"
   ]
  },
  {
   "cell_type": "code",
   "execution_count": 1,
   "metadata": {
    "collapsed": true
   },
   "outputs": [],
   "source": [
    "import pandas as pd\n",
    "\n",
    "bars = {'value': [0, 1, 2, 3, 4, 5, 6, 7, 8, 9]}\n",
    "df = pd.DataFrame(bars)\n"
   ]
  },
  {
   "cell_type": "code",
   "execution_count": 3,
   "metadata": {},
   "outputs": [
    {
     "name": "stdout",
     "output_type": "stream",
     "text": [
      "value    10\n",
      "dtype: int64\n",
      "10\n"
     ]
    }
   ],
   "source": [
    "print(df.count())\n",
    "print(df['value'].count())"
   ]
  },
  {
   "cell_type": "code",
   "execution_count": 4,
   "metadata": {},
   "outputs": [
    {
     "name": "stdout",
     "output_type": "stream",
     "text": [
      "value    45\n",
      "dtype: int64\n",
      "45\n"
     ]
    }
   ],
   "source": [
    "print(df.sum())\n",
    "print(df['value'].sum())"
   ]
  },
  {
   "cell_type": "code",
   "execution_count": 5,
   "metadata": {},
   "outputs": [
    {
     "name": "stdout",
     "output_type": "stream",
     "text": [
      "value    4.5\n",
      "dtype: float64\n",
      "4.5\n"
     ]
    }
   ],
   "source": [
    "print(df.mean())\n",
    "print(df['value'].mean())"
   ]
  },
  {
   "cell_type": "code",
   "execution_count": 6,
   "metadata": {},
   "outputs": [
    {
     "name": "stdout",
     "output_type": "stream",
     "text": [
      "value    4.5\n",
      "dtype: float64\n",
      "4.5\n"
     ]
    }
   ],
   "source": [
    "print(df.median())\n",
    "print(df['value'].median())"
   ]
  },
  {
   "cell_type": "code",
   "execution_count": 7,
   "metadata": {},
   "outputs": [
    {
     "name": "stdout",
     "output_type": "stream",
     "text": [
      "value    3.02765\n",
      "dtype: float64\n",
      "3.0276503541\n"
     ]
    }
   ],
   "source": [
    "print(df.std()) # standard deviation，标准差，均方差\n",
    "print(df['value'].std())"
   ]
  },
  {
   "cell_type": "code",
   "execution_count": 8,
   "metadata": {},
   "outputs": [
    {
     "name": "stdout",
     "output_type": "stream",
     "text": [
      "value    9.166667\n",
      "dtype: float64\n",
      "9.16666666667\n"
     ]
    }
   ],
   "source": [
    "print(df.var()) # unbiased variance , 无偏方差，均方差\n",
    "print(df['value'].var())"
   ]
  },
  {
   "cell_type": "code",
   "execution_count": 10,
   "metadata": {},
   "outputs": [
    {
     "name": "stdout",
     "output_type": "stream",
     "text": [
      "          value\n",
      "value  9.166667\n"
     ]
    }
   ],
   "source": [
    "print(df.cov()) # unbiased variance (binary) "
   ]
  },
  {
   "cell_type": "markdown",
   "metadata": {},
   "source": [
    "## rolling 函数\n",
    "\n",
    "rolling 窗口大小作为滑块很重要，默认滑块的方向是从 index 增长的方向一致。"
   ]
  },
  {
   "cell_type": "code",
   "execution_count": 12,
   "metadata": {
    "collapsed": true
   },
   "outputs": [],
   "source": [
    "bars = {'value': [0, 1, 2, 3, 4, 5, 6, 7, 8, 9]}\n",
    "df = pd.DataFrame(bars)"
   ]
  },
  {
   "cell_type": "code",
   "execution_count": 15,
   "metadata": {},
   "outputs": [
    {
     "name": "stdout",
     "output_type": "stream",
     "text": [
      "      value\n",
      "0       NaN\n",
      "1  0.707107\n",
      "2  0.707107\n",
      "3  0.707107\n",
      "4  0.707107\n",
      "5  0.707107\n",
      "6  0.707107\n",
      "7  0.707107\n",
      "8  0.707107\n",
      "9  0.707107\n"
     ]
    }
   ],
   "source": [
    "print(df.rolling(2).std())"
   ]
  },
  {
   "cell_type": "code",
   "execution_count": 18,
   "metadata": {},
   "outputs": [
    {
     "name": "stdout",
     "output_type": "stream",
     "text": [
      "   value\n",
      "0    NaN\n",
      "1    0.5\n",
      "2    1.5\n",
      "3    2.5\n",
      "4    3.5\n",
      "5    4.5\n",
      "6    5.5\n",
      "7    6.5\n",
      "8    7.5\n",
      "9    8.5\n"
     ]
    }
   ],
   "source": [
    "print(df.rolling(2).mean())"
   ]
  },
  {
   "cell_type": "code",
   "execution_count": 19,
   "metadata": {},
   "outputs": [
    {
     "name": "stdout",
     "output_type": "stream",
     "text": [
      "   value\n",
      "0    NaN\n",
      "1    NaN\n",
      "2    NaN\n",
      "3    NaN\n",
      "4    NaN\n",
      "5    NaN\n",
      "6    NaN\n",
      "7    NaN\n",
      "8    NaN\n",
      "9    4.5\n",
      "     value\n",
      "0      NaN\n",
      "1      NaN\n",
      "2      NaN\n",
      "3      NaN\n",
      "4      NaN\n",
      "5      NaN\n",
      "6      NaN\n",
      "7      NaN\n",
      "8      NaN\n",
      "9  3.02765\n"
     ]
    }
   ],
   "source": [
    "print(df.rolling(10).mean())\n",
    "print(df.rolling(10).std())"
   ]
  }
 ],
 "metadata": {
  "kernelspec": {
   "display_name": "Python 3",
   "language": "python",
   "name": "python3"
  },
  "language_info": {
   "codemirror_mode": {
    "name": "ipython",
    "version": 3
   },
   "file_extension": ".py",
   "mimetype": "text/x-python",
   "name": "python",
   "nbconvert_exporter": "python",
   "pygments_lexer": "ipython3",
   "version": "3.6.5"
  }
 },
 "nbformat": 4,
 "nbformat_minor": 2
}
