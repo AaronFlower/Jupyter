{
 "cells": [
  {
   "cell_type": "markdown",
   "metadata": {},
   "source": [
    "## Merge & Join\n",
    "\n",
    "DataFrames 之间的 merge, join 操作，merge 并不关心 index, 而 join 操作关心 index。 merge 和 join 操作都可以实现，数据库的 join (left, right, outer, inner)操作。"
   ]
  },
  {
   "cell_type": "code",
   "execution_count": 1,
   "metadata": {
    "collapsed": true
   },
   "outputs": [],
   "source": [
    "import pandas as pd\n",
    "\n",
    "df1 = pd.DataFrame({'HPI':[80,85,88,85],\n",
    "                    'Int_rate':[2, 3, 2, 2],\n",
    "                    'US_GDP_Thousands':[50, 55, 65, 55]},\n",
    "                   index = [2001, 2002, 2003, 2004])\n",
    "\n",
    "df2 = pd.DataFrame({'HPI':[80,85,88,85],\n",
    "                    'Int_rate':[2, 3, 2, 2],\n",
    "                    'US_GDP_Thousands':[50, 55, 65, 55]},\n",
    "                   index = [2005, 2006, 2007, 2008])\n",
    "\n",
    "df3 = pd.DataFrame({'HPI':[80,85,88,85],\n",
    "                    'Unemployment':[7, 8, 9, 6],\n",
    "                    'Low_tier_HPI':[50, 52, 50, 53]},\n",
    "                   index = [2001, 2002, 2003, 2004])\n"
   ]
  },
  {
   "cell_type": "code",
   "execution_count": 3,
   "metadata": {
    "collapsed": false,
    "scrolled": true
   },
   "outputs": [
    {
     "name": "stdout",
     "output_type": "stream",
     "text": [
      "   HPI  Int_rate_x  US_GDP_Thousands_x  Int_rate_y  US_GDP_Thousands_y\n",
      "0   80           2                  50           2                  50\n",
      "1   85           3                  55           3                  55\n",
      "2   85           3                  55           2                  55\n",
      "3   85           2                  55           3                  55\n",
      "4   85           2                  55           2                  55\n",
      "5   88           2                  65           2                  65\n"
     ]
    }
   ],
   "source": [
    "## merge\n",
    "# 按 HPI column 来进行 merge, 相同的话直接 merge, 而出现多个时会做笛卡尔。\n",
    "print(pd.merge(df1, df2, on='HPI'))"
   ]
  },
  {
   "cell_type": "code",
   "execution_count": 5,
   "metadata": {
    "collapsed": false,
    "scrolled": true
   },
   "outputs": [
    {
     "name": "stdout",
     "output_type": "stream",
     "text": [
      "   HPI  Int_rate  US_GDP_Thousands_x  US_GDP_Thousands_y\n",
      "0   80         2                  50                  50\n",
      "1   85         3                  55                  55\n",
      "2   88         2                  65                  65\n",
      "3   85         2                  55                  55\n"
     ]
    }
   ],
   "source": [
    "# merge 进我们出得到两个不同版本的 US_GDP_Thousands\n",
    "print(pd.merge(df1, df2, on=['HPI', 'Int_rate']))"
   ]
  },
  {
   "cell_type": "code",
   "execution_count": 9,
   "metadata": {
    "collapsed": false
   },
   "outputs": [
    {
     "name": "stdout",
     "output_type": "stream",
     "text": [
      "   HPI  Int_rate  US_GDP_Thousands  Low_tier_HPI  Unemployment\n",
      "0   80         2                50            50             7\n",
      "1   85         3                55            52             8\n",
      "2   85         3                55            53             6\n",
      "3   85         2                55            52             8\n",
      "4   85         2                55            53             6\n",
      "5   88         2                65            50             9\n",
      "     Int_rate  US_GDP_Thousands  Low_tier_HPI  Unemployment\n",
      "HPI                                                        \n",
      "80          2                50            50             7\n",
      "85          3                55            52             8\n",
      "85          3                55            53             6\n",
      "85          2                55            52             8\n",
      "85          2                55            53             6\n",
      "88          2                65            50             9\n"
     ]
    }
   ],
   "source": [
    "# merge 不同的信息就很方便了。不出现相同的 column, 这是合并的常用操作。\n",
    "df4 = pd.merge(df1, df3, on='HPI')\n",
    "print(df4)\n",
    "df4.set_index('HPI', inplace=True)\n",
    "print(df4)"
   ]
  },
  {
   "cell_type": "code",
   "execution_count": 12,
   "metadata": {
    "collapsed": false,
    "scrolled": true
   },
   "outputs": [
    {
     "name": "stdout",
     "output_type": "stream",
     "text": [
      "     Int_rate  US_GDP_Thousands  Low_tier_HPI  Unemployment\n",
      "HPI                                                        \n",
      "80          2                50            50             7\n",
      "85          3                55            52             8\n",
      "85          3                55            53             6\n",
      "85          2                55            52             8\n",
      "85          2                55            53             6\n",
      "88          2                65            50             9\n"
     ]
    }
   ],
   "source": [
    "# 做 join 需要 dataframe 指定 index, 而做 merge 不需要指定 index\n",
    "new_df1 = df1.set_index('HPI')\n",
    "new_df3 = df3.set_index('HPI')\n",
    "# join 也会做笛卡尔积。\n",
    "joined = new_df1.join(new_df3)\n",
    "print(joined)"
   ]
  },
  {
   "cell_type": "code",
   "execution_count": 30,
   "metadata": {
    "collapsed": false
   },
   "outputs": [
    {
     "name": "stdout",
     "output_type": "stream",
     "text": [
      "merge does not care index\n"
     ]
    }
   ],
   "source": [
    "## merge 的 inner, left, right, outer \n",
    "df1 = pd.DataFrame({\n",
    "                    'Int_rate':[2, 3, 2, 2],\n",
    "                    'US_GDP_Thousands':[50, 55, 65, 55],\n",
    "                    'Year':[2001, 2002, 2003, 2004]\n",
    "                    })\n",
    "\n",
    "df3 = pd.DataFrame({\n",
    "                    'Unemployment':[7, 8, 9, 6],\n",
    "                    'Low_tier_HPI':[50, 52, 50, 53],\n",
    "                    'Year':[2001, 2003, 2004, 2005]})\n",
    "\n",
    "print('merge does not care index')"
   ]
  },
  {
   "cell_type": "code",
   "execution_count": 35,
   "metadata": {
    "collapsed": false
   },
   "outputs": [
    {
     "name": "stdout",
     "output_type": "stream",
     "text": [
      "default inner merge\n",
      "      Int_rate  US_GDP_Thousands  Low_tier_HPI  Unemployment\n",
      "Year                                                        \n",
      "2001         2                50            50             7\n",
      "2003         2                65            52             8\n",
      "2004         2                55            50             9\n"
     ]
    }
   ],
   "source": [
    "merged = pd.merge(df1, df3)\n",
    "merged.set_index('Year', inplace=True)\n",
    "print('default inner merge')\n",
    "print(merged)"
   ]
  },
  {
   "cell_type": "code",
   "execution_count": 36,
   "metadata": {
    "collapsed": false
   },
   "outputs": [
    {
     "name": "stdout",
     "output_type": "stream",
     "text": [
      "left merge\n",
      "      Int_rate  US_GDP_Thousands  Low_tier_HPI  Unemployment\n",
      "Year                                                        \n",
      "2001         2                50          50.0           7.0\n",
      "2002         3                55           NaN           NaN\n",
      "2003         2                65          52.0           8.0\n",
      "2004         2                55          50.0           9.0\n"
     ]
    }
   ],
   "source": [
    "merged = pd.merge(df1, df3, how='left')\n",
    "merged.set_index('Year', inplace=True)\n",
    "print('left merge')\n",
    "print(merged)"
   ]
  },
  {
   "cell_type": "code",
   "execution_count": 37,
   "metadata": {
    "collapsed": false
   },
   "outputs": [
    {
     "name": "stdout",
     "output_type": "stream",
     "text": [
      "right merge\n",
      "      Int_rate  US_GDP_Thousands  Low_tier_HPI  Unemployment\n",
      "Year                                                        \n",
      "2001       2.0              50.0            50             7\n",
      "2003       2.0              65.0            52             8\n",
      "2004       2.0              55.0            50             9\n",
      "2005       NaN               NaN            53             6\n"
     ]
    }
   ],
   "source": [
    "merged = pd.merge(df1, df3, how='right')\n",
    "merged.set_index('Year', inplace=True)\n",
    "print('right merge')\n",
    "print(merged)"
   ]
  },
  {
   "cell_type": "code",
   "execution_count": 38,
   "metadata": {
    "collapsed": false
   },
   "outputs": [
    {
     "name": "stdout",
     "output_type": "stream",
     "text": [
      "outer merge\n",
      "      Int_rate  US_GDP_Thousands  Low_tier_HPI  Unemployment\n",
      "Year                                                        \n",
      "2001       2.0              50.0          50.0           7.0\n",
      "2002       3.0              55.0           NaN           NaN\n",
      "2003       2.0              65.0          52.0           8.0\n",
      "2004       2.0              55.0          50.0           9.0\n",
      "2005       NaN               NaN          53.0           6.0\n"
     ]
    }
   ],
   "source": [
    "merged = pd.merge(df1, df3, how='outer')\n",
    "merged.set_index('Year', inplace=True)\n",
    "print('outer merge')\n",
    "print(merged)"
   ]
  },
  {
   "cell_type": "code",
   "execution_count": 25,
   "metadata": {
    "collapsed": false
   },
   "outputs": [
    {
     "name": "stdout",
     "output_type": "stream",
     "text": [
      "join does care index\n"
     ]
    }
   ],
   "source": [
    "## join join 需要设定 index\n",
    "## join 的 inner, left, right, outer \n",
    "df1 = pd.DataFrame({\n",
    "                    'Int_rate':[2, 3, 2, 2],\n",
    "                    'US_GDP_Thousands':[50, 55, 65, 55],\n",
    "                    'Year':[2001, 2002, 2003, 2004]\n",
    "                    })\n",
    "\n",
    "df3 = pd.DataFrame({\n",
    "                    'Unemployment':[7, 8, 9, 6],\n",
    "                    'Low_tier_HPI':[50, 52, 50, 53],\n",
    "                    'Year':[2001, 2003, 2004, 2005]})\n",
    "\n",
    "print('join does care index')\n",
    "df1.set_index('Year', inplace=True)\n",
    "df3.set_index('Year', inplace=True)\n"
   ]
  },
  {
   "cell_type": "code",
   "execution_count": 26,
   "metadata": {
    "collapsed": false
   },
   "outputs": [
    {
     "name": "stdout",
     "output_type": "stream",
     "text": [
      "left join\n",
      "      Int_rate  US_GDP_Thousands  Low_tier_HPI  Unemployment\n",
      "Year                                                        \n",
      "2001         2                50          50.0           7.0\n",
      "2002         3                55           NaN           NaN\n",
      "2003         2                65          52.0           8.0\n",
      "2004         2                55          50.0           9.0\n"
     ]
    }
   ],
   "source": [
    "# left join\n",
    "print('left join')\n",
    "joined = df1.join(df3)\n",
    "print(joined)"
   ]
  },
  {
   "cell_type": "code",
   "execution_count": 27,
   "metadata": {
    "collapsed": false
   },
   "outputs": [
    {
     "name": "stdout",
     "output_type": "stream",
     "text": [
      "right join\n",
      "      Int_rate  US_GDP_Thousands  Low_tier_HPI  Unemployment\n",
      "Year                                                        \n",
      "2001       2.0              50.0            50             7\n",
      "2003       2.0              65.0            52             8\n",
      "2004       2.0              55.0            50             9\n",
      "2005       NaN               NaN            53             6\n"
     ]
    }
   ],
   "source": [
    "print('right join')\n",
    "joined = df1.join(df3, how='right')\n",
    "print(joined)"
   ]
  },
  {
   "cell_type": "code",
   "execution_count": 28,
   "metadata": {
    "collapsed": false
   },
   "outputs": [
    {
     "name": "stdout",
     "output_type": "stream",
     "text": [
      "inner join\n",
      "      Int_rate  US_GDP_Thousands  Low_tier_HPI  Unemployment\n",
      "Year                                                        \n",
      "2001         2                50            50             7\n",
      "2003         2                65            52             8\n",
      "2004         2                55            50             9\n"
     ]
    }
   ],
   "source": [
    "print('inner join')\n",
    "joined = df1.join(df3, how='inner')\n",
    "print(joined)"
   ]
  },
  {
   "cell_type": "code",
   "execution_count": 29,
   "metadata": {
    "collapsed": false
   },
   "outputs": [
    {
     "name": "stdout",
     "output_type": "stream",
     "text": [
      "outer join\n",
      "      Int_rate  US_GDP_Thousands  Low_tier_HPI  Unemployment\n",
      "Year                                                        \n",
      "2001       2.0              50.0          50.0           7.0\n",
      "2002       3.0              55.0           NaN           NaN\n",
      "2003       2.0              65.0          52.0           8.0\n",
      "2004       2.0              55.0          50.0           9.0\n",
      "2005       NaN               NaN          53.0           6.0\n"
     ]
    }
   ],
   "source": [
    "print('outer join')\n",
    "joined = df1.join(df3, how='outer')\n",
    "print(joined)"
   ]
  }
 ],
 "metadata": {
  "kernelspec": {
   "display_name": "Python 3",
   "language": "python",
   "name": "python3"
  },
  "language_info": {
   "codemirror_mode": {
    "name": "ipython",
    "version": 3
   },
   "file_extension": ".py",
   "mimetype": "text/x-python",
   "name": "python",
   "nbconvert_exporter": "python",
   "pygments_lexer": "ipython3",
   "version": "3.6.0"
  }
 },
 "nbformat": 4,
 "nbformat_minor": 2
}
