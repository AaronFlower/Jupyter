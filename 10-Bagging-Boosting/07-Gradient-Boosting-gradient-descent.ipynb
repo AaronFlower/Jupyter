{
 "cells": [
  {
   "cell_type": "markdown",
   "metadata": {},
   "source": [
    "## GBGD\n",
    "\n",
    "在介绍了 MSE-GBM, MAE-GBM 后，终于要来介绍 Gradient Descent GB 了。\n",
    "\n",
    "[Gradient boosting performs gradient descent](http://explained.ai/gradient-boosting/descent.html) 证明了 Boosting 就是在执行梯度下降。\n",
    "\n",
    "在 L2-GBM 中优化残差向量，就是在执行 MSE 梯度下降。而在 L1-GBM 中优化残差符号向量就是在执行 MAE 梯度下降。\n",
    "\n",
    "Gradient Boosting 与 Gradient Descent 有什么不同那？GD 如 (NN) 是通过 GD 来调节模型的参数；而 GB 是调节模型的输出。\n",
    "\n",
    "注意：无认方向向量是什么（残差或残差符号向量），回归树都可用 MSE 来划分样本集。因为用什么方式来划分样本集并不是一个太大的问题，弱分类器回归树本身就是一个很大的噪声估计。"
   ]
  },
  {
   "cell_type": "markdown",
   "metadata": {},
   "source": [
    "### Gradient Boost 通用算法\n",
    "\n",
    "[通用算法模型](http://explained.ai/gradient-boosting/descent.html#alg:general), 从推导过程来看，我们实现的 MSE-GBM, MAE-GBM 都是 GBM 的一个特例。"
   ]
  }
 ],
 "metadata": {
  "kernelspec": {
   "display_name": "Python 3",
   "language": "python",
   "name": "python3"
  },
  "language_info": {
   "codemirror_mode": {
    "name": "ipython",
    "version": 3
   },
   "file_extension": ".py",
   "mimetype": "text/x-python",
   "name": "python",
   "nbconvert_exporter": "python",
   "pygments_lexer": "ipython3",
   "version": "3.7.3"
  }
 },
 "nbformat": 4,
 "nbformat_minor": 2
}
