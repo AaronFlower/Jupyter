{
 "cells": [
  {
   "cell_type": "markdown",
   "metadata": {},
   "source": [
    "## XGBoost\n",
    "\n",
    "XGBoost, A Scalable Tree Boosting System.\n",
    "\n",
    "XGBoost 其原理还是 GBM。它于传统的 GBM 有什么不同那？\n",
    "\n",
    "1. 优化函数增加了个正则项。\n",
    "2. 根据该优化函数，叶子结点和划分方法的计算方法都有所不同。\n",
    "\n",
    "### 论文解读\n",
    "\n",
    "#### 1. 引入 XGBoost\n",
    "1. 引入加入正则项的优化函数。2. 给出叶子结点和树的划分方法；3. 应用学习率(shrinkage) 和随机森林的思想(column subsampling)。\n",
    "\n",
    "#### 2. 划分点查询算法\n",
    "对于树的划分可能是十分耗时的，寻找划分点有两种算法： \n",
    "1. 贪心算法\n",
    "对于数据无法一次性加载到内存，或者分布系统时会无力。（面试点，怎么解决那？）\n",
    "\n",
    "2. 估算法 （Approximation）\n",
    "\n",
    "通过百分位数(percentile) 或分位数（quantile）分布来进行估算，找出划分点。给出 rank-function 算法。\n",
    "\n",
    "#### 3. Sparsity-aware 处理缺失值\n",
    "\n",
    "处理稀疏矩阵缺失值时的决策树建立方法。\n",
    "\n",
    "#### 4. 系统设计\n",
    "1. 并行学习\n",
    "2. Cache-aware 优化\n",
    "3. Out-of-core 核外计算\n",
    "\n",
    "#### 5. 系统实现\n",
    "\n",
    "\n",
    "|Dataset |n| m |Task |\n",
    "|--------|------|-----| ---|\n",
    "|Allstate |10 M |4227| Insurance claim classification |\n",
    "|Higgs Boson |10 M |28| Event classification |\n",
    "|Yahoo LTRC |473K |700| Learning to Rank |\n",
    "|Criteo |1.7 B |67| Click through rate prediction|\n",
    "\n",
    "\n",
    "总体上看，基本思想没有变。但是给出了一个 Scalable Tree Boosting 的设计和实现方法，还给出例子。大赞！"
   ]
  }
 ],
 "metadata": {
  "kernelspec": {
   "display_name": "Python 3",
   "language": "python",
   "name": "python3"
  },
  "language_info": {
   "codemirror_mode": {
    "name": "ipython",
    "version": 3
   },
   "file_extension": ".py",
   "mimetype": "text/x-python",
   "name": "python",
   "nbconvert_exporter": "python",
   "pygments_lexer": "ipython3",
   "version": "3.7.3"
  }
 },
 "nbformat": 4,
 "nbformat_minor": 2
}
