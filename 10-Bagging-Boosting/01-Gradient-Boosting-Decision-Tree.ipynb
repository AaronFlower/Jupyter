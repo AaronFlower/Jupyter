{
 "cells": [
  {
   "cell_type": "markdown",
   "metadata": {},
   "source": [
    "## 梯度集成算法 （Gradient Boosting）\n",
    "\n",
    "GB 可以用于回归和分类，基于的弱分类器通常是决策树。GB 通过对可微分损失函数的优化来提高弱分类器的泛化能力。\n",
    "\n",
    "### 思想\n",
    "把 Boosting 集成看成梯度下降算法。\n",
    "\n",
    "[Gradient Boosting](https://en.wikipedia.org/wiki/Gradient_boosting) wiki 上有详细的推导过程，介绍的很不错。\n",
    "\n",
    "GB 的最终过是为了拟合残差。[Gradient Boosting From Scratch](https://medium.com/mlreview/gradient-boosting-from-scratch-1e317ae4587d)。这个是很好的 Tutorial。\n",
    "\n",
    "[机器学习算法GBDT的面试要点总结-上篇](https://www.cnblogs.com/ModifyRong/p/7744987.html)， 而这篇文章更加详细描述了应用时的内容。而且学到了 GB 所基于的 CART 树在构建时，如果是分类问题就是 Gini 系数进行划分，而如果是回归问题就用方差来划分。\n",
    "\n",
    "### 算法实现"
   ]
  },
  {
   "cell_type": "code",
   "execution_count": 1,
   "metadata": {},
   "outputs": [],
   "source": [
    "import pandas as pd\n",
    "import numpy as np\n",
    "from sklearn import metrics"
   ]
  },
  {
   "cell_type": "code",
   "execution_count": null,
   "metadata": {},
   "outputs": [],
   "source": [
    "class DecisionTree(object):\n",
    "    def __init__(self, x, y, idxs = None, min_leaf = 2):\n",
    "        '''\n",
    "            构造函数：\n",
    "            x, y 训练样本；\n",
    "            idxs: 样本的下标, 因为每次递归划分后会产生新的样本集，而我们只需要记录新样本集的下标就行了。\n",
    "            in_leaf: 最的小叶子节点数；\n",
    "        '''\n",
    "        if idxs is None: idxs = np.arange(len(y))\n",
    "        self.x, self.y = x,y\n",
    "        self.m, self.n = x.shape\n",
    "        self.idxs, self.min_leaf = idxs, min_leaf\n",
    "        self.val = np.mean(y[idxs])\n",
    "        self.score = np.inf\n",
    "    \n",
    "    def find_feature_split(self):\n",
    "        '''\n",
    "            通过对每一个 feature 调用 find_best_split_val 找到每个 feature 的最佳分隔点。\n",
    "            然后挑选最好的一个 feature.\n",
    "            lhs: left-hand side\n",
    "            rhs: right-hand side\n",
    "        '''\n",
    "        for i in range(self.n):\n",
    "            self.find_best_split_val(i)\n",
    "        if self.score == np.inf : return\n",
    "        \n",
    "        x = self.split_col\n",
    "        lhs = np.nozero(x <= self.split)[0]\n",
    "        rhs = np.nozero(x > self.split)[0]\n",
    "        self.lhs = DecisionTree(self.x, self.y, self[lhs])\n",
    "        self.rhs = DecisionTree(self.x, self.y, self[rhs])\n",
    "        return\n",
    "    \n",
    "    def find_best_split_val(self, feature):\n",
    "        x, y = self.x.values[self.idxs, feature], self.y[self.idxs]\n",
    "        \n",
    "        # 对于数值性特征我们使用方差来进行划分。先对特征所有的取值进行排序。\n",
    "        sort_idx = np.argsort(x)\n",
    "        sort_y, sort_x = y[sort_idx], x[sort_idx]\n",
    "        \n",
    "        # 初始时的两分划分点会把所有样本都划分到右侧。\n",
    "        lhs_cnt, lhs_sum, lhs_sum2 = 0, 0.0, 0.0\n",
    "        rhs_cnt, rhs_sum, rhs_sum2 = self.m, sort_y.sum(), (sort_y ** 2).sum()\n",
    "        \n",
    "        for i in range(0, self.m - self.min_leaf - 1):\n",
    "            xi, yi = sort_x[i], sort_y[i]\n",
    "            lhs_cnt += 1; rhs_cnt -= 1;\n",
    "            lhs_sum += yi; rhs_sum -= yi;\n",
    "            lhs_sum2 += yi ** 2; rhs_sum2 -= yi ** 2;\n",
    "            \n",
    "            if i < self.min_leaf or xi == sort_x[i + 1]:\n",
    "                continue\n",
    "            \n",
    "            lhs_std = std_agg(lhs_cnt, lhs_sum, lhs_sum2)\n",
    "            rhs_std = std_agg(rhs_cnt, rhs_sum, rhs_sum2)\n",
    "            cur_score = lhs_std * lhs_cnt + rhs_std * rhs_cnt\n",
    "            if cur_score < self.score:\n",
    "                self.feature, self.score, self.split_val = feature, cur_score, xi  \n",
    "        return\n",
    "    \n",
    "    \n",
    "        \n",
    "        \n",
    "        \n",
    "    "
   ]
  }
 ],
 "metadata": {
  "kernelspec": {
   "display_name": "Python 3",
   "language": "python",
   "name": "python3"
  },
  "language_info": {
   "codemirror_mode": {
    "name": "ipython",
    "version": 3
   },
   "file_extension": ".py",
   "mimetype": "text/x-python",
   "name": "python",
   "nbconvert_exporter": "python",
   "pygments_lexer": "ipython3",
   "version": "3.7.4"
  }
 },
 "nbformat": 4,
 "nbformat_minor": 2
}
