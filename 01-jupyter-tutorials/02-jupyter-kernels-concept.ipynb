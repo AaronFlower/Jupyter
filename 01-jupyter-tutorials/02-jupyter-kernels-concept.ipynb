{
 "cells": [
  {
   "cell_type": "markdown",
   "metadata": {},
   "source": [
    "## 安装其它语言的 Kernel\n",
    "安装完 Jupyter 后，会默认安装 iPython 的。如果安装其它语言的 kernels。可以单独安装。\n",
    "### 1. IJavascript\n",
    "```\n",
    "# 需要 node npm 支持\n",
    "# 安装 ijavascript\n",
    "npm install -g ijavascript\n",
    "# 运行\n",
    "ijs\n",
    "```"
   ]
  }
 ],
 "metadata": {
  "kernelspec": {
   "display_name": "Python 3",
   "language": "python",
   "name": "python3"
  },
  "language_info": {
   "codemirror_mode": {
    "name": "ipython",
    "version": 3
   },
   "file_extension": ".py",
   "mimetype": "text/x-python",
   "name": "python",
   "nbconvert_exporter": "python",
   "pygments_lexer": "ipython3",
   "version": "3.7.2"
  }
 },
 "nbformat": 4,
 "nbformat_minor": 2
}
