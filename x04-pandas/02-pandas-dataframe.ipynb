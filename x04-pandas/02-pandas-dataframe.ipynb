{
 "cells": [
  {
   "cell_type": "markdown",
   "metadata": {},
   "source": [
    "## Pandas.Dataframe 处理\n",
    "\n",
    "pandas 可以处理的数据很多，最常见的还是 Dictionary。下面就是 Pandas 处理 Dictionary 的例子。"
   ]
  },
  {
   "cell_type": "code",
   "execution_count": 2,
   "metadata": {
    "collapsed": true
   },
   "outputs": [],
   "source": [
    "import pandas as pd\n",
    "\n",
    "web_stats = {\n",
    "    'Day': [1, 2, 3, 4, 5, 6],\n",
    "    'Visitors': [43, 53, 45, 54, 54, 23],\n",
    "    'Bounce_Rate': [65, 70, 34, 56, 54, 62]\n",
    "}\n",
    "# 初始化实例\n",
    "df = pd.DataFrame(web_stats)"
   ]
  },
  {
   "cell_type": "code",
   "execution_count": 4,
   "metadata": {},
   "outputs": [
    {
     "name": "stdout",
     "output_type": "stream",
     "text": [
      "   Bounce_Rate  Day  Visitors\n",
      "0           65    1        43\n",
      "1           70    2        53\n",
      "2           34    3        45\n",
      "3           56    4        54\n",
      "4           54    5        54\n",
      "5           62    6        23\n"
     ]
    }
   ],
   "source": [
    "## 输出全部\n",
    "print(df)"
   ]
  },
  {
   "cell_type": "code",
   "execution_count": 5,
   "metadata": {},
   "outputs": [
    {
     "name": "stdout",
     "output_type": "stream",
     "text": [
      "   Bounce_Rate  Day  Visitors\n",
      "0           65    1        43\n",
      "1           70    2        53\n",
      "2           34    3        45\n",
      "3           56    4        54\n",
      "4           54    5        54\n",
      "   Bounce_Rate  Day  Visitors\n",
      "0           65    1        43\n",
      "1           70    2        53\n"
     ]
    }
   ],
   "source": [
    "## 输出头几条\n",
    "print(df.head()) # 默认是 5 条\n",
    "print(df.head(2))"
   ]
  },
  {
   "cell_type": "code",
   "execution_count": 6,
   "metadata": {},
   "outputs": [
    {
     "name": "stdout",
     "output_type": "stream",
     "text": [
      "   Bounce_Rate  Day  Visitors\n",
      "1           70    2        53\n",
      "2           34    3        45\n",
      "3           56    4        54\n",
      "4           54    5        54\n",
      "5           62    6        23\n",
      "   Bounce_Rate  Day  Visitors\n",
      "4           54    5        54\n",
      "5           62    6        23\n"
     ]
    }
   ],
   "source": [
    "## 输出后几条数据\n",
    "print(df.tail()) # 默认是 5 条\n",
    "print(df.tail(2))"
   ]
  },
  {
   "cell_type": "code",
   "execution_count": 11,
   "metadata": {},
   "outputs": [
    {
     "name": "stdout",
     "output_type": "stream",
     "text": [
      "     Bounce_Rate  Visitors\n",
      "Day                       \n",
      "1             65        43\n",
      "2             70        53\n",
      "3             34        45\n",
      "4             56        54\n",
      "5             54        54\n",
      "6             62        23\n",
      "          Bounce_Rate\n",
      "Visitors             \n",
      "43                 65\n",
      "53                 70\n",
      "45                 34\n",
      "54                 56\n",
      "54                 54\n",
      "23                 62\n"
     ]
    }
   ],
   "source": [
    "## 改变 index , 而不是使用默认的 index\n",
    "# set_index 默认是返回一个新的 DataFrame 的，\n",
    "# 如果在原有对象上替换，加上 replace=True 参数。\n",
    "df2 = df.set_index('Day') \n",
    "print(df2)\n",
    "# 添加 inplace=Ture 参数\n",
    "df2.set_index('Visitors', inplace=True)\n",
    "print(df2)"
   ]
  },
  {
   "cell_type": "code",
   "execution_count": 15,
   "metadata": {},
   "outputs": [
    {
     "name": "stdout",
     "output_type": "stream",
     "text": [
      "0    1\n",
      "1    2\n",
      "2    3\n",
      "3    4\n",
      "4    5\n",
      "5    6\n",
      "Name: Day, dtype: int64\n",
      "0    43\n",
      "1    53\n",
      "2    45\n",
      "3    54\n",
      "4    54\n",
      "5    23\n",
      "Name: Visitors, dtype: int64\n",
      "   Day  Visitors\n",
      "0    1        43\n",
      "1    2        53\n",
      "2    3        45\n",
      "3    4        54\n",
      "4    5        54\n",
      "5    6        23\n"
     ]
    }
   ],
   "source": [
    "## 访问 df 的一列及多列\n",
    "\n",
    "# reference a column\n",
    "print(df['Day'])\n",
    "print(df.Visitors)\n",
    "\n",
    "# reference multiple columns\n",
    "print(df[['Day', 'Visitors']])\n"
   ]
  },
  {
   "cell_type": "code",
   "execution_count": 18,
   "metadata": {},
   "outputs": [
    {
     "name": "stdout",
     "output_type": "stream",
     "text": [
      "[43, 53, 45, 54, 54, 23]\n",
      "[[ 1 43]\n",
      " [ 2 53]\n",
      " [ 3 45]\n",
      " [ 4 54]\n",
      " [ 5 54]\n",
      " [ 6 23]]\n"
     ]
    }
   ],
   "source": [
    "## df 数据转换\n",
    "# tolist\n",
    "print(df.Visitors.tolist())\n",
    "# print(df[['Day', 'Visitors'].tolist()]) 多列 tolist 是不行的。\n",
    "# 可以使用 numpy 来直接转换成数组。、\n",
    "\n",
    "import numpy as np\n",
    "print(np.array(df[['Day', 'Visitors']]))"
   ]
  },
  {
   "cell_type": "code",
   "execution_count": 20,
   "metadata": {},
   "outputs": [
    {
     "data": {
      "image/png": "[encoded data removed]",
      "text/plain": [
       "<matplotlib.figure.Figure at 0x10790ecf8>"
      ]
     },
     "metadata": {},
     "output_type": "display_data"
    },
    {
     "data": {
      "image/png": "[encoded data removed]",
      "text/plain": [
       "<matplotlib.figure.Figure at 0x1079aabe0>"
      ]
     },
     "metadata": {},
     "output_type": "display_data"
    }
   ],
   "source": [
    "## 简单的绘制图形\n",
    "import matplotlib.pyplot as plt\n",
    "df['Visitors'].plot()\n",
    "plt.show()\n",
    "\n",
    "df2 = df.set_index('Day')\n",
    "df2.plot()\n",
    "plt.show()"
   ]
  }
 ],
 "metadata": {
  "kernelspec": {
   "display_name": "Python 3",
   "language": "python",
   "name": "python3"
  },
  "language_info": {
   "codemirror_mode": {
    "name": "ipython",
    "version": 3
   },
   "file_extension": ".py",
   "mimetype": "text/x-python",
   "name": "python",
   "nbconvert_exporter": "python",
   "pygments_lexer": "ipython3",
   "version": "3.6.5"
  }
 },
 "nbformat": 4,
 "nbformat_minor": 2
}
