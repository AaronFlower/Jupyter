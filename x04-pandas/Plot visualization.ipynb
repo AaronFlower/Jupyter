{
 "cells": [
  {
   "cell_type": "code",
   "execution_count": 6,
   "metadata": {},
   "outputs": [],
   "source": [
    "import matplotlib.pyplot as plt\n",
    "import pandas as pd\n",
    "import numpy as np"
   ]
  },
  {
   "cell_type": "markdown",
   "metadata": {},
   "source": [
    "### Basic Plotting"
   ]
  },
  {
   "cell_type": "code",
   "execution_count": 16,
   "metadata": {},
   "outputs": [
    {
     "data": {
      "text/plain": [
       "2018-01-01   -0.118908\n",
       "2018-01-02   -2.757575\n",
       "2018-01-03    0.790964\n",
       "2018-01-04    1.041504\n",
       "2018-01-05   -0.831472\n",
       "2018-01-06    2.403330\n",
       "2018-01-07    0.952494\n",
       "2018-01-08    1.146605\n",
       "2018-01-09    1.075378\n",
       "2018-01-10   -0.054149\n",
       "2018-01-11   -0.610443\n",
       "2018-01-12    2.025306\n",
       "2018-01-13    0.706071\n",
       "2018-01-14   -0.579219\n",
       "2018-01-15    0.310825\n",
       "2018-01-16   -0.120905\n",
       "2018-01-17    0.701537\n",
       "2018-01-18   -2.447084\n",
       "2018-01-19    0.037176\n",
       "2018-01-20   -0.409125\n",
       "2018-01-21    0.148225\n",
       "2018-01-22   -1.154811\n",
       "2018-01-23    0.854469\n",
       "2018-01-24    1.181916\n",
       "2018-01-25    0.921080\n",
       "2018-01-26    0.858772\n",
       "2018-01-27    0.356724\n",
       "2018-01-28   -0.328912\n",
       "2018-01-29    0.938504\n",
       "2018-01-30   -0.368711\n",
       "                ...   \n",
       "2020-08-28   -1.093098\n",
       "2020-08-29   -1.471845\n",
       "2020-08-30   -0.594179\n",
       "2020-08-31   -0.770667\n",
       "2020-09-01    1.066877\n",
       "2020-09-02    0.822600\n",
       "2020-09-03   -0.692203\n",
       "2020-09-04    0.767239\n",
       "2020-09-05   -0.837932\n",
       "2020-09-06   -1.049541\n",
       "2020-09-07    0.726591\n",
       "2020-09-08    0.738102\n",
       "2020-09-09   -0.422647\n",
       "2020-09-10   -1.128926\n",
       "2020-09-11   -2.067868\n",
       "2020-09-12   -0.263057\n",
       "2020-09-13   -0.254071\n",
       "2020-09-14   -0.161884\n",
       "2020-09-15   -0.372673\n",
       "2020-09-16    0.709442\n",
       "2020-09-17    0.333211\n",
       "2020-09-18   -0.771514\n",
       "2020-09-19    0.591274\n",
       "2020-09-20   -0.530031\n",
       "2020-09-21    0.624834\n",
       "2020-09-22   -1.249721\n",
       "2020-09-23   -0.935464\n",
       "2020-09-24   -0.722583\n",
       "2020-09-25    0.835944\n",
       "2020-09-26    1.456697\n",
       "Freq: D, Length: 1000, dtype: float64"
      ]
     },
     "execution_count": 16,
     "metadata": {},
     "output_type": "execute_result"
    }
   ],
   "source": [
    "ts = pd.Series(np.random.randn(1000), index = pd.date_range('1/1/2018', periods = 1000))\n",
    "ts"
   ]
  },
  {
   "cell_type": "code",
   "execution_count": 10,
   "metadata": {
    "scrolled": false
   },
   "outputs": [
    {
     "data": {
      "text/plain": [
       "2018-01-01   -9.290720e-01\n",
       "2018-01-02   -2.125831e+00\n",
       "2018-01-03   -2.356422e+00\n",
       "2018-01-04    7.990885e-01\n",
       "2018-01-05    6.656350e+00\n",
       "2018-01-06    1.526171e+01\n",
       "2018-01-07    2.852711e+01\n",
       "2018-01-08    4.646655e+01\n",
       "2018-01-09    6.831307e+01\n",
       "2018-01-10    9.343618e+01\n",
       "2018-01-11    1.217650e+02\n",
       "2018-01-12    1.533712e+02\n",
       "2018-01-13    1.897345e+02\n",
       "2018-01-14    2.317051e+02\n",
       "2018-01-15    2.787970e+02\n",
       "2018-01-16    3.309539e+02\n",
       "2018-01-17    3.893274e+02\n",
       "2018-01-18    4.532844e+02\n",
       "2018-01-19    5.231264e+02\n",
       "2018-01-20    5.981444e+02\n",
       "2018-01-21    6.793976e+02\n",
       "2018-01-22    7.661977e+02\n",
       "2018-01-23    8.591376e+02\n",
       "2018-01-24    9.580151e+02\n",
       "2018-01-25    1.062191e+03\n",
       "2018-01-26    1.171261e+03\n",
       "2018-01-27    1.284348e+03\n",
       "2018-01-28    1.401966e+03\n",
       "2018-01-29    1.523817e+03\n",
       "2018-01-30    1.651817e+03\n",
       "                  ...     \n",
       "2020-08-28    3.575054e+06\n",
       "2020-08-29    3.578607e+06\n",
       "2020-08-30    3.582168e+06\n",
       "2020-08-31    3.585738e+06\n",
       "2020-09-01    3.589318e+06\n",
       "2020-09-02    3.592907e+06\n",
       "2020-09-03    3.596503e+06\n",
       "2020-09-04    3.600108e+06\n",
       "2020-09-05    3.603722e+06\n",
       "2020-09-06    3.607345e+06\n",
       "2020-09-07    3.610979e+06\n",
       "2020-09-08    3.614625e+06\n",
       "2020-09-09    3.618282e+06\n",
       "2020-09-10    3.621951e+06\n",
       "2020-09-11    3.625631e+06\n",
       "2020-09-12    3.629323e+06\n",
       "2020-09-13    3.633027e+06\n",
       "2020-09-14    3.636744e+06\n",
       "2020-09-15    3.640472e+06\n",
       "2020-09-16    3.644214e+06\n",
       "2020-09-17    3.647969e+06\n",
       "2020-09-18    3.651738e+06\n",
       "2020-09-19    3.655520e+06\n",
       "2020-09-20    3.659314e+06\n",
       "2020-09-21    3.663123e+06\n",
       "2020-09-22    3.666948e+06\n",
       "2020-09-23    3.670788e+06\n",
       "2020-09-24    3.674643e+06\n",
       "2020-09-25    3.678513e+06\n",
       "2020-09-26    3.682398e+06\n",
       "Freq: D, Length: 1000, dtype: float64"
      ]
     },
     "execution_count": 10,
     "metadata": {},
     "output_type": "execute_result"
    }
   ],
   "source": [
    "ts = ts.cumsum()\n",
    "ts"
   ]
  },
  {
   "cell_type": "code",
   "execution_count": 9,
   "metadata": {},
   "outputs": [
    {
     "data": {
      "text/plain": [
       "<matplotlib.axes._subplots.AxesSubplot at 0x1156dd668>"
      ]
     },
     "execution_count": 9,
     "metadata": {},
     "output_type": "execute_result"
    },
    {
     "data": {
      "image/png": "[encoded data removed]",
      "text/plain": [
       "<Figure size 432x288 with 1 Axes>"
      ]
     },
     "metadata": {},
     "output_type": "display_data"
    }
   ],
   "source": [
    "ts.plot()"
   ]
  },
  {
   "cell_type": "markdown",
   "metadata": {},
   "source": [
    "在 DataFrame 上，可以根据列表的名称绘制 labels."
   ]
  },
  {
   "cell_type": "code",
   "execution_count": 12,
   "metadata": {},
   "outputs": [
    {
     "data": {
      "text/html": [
       "<div>\n",
       "<style scoped>\n",
       "    .dataframe tbody tr th:only-of-type {\n",
       "        vertical-align: middle;\n",
       "    }\n",
       "\n",
       "    .dataframe tbody tr th {\n",
       "        vertical-align: top;\n",
       "    }\n",
       "\n",
       "    .dataframe thead th {\n",
       "        text-align: right;\n",
       "    }\n",
       "</style>\n",
       "<table border=\"1\" class=\"dataframe\">\n",
       "  <thead>\n",
       "    <tr style=\"text-align: right;\">\n",
       "      <th></th>\n",
       "      <th>A</th>\n",
       "      <th>B</th>\n",
       "      <th>C</th>\n",
       "      <th>D</th>\n",
       "    </tr>\n",
       "  </thead>\n",
       "  <tbody>\n",
       "    <tr>\n",
       "      <th>2018-01-01</th>\n",
       "      <td>-0.183138</td>\n",
       "      <td>-0.084420</td>\n",
       "      <td>-0.781163</td>\n",
       "      <td>0.296127</td>\n",
       "    </tr>\n",
       "    <tr>\n",
       "      <th>2018-01-02</th>\n",
       "      <td>-0.725383</td>\n",
       "      <td>0.188264</td>\n",
       "      <td>-1.496985</td>\n",
       "      <td>2.673951</td>\n",
       "    </tr>\n",
       "    <tr>\n",
       "      <th>2018-01-03</th>\n",
       "      <td>0.449914</td>\n",
       "      <td>-0.106437</td>\n",
       "      <td>-0.741535</td>\n",
       "      <td>-0.711641</td>\n",
       "    </tr>\n",
       "    <tr>\n",
       "      <th>2018-01-04</th>\n",
       "      <td>1.789242</td>\n",
       "      <td>2.102535</td>\n",
       "      <td>-0.278842</td>\n",
       "      <td>0.087048</td>\n",
       "    </tr>\n",
       "    <tr>\n",
       "      <th>2018-01-05</th>\n",
       "      <td>-0.794177</td>\n",
       "      <td>1.197348</td>\n",
       "      <td>0.602882</td>\n",
       "      <td>2.068257</td>\n",
       "    </tr>\n",
       "  </tbody>\n",
       "</table>\n",
       "</div>"
      ],
      "text/plain": [
       "                   A         B         C         D\n",
       "2018-01-01 -0.183138 -0.084420 -0.781163  0.296127\n",
       "2018-01-02 -0.725383  0.188264 -1.496985  2.673951\n",
       "2018-01-03  0.449914 -0.106437 -0.741535 -0.711641\n",
       "2018-01-04  1.789242  2.102535 -0.278842  0.087048\n",
       "2018-01-05 -0.794177  1.197348  0.602882  2.068257"
      ]
     },
     "execution_count": 12,
     "metadata": {},
     "output_type": "execute_result"
    }
   ],
   "source": [
    "df = pd.DataFrame(np.random.randn(1000, 4), index = ts.index, columns=list('ABCD'))\n",
    "df.head()"
   ]
  },
  {
   "cell_type": "code",
   "execution_count": 14,
   "metadata": {},
   "outputs": [
    {
     "data": {
      "text/plain": [
       "<matplotlib.axes._subplots.AxesSubplot at 0x115891518>"
      ]
     },
     "execution_count": 14,
     "metadata": {},
     "output_type": "execute_result"
    },
    {
     "data": {
      "text/plain": [
       "<Figure size 432x288 with 0 Axes>"
      ]
     },
     "metadata": {},
     "output_type": "display_data"
    },
    {
     "data": {
      "image/png": "[encoded data removed]",
      "text/plain": [
       "<Figure size 432x288 with 1 Axes>"
      ]
     },
     "metadata": {},
     "output_type": "display_data"
    }
   ],
   "source": [
    "df = df.cumsum()\n",
    "plt.figure()\n",
    "df.plot()"
   ]
  },
  {
   "cell_type": "markdown",
   "metadata": {},
   "source": [
    "也可以只对其中一列进行绘制，然后用 plot 中的 x, y 参数来指定体绘制。"
   ]
  },
  {
   "cell_type": "code",
   "execution_count": 21,
   "metadata": {},
   "outputs": [
    {
     "data": {
      "text/html": [
       "<div>\n",
       "<style scoped>\n",
       "    .dataframe tbody tr th:only-of-type {\n",
       "        vertical-align: middle;\n",
       "    }\n",
       "\n",
       "    .dataframe tbody tr th {\n",
       "        vertical-align: top;\n",
       "    }\n",
       "\n",
       "    .dataframe thead th {\n",
       "        text-align: right;\n",
       "    }\n",
       "</style>\n",
       "<table border=\"1\" class=\"dataframe\">\n",
       "  <thead>\n",
       "    <tr style=\"text-align: right;\">\n",
       "      <th></th>\n",
       "      <th>B</th>\n",
       "      <th>C</th>\n",
       "    </tr>\n",
       "  </thead>\n",
       "  <tbody>\n",
       "    <tr>\n",
       "      <th>0</th>\n",
       "      <td>-0.469966</td>\n",
       "      <td>-0.634506</td>\n",
       "    </tr>\n",
       "    <tr>\n",
       "      <th>1</th>\n",
       "      <td>0.946456</td>\n",
       "      <td>-0.593305</td>\n",
       "    </tr>\n",
       "    <tr>\n",
       "      <th>2</th>\n",
       "      <td>1.716829</td>\n",
       "      <td>0.204498</td>\n",
       "    </tr>\n",
       "    <tr>\n",
       "      <th>3</th>\n",
       "      <td>0.198201</td>\n",
       "      <td>0.021152</td>\n",
       "    </tr>\n",
       "    <tr>\n",
       "      <th>4</th>\n",
       "      <td>-0.359139</td>\n",
       "      <td>-0.956076</td>\n",
       "    </tr>\n",
       "  </tbody>\n",
       "</table>\n",
       "</div>"
      ],
      "text/plain": [
       "          B         C\n",
       "0 -0.469966 -0.634506\n",
       "1  0.946456 -0.593305\n",
       "2  1.716829  0.204498\n",
       "3  0.198201  0.021152\n",
       "4 -0.359139 -0.956076"
      ]
     },
     "execution_count": 21,
     "metadata": {},
     "output_type": "execute_result"
    }
   ],
   "source": [
    "df3 = pd.DataFrame(np.random.randn(1000, 2), columns=['B', 'C'])\n",
    "df3.head()"
   ]
  },
  {
   "cell_type": "code",
   "execution_count": 22,
   "metadata": {},
   "outputs": [
    {
     "data": {
      "text/html": [
       "<div>\n",
       "<style scoped>\n",
       "    .dataframe tbody tr th:only-of-type {\n",
       "        vertical-align: middle;\n",
       "    }\n",
       "\n",
       "    .dataframe tbody tr th {\n",
       "        vertical-align: top;\n",
       "    }\n",
       "\n",
       "    .dataframe thead th {\n",
       "        text-align: right;\n",
       "    }\n",
       "</style>\n",
       "<table border=\"1\" class=\"dataframe\">\n",
       "  <thead>\n",
       "    <tr style=\"text-align: right;\">\n",
       "      <th></th>\n",
       "      <th>B</th>\n",
       "      <th>C</th>\n",
       "    </tr>\n",
       "  </thead>\n",
       "  <tbody>\n",
       "    <tr>\n",
       "      <th>0</th>\n",
       "      <td>-0.469966</td>\n",
       "      <td>-0.634506</td>\n",
       "    </tr>\n",
       "    <tr>\n",
       "      <th>1</th>\n",
       "      <td>0.476490</td>\n",
       "      <td>-1.227810</td>\n",
       "    </tr>\n",
       "    <tr>\n",
       "      <th>2</th>\n",
       "      <td>2.193319</td>\n",
       "      <td>-1.023312</td>\n",
       "    </tr>\n",
       "    <tr>\n",
       "      <th>3</th>\n",
       "      <td>2.391520</td>\n",
       "      <td>-1.002161</td>\n",
       "    </tr>\n",
       "    <tr>\n",
       "      <th>4</th>\n",
       "      <td>2.032380</td>\n",
       "      <td>-1.958237</td>\n",
       "    </tr>\n",
       "  </tbody>\n",
       "</table>\n",
       "</div>"
      ],
      "text/plain": [
       "          B         C\n",
       "0 -0.469966 -0.634506\n",
       "1  0.476490 -1.227810\n",
       "2  2.193319 -1.023312\n",
       "3  2.391520 -1.002161\n",
       "4  2.032380 -1.958237"
      ]
     },
     "execution_count": 22,
     "metadata": {},
     "output_type": "execute_result"
    }
   ],
   "source": [
    "df3 = df3.cumsum()\n",
    "df3.head()"
   ]
  },
  {
   "cell_type": "code",
   "execution_count": 26,
   "metadata": {},
   "outputs": [
    {
     "data": {
      "text/html": [
       "<div>\n",
       "<style scoped>\n",
       "    .dataframe tbody tr th:only-of-type {\n",
       "        vertical-align: middle;\n",
       "    }\n",
       "\n",
       "    .dataframe tbody tr th {\n",
       "        vertical-align: top;\n",
       "    }\n",
       "\n",
       "    .dataframe thead th {\n",
       "        text-align: right;\n",
       "    }\n",
       "</style>\n",
       "<table border=\"1\" class=\"dataframe\">\n",
       "  <thead>\n",
       "    <tr style=\"text-align: right;\">\n",
       "      <th></th>\n",
       "      <th>B</th>\n",
       "      <th>C</th>\n",
       "      <th>A</th>\n",
       "    </tr>\n",
       "  </thead>\n",
       "  <tbody>\n",
       "    <tr>\n",
       "      <th>0</th>\n",
       "      <td>-0.469966</td>\n",
       "      <td>-0.634506</td>\n",
       "      <td>0</td>\n",
       "    </tr>\n",
       "    <tr>\n",
       "      <th>1</th>\n",
       "      <td>0.476490</td>\n",
       "      <td>-1.227810</td>\n",
       "      <td>1</td>\n",
       "    </tr>\n",
       "    <tr>\n",
       "      <th>2</th>\n",
       "      <td>2.193319</td>\n",
       "      <td>-1.023312</td>\n",
       "      <td>2</td>\n",
       "    </tr>\n",
       "    <tr>\n",
       "      <th>3</th>\n",
       "      <td>2.391520</td>\n",
       "      <td>-1.002161</td>\n",
       "      <td>3</td>\n",
       "    </tr>\n",
       "    <tr>\n",
       "      <th>4</th>\n",
       "      <td>2.032380</td>\n",
       "      <td>-1.958237</td>\n",
       "      <td>4</td>\n",
       "    </tr>\n",
       "  </tbody>\n",
       "</table>\n",
       "</div>"
      ],
      "text/plain": [
       "          B         C  A\n",
       "0 -0.469966 -0.634506  0\n",
       "1  0.476490 -1.227810  1\n",
       "2  2.193319 -1.023312  2\n",
       "3  2.391520 -1.002161  3\n",
       "4  2.032380 -1.958237  4"
      ]
     },
     "execution_count": 26,
     "metadata": {},
     "output_type": "execute_result"
    }
   ],
   "source": [
    "# 根据长度生成 Series\n",
    "df3['A'] = pd.Series(list(range(len(df3))))\n",
    "df3.head()"
   ]
  },
  {
   "cell_type": "code",
   "execution_count": 27,
   "metadata": {},
   "outputs": [
    {
     "data": {
      "text/plain": [
       "<matplotlib.axes._subplots.AxesSubplot at 0x115edeac8>"
      ]
     },
     "execution_count": 27,
     "metadata": {},
     "output_type": "execute_result"
    },
    {
     "data": {
      "image/png": "[encoded data removed]",
      "text/plain": [
       "<Figure size 432x288 with 1 Axes>"
      ]
     },
     "metadata": {},
     "output_type": "display_data"
    }
   ],
   "source": [
    "df3.plot(x='A', y='B')"
   ]
  }
 ],
 "metadata": {
  "kernelspec": {
   "display_name": "Python 3",
   "language": "python",
   "name": "python3"
  },
  "language_info": {
   "codemirror_mode": {
    "name": "ipython",
    "version": 3
   },
   "file_extension": ".py",
   "mimetype": "text/x-python",
   "name": "python",
   "nbconvert_exporter": "python",
   "pygments_lexer": "ipython3",
   "version": "3.6.5"
  }
 },
 "nbformat": 4,
 "nbformat_minor": 2
}
