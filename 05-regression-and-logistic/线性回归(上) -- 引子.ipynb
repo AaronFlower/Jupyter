{
 "cells": [
  {
   "cell_type": "markdown",
   "metadata": {
    "deletable": true,
    "editable": true
   },
   "source": [
    "线性回归很简单呀！从这个词中可以看到两点，线性与回归。我们先从最简单的线性说起。\n",
    "\n",
    "说起线，最简单的当然还是直线了。给出任意两点可以画出一条直线（当然我说的是[欧氏几何](https://en.wikipedia.org/wiki/Euclidean_geometry)）。"
   ]
  },
  {
   "cell_type": "code",
   "execution_count": 127,
   "metadata": {
    "collapsed": false,
    "deletable": true,
    "editable": true
   },
   "outputs": [
    {
     "data": {
      "image/png": "[encoded data removed]",
      "text/plain": [
       "<matplotlib.figure.Figure at 0x106c379b0>"
      ]
     },
     "metadata": {},
     "output_type": "display_data"
    }
   ],
   "source": [
    "#encoding: utf-8\n",
    "import matplotlib.pyplot as plt\n",
    "''' 给出两点画一条直线 '''\n",
    "\n",
    "x1 = [1, 2]\n",
    "x2 = [2, 3]\n",
    "axes = plt.gca() # get current axes\n",
    "axes.set_xlim([0, 4]) # 设置 x, y 坐标的范围\n",
    "axes.set_ylim([0, 4])\n",
    "plt.scatter(x1, x2)\n",
    "plt.plot(x1, x2, 'r')\n",
    "plt.show()"
   ]
  },
  {
   "cell_type": "markdown",
   "metadata": {
    "deletable": true,
    "editable": true
   },
   "source": [
    "那问一个简单的问题，给你三个点不共线，你还能画出过这三个点的一条直线吗？答案是否定的，因为已经说了是不共线的三点？但是如果非要画一条直线怎么办？给出一个[托马斯](https://baike.baidu.com/item/%E6%89%98%E9%A9%AC%E6%96%AF%E5%92%8C%E4%BB%96%E7%9A%84%E6%9C%8B%E5%8F%8B%E4%BB%AC/752251?fr=aladdin)的问题，假设要在美丽的[多多岛](https://baike.baidu.com/item/%E5%A4%9A%E5%A4%9A%E5%B2%9B/22098341)上的三个城市修条铁路，这三个站不共线，但是小火车又只能开直线，那么这条笔直的铁路要怎么修那？\n",
    "\n",
    "最优的方案是修一条铁路离三个站点都是最近的，即铁路离三个站点的距离是最近的。我们怎么找到出条直线那？"
   ]
  },
  {
   "cell_type": "code",
   "execution_count": 128,
   "metadata": {
    "collapsed": false,
    "deletable": true,
    "editable": true
   },
   "outputs": [
    {
     "data": {
      "image/png": "[encoded data removed]",
      "text/plain": [
       "<matplotlib.figure.Figure at 0x107183a58>"
      ]
     },
     "metadata": {},
     "output_type": "display_data"
    }
   ],
   "source": [
    "x1 = [1, 1.7, 2]\n",
    "x2 = [1, 2, 1.6]\n",
    "\n",
    "axes = plt.gca()\n",
    "axes.set_xlim([0, 4])\n",
    "axes.set_ylim([0, 4])\n",
    "t = ['A', 'B', 'C']\n",
    "plt.scatter(x1, x2, c=['r', 'b', 'g', 'k'])\n",
    "for i in range(3):\n",
    "    plt.annotate(t[i], (x1[i], x2[i] + 0.1))\n",
    "plt.xlabel('The Island of Sodor')\n",
    "plt.show()"
   ]
  },
  {
   "cell_type": "markdown",
   "metadata": {
    "deletable": true,
    "editable": true
   },
   "source": [
    "下面我们尝试用线性代数中的投影矩阵知识解决这个问题。怎么用这三个点形成的向量表示一条直线，使得这条直线离这三个点最近。下面引用线性代数的投影问题。\n",
    "\n",
    "### 投影问题\n",
    "<img src=\"./vector projection.jpg\" width=\"200px\">"
   ]
  },
  {
   "cell_type": "markdown",
   "metadata": {
    "deletable": true,
    "editable": true
   },
   "source": [
    "二维向量空间中，$\\vec{a}, \\vec{b}$ 是线性不相关的，很显然两个向量之间是无法相互表示的。如果非要用 $\\vec{a}$ 来表示 $\\vec{b}$ ，我们应该怎么表示那？假设我们找出向量 $\\vec{p}$ 表示 $\\vec{b}$，这种表示肯定是有误差的。这个误差怎么计算，可以算两个向量的 [cosine 值](https://en.wikipedia.org/wiki/Cosine_similarity)表示两个向量的差异。假设误差向量为 $\\vec{e}$，那么当 $\\vec{b}$ 与 $\\vec{b}$垂直正交时的误差（距离）最小喽。所以看出投影问题也是解决怎么找到最小距离的问题。\n",
    "\n",
    "下面就投影问题例下公式， 投影 $\\vec{p} = \\hat{x}\\vec{a}$， 误差 $\\vec{e} = \\vec{b} - \\vec{p} = \\vec{b} - \\hat{x}\\vec{a}$。$\\vec{e}$ 与 $\\vec{a}$ 正交，所以有 $\\vec{a}^T \\cdot \\vec{e} = 0$：\n",
    "\n",
    "\\begin{align}\n",
    "        \\vec{a} ^ T \\cdot \\vec{e} = 0 \\\\\n",
    "        \\vec{a} ^ T \\cdot (\\vec{b} - \\hat{x}\\vec{a}) = 0 \\\\\n",
    "        \\vec{a} ^ T \\vec{b} = \\hat{x} \\vec{a} ^ T \\vec{a} \\\\\n",
    "        \\hat{x} = \\frac{\\vec{a} ^ T \\vec{b}} {\\vec{a} ^ T \\vec{a}}\n",
    "\\end{align}\n",
    "\n",
    "所以，\n",
    "\n",
    "\\begin{align}\n",
    "\\vec{Proj}_b &= \\hat{x} \\cdot \\vec{a} \n",
    "\\\\ &= \\vec{a} \\cdot \\hat{x} \n",
    "\\\\ &= \\vec{a} \\cdot \\frac{\\vec{a} ^ T \\vec{b}} {\\vec{a} ^ T \\vec{a}}  \n",
    "\\\\ &= \\frac{\\vec{a} \\vec{a} ^ T} {\\vec{a}^ T \\vec{a}} \\cdot \\vec{b}\n",
    "\\end{align}\n",
    "\n",
    "其中 $ P = \\frac{\\vec{a} \\cdot \\vec{a} ^ T} {\\vec{a}^ T  \\cdot \\vec{a}} $ 为投影矩阵。 $\\hat{x}$, x hat 一般表示是一个估计值。\n",
    "\n",
    "对于多多岛三个站点的问题，我们也想找到一个投影直线，使得这个投影直线离三个站点的距离都是最短的，怎么找那？假设三个站点对应的向量分别为 $\\vec{a}^T = (1, 2)$, $\\vec{b}^T = (2, 1.7)$, $\\vec{c}^T = (3.5, 3)$。\n"
   ]
  },
  {
   "cell_type": "markdown",
   "metadata": {
    "deletable": true,
    "editable": true
   },
   "source": [
    "对于一维空间一个向量求其投影问题按上式很简单，如果给一组向量怎么求其投影那? 假设一组向量组成的矩阵为 $X$ 想要表示 $\\vec{y}$，怎么求出这表示？即求出  $X\\vec{\\theta} = \\vec{y} $, 其中 $\\vec{\\theta} = (\\theta_0, \\theta_1, ...)^T$。 那么这个问题到回到线性代数最基础知识点了，即 $X\\vec{\\theta} = \\vec{y} $ 有解吗？ 如果有解可以毫无误差的直接表示 $\\vec{y}$ 了，在二维上就是可以直接画出这条直线出来。如果无解那？那就是并能直接有 $X$ 的[列子空间](https://en.wikipedia.org/wiki/Row_and_column_spaces)来表示 $\\vec{y}$ 了， 在二维上就是画不出直线了。 如果不能直接表示那么我们可以找一个近似的表示吧，使得表示的误差最小。\n",
    "\n",
    "假设用 $X\\vec{\\hat{\\theta}}$ 表示 $\\vec{y}$, 误差向量为 $X\\vec{\\hat{\\theta}} - \\vec{y}$。当误差向量与 $X$ 的列子空间正交（当然也与 $X$ 正交）时误差最小，所以有 $X^T(X\\vec{\\hat{\\theta}} - \\vec{y}) = \\vec{0} $， 下面我就来求出 $\\vec{\\hat{\\theta}}$ .\n",
    "\n",
    "**注：** $\\vec{a}$ 与 $\\vec{b}$ 正交，则 $\\vec{a}^T \\vec{b} = \\vec{b}^T \\vec{a} = \\vec{0}$\n",
    "\n",
    "$$\n",
    "\\begin{align}\n",
    "    X^T(X\\vec{\\hat{\\theta}} - \\vec{y}) &= \\vec{0} \\\\\n",
    "    X^TX\\vec{\\hat{\\theta}} &= X^T\\vec{y} \\\\\n",
    "    \\hat{\\vec{\\theta}} &= (X^TX)^{-1}X^T\\vec{y}\n",
    "\\end{align}\n",
    "$$\n",
    "\n",
    "$\\hat{\\vec{\\theta}}$ 即是我们的误差表示的最优解。些时投影为 $Proj  = X \\cdot \\hat{\\vec{\\theta}} = X \\cdot (X^T X)^{-1} X ^ T \\vec{y}$,  而  $ P = X \\cdot (X^T X)^{-1} X ^ T$ 为投影矩阵。"
   ]
  },
  {
   "cell_type": "markdown",
   "metadata": {
    "deletable": true,
    "editable": true
   },
   "source": [
    "## 多多岛的解决方案\n",
    "\n",
    "下面用线性代数的最优解来解决多多岛的问题。针对这个最优问题也可能有多种方案。如规定这条直线要在 A, B 的下边，C 的上边，那可能画出的就是 Line 1, 如果规定直线要在 B 的下面，A, C 的上面，那可能画出的就是 Line 2，在如全部三点的上面下面也是可能的。"
   ]
  },
  {
   "cell_type": "code",
   "execution_count": 129,
   "metadata": {
    "collapsed": false,
    "deletable": true,
    "editable": true
   },
   "outputs": [
    {
     "data": {
      "image/png": "[encoded data removed]",
      "text/plain": [
       "<matplotlib.figure.Figure at 0x1061dfa20>"
      ]
     },
     "metadata": {},
     "output_type": "display_data"
    }
   ],
   "source": [
    "x1 = [1, 1.7, 2]\n",
    "x2 = [1, 2, 1.6]\n",
    "\n",
    "axes = plt.gca()\n",
    "axes.set_xlim([0, 4])\n",
    "axes.set_ylim([0, 4])\n",
    "plt.plot([0.8, 2.4], [0.6, 2.2], c='r', label='Line 1')\n",
    "plt.plot([0.8, 2.4], [1, 2.4], c='b', label='Line 2')\n",
    "t = ['A', 'B', 'C']\n",
    "plt.scatter(x1, x2, c=['r', 'b', 'g', 'k'])\n",
    "for i in range(3):\n",
    "    plt.annotate(t[i], (x1[i], x2[i] + 0.1))\n",
    "plt.legend()\n",
    "plt.scatter(x1, x2)\n",
    "plt.show()"
   ]
  },
  {
   "cell_type": "markdown",
   "metadata": {
    "deletable": true,
    "editable": true
   },
   "source": [
    "我们来分个类，在线上边的标记为 1，在线下边的标记为 -1。 现在解决 A, B 在线的上边、 C 在线下面的最佳直线的问题。那么这三个点的分类是 [1; 1; -1]。\n",
    "\n",
    "我们假设这条直线为： $h(x) = \\theta_0 x_0 + \\theta_1 x_1 + \\theta_2 x_2  = \\vec{\\theta^T} \\vec{x}$, 其中 $x_0 = 1$。 （我们平面中见的最多的直线表示还是 $ax + by + c = 0$）.\n",
    "\n",
    "根据上面线性代数的推导，我们可以求出最优解 $ \\hat{\\vec{\\theta}} = (X^TX)^{-1}X^T\\vec{y} $. 其中 X 就是$(x_0, x_1, x_2)$ 组成的矩阵，y = [1; 1; -1] 是三个分类的标识(label).\n",
    "\n",
    "$$\n",
    "X = \\begin{bmatrix} 1 & 1 & 1\\\\ 1 & 1.7 & 2\\\\ 1 & 2 & 1.6 \\end{bmatrix} \n",
    "y = \\begin{bmatrix} 1 \\\\ 1 \\\\ -1  \\end{bmatrix} \n",
    "$$\n",
    "\n",
    "用 Matlab 解决这个问题, 在 Matlab 中输入下面指令算出 $\\theta$\n",
    "\n",
    "```\n",
    "X = [1 1 1; 1 1.7 2; 1 2 1.6]\n",
    "y = [1;1;-1]\n",
    "thetas = inv(X.'*X)*X.'*y\n",
    "```\n",
    "\n",
    "最后得出： \n",
    "\n",
    "$$\n",
    "y = \\begin{bmatrix} 2.0345 \\\\ -3.4483 \\\\ 2.4138  \\end{bmatrix} \n",
    "$$\n",
    "\n",
    "所以我们的直线就是： $ -3.4483 x_1 + 2.4138 x_2 + 2.0345 = 0 $.  下面我们用 python 我解决这个问题，并且用 matplotlib 画出这条直线。顺便说一下求 $\\theta$ 的方法是[最小二乘法(Least Squares Method,简记为LSE)](https://baike.baidu.com/item/%E6%9C%80%E5%B0%8F%E4%BA%8C%E4%B9%98%E6%B3%95/2522346?fr=aladdin), 而 $\\theta$ 称为系数(weights)."
   ]
  },
  {
   "cell_type": "code",
   "execution_count": 138,
   "metadata": {
    "collapsed": false,
    "deletable": true,
    "editable": true
   },
   "outputs": [
    {
     "data": {
      "image/png": "[encoded data removed]",
      "text/plain": [
       "<matplotlib.figure.Figure at 0x1072e7710>"
      ]
     },
     "metadata": {},
     "output_type": "display_data"
    }
   ],
   "source": [
    "import numpy as np\n",
    "\n",
    "def get_LSE_weights(yLabels):\n",
    "    ''' 最小二乘法 '''\n",
    "    y = np.mat(yLabels).T\n",
    "    X = np.mat([[1, 1, 1], [1, 1.7, 2], [1, 2, 1.6]])\n",
    "    return (X.T * X).I * X.T * y\n",
    "\n",
    "\n",
    "\n",
    "def plotLine(ax, weights):\n",
    "    x_1 = np.arange(0, 3.5, 0.1)\n",
    "    x_2 = (-weights[0] - weights[1] * x_1) / weights[2] # x2 = (-w0 - w1*x1)/w2\n",
    "    ax.plot(x_1, np.squeeze(np.asarray(x_2))) \n",
    "\n",
    "\n",
    "def plotIsland(ax, y):\n",
    "    t = ['A', 'B', 'C']\n",
    "    ax.set_xlim([0, 3])\n",
    "    ax.set_ylim([0, 3])\n",
    "    x1 = [1, 1.7, 2]\n",
    "    x2 = [1, 2, 1.6]\n",
    "    \n",
    "    for i in range(3):\n",
    "        m = 'x'\n",
    "        if y[i] == -1: \n",
    "            m = 'o'\n",
    "        ax.scatter(x1[i], x2[i], marker=m)    \n",
    "        ax.annotate(t[i], (x1[i], x2[i] + 0.1))\n",
    "    \n",
    "    \n",
    "fig, (ax1, ax2) = plt.subplots(1, 2)\n",
    "\n",
    "\n",
    "\n",
    "yLabels1 = [1, 1, -1]\n",
    "plotIsland(ax1, yLabels1)\n",
    "yLabels2 = [1, -1, 1]\n",
    "plotIsland(ax2, yLabels2)\n",
    "\n",
    "weights = get_LSE_weights(yLabels1)\n",
    "plotLine(ax1, weights)\n",
    "\n",
    "weights = get_LSE_weights(yLabels2)\n",
    "plotLine(ax2, weights)\n",
    "\n",
    "plt.show()\n"
   ]
  },
  {
   "cell_type": "markdown",
   "metadata": {},
   "source": [
    "到目前为止，多多岛的铁路线总找到了。我们找到这条线的过程就是回归。所以到目前为止我们『线性回归』总算过了初级阶段。回归英文单词 Regression 的释义是 『an abnormal state in which development has stopped prematurely』 即只是一个不能再进化的最优解了。\n",
    "\n",
    "在下一篇，我们将介绍真正的线性回归。从机器学习的 hypothesis, cost function 出发，利用梯度算法来介绍线性回归。\n"
   ]
  }
 ],
 "metadata": {
  "kernelspec": {
   "display_name": "Python 3",
   "language": "python",
   "name": "python3"
  },
  "language_info": {
   "codemirror_mode": {
    "name": "ipython",
    "version": 3
   },
   "file_extension": ".py",
   "mimetype": "text/x-python",
   "name": "python",
   "nbconvert_exporter": "python",
   "pygments_lexer": "ipython3",
   "version": "3.6.0"
  }
 },
 "nbformat": 4,
 "nbformat_minor": 2
}
