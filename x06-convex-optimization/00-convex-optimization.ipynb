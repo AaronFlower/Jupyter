{
 "cells": [
  {
   "cell_type": "markdown",
   "metadata": {},
   "source": [
    "## 凸优化\n",
    "\n",
    "1. 什么是凸优化？\n",
    "    \n",
    "   - Def：定义\n",
    "    \n",
    "   - 准备知识\n",
    "   \n",
    "    a. 什么是优化问题\n",
    "    \n",
    "    b. 什么是仿射\n",
    "    \n",
    "    c. 什么是凸集\n",
    "    \n",
    "    d. 什么是凸函数\n",
    "    \n",
    "    \n",
    "2. 凸优化的两充要条件\n",
    "3. 凸优化举例\n",
    "4. 凸优化问题求解\n",
    "   相关算法：梯度下降，牛顿法，内点法。\n",
    "5. 对偶问题\n",
    "    Jersen 不等式 \n",
    "    $$ f(\\frac{x + y}{2}) \\leq \\frac{f(x) + f(y)}{2} $$\n",
    "    \n",
    "6. 问题求解\n",
    "    凸优化之所以如此重要，是因为凸优化的一个重要特性，即：凸优化的任意局部最优解也是全局最优解。"
   ]
  },
  {
   "cell_type": "markdown",
   "metadata": {},
   "source": [
    "### 最优化准则\n",
    "\n",
    "对于凸优化问题。有时间研究吧。\n"
   ]
  }
 ],
 "metadata": {
  "kernelspec": {
   "display_name": "Python 3",
   "language": "python",
   "name": "python3"
  },
  "language_info": {
   "codemirror_mode": {
    "name": "ipython",
    "version": 3
   },
   "file_extension": ".py",
   "mimetype": "text/x-python",
   "name": "python",
   "nbconvert_exporter": "python",
   "pygments_lexer": "ipython3",
   "version": "3.7.3"
  }
 },
 "nbformat": 4,
 "nbformat_minor": 2
}
