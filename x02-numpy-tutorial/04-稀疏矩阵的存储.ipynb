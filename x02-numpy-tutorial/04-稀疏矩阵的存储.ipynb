{
 "cells": [
  {
   "cell_type": "markdown",
   "metadata": {},
   "source": [
    "## 稀疏矩阵\n",
    "\n",
    "在 [scipy.sparse](https://docs.scipy.org/doc/scipy/reference/sparse.html) 中定义了稀疏矩阵(sparse matrix) 的七种存储方式。\n",
    "\n",
    "- csc_matrix: Compressed Sparse Column format\n",
    "\n",
    "- csr_matrix: Compressed Sparse Row format\n",
    "\n",
    "- bsr_matrix: Block Sparse Row format\n",
    "\n",
    "- lil_matrix: List of Lists format\n",
    "\n",
    "- dok_matrix: Dictionary of Keys format\n",
    "\n",
    "- coo_matrix: COOrdinate format (aka IJV, triplet format)\n",
    "\n",
    "- dia_matrix: DIAgonal format\n",
    "\n",
    "有时间可以研究下。\n",
    "\n",
    "### References\n",
    "\n",
    "1. [Sparse matrices (scipy.sparse)](https://docs.scipy.org/doc/scipy/reference/sparse.html)\n",
    "2. [Storing a sparse matrix -- wiki](https://en.wikipedia.org/wiki/Sparse_matrix#Storing_a_sparse_matrix)"
   ]
  }
 ],
 "metadata": {
  "kernelspec": {
   "display_name": "Python 3",
   "language": "python",
   "name": "python3"
  },
  "language_info": {
   "codemirror_mode": {
    "name": "ipython",
    "version": 3
   },
   "file_extension": ".py",
   "mimetype": "text/x-python",
   "name": "python",
   "nbconvert_exporter": "python",
   "pygments_lexer": "ipython3",
   "version": "3.7.3"
  }
 },
 "nbformat": 4,
 "nbformat_minor": 2
}
