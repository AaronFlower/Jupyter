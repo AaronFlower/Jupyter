{
 "cells": [
  {
   "cell_type": "markdown",
   "metadata": {},
   "source": [
    "## Linear Algebra\n",
    "### Simple Array Operations\n",
    "See [linalg.py](https://docs.scipy.org/doc/numpy/reference/routines.linalg.html) in numpy folder for more.\n"
   ]
  },
  {
   "cell_type": "code",
   "execution_count": 4,
   "metadata": {},
   "outputs": [
    {
     "name": "stdout",
     "output_type": "stream",
     "text": [
      "Original Array:\n",
      " [[1. 2.]\n",
      " [3. 4.]]\n",
      "a Transpose (a.transpose()):\n",
      " [[1. 3.]\n",
      " [2. 4.]]\n",
      "a Transpose (a.T):\n",
      " [[1. 3.]\n",
      " [2. 4.]]\n",
      "a Inverse:\n",
      " [[-2.   1. ]\n",
      " [ 1.5 -0.5]]\n",
      "a eigenvalues: [-0.37228132  5.37228132]\n",
      "a eigenvecs:\n",
      " [[-0.82456484 -0.41597356]\n",
      " [ 0.56576746 -0.90937671]]\n",
      "Unit Matrix:\n",
      " [[1. 0.]\n",
      " [0. 1.]]\n",
      "Matrix product:\n",
      " [[1. 2.]\n",
      " [3. 4.]]\n",
      "Matrix trace:\n",
      " 2.0\n"
     ]
    }
   ],
   "source": [
    "import numpy as np\n",
    "a = np.array([[1.0, 2.0], [3.0, 4.0]])\n",
    "print('Original Array:\\n', a)\n",
    "print('a Transpose (a.transpose()):\\n', a.transpose())\n",
    "print('a Transpose (a.T):\\n', a.T)\n",
    "\n",
    "print('a Inverse:\\n', np.linalg.inv(a))\n",
    "\n",
    "# 特征值和特征向量\n",
    "\n",
    "eig_vals, eig_vecs = np.linalg.eig(a)\n",
    "\n",
    "print('a eigenvalues:', eig_vals)\n",
    "print('a eigenvecs:\\n', eig_vecs)\n",
    "\n",
    "# svd\n",
    "\n",
    "# 单位矩阵\n",
    "u = np.eye(2)\n",
    "print('Unit Matrix:\\n', u)\n",
    "print('Matrix product:\\n', np.dot(a, u))\n",
    "print('Matrix trace:\\n', np.trace(u))"
   ]
  }
 ],
 "metadata": {
  "kernelspec": {
   "display_name": "Python 3",
   "language": "python",
   "name": "python3"
  },
  "language_info": {
   "codemirror_mode": {
    "name": "ipython",
    "version": 3
   },
   "file_extension": ".py",
   "mimetype": "text/x-python",
   "name": "python",
   "nbconvert_exporter": "python",
   "pygments_lexer": "ipython3",
   "version": "3.7.3"
  }
 },
 "nbformat": 4,
 "nbformat_minor": 2
}
