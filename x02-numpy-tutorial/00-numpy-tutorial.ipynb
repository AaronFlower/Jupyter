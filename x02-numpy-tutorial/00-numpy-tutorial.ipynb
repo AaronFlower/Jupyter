{
 "cells": [
  {
   "cell_type": "markdown",
   "metadata": {},
   "source": [
    "## Basics\n",
    "Numpy 中的主要对象是同类型的多维数组（the homogeneous multidimensional array）。 In NumPy dimensions are called **axes**. The number of axes is **rank（秩）**.\n",
    "\n",
    "### Axes 与 Rank\n",
    "\n",
    "**维度：**称为 Axes, 维度是 axis 的个数, 用整数却索引它。\n",
    "如 array([[1, 2, 3], [2, 3, 4]])\n",
    "axis 0 表示第一维，即列。第一维有两个元素。\n",
    "axis 1 表示第二维, 即行。第二维有三个元素。\n",
    "\n",
    "**秩：** 数组中维的个数称为 Rank.\n",
    "\n",
    "\n",
    "## Basic Operation"
   ]
  },
  {
   "cell_type": "code",
   "execution_count": 2,
   "metadata": {},
   "outputs": [],
   "source": [
    "import numpy as np"
   ]
  },
  {
   "cell_type": "code",
   "execution_count": 3,
   "metadata": {},
   "outputs": [
    {
     "name": "stdout",
     "output_type": "stream",
     "text": [
      "[10. 20. 30. 40. 50.]\n",
      "[0 1 2 3 4]\n",
      "a-b: \t [10. 19. 28. 37. 46.]\n",
      "b ** 2:\t [ 0  1  4  9 16]\n",
      "10*np.sin(a):\t [-5.44021111  9.12945251 -9.88031624  7.4511316  -2.62374854]\n",
      "a<35:\t [ True  True  True False False]\n"
     ]
    }
   ],
   "source": [
    "'''\n",
    "在数组上进行的数学运算都是按对应元素来操作的（elementwise）。 \n",
    "返回的也是一个同样维度的数组。\n",
    "'''\n",
    "a = np.linspace(10, 50, 5)\n",
    "print(a)\n",
    "b = np.arange(5)\n",
    "print(b)\n",
    "print('a-b: \\t', a -b )\n",
    "print('b ** 2:\\t', b**2)\n",
    "print('10*np.sin(a):\\t', 10 * np.sin(a))\n",
    "print('a<35:\\t', a < 34)\n"
   ]
  },
  {
   "cell_type": "code",
   "execution_count": 4,
   "metadata": {},
   "outputs": [
    {
     "name": "stdout",
     "output_type": "stream",
     "text": [
      "[[1 1]\n",
      " [0 1]]\n",
      "[[2 0]\n",
      " [3 4]]\n",
      "A * B:\n",
      " [[2 0]\n",
      " [0 4]]\n",
      "A.dot(B):\n",
      " [[5 4]\n",
      " [3 4]]\n",
      "np.dot(A, B):\n",
      " [[5 4]\n",
      " [3 4]]\n"
     ]
    }
   ],
   "source": [
    "'''\n",
    "在 numpy 中 * 的数组运算也是 elementwise 运算。 \n",
    "要想实现矩阵的相乘可以 dot function。\n",
    "'''\n",
    "A = np.array([[1, 1], [0, 1]])\n",
    "B = np.array([[2, 0], [3, 4]])\n",
    "print(A)\n",
    "print(B)\n",
    "# elementwise product\n",
    "print('A * B:\\n', A * B)\n",
    "# matrix product\n",
    "print('A.dot(B):\\n', A.dot(B))\n",
    "# another matrix product\n",
    "print('np.dot(A, B):\\n', np.dot(A, B))\n"
   ]
  },
  {
   "cell_type": "code",
   "execution_count": 5,
   "metadata": {},
   "outputs": [
    {
     "name": "stdout",
     "output_type": "stream",
     "text": [
      "[[1. 1. 1.]\n",
      " [1. 1. 1.]]\n",
      "[[1 1 1]\n",
      " [1 1 1]]\n",
      "[[1. 1. 1.]\n",
      " [1. 1. 1.]]\n",
      "[[1. 1. 1.]\n",
      " [1. 1. 1.]]\n",
      "[[0.79894068 0.42224762 0.75984331]\n",
      " [0.08518691 0.15802567 0.93234703]]\n",
      "\n",
      "a *= 3:\n",
      " [[3. 3. 3.]\n",
      " [3. 3. 3.]]\n",
      "b += a:\n",
      " [[1.79894068 1.42224762 1.75984331]\n",
      " [1.08518691 1.15802567 1.93234703]]\n",
      "c = a + b :\n",
      " [[2.79894068 2.42224762 2.75984331]\n",
      " [2.08518691 2.15802567 2.93234703]]\n"
     ]
    }
   ],
   "source": [
    "'''\n",
    "而对于一些自运算，如 +=, *= 是直接在当前数组上操作，而不是新建一个。\n",
    "一般可以用 np.ones, np.zeros, np.random.random, np.arange().reshape() \n",
    "来创建 narray\n",
    "'''\n",
    "# 默认是 float\n",
    "a = np.ones((2, 3))\n",
    "print(a)\n",
    "\n",
    "# 可以指定类型\n",
    "a = np.ones((2, 3), dtype=int)\n",
    "print(a)\n",
    "\n",
    "a = np.ones(a.shape)\n",
    "print(a)\n",
    "\n",
    "b = np.random.random((2, 3))\n",
    "print(a)\n",
    "print(b)\n",
    "print()\n",
    "print('a *= 3:\\n', a * 3)\n",
    "b += a\n",
    "print('b += a:\\n', b)\n",
    "\n",
    "c = a + b \n",
    "print('c = a + b :\\n', c)\n",
    "\n",
    "# 从 float64 到 int64 转换会报错， upcasting。\n",
    "a += b\n"
   ]
  },
  {
   "cell_type": "code",
   "execution_count": 6,
   "metadata": {},
   "outputs": [
    {
     "name": "stdout",
     "output_type": "stream",
     "text": [
      "[[0.73861637 0.25565898 0.06344466]\n",
      " [0.83554523 0.66227144 0.24725539]]\n",
      "a.sum: 2.8027920667763837\n",
      "a.min: 0.06344466168847385\n",
      "a.max: 0.8355452289079873\n",
      "\n",
      "With axis parameter\n",
      "[[ 0  1  2  3]\n",
      " [ 4  5  6  7]\n",
      " [ 8  9 10 11]]\n",
      "b.sum(axis = 0): [12 15 18 21]\n",
      "b.sum(axis = 1): [ 6 22 38]\n",
      "b.sum(): 66\n",
      "b.min(axis = 0): [0 1 2 3]\n",
      "b.cumsum():\n",
      "\n",
      "[ 0  1  3  6 10 15 21 28 36 45 55 66]\n",
      "b.cumsum(axis = 1):\n",
      " [[ 0  1  3  6]\n",
      " [ 4  9 15 22]\n",
      " [ 8 17 27 38]]\n",
      "b.cumsum(axis = 0):\n",
      " [[ 0  1  2  3]\n",
      " [ 4  6  8 10]\n",
      " [12 15 18 21]]\n"
     ]
    }
   ],
   "source": [
    "'''\n",
    "许多一元操作，如元素的 sum 都被实现成了成员方法。\n",
    "'''\n",
    "a = np.random.random((2, 3))\n",
    "print(a)\n",
    "print('a.sum:', a.sum())\n",
    "print('a.min:', a.min())\n",
    "print('a.max:', a.max())\n",
    "print()\n",
    "'''\n",
    "这些一元操作默认是把数组中的所有元素看成一个列表来操作的，并不管数组的维度。\n",
    "通过指定 axis 参数可指定 axis 值来在对应的索引维度上操作。\n",
    "'''\n",
    "print('With axis parameter')\n",
    "b = np.arange(12).reshape(3,4)\n",
    "print(b)\n",
    "print('b.sum(axis = 0):', b.sum(axis = 0)) # each column\n",
    "print('b.sum(axis = 1):', b.sum(axis = 1)) # each row\n",
    "print('b.sum():', b.sum())\n",
    "print('b.min(axis = 0):', b.min(axis = 0))\n",
    "# cumulative sum , 计算累积和。\n",
    "print('b.cumsum():\\n')\n",
    "print(b.cumsum())\n",
    "print('b.cumsum(axis = 1):\\n', b.cumsum(axis = 1))\n",
    "print('b.cumsum(axis = 0):\\n', b.cumsum(axis = 0))"
   ]
  },
  {
   "cell_type": "code",
   "execution_count": 7,
   "metadata": {},
   "outputs": [
    {
     "name": "stdout",
     "output_type": "stream",
     "text": [
      "[[0 1 2]\n",
      " [3 4 5]]\n",
      "np.exp(B):\n",
      " [[  1.           2.71828183   7.3890561 ]\n",
      " [ 20.08553692  54.59815003 148.4131591 ]]\n",
      "np.sqrt(B):\n",
      " [[0.         1.         1.41421356]\n",
      " [1.73205081 2.         2.23606798]]\n",
      "np.add(B, C):\n",
      " [[ 0.          2.88495559  5.76991118]\n",
      " [ 8.65486678 11.53982237 14.42477796]]\n"
     ]
    }
   ],
   "source": [
    "'''\n",
    "Univeral Functions:\n",
    "Numpy 提供了一些数学函数，如：sin, cos, exp. 这些函数都是 elementwise 操作，\n",
    "返回一个数组。这些函数被称为 Universal Functions (ufunc)。\n",
    "'''\n",
    "B = np.arange(6).reshape(2, 3)\n",
    "print(B)\n",
    "print('np.exp(B):\\n', np.exp(B))\n",
    "print('np.sqrt(B):\\n', np.sqrt(B))\n",
    "C = np.linspace(0, 3 * np.pi, 6).reshape(2, 3)\n",
    "print('np.add(B, C):\\n', np.add(B, C))"
   ]
  },
  {
   "cell_type": "markdown",
   "metadata": {},
   "source": [
    "### Indexing, Slicing and Iterating"
   ]
  },
  {
   "cell_type": "code",
   "execution_count": 8,
   "metadata": {},
   "outputs": [
    {
     "name": "stdout",
     "output_type": "stream",
     "text": [
      "[  0   1   8  27  64 125 216 343 512 729]\n",
      "8\n",
      "[ 8 27 64]\n",
      "\n",
      "[  0   1   8  27  64 125]\n",
      "[ 0  8 64]\n",
      "[ 0 27]\n",
      "\n",
      "[  0   1   8  27  64 125 216 343 512 729]\n",
      "[  0   1   8  27  64 125 216 343 512 729]\n",
      "[729 512 343 216 125  64  27   8   1   0]\n",
      "\n",
      "\n",
      "Multiple array:\n",
      "[[ 0  1  2  3]\n",
      " [10 11 12 13]\n",
      " [20 21 22 23]\n",
      " [30 31 32 33]\n",
      " [40 41 42 43]]\n",
      "23\n",
      "[ 1 11 21 31 41]\n",
      "[ 1 11 21 31 41]\n",
      "[[12 13]\n",
      " [22 23]]\n",
      "[40 41 42 43]\n",
      "[40 41 42 43]\n"
     ]
    }
   ],
   "source": [
    "'''\n",
    "一维数组可以像 Python 中的 list 一样进行  indexed, sliced, iterated.\n",
    "'''\n",
    "a = np.arange(10) ** 3\n",
    "print(a)\n",
    "print(a[2])\n",
    "print(a[2:5])\n",
    "# 进行了一次 slice 后，还可以再进行次 slice。\n",
    "print()\n",
    "print(a[:6])\n",
    "print(a[:6:2])\n",
    "print(a[:6:3])\n",
    "# reverse a\n",
    "print()\n",
    "print(a[:])\n",
    "print(a[::])\n",
    "print(a[::-1])\n",
    "\n",
    "'''\n",
    "对于多维数组，第一个 axis 都可以有一个 index, indices 用逗号分隔。\n",
    "'''\n",
    "print('\\n\\nMultiple array:')\n",
    "def f(i, j):\n",
    "    return 10 * i + j\n",
    "\n",
    "b = np.fromfunction(f, (5, 4), dtype = int)\n",
    "print(b)\n",
    "print(b[2,3])\n",
    "print(b[0:5, 1]) # each row in the second column of  b\n",
    "print(b[:, 1]) # equivalent to the previous example\n",
    "print(b[1:3,2:4])\n",
    "\n",
    "# 如果少传一个 index ，则被认为是 :\n",
    "print(b[-1])\n",
    "print(b[-1,:]) # 与 b[-1] 等价。"
   ]
  },
  {
   "cell_type": "code",
   "execution_count": 9,
   "metadata": {},
   "outputs": [
    {
     "name": "stdout",
     "output_type": "stream",
     "text": [
      "[[[  0   1   2]\n",
      "  [ 10  11  12]]\n",
      "\n",
      " [[100 101 102]\n",
      "  [110 111 112]]]\n",
      "(2, 2, 3)\n",
      "[[100 101 102]\n",
      " [110 111 112]]\n",
      "[[  2  12]\n",
      " [102 112]]\n"
     ]
    }
   ],
   "source": [
    "'''\n",
    "在多维数组中，b[i]被认为其它维度都是由 : 来替代。 Numpy 也允许你用 ...\n",
    "来表示。\n",
    "... 表示需要用多个 : 来完成一个完整的索引。\n",
    "如: 对一个秩为5，即5维数组。\n",
    "    x[1, 2, ...] <=> x[1, 2, :, :, :]\n",
    "    x[..., 3] <=> x[:, :, :, :, 3]\n",
    "    x[4, ..., 5, :] <=> x[4, :, :, 5, :]\n",
    "'''\n",
    "def f(i, j, k):\n",
    "    return 100 * i + 10 * j + k\n",
    "\n",
    "c = np.fromfunction(f, (2, 2, 3), dtype=int)\n",
    "print(c)\n",
    "print(c.shape)\n",
    "print(c[1, ...])\n",
    "print(c[..., 2])"
   ]
  },
  {
   "cell_type": "code",
   "execution_count": 10,
   "metadata": {},
   "outputs": [
    {
     "name": "stdout",
     "output_type": "stream",
     "text": [
      "0\n",
      "1\n",
      "2\n",
      "3\n",
      "4\n",
      "5\n",
      "Using flat attribute\n",
      "0\n",
      "1\n",
      "2\n",
      "3\n",
      "4\n",
      "5\n"
     ]
    }
   ],
   "source": [
    "'''\n",
    "Iterating 一个多维数组时，可分别对各个 axis 进行索引。\n",
    "但是如果想对所数组中的所有元素进行遍历，可以使用 flat 属性。\n",
    "'''\n",
    "a = np.arange(6).reshape(3, 2)\n",
    "for row in a:\n",
    "    for ele in row:\n",
    "        print (ele)\n",
    "print ('Using flat attribute')\n",
    "for ele in a.flat:\n",
    "    print(ele)"
   ]
  },
  {
   "cell_type": "markdown",
   "metadata": {},
   "source": [
    "## Shape Manipulation\n",
    "### Changing the Shape of an Array\n"
   ]
  },
  {
   "cell_type": "code",
   "execution_count": 11,
   "metadata": {},
   "outputs": [
    {
     "name": "stdout",
     "output_type": "stream",
     "text": [
      "[[3. 3. 7. 0.]\n",
      " [9. 9. 7. 7.]\n",
      " [9. 8. 5. 7.]]\n",
      "(3, 4)\n",
      "a.ravel():\n",
      " [3. 3. 7. 0. 9. 9. 7. 7. 9. 8. 5. 7.]\n",
      "a.reshape(6,2):\n",
      " [[3. 3.]\n",
      " [7. 0.]\n",
      " [9. 9.]\n",
      " [7. 7.]\n",
      " [9. 8.]\n",
      " [5. 7.]]\n",
      "a.T:\n",
      " [[3. 9. 9.]\n",
      " [3. 9. 8.]\n",
      " [7. 7. 5.]\n",
      " [0. 7. 7.]]\n",
      "\n",
      "resize :\n",
      "[[3. 3.]\n",
      " [7. 0.]\n",
      " [9. 9.]\n",
      " [7. 7.]\n",
      " [9. 8.]\n",
      " [5. 7.]]\n"
     ]
    }
   ],
   "source": [
    "'''\n",
    "下面的三个操作 reval, reshape, T 不会在原数组上操作，而仅仅是返回一个新的改变后的数组。\n",
    "但是与 reshape 不同是， resize 会在数组本身上进行操作。\n",
    "'''\n",
    "a = np.floor(10 * np.random.random((3, 4)))\n",
    "print(a)\n",
    "print(a.shape)\n",
    "print('a.ravel():\\n', a.ravel())\n",
    "print('a.reshape(6,2):\\n', a.reshape(6, 2))\n",
    "print('a.T:\\n', a.T)\n",
    "\n",
    "print('\\nresize :')\n",
    "a.resize(6,2)\n",
    "print(a)"
   ]
  },
  {
   "cell_type": "markdown",
   "metadata": {},
   "source": [
    "### Stacking together different arrays\n",
    "可以在不同的维度上对数组进行拼接。"
   ]
  },
  {
   "cell_type": "code",
   "execution_count": 125,
   "metadata": {},
   "outputs": [
    {
     "name": "stdout",
     "output_type": "stream",
     "text": [
      "[[ 4.  3.]\n",
      " [ 4.  0.]]\n",
      "[[  2.  10.]\n",
      " [ 10.   1.]]\n",
      "np.vstack((a, b))\n",
      "[[  4.   3.]\n",
      " [  4.   0.]\n",
      " [  2.  10.]\n",
      " [ 10.   1.]]\n",
      "np.hstack((a, b))\n",
      "[[  4.   3.   2.  10.]\n",
      " [  4.   0.  10.   1.]]\n",
      "[4 2]\n",
      "c[:, np.newaxis]:\n",
      " [[4]\n",
      " [2]]\n",
      "c[:, np.newaxis, np.newaxis]:\n",
      " [[[4]]\n",
      "\n",
      " [[2]]]\n",
      "\n",
      "h v:\n",
      "[[4 1]\n",
      " [2 5]]\n",
      "[[4]\n",
      " [2]\n",
      " [1]\n",
      " [5]]\n"
     ]
    }
   ],
   "source": [
    "'''\n",
    "Several arrays can be stacked together along different axes:\n",
    "'''\n",
    "a = np.floor(10 * np.random.random((2, 2)))\n",
    "b = np.ceil(10 * np.random.random((2, 2)))\n",
    "print (a)\n",
    "print (b)\n",
    "# 垂直连接\n",
    "print('np.vstack((a, b))')\n",
    "print(np.vstack((a,b)))\n",
    "print('np.hstack((a, b))')\n",
    "print(np.hstack((a, b)))\n",
    "\n",
    "'''\n",
    "一维数组可以使用 newaxis 来转成新的维度的数组。\n",
    "'''\n",
    "c = np.array([4, 2])\n",
    "d = np.array([1, 5])\n",
    "print (c)\n",
    "print ('c[:, np.newaxis]:\\n', c[:, np.newaxis])\n",
    "print('c[:, np.newaxis, np.newaxis]:\\n',c[:, np.newaxis, np.newaxis])\n",
    "\n",
    "# 将一维数组使用 newaxis 来进行二维数组的连接。\n",
    "print('\\nh v:')\n",
    "h = np.hstack((c[:, np.newaxis], d[:, np.newaxis]))\n",
    "v = np.vstack((c[:, np.newaxis], d[:, np.newaxis]))\n",
    "print(h)\n",
    "print(v)"
   ]
  },
  {
   "cell_type": "markdown",
   "metadata": {},
   "source": [
    "### Splitting one array into several small ones\n",
    "使用 vsplit, hsplit 可以对数组进行分隔。\n"
   ]
  },
  {
   "cell_type": "code",
   "execution_count": 130,
   "metadata": {},
   "outputs": [
    {
     "name": "stdout",
     "output_type": "stream",
     "text": [
      "[[ 0.  6.  9.  6.  3.  6.  3.  3.  3.  6.  1.  1.]\n",
      " [ 5.  6.  4.  2.  4.  3.  5.  1.  6.  0.  8.  2.]]\n",
      "\n",
      "np.hsplit(a, 3):\n",
      "[array([[ 0.,  6.,  9.,  6.],\n",
      "       [ 5.,  6.,  4.,  2.]]), array([[ 3.,  6.,  3.,  3.],\n",
      "       [ 4.,  3.,  5.,  1.]]), array([[ 3.,  6.,  1.,  1.],\n",
      "       [ 6.,  0.,  8.,  2.]])]\n",
      "\n",
      "np.hsplit(a, (3,4)):\n",
      "[array([[ 0.,  6.,  9.],\n",
      "       [ 5.,  6.,  4.]]), array([[ 6.],\n",
      "       [ 2.]]), array([[ 3.,  6.,  3.,  3.,  3.,  6.,  1.,  1.],\n",
      "       [ 4.,  3.,  5.,  1.,  6.,  0.,  8.,  2.]])]\n"
     ]
    }
   ],
   "source": [
    "a = np.floor(10 * np.random.random((2, 12)))\n",
    "print(a)\n",
    "# 水平分隔成三个数组。\n",
    "print('\\nnp.hsplit(a, 3):')\n",
    "print(np.hsplit(a, 3))\n",
    "\n",
    "print('\\nnp.hsplit(a, (3,4)):')\n",
    "print(np.hsplit(a, (3, 4)))"
   ]
  },
  {
   "cell_type": "markdown",
   "metadata": {},
   "source": [
    "## Copies\n",
    "### 非 Copy 操作"
   ]
  },
  {
   "cell_type": "code",
   "execution_count": 12,
   "metadata": {},
   "outputs": [
    {
     "name": "stdout",
     "output_type": "stream",
     "text": [
      "True\n",
      "id(a): 4642799248\n",
      "id(x): 4642799248\n"
     ]
    }
   ],
   "source": [
    "a = np.arange(12)\n",
    "b = a\n",
    "print( b is a )\n",
    "'''\n",
    "python 函数在传递对象时，也是根据引用来传递的而不是一个copy.\n",
    "'''\n",
    "def f(x):\n",
    "    print('id(x):', id(x))\n",
    "print ('id(a):', id(a))\n",
    "f(a)"
   ]
  },
  {
   "cell_type": "code",
   "execution_count": 13,
   "metadata": {},
   "outputs": [
    {
     "name": "stdout",
     "output_type": "stream",
     "text": [
      "c is a: False\n",
      "[ 0  1  2  3  4  5  6  7  8  9 10 11]\n",
      "c.base is a True\n",
      "c.flags.owndata False\n",
      "(2, 6) (12,)\n",
      "[[12 12 12 12 12 12]\n",
      " [ 6  7  8  9 10 11]]\n",
      "[12 12 12 12 12 12  6  7  8  9 10 11]\n"
     ]
    }
   ],
   "source": [
    "'''\n",
    "view 视图操作。\n",
    "'''\n",
    "a = np.arange(12)\n",
    "c = a.view()\n",
    "print('c is a:', c is a)\n",
    "print(c)\n",
    "print ('c.base is a', c.base is a)\n",
    "print ('c.flags.owndata', c.flags.owndata)\n",
    "# 视图的值改变会影响。因为其实还是因为视图不 owndata.\n",
    "c.shape = 2, 6\n",
    "print(c.shape, a.shape)\n",
    "c[0] = 12\n",
    "print(c)\n",
    "print(a)"
   ]
  },
  {
   "cell_type": "markdown",
   "metadata": {},
   "source": [
    "### Deep copy\n",
    "Copy 方法会对数据进行一个完全的 copy.\n"
   ]
  },
  {
   "cell_type": "code",
   "execution_count": 150,
   "metadata": {},
   "outputs": [
    {
     "name": "stdout",
     "output_type": "stream",
     "text": [
      "b is a: False\n",
      "[[12  1  2  3]\n",
      " [ 4  5  6  7]\n",
      " [ 8  9 10 11]]\n",
      "[[ 0  1  2  3]\n",
      " [ 4  5  6  7]\n",
      " [ 8  9 10 11]]\n"
     ]
    }
   ],
   "source": [
    "a = np.arange(12).reshape(3, 4)\n",
    "b = a.copy()\n",
    "print('b is a:', b is a)\n",
    "b[0,0] = 12\n",
    "print (b)\n",
    "print (a)"
   ]
  }
 ],
 "metadata": {
  "kernelspec": {
   "display_name": "Python 3",
   "language": "python",
   "name": "python3"
  },
  "language_info": {
   "codemirror_mode": {
    "name": "ipython",
    "version": 3
   },
   "file_extension": ".py",
   "mimetype": "text/x-python",
   "name": "python",
   "nbconvert_exporter": "python",
   "pygments_lexer": "ipython3",
   "version": "3.7.2"
  }
 },
 "nbformat": 4,
 "nbformat_minor": 2
}
