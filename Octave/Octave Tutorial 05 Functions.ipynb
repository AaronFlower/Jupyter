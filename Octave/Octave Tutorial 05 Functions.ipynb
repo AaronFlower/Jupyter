{
 "cells": [
  {
   "cell_type": "markdown",
   "metadata": {},
   "source": [
    "## Functions"
   ]
  },
  {
   "cell_type": "code",
   "execution_count": 1,
   "metadata": {},
   "outputs": [],
   "source": [
    "function y = squareThisNumber(x)\n",
    "    y = x ^ 2;\n",
    "end"
   ]
  },
  {
   "cell_type": "code",
   "execution_count": 2,
   "metadata": {},
   "outputs": [
    {
     "name": "stdout",
     "output_type": "stream",
     "text": [
      "ans =  9\n"
     ]
    }
   ],
   "source": [
    "squareThisNumber(3)"
   ]
  },
  {
   "cell_type": "code",
   "execution_count": 3,
   "metadata": {},
   "outputs": [
    {
     "name": "stdout",
     "output_type": "stream",
     "text": [
      "Octave Tutorial 01.ipynb\n",
      "Octave Tutorial 02 Moving Data Around.ipynb\n",
      "Octave Tutorial 03 Computing On Data.ipynb\n",
      "Octave Tutorial 04 Plotting Data.ipynb\n",
      "Octave Tutorial 05 Functions.ipynb\n",
      "cubeThisNumber.m\n",
      "ex1data1.txt\n",
      "ex1data2.txt\n",
      "octave-workspace\n",
      "prices.mat\n",
      "prices.txt\n"
     ]
    }
   ],
   "source": [
    "ls"
   ]
  },
  {
   "cell_type": "code",
   "execution_count": 4,
   "metadata": {},
   "outputs": [
    {
     "name": "stdout",
     "output_type": "stream",
     "text": [
      "ans =  27\n"
     ]
    }
   ],
   "source": [
    "cubeThisNumber(3) % octave 从添加的 path 中搜索函数名，然后执行。"
   ]
  },
  {
   "cell_type": "code",
   "execution_count": 5,
   "metadata": {},
   "outputs": [],
   "source": [
    "% 多返回值函数 \n",
    "function [y1, y2] = squareAndCubeThisNumber(x)\n",
    "    y1 = x ^ 2;\n",
    "    y2 = x ^ 3;\n",
    "end"
   ]
  },
  {
   "cell_type": "code",
   "execution_count": 7,
   "metadata": {
    "scrolled": true
   },
   "outputs": [
    {
     "name": "stdout",
     "output_type": "stream",
     "text": [
      "y1 =  9\n",
      "y2 =  27\n"
     ]
    }
   ],
   "source": [
    "[y1 , y2] = squareAndCubeThisNumber(3)"
   ]
  },
  {
   "cell_type": "markdown",
   "metadata": {},
   "source": [
    "### Anonymouse Functions\n",
    "\n",
    "- 语法\n",
    "\n",
    "```\n",
    "    @(argument-list) expression\n",
    "```"
   ]
  },
  {
   "cell_type": "code",
   "execution_count": 3,
   "metadata": {},
   "outputs": [
    {
     "name": "stdout",
     "output_type": "stream",
     "text": [
      "ans =  3\n",
      "ans =  5\n"
     ]
    }
   ],
   "source": [
    "% 把匿名函数赋值给一个变量\n",
    "f = @(a, b) a + b;\n",
    "\n",
    "f(1, 2)\n",
    "f(2, 3)"
   ]
  },
  {
   "cell_type": "code",
   "execution_count": 5,
   "metadata": {},
   "outputs": [
    {
     "name": "stdout",
     "output_type": "stream",
     "text": [
      "ans =  4\n",
      "ans =  333.33\n"
     ]
    }
   ],
   "source": [
    "f = @(x) x^2;\n",
    "f(2)\n",
    "quad(f, 0, 10)"
   ]
  },
  {
   "cell_type": "code",
   "execution_count": 7,
   "metadata": {},
   "outputs": [
    {
     "name": "stdout",
     "output_type": "stream",
     "text": [
      "ans =  2\n",
      "ans =  1.7183\n"
     ]
    }
   ],
   "source": [
    "% 直接使用匿名函数 \n",
    "quad(@(x) sin(x), 0, pi)\n",
    "quad(@(x) exp(x), 0, 1)"
   ]
  },
  {
   "cell_type": "code",
   "execution_count": null,
   "metadata": {},
   "outputs": [],
   "source": []
  }
 ],
 "metadata": {
  "kernelspec": {
   "display_name": "Octave",
   "language": "octave",
   "name": "octave"
  },
  "language_info": {
   "file_extension": ".m",
   "help_links": [
    {
     "text": "GNU Octave",
     "url": "https://www.gnu.org/software/octave/support.html"
    },
    {
     "text": "Octave Kernel",
     "url": "https://github.com/Calysto/octave_kernel"
    },
    {
     "text": "MetaKernel Magics",
     "url": "https://github.com/calysto/metakernel/blob/master/metakernel/magics/README.md"
    }
   ],
   "mimetype": "text/x-octave",
   "name": "octave",
   "version": "4.0.3"
  }
 },
 "nbformat": 4,
 "nbformat_minor": 2
}
