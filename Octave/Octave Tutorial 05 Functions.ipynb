{
 "cells": [
  {
   "cell_type": "markdown",
   "metadata": {},
   "source": [
    "## Functions"
   ]
  },
  {
   "cell_type": "code",
   "execution_count": 1,
   "metadata": {},
   "outputs": [],
   "source": [
    "function y = squareThisNumber(x)\n",
    "    y = x ^ 2;\n",
    "end"
   ]
  },
  {
   "cell_type": "code",
   "execution_count": 2,
   "metadata": {},
   "outputs": [
    {
     "name": "stdout",
     "output_type": "stream",
     "text": [
      "ans =  9\n"
     ]
    }
   ],
   "source": [
    "squareThisNumber(3)"
   ]
  },
  {
   "cell_type": "code",
   "execution_count": 3,
   "metadata": {},
   "outputs": [
    {
     "name": "stdout",
     "output_type": "stream",
     "text": [
      "Octave Tutorial 01.ipynb\n",
      "Octave Tutorial 02 Moving Data Around.ipynb\n",
      "Octave Tutorial 03 Computing On Data.ipynb\n",
      "Octave Tutorial 04 Plotting Data.ipynb\n",
      "Octave Tutorial 05 Functions.ipynb\n",
      "cubeThisNumber.m\n",
      "ex1data1.txt\n",
      "ex1data2.txt\n",
      "octave-workspace\n",
      "prices.mat\n",
      "prices.txt\n"
     ]
    }
   ],
   "source": [
    "ls"
   ]
  },
  {
   "cell_type": "code",
   "execution_count": 4,
   "metadata": {},
   "outputs": [
    {
     "name": "stdout",
     "output_type": "stream",
     "text": [
      "ans =  27\n"
     ]
    }
   ],
   "source": [
    "cubeThisNumber(3) % octave 从添加的 path 中搜索函数名，然后执行。"
   ]
  },
  {
   "cell_type": "code",
   "execution_count": 5,
   "metadata": {},
   "outputs": [],
   "source": [
    "% 多返回值函数 \n",
    "function [y1, y2] = squareAndCubeThisNumber(x)\n",
    "    y1 = x ^ 2;\n",
    "    y2 = x ^ 3;\n",
    "end"
   ]
  },
  {
   "cell_type": "code",
   "execution_count": 7,
   "metadata": {},
   "outputs": [
    {
     "name": "stdout",
     "output_type": "stream",
     "text": [
      "y1 =  9\n",
      "y2 =  27\n"
     ]
    }
   ],
   "source": [
    "[y1 , y2] = squareAndCubeThisNumber(3)"
   ]
  }
 ],
 "metadata": {
  "kernelspec": {
   "display_name": "Octave",
   "language": "octave",
   "name": "octave"
  },
  "language_info": {
   "file_extension": ".m",
   "help_links": [
    {
     "text": "GNU Octave",
     "url": "https://www.gnu.org/software/octave/support.html"
    },
    {
     "text": "Octave Kernel",
     "url": "https://github.com/Calysto/octave_kernel"
    },
    {
     "text": "MetaKernel Magics",
     "url": "https://github.com/calysto/metakernel/blob/master/metakernel/magics/README.md"
    }
   ],
   "mimetype": "text/x-octave",
   "name": "octave",
   "version": "4.0.3"
  }
 },
 "nbformat": 4,
 "nbformat_minor": 2
}
