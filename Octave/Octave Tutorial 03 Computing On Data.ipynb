{
 "cells": [
  {
   "cell_type": "markdown",
   "metadata": {},
   "source": [
    "## Computing On Data"
   ]
  },
  {
   "cell_type": "markdown",
   "metadata": {},
   "source": [
    "### Indexing"
   ]
  },
  {
   "cell_type": "code",
   "execution_count": 1,
   "metadata": {},
   "outputs": [
    {
     "name": "stdout",
     "output_type": "stream",
     "text": [
      "A =\n",
      "\n",
      "   1   2\n",
      "   3   4\n",
      "   5   6\n",
      "\n"
     ]
    }
   ],
   "source": [
    "A = [1 2; 3 4; 5 6]"
   ]
  },
  {
   "cell_type": "code",
   "execution_count": 2,
   "metadata": {},
   "outputs": [
    {
     "name": "stdout",
     "output_type": "stream",
     "text": [
      "ans =  6\n"
     ]
    }
   ],
   "source": [
    "A(3, 2)"
   ]
  },
  {
   "cell_type": "code",
   "execution_count": 3,
   "metadata": {},
   "outputs": [
    {
     "name": "stdout",
     "output_type": "stream",
     "text": [
      "ans =\n",
      "\n",
      "   3   4\n",
      "\n"
     ]
    }
   ],
   "source": [
    "A(2, :) % ':' semicolon means every element along with that row/column."
   ]
  },
  {
   "cell_type": "code",
   "execution_count": 4,
   "metadata": {},
   "outputs": [
    {
     "name": "stdout",
     "output_type": "stream",
     "text": [
      "ans =\n",
      "\n",
      "   2\n",
      "   4\n",
      "   6\n",
      "\n"
     ]
    }
   ],
   "source": [
    "A(:, 2)"
   ]
  },
  {
   "cell_type": "code",
   "execution_count": 5,
   "metadata": {},
   "outputs": [
    {
     "name": "stdout",
     "output_type": "stream",
     "text": [
      "A =\n",
      "\n",
      "    1   10\n",
      "    3   11\n",
      "    5   12\n",
      "\n"
     ]
    }
   ],
   "source": [
    "A(:, 2) = [10; 11; 12]"
   ]
  },
  {
   "cell_type": "code",
   "execution_count": 7,
   "metadata": {},
   "outputs": [
    {
     "name": "stdout",
     "output_type": "stream",
     "text": [
      "A =\n",
      "\n",
      "     1    10   100\n",
      "     3    11   101\n",
      "     5    12   102\n",
      "\n"
     ]
    }
   ],
   "source": [
    "A = [A, [100; 101; 102]] % append a column to right A"
   ]
  },
  {
   "cell_type": "code",
   "execution_count": 8,
   "metadata": {},
   "outputs": [
    {
     "name": "stdout",
     "output_type": "stream",
     "text": [
      "ans =\n",
      "\n",
      "   3   3\n",
      "\n"
     ]
    }
   ],
   "source": [
    "size(A)"
   ]
  },
  {
   "cell_type": "code",
   "execution_count": 10,
   "metadata": {},
   "outputs": [
    {
     "name": "stdout",
     "output_type": "stream",
     "text": [
      "ans =\n",
      "\n",
      "     1\n",
      "     3\n",
      "     5\n",
      "    10\n",
      "    11\n",
      "    12\n",
      "   100\n",
      "   101\n",
      "   102\n",
      "\n"
     ]
    }
   ],
   "source": [
    "A(:) % flatten, put all elements of A into a single vector."
   ]
  },
  {
   "cell_type": "markdown",
   "metadata": {},
   "source": [
    "### Computing"
   ]
  },
  {
   "cell_type": "code",
   "execution_count": 12,
   "metadata": {},
   "outputs": [
    {
     "name": "stdout",
     "output_type": "stream",
     "text": [
      "A =\n",
      "\n",
      "   1   2\n",
      "   3   4\n",
      "   5   6\n",
      "\n",
      "B =\n",
      "\n",
      "   11   12\n",
      "   13   14\n",
      "   15   16\n",
      "\n",
      "C =\n",
      "\n",
      "   1   2\n",
      "   2   1\n",
      "\n"
     ]
    }
   ],
   "source": [
    "A = [1 2; 3 4; 5 6]\n",
    "B = [11 12; 13 14; 15 16]\n",
    "C = [1 2; 2 1]"
   ]
  },
  {
   "cell_type": "code",
   "execution_count": 14,
   "metadata": {},
   "outputs": [
    {
     "name": "stdout",
     "output_type": "stream",
     "text": [
      "ans =\n",
      "\n",
      "   11   24\n",
      "   39   56\n",
      "   75   96\n",
      "\n"
     ]
    }
   ],
   "source": [
    "A .* B % element-wise operations"
   ]
  },
  {
   "cell_type": "code",
   "execution_count": 16,
   "metadata": {},
   "outputs": [
    {
     "name": "stdout",
     "output_type": "stream",
     "text": [
      "ans =\n",
      "\n",
      "    5    4\n",
      "   11   10\n",
      "   17   16\n",
      "\n"
     ]
    }
   ],
   "source": [
    "A * C % matrices multiplicaton"
   ]
  },
  {
   "cell_type": "code",
   "execution_count": 18,
   "metadata": {},
   "outputs": [
    {
     "name": "stdout",
     "output_type": "stream",
     "text": [
      "ans =\n",
      "\n",
      "    1    4\n",
      "    9   16\n",
      "   25   36\n",
      "\n"
     ]
    }
   ],
   "source": [
    "A .^ 2 % element-wise squared."
   ]
  },
  {
   "cell_type": "code",
   "execution_count": 19,
   "metadata": {},
   "outputs": [
    {
     "name": "stdout",
     "output_type": "stream",
     "text": [
      "v =\n",
      "\n",
      "   1\n",
      "   2\n",
      "   3\n",
      "\n"
     ]
    }
   ],
   "source": [
    "v = [1; 2; 3]"
   ]
  },
  {
   "cell_type": "code",
   "execution_count": 24,
   "metadata": {},
   "outputs": [
    {
     "name": "stdout",
     "output_type": "stream",
     "text": [
      "ans =\n",
      "\n",
      "   1.00000   0.50000\n",
      "   0.66667   0.50000\n",
      "   0.60000   0.50000\n",
      "\n"
     ]
    }
   ],
   "source": [
    "v ./ A % element to row operaton. vector 中一个每一个元素在矩阵上每一行上进行操作。"
   ]
  },
  {
   "cell_type": "code",
   "execution_count": 25,
   "metadata": {},
   "outputs": [
    {
     "name": "stdout",
     "output_type": "stream",
     "text": [
      "ans =\n",
      "\n",
      "   1.00000   0.50000\n",
      "   0.33333   0.25000\n",
      "   0.20000   0.16667\n",
      "\n",
      "ans =\n",
      "\n",
      "   2.00000   1.00000\n",
      "   0.66667   0.50000\n",
      "   0.40000   0.33333\n",
      "\n",
      "ans =\n",
      "\n",
      "   3.00000   1.50000\n",
      "   1.00000   0.75000\n",
      "   0.60000   0.50000\n",
      "\n"
     ]
    }
   ],
   "source": [
    "v(1) ./ A\n",
    "v(2) ./ A\n",
    "v(3) ./ A"
   ]
  },
  {
   "cell_type": "code",
   "execution_count": 26,
   "metadata": {},
   "outputs": [
    {
     "name": "stdout",
     "output_type": "stream",
     "text": [
      "ans =\n",
      "\n",
      "   0.00000\n",
      "   0.69315\n",
      "   1.09861\n",
      "\n"
     ]
    }
   ],
   "source": [
    "log(v)"
   ]
  },
  {
   "cell_type": "code",
   "execution_count": 27,
   "metadata": {},
   "outputs": [
    {
     "name": "stdout",
     "output_type": "stream",
     "text": [
      "ans =\n",
      "\n",
      "   0.00000   0.69315\n",
      "   1.09861   1.38629\n",
      "   1.60944   1.79176\n",
      "\n"
     ]
    }
   ],
   "source": [
    "log(A)"
   ]
  },
  {
   "cell_type": "code",
   "execution_count": 28,
   "metadata": {},
   "outputs": [
    {
     "name": "stdout",
     "output_type": "stream",
     "text": [
      "ans =\n",
      "\n",
      "    2.7183\n",
      "    7.3891\n",
      "   20.0855\n",
      "\n",
      "ans =\n",
      "\n",
      "   1\n",
      "   2\n",
      "   3\n",
      "\n"
     ]
    }
   ],
   "source": [
    "exp(v), abs(v)"
   ]
  },
  {
   "cell_type": "code",
   "execution_count": 29,
   "metadata": {},
   "outputs": [
    {
     "name": "stdout",
     "output_type": "stream",
     "text": [
      "ans =\n",
      "\n",
      "   2\n",
      "   3\n",
      "   4\n",
      "\n"
     ]
    }
   ],
   "source": [
    "v + ones(length(v), 1)"
   ]
  },
  {
   "cell_type": "code",
   "execution_count": 30,
   "metadata": {},
   "outputs": [
    {
     "name": "stdout",
     "output_type": "stream",
     "text": [
      "ans =\n",
      "\n",
      "   1   3   5\n",
      "   2   4   6\n",
      "\n"
     ]
    }
   ],
   "source": [
    "A' % transpose"
   ]
  },
  {
   "cell_type": "code",
   "execution_count": 32,
   "metadata": {},
   "outputs": [
    {
     "name": "stdout",
     "output_type": "stream",
     "text": [
      "ans =\n",
      "\n",
      "   1   2\n",
      "   3   4\n",
      "   5   6\n",
      "\n"
     ]
    }
   ],
   "source": [
    "A''"
   ]
  },
  {
   "cell_type": "code",
   "execution_count": 33,
   "metadata": {},
   "outputs": [
    {
     "name": "stdout",
     "output_type": "stream",
     "text": [
      "a =\n",
      "\n",
      "    1.00000   15.00000    2.00000    0.50000\n",
      "\n"
     ]
    }
   ],
   "source": [
    "a = [1 15 2 0.5]"
   ]
  },
  {
   "cell_type": "code",
   "execution_count": 34,
   "metadata": {},
   "outputs": [
    {
     "name": "stdout",
     "output_type": "stream",
     "text": [
      "val =  15\n"
     ]
    }
   ],
   "source": [
    "val = max(a)"
   ]
  },
  {
   "cell_type": "code",
   "execution_count": 35,
   "metadata": {},
   "outputs": [
    {
     "name": "stdout",
     "output_type": "stream",
     "text": [
      "val =  15\n",
      "index =  2\n"
     ]
    }
   ],
   "source": [
    "[val index] = max(a)"
   ]
  },
  {
   "cell_type": "code",
   "execution_count": 36,
   "metadata": {},
   "outputs": [
    {
     "name": "stdout",
     "output_type": "stream",
     "text": [
      "ans =\n",
      "\n",
      "   5   6\n",
      "\n"
     ]
    }
   ],
   "source": [
    "max(A)"
   ]
  },
  {
   "cell_type": "code",
   "execution_count": 38,
   "metadata": {},
   "outputs": [
    {
     "name": "stdout",
     "output_type": "stream",
     "text": [
      "ans =\n",
      "\n",
      "   1   0   1   1\n",
      "\n"
     ]
    }
   ],
   "source": [
    "a < 3 % element-wise operation return a row vector."
   ]
  },
  {
   "cell_type": "code",
   "execution_count": 39,
   "metadata": {},
   "outputs": [
    {
     "name": "stdout",
     "output_type": "stream",
     "text": [
      "ans =\n",
      "\n",
      "   1   3   4\n",
      "\n"
     ]
    }
   ],
   "source": [
    "find(a <3)"
   ]
  },
  {
   "cell_type": "code",
   "execution_count": 40,
   "metadata": {},
   "outputs": [
    {
     "name": "stdout",
     "output_type": "stream",
     "text": [
      "A =\n",
      "\n",
      "   8   1   6\n",
      "   3   5   7\n",
      "   4   9   2\n",
      "\n"
     ]
    }
   ],
   "source": [
    "A = magic(3)"
   ]
  },
  {
   "cell_type": "code",
   "execution_count": 45,
   "metadata": {},
   "outputs": [
    {
     "name": "stdout",
     "output_type": "stream",
     "text": [
      "r =\n",
      "\n",
      "   1\n",
      "   3\n",
      "   2\n",
      "\n",
      "c =\n",
      "\n",
      "   1\n",
      "   2\n",
      "   3\n",
      "\n",
      "ans =  8\n",
      "ans =  9\n",
      "ans =  7\n"
     ]
    }
   ],
   "source": [
    "[r, c] = find(A >=7)\n",
    "A(r(1), c(1))\n",
    "A(r(2), c(2))\n",
    "A(r(3), c(3))"
   ]
  },
  {
   "cell_type": "code",
   "execution_count": 46,
   "metadata": {},
   "outputs": [
    {
     "name": "stdout",
     "output_type": "stream",
     "text": [
      "a =\n",
      "\n",
      "    1.00000   15.00000    2.00000    0.50000\n",
      "\n",
      "ans =  18.500\n",
      "ans =  15\n",
      "ans =\n",
      "\n",
      "    1   15    2    0\n",
      "\n",
      "ans =\n",
      "\n",
      "    1   15    2    1\n",
      "\n"
     ]
    }
   ],
   "source": [
    "a\n",
    "sum(a)\n",
    "prod(a)\n",
    "floor(a)\n",
    "ceil(a)"
   ]
  },
  {
   "cell_type": "code",
   "execution_count": 53,
   "metadata": {},
   "outputs": [
    {
     "name": "stdout",
     "output_type": "stream",
     "text": [
      "a =\n",
      "\n",
      "   0.879481   0.881487   0.365635\n",
      "   0.473730   0.158038   0.867293\n",
      "   0.490340   0.094171   0.146699\n",
      "\n",
      "b =\n",
      "\n",
      "   0.660948   0.554974   0.578476\n",
      "   0.626250   0.860917   0.080758\n",
      "   0.220366   0.267954   0.224261\n",
      "\n"
     ]
    }
   ],
   "source": [
    "a = rand(3)\n",
    "b = rand(3)"
   ]
  },
  {
   "cell_type": "code",
   "execution_count": 56,
   "metadata": {},
   "outputs": [
    {
     "name": "stdout",
     "output_type": "stream",
     "text": [
      "ans =\n",
      "\n",
      "   0.87948   0.88149   0.57848\n",
      "   0.62625   0.86092   0.86729\n",
      "   0.49034   0.26795   0.22426\n",
      "\n"
     ]
    }
   ],
   "source": [
    "max(a, b) % 两个矩阵中的对应元素相比较，返回较大的放在新的矩阵中。"
   ]
  },
  {
   "cell_type": "code",
   "execution_count": 61,
   "metadata": {},
   "outputs": [
    {
     "name": "stdout",
     "output_type": "stream",
     "text": [
      "A =\n",
      "\n",
      "   8   1   6\n",
      "   3   5   7\n",
      "   4   9   2\n",
      "\n",
      "ans =\n",
      "\n",
      "   8   9   7\n",
      "\n",
      "ans =\n",
      "\n",
      "   8   9   7\n",
      "\n",
      "ans =\n",
      "\n",
      "   8\n",
      "   7\n",
      "   9\n",
      "\n"
     ]
    }
   ],
   "source": [
    "A\n",
    "max(A, [], 1) % 1 dim column\n",
    "max(A, [], 2) % 2 dim row"
   ]
  },
  {
   "cell_type": "code",
   "execution_count": 64,
   "metadata": {},
   "outputs": [
    {
     "name": "stdout",
     "output_type": "stream",
     "text": [
      "ans =\n",
      "\n",
      "   8   9   7\n",
      "\n",
      "ans =  9\n",
      "ans =  9\n"
     ]
    }
   ],
   "source": [
    "max(A)\n",
    "max(max(A))\n",
    "max(A(:))"
   ]
  },
  {
   "cell_type": "code",
   "execution_count": 65,
   "metadata": {},
   "outputs": [
    {
     "name": "stdout",
     "output_type": "stream",
     "text": [
      "A =\n",
      "\n",
      "   17   24    1    8   15\n",
      "   23    5    7   14   16\n",
      "    4    6   13   20   22\n",
      "   10   12   19   21    3\n",
      "   11   18   25    2    9\n",
      "\n"
     ]
    }
   ],
   "source": [
    "A = magic(5)"
   ]
  },
  {
   "cell_type": "code",
   "execution_count": 67,
   "metadata": {},
   "outputs": [
    {
     "name": "stdout",
     "output_type": "stream",
     "text": [
      "ans =\n",
      "\n",
      "   65   65   65   65   65\n",
      "\n",
      "ans =\n",
      "\n",
      "   65\n",
      "   65\n",
      "   65\n",
      "   65\n",
      "   65\n",
      "\n"
     ]
    }
   ],
   "source": [
    "sum(A, 1)\n",
    "sum(A, 2)"
   ]
  },
  {
   "cell_type": "code",
   "execution_count": 68,
   "metadata": {},
   "outputs": [
    {
     "name": "stdout",
     "output_type": "stream",
     "text": [
      "I =\n",
      "\n",
      "Diagonal Matrix\n",
      "\n",
      "   1   0   0   0   0\n",
      "   0   1   0   0   0\n",
      "   0   0   1   0   0\n",
      "   0   0   0   1   0\n",
      "   0   0   0   0   1\n",
      "\n"
     ]
    }
   ],
   "source": [
    "I = eye(5)"
   ]
  },
  {
   "cell_type": "code",
   "execution_count": 72,
   "metadata": {},
   "outputs": [
    {
     "name": "stdout",
     "output_type": "stream",
     "text": [
      "ans =\n",
      "\n",
      "   17    0    0    0    0\n",
      "    0    5    0    0    0\n",
      "    0    0   13    0    0\n",
      "    0    0    0   21    0\n",
      "    0    0    0    0    9\n",
      "\n",
      "ans =\n",
      "\n",
      "   17    5   13   21    9\n",
      "\n",
      "ans =  65\n"
     ]
    }
   ],
   "source": [
    "A .* I\n",
    "sum(A .* I)\n",
    "sum(sum(A .* I))"
   ]
  },
  {
   "cell_type": "code",
   "execution_count": 75,
   "metadata": {},
   "outputs": [
    {
     "name": "stdout",
     "output_type": "stream",
     "text": [
      "ans =\n",
      "\n",
      "Permutation Matrix\n",
      "\n",
      "   0   0   0   0   1\n",
      "   0   0   0   1   0\n",
      "   0   0   1   0   0\n",
      "   0   1   0   0   0\n",
      "   1   0   0   0   0\n",
      "\n",
      "ans =\n",
      "\n",
      "   17    5   13   21    9\n",
      "\n",
      "ans =  65\n"
     ]
    }
   ],
   "source": [
    "flipud(I)\n",
    "sum(A .* I)\n",
    "sum(sum(A .* I))"
   ]
  },
  {
   "cell_type": "code",
   "execution_count": 76,
   "metadata": {},
   "outputs": [
    {
     "name": "stdout",
     "output_type": "stream",
     "text": [
      "ans =\n",
      "\n",
      "  -0.0049359   0.0511538  -0.0353846   0.0011538   0.0033974\n",
      "   0.0431410  -0.0373077  -0.0046154   0.0126923   0.0014744\n",
      "  -0.0302564   0.0030769   0.0030769   0.0030769   0.0364103\n",
      "   0.0046795  -0.0065385   0.0107692   0.0434615  -0.0369872\n",
      "   0.0027564   0.0050000   0.0415385  -0.0450000   0.0110897\n",
      "\n",
      "ans =\n",
      "\n",
      "  -0.0049359   0.0511538  -0.0353846   0.0011538   0.0033974\n",
      "   0.0431410  -0.0373077  -0.0046154   0.0126923   0.0014744\n",
      "  -0.0302564   0.0030769   0.0030769   0.0030769   0.0364103\n",
      "   0.0046795  -0.0065385   0.0107692   0.0434615  -0.0369872\n",
      "   0.0027564   0.0050000   0.0415385  -0.0450000   0.0110897\n",
      "\n"
     ]
    }
   ],
   "source": [
    "inv(A)\n",
    "pinv(A) % pseudo-inverse of A"
   ]
  }
 ],
 "metadata": {
  "kernelspec": {
   "display_name": "Octave",
   "language": "octave",
   "name": "octave"
  },
  "language_info": {
   "file_extension": ".m",
   "help_links": [
    {
     "text": "GNU Octave",
     "url": "https://www.gnu.org/software/octave/support.html"
    },
    {
     "text": "Octave Kernel",
     "url": "https://github.com/Calysto/octave_kernel"
    },
    {
     "text": "MetaKernel Magics",
     "url": "https://github.com/calysto/metakernel/blob/master/metakernel/magics/README.md"
    }
   ],
   "mimetype": "text/x-octave",
   "name": "octave",
   "version": "4.0.3"
  }
 },
 "nbformat": 4,
 "nbformat_minor": 2
}
