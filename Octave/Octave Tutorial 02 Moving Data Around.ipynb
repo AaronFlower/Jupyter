{
 "cells": [
  {
   "cell_type": "markdown",
   "metadata": {},
   "source": [
    "## Moving Data Around"
   ]
  },
  {
   "cell_type": "code",
   "execution_count": 6,
   "metadata": {},
   "outputs": [
    {
     "name": "stdout",
     "output_type": "stream",
     "text": [
      "The top 10 example data are: \n",
      "ans =\n",
      "\n",
      "    6.1101   17.5920\n",
      "    5.5277    9.1302\n",
      "    8.5186   13.6620\n",
      "    7.0032   11.8540\n",
      "    5.8598    6.8233\n",
      "    8.3829   11.8860\n",
      "    7.4764    4.3483\n",
      "    8.5781   12.0000\n",
      "    6.4862    6.5987\n",
      "    5.0546    3.8166\n",
      "\n"
     ]
    }
   ],
   "source": [
    "data = load('ex1data1.txt');\n",
    "printf('The top 10 example data are: \\n');\n",
    "data(1:10, :)\n"
   ]
  },
  {
   "cell_type": "code",
   "execution_count": 8,
   "metadata": {},
   "outputs": [
    {
     "name": "stdout",
     "output_type": "stream",
     "text": [
      "The top 10 example data are: \n",
      "ans =\n",
      "\n",
      "     2104        3   399900\n",
      "     1600        3   329900\n",
      "     2400        3   369000\n",
      "     1416        2   232000\n",
      "     3000        4   539900\n",
      "     1985        4   299900\n",
      "     1534        3   314900\n",
      "     1427        3   198999\n",
      "     1380        3   212000\n",
      "     1494        3   242500\n",
      "\n"
     ]
    }
   ],
   "source": [
    "data2 = load('ex1data2.txt');\n",
    "printf('The top 10 example data are: \\n');\n",
    "data2(1:10, :)\n"
   ]
  },
  {
   "cell_type": "code",
   "execution_count": 12,
   "metadata": {},
   "outputs": [
    {
     "name": "stdout",
     "output_type": "stream",
     "text": [
      "v =\n",
      "\n",
      "   399900\n",
      "   329900\n",
      "   369000\n",
      "   232000\n",
      "   539900\n",
      "   299900\n",
      "   314900\n",
      "   198999\n",
      "   212000\n",
      "   242500\n",
      "\n"
     ]
    }
   ],
   "source": [
    "prices = data2(:,3);\n",
    "v = prices(1:10)"
   ]
  },
  {
   "cell_type": "code",
   "execution_count": 13,
   "metadata": {},
   "outputs": [
    {
     "name": "stdout",
     "output_type": "stream",
     "text": [
      "Variables in the current scope:\n",
      "\n",
      "   Attr Name        Size                     Bytes  Class\n",
      "   ==== ====        ====                     =====  ===== \n",
      "        ans        10x1                         80  double\n",
      "        data       97x2                       1552  double\n",
      "        data2      47x3                       1128  double\n",
      "        prices     47x1                        376  double\n",
      "        v          10x1                         80  double\n",
      "\n",
      "Total is 402 elements using 3216 bytes\n",
      "\n"
     ]
    }
   ],
   "source": [
    "whos"
   ]
  },
  {
   "cell_type": "code",
   "execution_count": 14,
   "metadata": {},
   "outputs": [],
   "source": [
    "save prices.mat v;"
   ]
  },
  {
   "cell_type": "code",
   "execution_count": 15,
   "metadata": {},
   "outputs": [],
   "source": [
    "clear % clear up the memory."
   ]
  },
  {
   "cell_type": "code",
   "execution_count": 16,
   "metadata": {},
   "outputs": [],
   "source": [
    "whos % check variables, there's no variables because we have clear up the variables."
   ]
  },
  {
   "cell_type": "code",
   "execution_count": 17,
   "metadata": {},
   "outputs": [],
   "source": [
    "% load\n",
    "load prices.mat"
   ]
  },
  {
   "cell_type": "code",
   "execution_count": 18,
   "metadata": {
    "scrolled": true
   },
   "outputs": [
    {
     "name": "stdout",
     "output_type": "stream",
     "text": [
      "Variables in the current scope:\n",
      "\n",
      "   Attr Name        Size                     Bytes  Class\n",
      "   ==== ====        ====                     =====  ===== \n",
      "        v          10x1                         80  double\n",
      "\n",
      "Total is 10 elements using 80 bytes\n",
      "\n"
     ]
    }
   ],
   "source": [
    "whos"
   ]
  },
  {
   "cell_type": "code",
   "execution_count": 19,
   "metadata": {},
   "outputs": [
    {
     "name": "stdout",
     "output_type": "stream",
     "text": [
      "v =\n",
      "\n",
      "   399900\n",
      "   329900\n",
      "   369000\n",
      "   232000\n",
      "   539900\n",
      "   299900\n",
      "   314900\n",
      "   198999\n",
      "   212000\n",
      "   242500\n",
      "\n"
     ]
    }
   ],
   "source": [
    "v"
   ]
  },
  {
   "cell_type": "code",
   "execution_count": 20,
   "metadata": {},
   "outputs": [],
   "source": [
    "save prices.txt v -ascii % save to plain text file."
   ]
  },
  {
   "cell_type": "code",
   "execution_count": 22,
   "metadata": {},
   "outputs": [
    {
     "name": "stdout",
     "output_type": "stream",
     "text": [
      "p =\n",
      "\n",
      "   399900\n",
      "   329900\n",
      "   369000\n",
      "   232000\n",
      "   539900\n",
      "   299900\n",
      "   314900\n",
      "   198999\n",
      "   212000\n",
      "   242500\n",
      "\n"
     ]
    }
   ],
   "source": [
    "p = load('prices.txt')"
   ]
  },
  {
   "cell_type": "code",
   "execution_count": 23,
   "metadata": {},
   "outputs": [
    {
     "name": "stdout",
     "output_type": "stream",
     "text": [
      "ans = /Users/easonzhan/learning/myJupyter/Octave\n"
     ]
    }
   ],
   "source": [
    "pwd"
   ]
  },
  {
   "cell_type": "code",
   "execution_count": 24,
   "metadata": {},
   "outputs": [
    {
     "name": "stdout",
     "output_type": "stream",
     "text": [
      "Octave Tutorial 01.ipynb\n",
      "Octave Tutorial 02 Moving Data Around.ipynb\n",
      "Octave Tutorial Computing On Data.ipynb\n",
      "ex1data1.txt\n",
      "ex1data2.txt\n",
      "octave-workspace\n",
      "prices.mat\n",
      "prices.txt\n"
     ]
    }
   ],
   "source": [
    "ls"
   ]
  }
 ],
 "metadata": {
  "kernelspec": {
   "display_name": "Octave",
   "language": "octave",
   "name": "octave"
  },
  "language_info": {
   "file_extension": ".m",
   "help_links": [
    {
     "text": "GNU Octave",
     "url": "https://www.gnu.org/software/octave/support.html"
    },
    {
     "text": "Octave Kernel",
     "url": "https://github.com/Calysto/octave_kernel"
    },
    {
     "text": "MetaKernel Magics",
     "url": "https://github.com/calysto/metakernel/blob/master/metakernel/magics/README.md"
    }
   ],
   "mimetype": "text/x-octave",
   "name": "octave",
   "version": "4.0.3"
  }
 },
 "nbformat": 4,
 "nbformat_minor": 2
}
