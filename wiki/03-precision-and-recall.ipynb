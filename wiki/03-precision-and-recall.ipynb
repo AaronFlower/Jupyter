{
 "cells": [
  {
   "cell_type": "markdown",
   "metadata": {},
   "source": [
    "### 精确率与召回率\n",
    "\n",
    "对于一个二元分类器。其**混淆矩阵(confusion matrix)** 也称为**列联表(contingency table)** 可以用如下的表表示：\n",
    "\n",
    "|- |P|N|\n",
    "|------|------|------|\n",
    "|**P'**|   TP |  FP  |\n",
    "|**N'**|   FN |  TN  |\n",
    "\n",
    "- **召回率** 所有分类正确的样本与真正样本个数的比例。$R = \\frac{TP}{TP + FN}$\n",
    "- **精确率** 所有分类正确的样本与被判定为正样本个数的比例。$P = \\frac{TP}{TP + FP}$ \n",
    "- F1-Score:\n",
    "\n",
    "$$\n",
    "F1 = \\frac{2 \\times P \\times R}{P + R}\n",
    "$$\n"
   ]
  },
  {
   "cell_type": "markdown",
   "metadata": {},
   "source": [
    "ROC 曲线能够尽量降低不同测试集带来的干扰，更加客观的衡量模型本身的性能。而选择不同的测试集，P-R 曲线的变化就会非常大。"
   ]
  }
 ],
 "metadata": {
  "kernelspec": {
   "display_name": "Python 3",
   "language": "python",
   "name": "python3"
  },
  "language_info": {
   "codemirror_mode": {
    "name": "ipython",
    "version": 3
   },
   "file_extension": ".py",
   "mimetype": "text/x-python",
   "name": "python",
   "nbconvert_exporter": "python",
   "pygments_lexer": "ipython3",
   "version": "3.7.4"
  }
 },
 "nbformat": 4,
 "nbformat_minor": 2
}
