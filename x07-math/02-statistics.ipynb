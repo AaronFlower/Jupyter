{
 "cells": [
  {
   "cell_type": "markdown",
   "metadata": {},
   "source": [
    "## 统计学\n",
    "\n",
    "### 1. 统计学名词\n",
    "\n",
    "1. 众数 (mode)\n",
    "2. 中位数 (median)\n",
    "3. 四分位数 (quartitle)\n",
    "4. 百分位数 (percentitle)\n",
    "5. 二分位数 (Decicle)\n",
    "6. 均值 (Mean)\n",
    "7. 算术平均\n",
    "8. 几何平均\n",
    "9. 倒数平均(调和平均)\n",
    "10. 切尾平均 (trimmed mean)\n",
    "11. 移动平均"
   ]
  }
 ],
 "metadata": {
  "kernelspec": {
   "display_name": "Python 3",
   "language": "python",
   "name": "python3"
  },
  "language_info": {
   "codemirror_mode": {
    "name": "ipython",
    "version": 3
   },
   "file_extension": ".py",
   "mimetype": "text/x-python",
   "name": "python",
   "nbconvert_exporter": "python",
   "pygments_lexer": "ipython3",
   "version": "3.7.4"
  }
 },
 "nbformat": 4,
 "nbformat_minor": 2
}
