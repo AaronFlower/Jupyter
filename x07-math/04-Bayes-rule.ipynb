{
 "cells": [
  {
   "cell_type": "markdown",
   "metadata": {},
   "source": [
    "### Bayes Statistics"
   ]
  },
  {
   "cell_type": "markdown",
   "metadata": {},
   "source": [
    "Bayes Rule 的关键点：\n",
    "1. 给出先验概率（prior)\n",
    "2. 给出数据来验证\n",
    "\n",
    "后验(posterior)概率与先验概率成比例。\n",
    "\n",
    "$$\n",
    "P(\\Theta|data) \\propto P(\\Theta)P(data|\\Theta)\n",
    "$$\n",
    "\n",
    "- $P(\\Theta)$ 是先验概率 ；\n",
    "- $P(\\Theta|data)$ 是后验概率 ；\n",
    "- $P(data|\\Theta)$ 是在确定先验概率后果的观测数据概率；\n",
    "\n",
    "#### 例子\n",
    "\n",
    "##### 设置先验概率\n",
    "\n",
    "1. 抛硬币为正(head)的先验概率: $P(\\text{Toss is head})= 0.5$\n",
    "2. 她会喜欢我的概率: $P(\\text{she likes me}) = 0.2$\n",
    "\n",
    "##### 用数据验证我们的先验概率 \n",
    "\n",
    "1. $P(\\text{3 heads in 3 tosses}) = 0.9 $, 那可能我们硬币是被做过手脚了，就不是 0.5 的均匀先验概率了。\n",
    "1. $P(\\text{每天向我主动打招呼}) = 0.8 $, 那可能她真的是喜欢我了，那关于她的先验概率也是不准确的，需要我们调整。\n",
    "\n",
    "##### 后验概率\n",
    "\n",
    "当先验概率是正确的，那么我们可以根据数据来计算出我们想要的后验概率。\n",
    "\n",
    "先验概率一般可以从样本集中统计出来，比如：1000 封邮件，800 个 Ham, 200 spam, 那我们可以得到一个先验概率：\n",
    "- $p(y = ham) = 0.8$\n",
    "- $p(y = spam) = 0.2,$\n",
    "\n",
    "那么我们后难概率就是：一封新的邮件 x 是 spam 还是 ham 的概率， 为：\n",
    "\n",
    "- $p(y=ham|x) \\propto p(y=ham)p(x|ham)$\n",
    "- $p(y=spam|x) \\propto p(y=spam)p(x|spam)$\n",
    "\n",
    "一般 $p(x|ham)$ 可以根据单词出现的频率来统计，是根据先验观测出来的。"
   ]
  },
  {
   "cell_type": "markdown",
   "metadata": {},
   "source": [
    "1. [Flirting — An Exercise in Bayesian Statistics](https://towardsdatascience.com/flirting-an-exercise-in-bayesian-statistics-61de2bf73814)"
   ]
  }
 ],
 "metadata": {
  "kernelspec": {
   "display_name": "Python 3",
   "language": "python",
   "name": "python3"
  },
  "language_info": {
   "codemirror_mode": {
    "name": "ipython",
    "version": 3
   },
   "file_extension": ".py",
   "mimetype": "text/x-python",
   "name": "python",
   "nbconvert_exporter": "python",
   "pygments_lexer": "ipython3",
   "version": "3.7.5"
  }
 },
 "nbformat": 4,
 "nbformat_minor": 2
}
