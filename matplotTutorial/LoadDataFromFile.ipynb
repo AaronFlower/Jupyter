{
 "cells": [
  {
   "cell_type": "code",
   "execution_count": 2,
   "metadata": {
    "collapsed": false
   },
   "outputs": [
    {
     "data": {
      "image/png": "[encoded data removed]",
      "text/plain": [
       "<matplotlib.figure.Figure at 0x104688ef0>"
      ]
     },
     "metadata": {},
     "output_type": "display_data"
    }
   ],
   "source": [
    "'''\n",
    "使用 python 内置 csv 模块来读取 csv 文件。\n",
    "'''\n",
    "import matplotlib.pyplot as plt\n",
    "import csv\n",
    "\n",
    "x = []\n",
    "y = []\n",
    "with open('example.csv') as csvfile:\n",
    "    plots = csv.reader(csvfile, delimiter = ',')\n",
    "    for row in plots:\n",
    "        x.append(int(row[0]))\n",
    "        y.append(int(row[1]))\n",
    "plt.plot(x,y)\n",
    "plt.show()"
   ]
  },
  {
   "cell_type": "code",
   "execution_count": 6,
   "metadata": {
    "collapsed": false
   },
   "outputs": [
    {
     "name": "stdout",
     "output_type": "stream",
     "text": [
      "[ 2.  3.]\n",
      "[ 2.  3.]\n",
      "[ 3.  4.]\n",
      "[ 1.  4.]\n",
      "[ 5.  6.]\n",
      "[ 6.  5.]\n",
      "[ 7.  8.]\n"
     ]
    },
    {
     "data": {
      "image/png": "[encoded data removed]",
      "text/plain": [
       "<matplotlib.figure.Figure at 0x105e3c128>"
      ]
     },
     "metadata": {},
     "output_type": "display_data"
    }
   ],
   "source": [
    "'''\n",
    "使用 numpy 来加载文本文件，速度更快更方便。\n",
    "'''\n",
    "import numpy as py\n",
    "import matplotlib.pyplot as plt\n",
    "\n",
    "rows = py.loadtxt('example.csv', delimiter = ',', unpack = False) # unpack 指的是是否解析，为 False 时会按行返回。\n",
    "for row in rows:\n",
    "    print(row)\n",
    "\n",
    "x, y = py.loadtxt('example.csv', delimiter = ',', unpack = True)\n",
    "plt.scatter(x, y)\n",
    "plt.show()"
   ]
  }
 ],
 "metadata": {
  "kernelspec": {
   "display_name": "Python 3",
   "language": "python",
   "name": "python3"
  },
  "language_info": {
   "codemirror_mode": {
    "name": "ipython",
    "version": 3
   },
   "file_extension": ".py",
   "mimetype": "text/x-python",
   "name": "python",
   "nbconvert_exporter": "python",
   "pygments_lexer": "ipython3",
   "version": "3.6.0"
  }
 },
 "nbformat": 4,
 "nbformat_minor": 2
}
