{
 "cells": [
  {
   "cell_type": "markdown",
   "metadata": {},
   "source": [
    "## 基本概念\n",
    "\n",
    "Matplotlib 的目的是为了让用户方便的对数据进行可视化。在 matplotlib 中所有元素都是结构化组织的，在 matplotlib 最上层的 matplotlib.pyplot 组件提供一个“状态机环境(state-machine environment)”，在这一层通过简单的函数就可以实现在当前 figure (current figure) 的当前 axes (current axes) 上添加绘图元素(plot elements), 如：线, 图片，文字等。\n",
    "\n",
    "接下来的一层（next level）是使用最上层创建的对象的接口。一般最上层仅仅用来创建 figure 和 axes 对象供下一级使用。\n",
    "\n",
    "## Figure 的构成元素\n",
    "<img src=\"./figureParts.png\" width=\"580px\">"
   ]
  },
  {
   "cell_type": "markdown",
   "metadata": {},
   "source": [
    "### Figure\n",
    "Figure 保存对所有 axes 的引用，一个 Figure 至少有一个 axes. 创建 Figure 最简单的方法是使用 pyplot 来创建：\n",
    "```\n",
    "fig = plt.figure()\n",
    "```\n",
    "### Axes\n",
    "注意: Axes 与 Axis 的区别。"
   ]
  }
 ],
 "metadata": {
  "kernelspec": {
   "display_name": "Python 3",
   "language": "python",
   "name": "python3"
  },
  "language_info": {
   "codemirror_mode": {
    "name": "ipython",
    "version": 3
   },
   "file_extension": ".py",
   "mimetype": "text/x-python",
   "name": "python",
   "nbconvert_exporter": "python",
   "pygments_lexer": "ipython3",
   "version": "3.6.0"
  }
 },
 "nbformat": 4,
 "nbformat_minor": 2
}
