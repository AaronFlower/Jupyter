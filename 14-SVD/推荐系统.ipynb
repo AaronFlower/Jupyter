{
 "cells": [
  {
   "cell_type": "markdown",
   "metadata": {},
   "source": [
    "## 推荐系统\n",
    "### 推荐系统评测标准\n",
    "\n",
    "#### 1. 预测准确度\n",
    "##### 1.1  评分推荐\n",
    "\n",
    "对于评分推荐，一般使用 *均方误差 RMSE, root-mean-square deviation (RMSD) or root-mean-square error (RMSE)* 来衡量。\n",
    "\n",
    "$$\n",
    "\\operatorname {RMSD} ={\\sqrt {\\frac {\\sum _{t=1}^{T}({\\hat {r}}_{ui}-r_{ui})^{2}}{T}}}\n",
    "$$\n",
    "\n",
    "或用平均绝对误差：\n",
    "\n",
    "$$\n",
    "{\\displaystyle \\mathrm {MAE} ={\\frac {\\sum _{i=1}^{n}\\left|\\hat{r_{ui}}-r_{ui}\\right|}{n}}.}\n",
    "$$\n",
    "\n",
    "##### 1.2 Top K 推荐\n",
    "对于 Top K 推荐则使用准确率 Precision 和 召回率 Recall 来评估。\n",
    "\n",
    "准确率：检索的的项有多少是正确的，\n",
    "\n",
    "$$\n",
    "{\\displaystyle {\\text{precision}}={\\frac {|\\{{\\text{relevant documents}}\\}\\cap \\{{\\text{retrieved documents}}\\}|}{|\\{{\\text{retrieved documents}}\\}|}}}\n",
    "$$\n",
    "\n",
    "召回率：相关的项有多少项被检索找回，\n",
    "\n",
    "$$\n",
    "{\\displaystyle {\\text{recall}}={\\frac {|\\{{\\text{relevant documents}}\\}\\cap \\{{\\text{retrieved documents}}\\}|}{|\\{{\\text{relevant documents}}\\}|}}}\n",
    "$$\n",
    "\n",
    "<img src=\"precision-recall.png\" alt=\"准确率与召回率\" style=\"width: 300px;\"/>\n",
    "\n",
    "一般说来，Top K 推荐比评分推荐更重要。\n",
    "\n",
    "#### 2. 覆盖率 (coverage)\n",
    "\n",
    "覆盖率描述一个推荐系统对物品长尾的发掘能力。推荐系统的覆盖率可以通过下面的式子计算。所有用户推荐的物品和与物品总数之比。\n",
    "\n",
    "$$\n",
    "coverage = \\frac {\\left|\\cup _{u \\in \\cup}R(u)\\right|}{I}\n",
    "$$\n",
    "\n",
    "但是上面的覆盖率定义有些过于粗略。如果覆盖率为 100%，所有物品的分布可以用无数中组合，怎么衡量物品分布次数那？可以用我香农熵或基尼系数来描述覆盖物品的流行度。\n",
    "\n",
    "香农熵：\n",
    "\n",
    "$$\n",
    "H = - \\sum_{i=1}^{n} p(i)  \\log{p(i)}\n",
    "$$\n",
    "\n",
    "基尼系数 （Gini Index）：\n",
    "\n",
    "$$\n",
    "G = \\frac{1}{n - 1} \\sum_{j=1}^{n}(2j - n - 1)p(i_{j})\n",
    "$$\n",
    "\n",
    "在决策树上也会用到这两个数值定义。"
   ]
  },
  {
   "cell_type": "markdown",
   "metadata": {},
   "source": [
    "怎样判断推荐系统是否具有马太效应那？假设 G1 是初始用户计算出的物品流行度的基尼系数； G2 是推荐系统推荐物品计算的物品流行度基尼系数。如果 G2 > G1 那么就说明我们的推荐系统具有马太效应了。"
   ]
  },
  {
   "cell_type": "markdown",
   "metadata": {},
   "source": [
    "#### 3. 多样性\n",
    "#### 4. 新颖性\n",
    "#### 5. 惊喜度"
   ]
  },
  {
   "cell_type": "markdown",
   "metadata": {},
   "source": [
    "### 推荐系统模型\n",
    "#### 协同过滤 (Collabrative Filtering)\n",
    "UserCF: 新闻时刻发生。\n",
    "ItemCF: 电商，电影，视频等。\n",
    "    \n",
    "#### SVD 的隐语义模型\n",
    "基于 SVD 来实现。"
   ]
  }
 ],
 "metadata": {
  "kernelspec": {
   "display_name": "Python 3",
   "language": "python",
   "name": "python3"
  },
  "language_info": {
   "codemirror_mode": {
    "name": "ipython",
    "version": 3
   },
   "file_extension": ".py",
   "mimetype": "text/x-python",
   "name": "python",
   "nbconvert_exporter": "python",
   "pygments_lexer": "ipython3",
   "version": "3.7.0"
  }
 },
 "nbformat": 4,
 "nbformat_minor": 2
}
