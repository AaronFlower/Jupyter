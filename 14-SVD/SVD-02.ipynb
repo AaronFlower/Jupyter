{
 "cells": [
  {
   "cell_type": "markdown",
   "metadata": {},
   "source": [
    "## SVD 应用 -- 推荐系统\n",
    "\n",
    "SVD 的另一个应用就是推荐系统了。其原理是先用 SVD 构建一个主题空间，然后在该空间下计算 items 之间的相似度。\n",
    "\n",
    "### 奇异值怎么保留？\n",
    "\n",
    "在上一节的例子中，我们是直接保留前两个奇异值的。一个能用的文案是将奇异值从大到小依次相加累计合达到 90% 以上就可以了。\n",
    "\n",
    "### 相似度计算的方法\n",
    "\n",
    "介绍三个方法，这三种方法我都将其值域限制在 [0, 1] 中，值越接近于 1 就越相似，而越接近于 0 就越不相似。\n",
    "\n",
    "1. 欧氏距离\n",
    "最简单的计算方法即：\n",
    "\n",
    "$$\n",
    "{\\displaystyle {\\begin{aligned}d(\\mathbf {p} ,\\mathbf {q} )=d(\\mathbf {q} ,\\mathbf {p} )&={\\sqrt {(q_{1}-p_{1})^{2}+(q_{2}-p_{2})^{2}+\\cdots +(q_{n}-p_{n})^{2}}}\\\\[8pt]&={\\sqrt {\\sum _{i=1}^{n}(q_{i}-p_{i})^{2}}}.\\end{aligned}}} \n",
    "$$\n",
    "\n",
    "若两个向量相等则，欧氏距离为 0，即最相似。为了和我们值域定义相一致，我们用公式来做下调解，即 \n",
    "\n",
    "$$ sim = \\frac {1} {1 + d(\\textbf{p}, \\textbf{q})} $$\n",
    "\n",
    "2. cosine \n",
    "\n",
    "cosine 相似公式如下：\n",
    "$$\n",
    "{\\displaystyle \\cos(\\theta )={\\mathbf {A} \\cdot \\mathbf {B} \\over \\|\\mathbf {A} \\|\\|\\mathbf {B} \\|}={\\frac {\\sum \\limits _{i=1}^{n}{A_{i}B_{i}}}{{\\sqrt {\\sum \\limits _{i=1}^{n}{A_{i}^{2}}}}{\\sqrt {\\sum \\limits _{i=1}^{n}{B_{i}^{2}}}}}},} \n",
    "$$\n",
    "\n",
    "cosine 的值域范围是 [-1, 1] 之间，我们将值域除 2，再加上 0.5, 将其变换到 [0, 1] 中，即有下面的公式:\n",
    "\n",
    "$$\n",
    "{\\displaystyle sim = 0.5 + 0.5 \\times {\\mathbf {A} \\cdot \\mathbf {B} \\over \\|\\mathbf {A} \\|\\|\\mathbf {B} \\|}} \n",
    "$$\n",
    "\n",
    "3. 皮尔逊相关系数\n",
    "\n",
    "皮尔逊系数是概率中引入的，计算方法如下：\n",
    "\n",
    "$$\n",
    "{\\displaystyle \\rho _{X,Y}={\\frac {\\operatorname {cov} (X,Y)}{\\sigma _{X}\\sigma _{Y}}}}\n",
    "$$\n",
    "\n",
    "其中,\n",
    "- $ \\operatorname {cov(X, Y)} $ 是协方差, ${cov(X, Y)} = E\\{ [X - E(X)] [Y - E(Y)] \\}$。\n",
    "- $\\sigma _{X}$ 是 X 的标准方差。\n",
    "- $\\sigma _{Y}$ 是 Y 的标准方差。\n",
    "\n",
    "皮尔逊系数的值域也是 [-1, 1], 为了保持一致我们也做一下转换，即：\n",
    "\n",
    "$$\n",
    " sim = 0.5 + 0.5 \\times \\rho_{X,Y}\n",
    "$$\n",
    "\n",
    "通过下面的图，可以看出两个随机变量的皮尔逊系数，表示相关度还是可以的，但是距离的话，同一量级会有点问题。\n",
    "![两个随机变量之间的皮尔逊相关系数](correlation.png)\n",
    "\n",
    "**注意：** 皮尔逊系数对量级并不敏感，即如果一个向量全是 5，而另一个向量全是 1，那么皮尔逊相关系统会认为是一致的。"
   ]
  },
  {
   "cell_type": "code",
   "execution_count": null,
   "metadata": {},
   "outputs": [],
   "source": []
  }
 ],
 "metadata": {
  "kernelspec": {
   "display_name": "Python 3",
   "language": "python",
   "name": "python3"
  },
  "language_info": {
   "codemirror_mode": {
    "name": "ipython",
    "version": 3
   },
   "file_extension": ".py",
   "mimetype": "text/x-python",
   "name": "python",
   "nbconvert_exporter": "python",
   "pygments_lexer": "ipython3",
   "version": "3.7.0"
  }
 },
 "nbformat": 4,
 "nbformat_minor": 2
}
