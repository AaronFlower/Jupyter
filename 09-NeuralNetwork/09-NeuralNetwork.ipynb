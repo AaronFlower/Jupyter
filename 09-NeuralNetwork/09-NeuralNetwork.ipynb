{
 "cells": [
  {
   "cell_type": "markdown",
   "metadata": {},
   "source": [
    "## Neural Network\n",
    "\n",
    "构建一个神经网络来认识数字 MNIST。 \n"
   ]
  },
  {
   "cell_type": "code",
   "execution_count": 32,
   "metadata": {},
   "outputs": [],
   "source": [
    "### 初始化加载库\n",
    "import matplotlib\n",
    "import matplotlib.pyplot as plt\n",
    "import numpy as np"
   ]
  },
  {
   "cell_type": "markdown",
   "metadata": {},
   "source": [
    "### 1. 加载数据 \n",
    "首先看一下数据长什么样子。这样最直观。\n"
   ]
  },
  {
   "cell_type": "code",
   "execution_count": 65,
   "metadata": {},
   "outputs": [],
   "source": [
    "# Standard library\n",
    "import pickle\n",
    "import gzip\n",
    "\n",
    "# Third-party libraries\n",
    "import numpy as np\n",
    "\n",
    "def load_data ():\n",
    "    \"\"\"\n",
    "        返回: (train_data, val_date, test_data)\n",
    "    \"\"\"\n",
    "    f = gzip.open('./mnist.pkl.gz', 'rb')\n",
    "    train_data, val_data, test_data = pickle.load(f, encoding='bytes')\n",
    "    f.close()\n",
    "    return (train_data, val_data, test_data)\n",
    "\n",
    "def load_data_wrapper ():\n",
    "    \"\"\"\n",
    "        由于进行数字认识是一个多分类(multi-classifier)问题，\n",
    "        所以可以对训练数据进行下预处理:\n",
    "             1. 使样本的特征的 shape 从 (784,) 变成 (784, 1)\n",
    "             2. 使分类标签变量变成 (10, 1) , 仅针对训练数据。\n",
    "    \"\"\"\n",
    "    train_data, val_data, test_data = load_data()\n",
    "    train_X = [x.reshape(784, 1) for x in train_data[0]]\n",
    "    train_y = [vectorize(y) for y in train_data[1]]\n",
    "    \n",
    "    val_X = [x.reshape(784, 1) for x in val_data[0]]\n",
    "    test_X = [x.reshape(784, 1) for x in test_data[0]]\n",
    "    \n",
    "    return (\n",
    "        zip(train_X, train_y), \n",
    "        zip(val_X, val_data[1]),\n",
    "        zip(test_X, test_data[1])\n",
    "    )\n",
    "\n",
    "def vectorize(y):\n",
    "    '''\n",
    "        返回一个 shape 为 (10, 1) 的 column vector.\n",
    "    '''\n",
    "    e = np.zeros((10, 1))\n",
    "    e[y] = 1.0\n",
    "    return e\n",
    "    \n",
    "def get_images (data):\n",
    "    images, _ = data\n",
    "    return [img.reshape(28, -1) for img in images]\n",
    "\n",
    "def plot_images6 (images):\n",
    "    \"Random plot six MNIST images separately\"\n",
    "    ilist = np.random.permutation(range(len(images)))\n",
    "    fig = plt.figure()\n",
    "    for j in range(1, 7):\n",
    "        ax = fig.add_subplot(1, 6, j)\n",
    "        ax.matshow(images[ilist[j]], cmap = matplotlib.cm.binary)\n",
    "        plt.xticks(np.array([]))\n",
    "        plt.yticks(np.array([]))\n",
    "    plt.show()"
   ]
  },
  {
   "cell_type": "code",
   "execution_count": 48,
   "metadata": {},
   "outputs": [],
   "source": [
    "train_data, val_data, test_data = load_data()"
   ]
  },
  {
   "cell_type": "code",
   "execution_count": 56,
   "metadata": {},
   "outputs": [
    {
     "name": "stdout",
     "output_type": "stream",
     "text": [
      "\n",
      " train_data <class 'tuple'> 2\n",
      "X: <class 'numpy.ndarray'> (50000, 784) (784,)\n",
      "y: <class 'numpy.ndarray'> (50000,)\n",
      "\n",
      " val_data <class 'tuple'> 2\n",
      "X: <class 'numpy.ndarray'> (10000, 784) (784,)\n",
      "y: <class 'numpy.ndarray'> (10000,)\n",
      "\n",
      " test_data <class 'tuple'> 2\n",
      "X: <class 'numpy.ndarray'> (10000, 784) (784,)\n",
      "y: <class 'numpy.ndarray'> (10000,)\n"
     ]
    }
   ],
   "source": [
    "def printDataInfo(data, name):\n",
    "    print(\"\\n\", name, type(data), len(data))\n",
    "    X, y = data\n",
    "    print('X:', type(X), X.shape, X[0].shape)\n",
    "    print('y:', type(y), y.shape)\n",
    "    \n",
    "printDataInfo(train_data, 'train_data')\n",
    "printDataInfo(val_data, 'val_data')\n",
    "printDataInfo(test_data, 'test_data')"
   ]
  },
  {
   "cell_type": "markdown",
   "metadata": {},
   "source": [
    "从上面可以看出，我们的数据集共有 `70,000` 个样本，每一个样本是 `28 * 28 = 784` 个像素所组成的图片。\n",
    "\n",
    "我们将 `70,000` 个样本分成：\n",
    "\n",
    "    - 训练数据, training data: 50,000\n",
    "    - 验证数据, validation data: 10,000\n",
    "    - 测试数据, test data: 10,000"
   ]
  },
  {
   "cell_type": "code",
   "execution_count": 57,
   "metadata": {
    "scrolled": true
   },
   "outputs": [
    {
     "data": {
      "image/png": "[encoded data removed]",
      "text/plain": [
       "<Figure size 432x288 with 6 Axes>"
      ]
     },
     "metadata": {},
     "output_type": "display_data"
    }
   ],
   "source": [
    "images = get_images(train_data)\n",
    "plot_images6(images)"
   ]
  },
  {
   "cell_type": "markdown",
   "metadata": {},
   "source": [
    "### 验证下准备数据"
   ]
  },
  {
   "cell_type": "code",
   "execution_count": 74,
   "metadata": {},
   "outputs": [],
   "source": [
    "def printData(data, name):\n",
    "    print(\"\\n\", name, type(data))\n",
    "    X, y = data\n",
    "    print('X:', type(X), X.shape)\n",
    "    print('y:', type(y), y.shape)\n",
    "    \n",
    "train_data, val_data, test_data = load_data_wrapper()  \n",
    "# print(type(train_data), train_data[0])\n",
    "# print(list(train_data))\n",
    "# printData(train_data, 'train_data')\n",
    "# printData(val_data, 'val_data')\n",
    "# printData(test_data, 'test_data')"
   ]
  },
  {
   "cell_type": "markdown",
   "metadata": {},
   "source": [
    "### 模型构建"
   ]
  },
  {
   "cell_type": "code",
   "execution_count": 90,
   "metadata": {},
   "outputs": [],
   "source": [
    "\"\"\"\n",
    "实现随机梯度下降版的 NN\n",
    "\"\"\"\n",
    "import random\n",
    "import numpy as np\n",
    "\n",
    "class Network(object):\n",
    "    \n",
    "    def __init__(self, sizes):\n",
    "        '''\n",
    "            sizes 是 NN 每层的单元数。\n",
    "            Ex: sizes = [2, 3, 1]\n",
    "            则说明，NN 共有 3 层，即一个输入层，一个隐藏层和一个输出层，\n",
    "            每层的单元个数，分别是 2, 3, 1.\n",
    "            我们为每层的参数进行初始化。\n",
    "            注意：输入层是没有偏置 bias 参数的。\n",
    "        '''\n",
    "        self.num_layers = len(sizes)\n",
    "        self.sizes = sizes\n",
    "        self.biases = [np.random.randn(nLayer, 1) for nLayer in sizes[1:]]\n",
    "        self.weights = [np.random.randn(nLayer, nPreLayer)\n",
    "                        for nLayer, nPreLayer in zip(sizes[1:], sizes[:-1])]\n",
    "        \n",
    "    def FP(self, a):\n",
    "        '''\n",
    "            使用 Feed Forward 将 a 作为输入参数，返回输出层。\n",
    "        '''\n",
    "        for b, w in zip(self.biases, self.weights):\n",
    "            a = sigmoid(np.dot(w, a) + b)\n",
    "        return a\n",
    "    \n",
    "    def StochasticGD(self, train_data, epochs, mini_batch_size, alpha\n",
    "                    test_data = None):\n",
    "       '''\n",
    "           使用 mini-batch stochastic gradient descent 来训练模型。\n",
    "       '''\n",
    "        if test_data: n_test = len(test_data)\n",
    "        n = len(train_data)\n",
    "        for i in range(epochs):\n",
    "            random.shuffle(train_data)\n",
    "            mini_batches = [train_data[k: k + mini_batch_size] \n",
    "                            for k range(0, n, mini_batch_size)]\n",
    "            \n",
    "            for mini_batch in mini_batches:\n",
    "                self.update_mini_batch(mini_batch, alpha)\n",
    "            if test_data:\n",
    "                print(\"Epoch {0}: {1} / {2}\".format(\n",
    "                    i, self.evaluate(test_data), n_test\n",
    "                ))\n",
    "            else:\n",
    "                print(\"Epock {0} complete\".format(i))\n",
    "    \n",
    "    def update_mini_batch(self, mini_batch, alpha):\n",
    "        '''\n",
    "            使用 BP 来更新参数。\n",
    "        '''\n",
    "    def BP(self, x, y):\n",
    "        '''\n",
    "            实现 BP。返回一个元组 `(Nabla_b, Nabla_w)`\n",
    "        '''\n",
    "        \n",
    "                                        \n",
    "    \n",
    "\n",
    "### Miscellaneous functions\n",
    "def sigmoid(z):\n",
    "    ''' The sigmoid function '''\n",
    "    return 1.0 / (1.0 + np.exp(-z))\n",
    "\n",
    "def sigmoid_prime(z):\n",
    "    ''' Derivative of the sigmoid function '''\n",
    "    return sigmoid(z) * (1 - sigmoid(z))\n",
    "        "
   ]
  },
  {
   "cell_type": "markdown",
   "metadata": {},
   "source": [
    "### Delta 与 Nabla\n",
    "Delta 𝚫 和 Nabla 𝛁 一般都可表示微分符号，一般都称为 Laplace operator。"
   ]
  },
  {
   "cell_type": "code",
   "execution_count": 91,
   "metadata": {},
   "outputs": [
    {
     "name": "stdout",
     "output_type": "stream",
     "text": [
      "(1,)\n",
      "(3, 1)\n"
     ]
    },
    {
     "data": {
      "text/plain": [
       "array([[0.37811898],\n",
       "       [0.65908777]])"
      ]
     },
     "execution_count": 91,
     "metadata": {},
     "output_type": "execute_result"
    }
   ],
   "source": [
    "sizes = [3, 4, 4, 2]\n",
    "nn = Network(sizes)\n",
    "X = np.random.randn(3, 1)\n",
    "print(X[0].shape)\n",
    "\n",
    "print(X.shape)\n",
    "nn.FP(X)"
   ]
  }
 ],
 "metadata": {
  "kernelspec": {
   "display_name": "Python 3",
   "language": "python",
   "name": "python3"
  },
  "language_info": {
   "codemirror_mode": {
    "name": "ipython",
    "version": 3
   },
   "file_extension": ".py",
   "mimetype": "text/x-python",
   "name": "python",
   "nbconvert_exporter": "python",
   "pygments_lexer": "ipython3",
   "version": "3.7.0"
  }
 },
 "nbformat": 4,
 "nbformat_minor": 2
}
