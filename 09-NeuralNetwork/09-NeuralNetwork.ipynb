{
 "cells": [
  {
   "cell_type": "markdown",
   "metadata": {},
   "source": [
    "## Neural Network\n",
    "\n",
    "构建一个神经网络来认识数字 MNIST。 \n"
   ]
  },
  {
   "cell_type": "code",
   "execution_count": 111,
   "metadata": {},
   "outputs": [],
   "source": [
    "### 初始化加载库\n",
    "import matplotlib\n",
    "import matplotlib.pyplot as plt\n",
    "import numpy as np"
   ]
  },
  {
   "cell_type": "markdown",
   "metadata": {},
   "source": [
    "### 1. 加载数据 \n",
    "首先看一下数据长什么样子。这样最直观。\n"
   ]
  },
  {
   "cell_type": "code",
   "execution_count": 112,
   "metadata": {},
   "outputs": [],
   "source": [
    "# Standard library\n",
    "import pickle\n",
    "import gzip\n",
    "\n",
    "# Third-party libraries\n",
    "import numpy as np\n",
    "\n",
    "def load_data ():\n",
    "    \"\"\"\n",
    "        返回: (train_data, val_date, test_data)\n",
    "    \"\"\"\n",
    "    f = gzip.open('./mnist.pkl.gz', 'rb')\n",
    "    train_data, val_data, test_data = pickle.load(f, encoding='bytes')\n",
    "    f.close()\n",
    "    return (train_data, val_data, test_data)\n",
    "\n",
    "def load_data_wrapper ():\n",
    "    \"\"\"\n",
    "        由于进行数字认识是一个多分类(multi-classifier)问题，\n",
    "        所以可以对训练数据进行下预处理:\n",
    "             1. 使样本的特征的 shape 从 (784,) 变成 (784, 1)\n",
    "             2. 使分类标签变量变成 (10, 1) , 仅针对训练数据。\n",
    "    \"\"\"\n",
    "    train_data, val_data, test_data = load_data()\n",
    "    train_X = [x.reshape(784, 1) for x in train_data[0]]\n",
    "    train_y = [vectorize(y) for y in train_data[1]]\n",
    "    \n",
    "    val_X = [x.reshape(784, 1) for x in val_data[0]]\n",
    "    test_X = [x.reshape(784, 1) for x in test_data[0]]\n",
    "    \n",
    "    return (\n",
    "        list(zip(train_X, train_y)), \n",
    "        list(zip(val_X, val_data[1])),\n",
    "        list(zip(test_X, test_data[1]))\n",
    "    )\n",
    "\n",
    "def vectorize(y):\n",
    "    '''\n",
    "        返回一个 shape 为 (10, 1) 的 column vector.\n",
    "    '''\n",
    "    e = np.zeros((10, 1))\n",
    "    e[y] = 1.0\n",
    "    return e\n",
    "    \n",
    "def get_images (data):\n",
    "    images, _ = data\n",
    "    return [img.reshape(28, -1) for img in images]\n",
    "\n",
    "def plot_images6 (images):\n",
    "    \"Random plot six MNIST images separately\"\n",
    "    ilist = np.random.permutation(range(len(images)))\n",
    "    fig = plt.figure()\n",
    "    for j in range(1, 7):\n",
    "        ax = fig.add_subplot(1, 6, j)\n",
    "        ax.matshow(images[ilist[j]], cmap = matplotlib.cm.binary)\n",
    "        plt.xticks(np.array([]))\n",
    "        plt.yticks(np.array([]))\n",
    "    plt.show()"
   ]
  },
  {
   "cell_type": "code",
   "execution_count": 113,
   "metadata": {},
   "outputs": [],
   "source": [
    "train_data, val_data, test_data = load_data()"
   ]
  },
  {
   "cell_type": "code",
   "execution_count": 114,
   "metadata": {},
   "outputs": [
    {
     "name": "stdout",
     "output_type": "stream",
     "text": [
      "\n",
      " train_data <class 'tuple'> 2\n",
      "X: <class 'numpy.ndarray'> (50000, 784) (784,)\n",
      "y: <class 'numpy.ndarray'> (50000,)\n",
      "\n",
      " val_data <class 'tuple'> 2\n",
      "X: <class 'numpy.ndarray'> (10000, 784) (784,)\n",
      "y: <class 'numpy.ndarray'> (10000,)\n",
      "\n",
      " test_data <class 'tuple'> 2\n",
      "X: <class 'numpy.ndarray'> (10000, 784) (784,)\n",
      "y: <class 'numpy.ndarray'> (10000,)\n"
     ]
    }
   ],
   "source": [
    "def printDataInfo(data, name):\n",
    "    print(\"\\n\", name, type(data), len(data))\n",
    "    X, y = data\n",
    "    print('X:', type(X), X.shape, X[0].shape)\n",
    "    print('y:', type(y), y.shape)\n",
    "    \n",
    "printDataInfo(train_data, 'train_data')\n",
    "printDataInfo(val_data, 'val_data')\n",
    "printDataInfo(test_data, 'test_data')"
   ]
  },
  {
   "cell_type": "markdown",
   "metadata": {},
   "source": [
    "从上面可以看出，我们的数据集共有 `70,000` 个样本，每一个样本是 `28 * 28 = 784` 个像素所组成的图片。\n",
    "\n",
    "我们将 `70,000` 个样本分成：\n",
    "\n",
    "    - 训练数据, training data: 50,000\n",
    "    - 验证数据, validation data: 10,000\n",
    "    - 测试数据, test data: 10,000"
   ]
  },
  {
   "cell_type": "code",
   "execution_count": 115,
   "metadata": {
    "scrolled": true
   },
   "outputs": [
    {
     "data": {
      "image/png": "[encoded data removed]",
      "text/plain": [
       "<Figure size 432x288 with 6 Axes>"
      ]
     },
     "metadata": {},
     "output_type": "display_data"
    }
   ],
   "source": [
    "images = get_images(train_data)\n",
    "plot_images6(images)"
   ]
  },
  {
   "cell_type": "markdown",
   "metadata": {},
   "source": [
    "### 模型构建"
   ]
  },
  {
   "cell_type": "code",
   "execution_count": 128,
   "metadata": {},
   "outputs": [],
   "source": [
    "\"\"\"\n",
    "实现随机梯度下降版的 NN\n",
    "\"\"\"\n",
    "import random\n",
    "import numpy as np\n",
    "\n",
    "class Network(object):\n",
    "    \n",
    "    def __init__(self, sizes):\n",
    "        '''\n",
    "            sizes 是 NN 每层的单元数。\n",
    "            Ex: sizes = [2, 3, 1]\n",
    "            则说明，NN 共有 3 层，即一个输入层，一个隐藏层和一个输出层，\n",
    "            每层的单元个数，分别是 2, 3, 1.\n",
    "            我们为每层的参数进行初始化。\n",
    "            注意：输入层是没有偏置 bias 参数的。\n",
    "        '''\n",
    "        self.num_layers = len(sizes)\n",
    "        self.sizes = sizes\n",
    "        self.biases = [np.random.randn(nLayer, 1) for nLayer in sizes[1:]]\n",
    "        self.weights = [np.random.randn(nLayer, nPreLayer)\n",
    "                        for nLayer, nPreLayer in zip(sizes[1:], sizes[:-1])]\n",
    "        \n",
    "    def FP(self, a):\n",
    "        '''\n",
    "            使用 Feed Forward 将 a 作为输入参数，返回输出层。\n",
    "        '''\n",
    "        for b, w in zip(self.biases, self.weights):\n",
    "            a = sigmoid(np.dot(w, a) + b)\n",
    "        return a\n",
    "    \n",
    "    def StochasticGD(self, train_data, epochs, mini_batch_size, alpha, test_data = None):\n",
    "        '''\n",
    "            使用 mini-batch stochastic gradient descent 来训练模型。\n",
    "        '''\n",
    "        \n",
    "        if test_data: n_test = len(test_data)\n",
    "        n = len(train_data)\n",
    "        for i in range(epochs):\n",
    "            random.shuffle(train_data)\n",
    "            mini_batches = [train_data[k: k + mini_batch_size] \n",
    "                            for k in range(0, n, mini_batch_size)]\n",
    "            \n",
    "            for mini_batch in mini_batches:\n",
    "                self.update_mini_batch(mini_batch, alpha)\n",
    "            if test_data:\n",
    "                print(\"Epoch {0}: {1} / {2}\".format(\n",
    "                    i, self.evaluate(test_data), n_test\n",
    "                ))\n",
    "            else:\n",
    "                print(\"Epock {0} complete\".format(i))\n",
    "    \n",
    "    def update_mini_batch(self, mini_batch, alpha):\n",
    "        '''\n",
    "            使用 BP 来更新参数。\n",
    "        '''\n",
    "        nabla_b = [np.zeros(b.shape) for b in self.biases]\n",
    "        nabla_w = [np.zeros(w.shape) for w in self.weights]\n",
    "        \n",
    "        # 对每个样本每层的 𝛁b, 𝛁w 进行累加\n",
    "        for x, y in mini_batch:\n",
    "            delta_nabla_b, delta_nabla_w = self.BP(x, y)\n",
    "            nabla_b = [nb + dnb for nb, dnb in zip(nabla_b, delta_nabla_b)]\n",
    "            nabla_w = [nw + dnw for nw, dnw in zip(nabla_w, delta_nabla_w)]\n",
    "        \n",
    "        am = alpha * (1 / len(mini_batch))\n",
    "        self.weights = [w - am * nw for w, nw in zip(self.weights, nabla_w)]\n",
    "        self.biases = [b - am * nb for b, nb in zip(self.biases, nabla_b)]\n",
    "        \n",
    "    def BP(self, x, y):\n",
    "        '''\n",
    "            实现 BP。返回一个元组 `(Nabla_b, Nabla_w)` 即 `(𝛁b, 𝛁w)`.\n",
    "            𝛁b, 𝛁w 和每层的 b, w 的维度是一样的。\n",
    "        '''\n",
    "        nabla_b = [np.zeros(b.shape) for b in self.biases]\n",
    "        nabla_w = [np.zeros(w.shape) for w in self.weights]\n",
    "        \n",
    "        # FP\n",
    "        a = x\n",
    "        cache_a = [x] # list to store all the activations for all layer\n",
    "        cache_z = [] # list to store all the z vectors for all layer\n",
    "        for b, w in zip(self.biases, self.weights):\n",
    "            z = np.dot(w, a) + b\n",
    "            a = sigmoid(z)\n",
    "            cache_z.append(z)\n",
    "            cache_a.append(a)\n",
    "        \n",
    "        # Backward pass 计算输出层的 delta\n",
    "        delta = self.cost_derivative(cache_a[-1], y) * sigmoid(cache_z[-1])\n",
    "        # 计算输出层的 𝛁b, 𝛁w\n",
    "        nabla_b[-1] = delta\n",
    "        nabla_w[-1] = np.dot(delta, cache_a[-2].T)\n",
    "        \n",
    "        # 计算隐藏层的 𝛁b, 𝛁w\n",
    "        for l in range(2, self.num_layers):\n",
    "            z = cache_z[-l]\n",
    "            sp = sigmoid_prime(z)\n",
    "            delta = np.dot(self.weights[-l + 1].T, delta) * sp\n",
    "            nabla_b[-l] = delta\n",
    "            nabla_w[-l] = np.dot(delta, cache_a[-l - 1].T)\n",
    "        \n",
    "        return (nabla_b, nabla_w)\n",
    "    \n",
    "    def cost_derivative(self, output_a, y):\n",
    "        \"\"\"\n",
    "            返回最终输出层的误差\n",
    "        \"\"\"\n",
    "        return (output_a - y)\n",
    "    \n",
    "    def evaluate(self, test_data):\n",
    "        \"\"\"\n",
    "            返回测试样本正确的分类数。\n",
    "        \"\"\"\n",
    "        test_results = [(np.argmax(self.FP(x)), y) \n",
    "                        for (x, y) in test_data]\n",
    "        return sum(int(x == y) for (x, y) in test_results)\n",
    "    \n",
    "\n",
    "### Miscellaneous functions\n",
    "def sigmoid(z):\n",
    "    ''' The sigmoid function '''\n",
    "    return 1.0 / (1.0 + np.exp(-z))\n",
    "\n",
    "def sigmoid_prime(z):\n",
    "    ''' Derivative of the sigmoid function '''\n",
    "    return sigmoid(z) * (1 - sigmoid(z))\n",
    "        "
   ]
  },
  {
   "cell_type": "markdown",
   "metadata": {},
   "source": [
    "### Delta 与 Nabla\n",
    "Delta 𝚫 和 Nabla 𝛁 一般都可表示微分符号，一般都称为 Laplace operator。"
   ]
  },
  {
   "cell_type": "markdown",
   "metadata": {},
   "source": [
    "### 测试模型"
   ]
  },
  {
   "cell_type": "code",
   "execution_count": 129,
   "metadata": {},
   "outputs": [
    {
     "name": "stdout",
     "output_type": "stream",
     "text": [
      "<class 'list'> <class 'list'> <class 'list'>\n",
      "Epoch 0: 4692 / 10000\n",
      "Epoch 1: 6132 / 10000\n",
      "Epoch 2: 6492 / 10000\n",
      "Epoch 3: 6505 / 10000\n",
      "Epoch 4: 6619 / 10000\n",
      "Epoch 5: 6563 / 10000\n",
      "Epoch 6: 6593 / 10000\n",
      "Epoch 7: 6637 / 10000\n",
      "Epoch 8: 6609 / 10000\n",
      "Epoch 9: 6623 / 10000\n",
      "Epoch 10: 6602 / 10000\n",
      "Epoch 11: 6647 / 10000\n",
      "Epoch 12: 6678 / 10000\n",
      "Epoch 13: 6741 / 10000\n",
      "Epoch 14: 6712 / 10000\n",
      "Epoch 15: 6731 / 10000\n",
      "Epoch 16: 6736 / 10000\n",
      "Epoch 17: 6793 / 10000\n",
      "Epoch 18: 6695 / 10000\n",
      "Epoch 19: 6811 / 10000\n",
      "Epoch 20: 7117 / 10000\n",
      "Epoch 21: 7114 / 10000\n",
      "Epoch 22: 6848 / 10000\n",
      "Epoch 23: 7051 / 10000\n",
      "Epoch 24: 7211 / 10000\n",
      "Epoch 25: 7541 / 10000\n",
      "Epoch 26: 7590 / 10000\n",
      "Epoch 27: 7600 / 10000\n",
      "Epoch 28: 7605 / 10000\n",
      "Epoch 29: 7648 / 10000\n"
     ]
    }
   ],
   "source": [
    "train_data, val_data, test_data = load_data_wrapper()\n",
    "print(type(train_data), type(val_data), type(test_data))\n",
    "net = Network([784, 30, 10])\n",
    "net.StochasticGD(train_data, 30, 10, 3.0, test_data = test_data)"
   ]
  },
  {
   "cell_type": "code",
   "execution_count": 91,
   "metadata": {},
   "outputs": [
    {
     "name": "stdout",
     "output_type": "stream",
     "text": [
      "(1,)\n",
      "(3, 1)\n"
     ]
    },
    {
     "data": {
      "text/plain": [
       "array([[0.37811898],\n",
       "       [0.65908777]])"
      ]
     },
     "execution_count": 91,
     "metadata": {},
     "output_type": "execute_result"
    }
   ],
   "source": [
    "sizes = [3, 4, 4, 2]\n",
    "nn = Network(sizes)\n",
    "X = np.random.randn(3, 1)\n",
    "print(X[0].shape)\n",
    "\n",
    "print(X.shape)\n",
    "nn.FP(X)"
   ]
  }
 ],
 "metadata": {
  "kernelspec": {
   "display_name": "Python 3",
   "language": "python",
   "name": "python3"
  },
  "language_info": {
   "codemirror_mode": {
    "name": "ipython",
    "version": 3
   },
   "file_extension": ".py",
   "mimetype": "text/x-python",
   "name": "python",
   "nbconvert_exporter": "python",
   "pygments_lexer": "ipython3",
   "version": "3.7.0"
  }
 },
 "nbformat": 4,
 "nbformat_minor": 2
}
