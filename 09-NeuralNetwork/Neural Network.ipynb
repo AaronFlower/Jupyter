{
 "cells": [
  {
   "cell_type": "markdown",
   "metadata": {},
   "source": [
    "## Neural Network\n",
    "\n",
    "### Notations\n",
    "\n",
    "- $L$ : 神经网络的层数。\n",
    "- $n_l$ : 神经网络第 `l` 层的神经元个数。\n",
    "- $\\textbf{W}^{(l)} $: 从第 `l - 1`层到第 `l` 层权重矩阵, $\\textbf{W}^{(l)} \\in \\mathbb{R}^{n_l \\times n_{l - 1}}$。\n",
    "- $w^{(l)}_{ij}$: 从第 `l - 1`层第 `j` 个神经元到 `l` 层第 `i` 个神经元的权重。\n",
    "- $\\textbf{b}^{(l)}$: 从第 `l - 1`层到第 `l` 层的偏置, $\\textbf{b}^{(l)} \\in \\mathbb{R}^{n_l \\times 1}$。\n",
    "- $\\textbf{z}^{(l)}$: 第 `l` 层的神经元状态，$\\textbf{z}^{(l)} \\in \\mathbb{R}^{n_l \\times 1}$。\n",
    "- $\\textbf{a}^{(l)}$: 第 `l` 层的神经元输出， $\\textbf{a}^{(l)} \\in \\mathbb{R}^{n_l \\times 1}$。\n",
    "- $f(z^{(l)})$: 第 `l` 层的激活函数。\n",
    "\n",
    "### FP\n",
    "主要用于预测\n",
    "\n",
    "### BP\n",
    "\n",
    "1. 输出层参数更新公式\n",
    "\n",
    "2. 隐藏层参数更新公式\n",
    "\n",
    "### 实现\n",
    "\n",
    "1. 参数初始化\n",
    "2. 激活函数\n",
    "3. 激活函数导数\n",
    "4. evaluate(test_data)\n",
    "5. FP \n",
    "6. model(train_data, epoches, alpha, mini_batch_size, test_data)\n",
    "7. update_mini_batch()\n",
    "8. BP\n"
   ]
  },
  {
   "cell_type": "markdown",
   "metadata": {},
   "source": [
    "## 神经网络的优化方法\n",
    "1. 参数初始化\n",
    "2. 激活函数梯度消失\n",
    "3. dropout\n"
   ]
  }
 ],
 "metadata": {
  "kernelspec": {
   "display_name": "Python 3",
   "language": "python",
   "name": "python3"
  },
  "language_info": {
   "codemirror_mode": {
    "name": "ipython",
    "version": 3
   },
   "file_extension": ".py",
   "mimetype": "text/x-python",
   "name": "python",
   "nbconvert_exporter": "python",
   "pygments_lexer": "ipython3",
   "version": "3.7.0"
  }
 },
 "nbformat": 4,
 "nbformat_minor": 2
}
