{
 "cells": [
  {
   "cell_type": "markdown",
   "metadata": {},
   "source": [
    "## Fancy indexing and index tricks\n",
    "\n",
    "相对于 Python 原生列表，NumPy 提供了许多索引方法。除了之前的整数索引与 : , 数组还可以用整数和布尔数组进行索引。\n",
    "\n",
    "### Indexing with Array of Indices\n"
   ]
  },
  {
   "cell_type": "code",
   "execution_count": 2,
   "metadata": {
    "collapsed": false
   },
   "outputs": [
    {
     "name": "stdout",
     "output_type": "stream",
     "text": [
      "[ 1  1  1  9 64 25]\n",
      "[[ 9 16]\n",
      " [81 49]]\n"
     ]
    }
   ],
   "source": [
    "import numpy as np\n",
    "\n",
    "a = np.arange(12) ** 2\n",
    "# 一维索引数组\n",
    "i = np.array([ 1, 1, 1, 3, 8, 5])\n",
    "print(a[i])\n",
    "\n",
    "# 二维索引数组\n",
    "\n",
    "j = np.array([[3, 4], [9, 7]])\n",
    "print(a[j])"
   ]
  },
  {
   "cell_type": "markdown",
   "metadata": {},
   "source": [
    "当数组 a 是多维时，索引数组 i 中的元素的对应是 a 的第一个 axis.\n",
    "\n",
    "例如："
   ]
  },
  {
   "cell_type": "code",
   "execution_count": 3,
   "metadata": {
    "collapsed": false
   },
   "outputs": [
    {
     "name": "stdout",
     "output_type": "stream",
     "text": [
      "[[[  0   0   0]\n",
      "  [255   0   0]\n",
      "  [  0 255   0]\n",
      "  [  0   0   0]]\n",
      "\n",
      " [[  0   0   0]\n",
      "  [  0   0 255]\n",
      "  [255 255 255]\n",
      "  [  0   0   0]]]\n"
     ]
    }
   ],
   "source": [
    "palette = np.array([[0, 0, 0], \n",
    "                    [255, 0, 0],\n",
    "                    [0, 255, 0],\n",
    "                    [0, 0, 255],\n",
    "                    [255, 255, 255]\n",
    "                   ])\n",
    "image = np.array([[0, 1, 2, 0], [0, 3, 4, 0]])\n",
    "print(palette[image])"
   ]
  },
  {
   "cell_type": "markdown",
   "metadata": {},
   "source": [
    "当然我们可以用多个索引数组可索引一个数组的各个维度，这个多个索引数组的shape 应该是相同的， 或者可以被 broadcasting。"
   ]
  },
  {
   "cell_type": "code",
   "execution_count": 18,
   "metadata": {
    "collapsed": false
   },
   "outputs": [
    {
     "name": "stdout",
     "output_type": "stream",
     "text": [
      "[[0 1]\n",
      " [1 2]]\n",
      "[[2 1]\n",
      " [3 3]]\n",
      "[[  0.   1.   2.   3.]\n",
      " [ 10.  11.  12.  13.]\n",
      " [ 20.  21.  22.  23.]\n",
      " [ 30.  31.  32.  33.]]\n",
      "[[  2.  11.]\n",
      " [ 13.  23.]]\n",
      "[[ 20.  11.]\n",
      " [ 31.  32.]]\n",
      "Broadcasting:\n",
      "[[  2.  12.]\n",
      " [ 12.  22.]]\n",
      "List indexing:\n",
      "[[  2.  11.]\n",
      " [ 13.  23.]]\n",
      "Array of array indexing\n",
      "[[[0 1]\n",
      "  [1 2]]\n",
      "\n",
      " [[2 1]\n",
      "  [3 3]]]\n",
      "(2, 2, 2)\n",
      "[[[[  0.   1.   2.   3.]\n",
      "   [ 10.  11.  12.  13.]]\n",
      "\n",
      "  [[ 10.  11.  12.  13.]\n",
      "   [ 20.  21.  22.  23.]]]\n",
      "\n",
      "\n",
      " [[[ 20.  21.  22.  23.]\n",
      "   [ 10.  11.  12.  13.]]\n",
      "\n",
      "  [[ 30.  31.  32.  33.]\n",
      "   [ 30.  31.  32.  33.]]]]\n"
     ]
    }
   ],
   "source": [
    "a = np.fromfunction(lambda i,j: i * 10 + j, (4, 4))\n",
    "i = np.array([[0, 1], [1, 2]])\n",
    "j = np.array([[2, 1], [3, 3]])\n",
    "print(i)\n",
    "print(j)\n",
    "print(a)\n",
    "# i, j 的 shape 必须相同。\n",
    "print(a[i,j])\n",
    "print(a[j,i])\n",
    "\n",
    "# 隐匿 Broadcasting\n",
    "print('Broadcasting:')\n",
    "print(a[i,2])\n",
    "# 可以把 i,j 放到一个列表中，然后索引. \n",
    "l = [i, j]\n",
    "print('List indexing:')\n",
    "print(a[l])\n",
    "# 但是我们却不能把它们放在一个 Array 中。 \n",
    "# 放在数组中就不是我们想要的结果了。\n",
    "print('Array of array indexing')\n",
    "s = np.array([i, j])\n",
    "print(s)\n",
    "print(s.shape)\n",
    "print(a[s])"
   ]
  },
  {
   "cell_type": "markdown",
   "metadata": {},
   "source": [
    "另一种常用的索引是数组的最大值，最小值索引。"
   ]
  },
  {
   "cell_type": "code",
   "execution_count": 33,
   "metadata": {
    "collapsed": false
   },
   "outputs": [
    {
     "name": "stdout",
     "output_type": "stream",
     "text": [
      "[  20.     51.25   82.5   113.75  145.  ]\n",
      "[[ 0.          0.84147098  0.90929743  0.14112001]\n",
      " [-0.7568025  -0.95892427 -0.2794155   0.6569866 ]\n",
      " [ 0.98935825  0.41211849 -0.54402111 -0.99999021]\n",
      " [-0.53657292  0.42016704  0.99060736  0.65028784]\n",
      " [-0.28790332 -0.96139749 -0.75098725  0.14987721]]\n",
      "[2 0 3 1]\n",
      "[2 3 0 2 3]\n",
      "14\n",
      "0.990607355695\n"
     ]
    }
   ],
   "source": [
    "time = np.linspace(20, 145, 5)\n",
    "data = np.sin(np.arange(20).reshape(5, 4))\n",
    "print(time)\n",
    "print(data)\n",
    "\n",
    "colMaxIndices = data.argmax(axis = 0)\n",
    "rowMaxIndices = data.argmax(axis = 1)\n",
    "# 索引不是目的，目的是为了最大值。\n",
    "print(colMaxIndices)\n",
    "print(rowMaxIndices)\n",
    "\n",
    "maxIndex = data.argmax() # 会把整个数组当成一个列表来索引。\n",
    "print(maxIndex) \n",
    "print(data.flat[maxIndex])"
   ]
  },
  {
   "cell_type": "code",
   "execution_count": 35,
   "metadata": {
    "collapsed": false
   },
   "outputs": [
    {
     "name": "stdout",
     "output_type": "stream",
     "text": [
      "[2 1 3 3 4]\n",
      "[3 1 4 3 4]\n"
     ]
    }
   ],
   "source": [
    "'''\n",
    "数组索引还可以用于赋值运算。\n",
    "'''\n",
    "a = np.arange(5)\n",
    "# 如果一个索引出现了多次，则以最后一次为准。\n",
    "a[[0, 0, 2]] = [1, 2, 3]\n",
    "print(a)\n",
    "# 注意自运算时出现多次，仅仅会计算一次。\n",
    "a[[0, 0, 2]] += 1\n",
    "print(a)"
   ]
  },
  {
   "cell_type": "markdown",
   "metadata": {},
   "source": [
    "### Indexing with Boolean Arrays\n",
    "我们可以用 Boolean 值的数组来索引数组。"
   ]
  },
  {
   "cell_type": "code",
   "execution_count": 47,
   "metadata": {
    "collapsed": false
   },
   "outputs": [
    {
     "name": "stdout",
     "output_type": "stream",
     "text": [
      "Basic:\n",
      "[[  0.   1.   2.   3.]\n",
      " [ 10.  11.  12.  13.]\n",
      " [ 20.  21.  22.  23.]]\n",
      "[[False False False False]\n",
      " [False False False  True]\n",
      " [ True  True  True  True]]\n",
      "[ 13.  20.  21.  22.  23.]\n",
      "\n",
      "Assign:\n",
      "[[  0.   1.   2.   3.]\n",
      " [ 10.  11.  12.  -1.]\n",
      " [ -1.  -1.  -1.  -1.]]\n",
      "\n",
      "Multiple Boolean arrays:\n",
      "[[ 10.  11.  12.  13.]\n",
      " [ 20.  21.  22.  23.]]\n",
      "[[ 10.  11.  12.  13.]\n",
      " [ 20.  21.  22.  23.]]\n",
      "[[  0.   2.]\n",
      " [ 10.  12.]\n",
      " [ 20.  22.]]\n"
     ]
    }
   ],
   "source": [
    "a = np.fromfunction(lambda i,j: i*10 + j, (3, 4))\n",
    "print('Basic:')\n",
    "print(a)\n",
    "b = a > 12\n",
    "print(b)\n",
    "print(a[b])\n",
    "\n",
    "# 这个特性用在赋值上十分方便。\n",
    "print('\\nAssign:')\n",
    "a[b] = -1\n",
    "print(a)\n",
    "\n",
    "# 多个一维 Boolean 数组来索引\n",
    "print('\\nMultiple Boolean arrays:')\n",
    "a = np.fromfunction(lambda i,j: i*10 + j, (3, 4))\n",
    "b1 = np.array([False, True, True])\n",
    "b2 = np.array([True, False, True, False])\n",
    "print(a[b1])\n",
    "print( a[b1,:])\n",
    "print(a[:,b2])"
   ]
  },
  {
   "cell_type": "markdown",
   "metadata": {},
   "source": [
    "### The ix_() function\n",
    "ix_() function 可以用来组合不同的向量得到对应的各自对应的多维数组。"
   ]
  },
  {
   "cell_type": "code",
   "execution_count": 54,
   "metadata": {
    "collapsed": false
   },
   "outputs": [
    {
     "name": "stdout",
     "output_type": "stream",
     "text": [
      "[[ 0.          0.84147098  0.90929743  0.14112001]\n",
      " [-0.7568025  -0.95892427 -0.2794155   0.6569866 ]\n",
      " [ 0.98935825  0.41211849 -0.54402111 -0.99999021]\n",
      " [-0.53657292  0.42016704  0.99060736  0.65028784]\n",
      " [-0.28790332 -0.96139749 -0.75098725  0.14987721]]\n",
      "col Max: [2 0 3 1] (4,)\n",
      "row Max: [2 3 0 2 3] (5,)\n",
      "[[2]\n",
      " [0]\n",
      " [3]\n",
      " [1]] (4, 1)\n",
      "[[2 3 0 2 3]] (1, 5)\n",
      "[[4 5 2 4 5]\n",
      " [2 3 0 2 3]\n",
      " [5 6 3 5 6]\n",
      " [3 4 1 3 4]]\n"
     ]
    }
   ],
   "source": [
    "data = np.sin(np.arange(20).reshape(5, 4))\n",
    "print(data)\n",
    "colMaxIndices = data.argmax(axis = 0)\n",
    "rowMaxIndices = data.argmax(axis = 1)\n",
    "print('col Max:', colMaxIndices, colMaxIndices.shape)\n",
    "print('row Max:', rowMaxIndices, rowMaxIndices.shape)\n",
    "ix, jx = np.ix_(colMaxIndices, rowMaxIndices)\n",
    "print(ix, ix.shape)\n",
    "print(jx, jx.shape)\n",
    "print(ix + jx)"
   ]
  }
 ],
 "metadata": {
  "kernelspec": {
   "display_name": "Python 3",
   "language": "python",
   "name": "python3"
  },
  "language_info": {
   "codemirror_mode": {
    "name": "ipython",
    "version": 3
   },
   "file_extension": ".py",
   "mimetype": "text/x-python",
   "name": "python",
   "nbconvert_exporter": "python",
   "pygments_lexer": "ipython3",
   "version": "3.6.0"
  }
 },
 "nbformat": 4,
 "nbformat_minor": 2
}
