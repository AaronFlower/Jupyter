{
 "cells": [
  {
   "cell_type": "markdown",
   "metadata": {},
   "source": [
    "## Broadcasting 散布，扩散，广播，撒播\n",
    "Broadcasting 广播描述的是 Numpy 在进行数组运算时怎样处理不同维度的数组的，则于某些限制，维度低的数组将会被 “扩散（Broadcasting）”成现高维度同维的数组。"
   ]
  },
  {
   "cell_type": "code",
   "execution_count": 4,
   "metadata": {
    "collapsed": false
   },
   "outputs": [
    {
     "name": "stdout",
     "output_type": "stream",
     "text": [
      "a * b: [ 2.  4.  6.]\n",
      "a * s: [ 2.  4.  6.]\n"
     ]
    }
   ],
   "source": [
    "import numpy as np\n",
    "'''\n",
    "一个最常用的扩散 case。用在数组的 elementwise 运算上。\n",
    "'''\n",
    "a = np.array([1.0, 2.0, 3.0])\n",
    "b = np.array([2.0, 2.0, 2.0])\n",
    "# times 2 elementwise\n",
    "print('a * b:', a * b)\n",
    "# equivalent to the previous example.\n",
    "s = 2\n",
    "print('a * s:', a * s)"
   ]
  },
  {
   "cell_type": "markdown",
   "metadata": {},
   "source": [
    "我们可以认为标量(scalar) s 在运算进被扩散成了一个与 a 同 shape 的数组。新数组中元素都是原始标量的拷贝。**扩散:**仅仅只是概念上，Numpy 在实现上足够智能，并不会去真正的 copy 去扩散, 而是在实现这些操作时尽可能的在空间和时间效率上节省。\n",
    "\n",
    "第二个例子效率更高，因为在计算进扩散占用更少的内存空间(扩散只一个概念), s 是一相标量而不是一个数组。\n",
    "\n",
    "### General Broadcasting Rule 扩散规则\n",
    "\n",
    "在完成两个数组的操作时，NumPy 会比较两个数组的 shape,**扩散规则** 是维度要兼容下面两种情况之一才能完成运算：\n",
    "\n",
    "1. 对应维度相等 ， 或\n",
    "2. 对应维度其中一个等于1\n",
    "\n",
    "如果两个条件都不满足，则会报 **ValueError: frames are not aligned ** 异常。\n",
    "\n",
    "例如下面的运算都是满足扩散规则的：\n",
    "\n",
    "Ex1.\n",
    "\n",
    "```\n",
    "Image  (3d array): 256 x 256 x 3\n",
    "Scale  (1d array):             3\n",
    "Result (3d array): 256 x 256 x 3\n",
    "```\n",
    "\n",
    "EX2.\n",
    "\n",
    "```\n",
    "A      (4d array):  8 x 1 x 6 x 1\n",
    "B      (3d array):      7 x 1 x 5\n",
    "Result (4d array):  8 x 7 x 6 x 5\n",
    "```\n"
   ]
  },
  {
   "cell_type": "code",
   "execution_count": 9,
   "metadata": {
    "collapsed": false
   },
   "outputs": [
    {
     "name": "stdout",
     "output_type": "stream",
     "text": [
      "(2, 2, 3) (3,)\n",
      "[[[  0  -1  -2]\n",
      "  [  3  -4  -5]]\n",
      "\n",
      " [[  6  -7  -8]\n",
      "  [  9 -10 -11]]]\n"
     ]
    }
   ],
   "source": [
    "'''\n",
    "Ex1.\n",
    "Image  (3d array): 2 x 2 x 3\n",
    "Scale  (1d array):         3\n",
    "Result (3d array): 2 x 2 x 3\n",
    "'''\n",
    "a = np.arange(12).reshape(2, 2, 3)\n",
    "b = np.array([1, -1, -1])\n",
    "print (a.shape, b.shape)\n",
    "print (a * b)"
   ]
  },
  {
   "cell_type": "code",
   "execution_count": 22,
   "metadata": {
    "collapsed": false
   },
   "outputs": [
    {
     "name": "stdout",
     "output_type": "stream",
     "text": [
      "[[[[0]\n",
      "   [1]\n",
      "   [2]\n",
      "   [3]]]\n",
      "\n",
      "\n",
      " [[[4]\n",
      "   [5]\n",
      "   [6]\n",
      "   [7]]]]\n",
      "[[[ 0  1  2  3  4]]\n",
      "\n",
      " [[ 5  6  7  8  9]]\n",
      "\n",
      " [[10 11 12 13 14]]]\n",
      "a.shape: (2, 1, 4, 1)\n",
      "b.shape:    (3, 1, 5)\n",
      "a * b shape: (2, 3, 4, 5)\n",
      "[[[[ 0  0  0  0  0]\n",
      "   [ 0  1  2  3  4]\n",
      "   [ 0  2  4  6  8]\n",
      "   [ 0  3  6  9 12]]\n",
      "\n",
      "  [[ 0  0  0  0  0]\n",
      "   [ 5  6  7  8  9]\n",
      "   [10 12 14 16 18]\n",
      "   [15 18 21 24 27]]\n",
      "\n",
      "  [[ 0  0  0  0  0]\n",
      "   [10 11 12 13 14]\n",
      "   [20 22 24 26 28]\n",
      "   [30 33 36 39 42]]]\n",
      "\n",
      "\n",
      " [[[ 0  4  8 12 16]\n",
      "   [ 0  5 10 15 20]\n",
      "   [ 0  6 12 18 24]\n",
      "   [ 0  7 14 21 28]]\n",
      "\n",
      "  [[20 24 28 32 36]\n",
      "   [25 30 35 40 45]\n",
      "   [30 36 42 48 54]\n",
      "   [35 42 49 56 63]]\n",
      "\n",
      "  [[40 44 48 52 56]\n",
      "   [50 55 60 65 70]\n",
      "   [60 66 72 78 84]\n",
      "   [70 77 84 91 98]]]]\n"
     ]
    }
   ],
   "source": [
    "'''\n",
    "Ex2. 对应维度上有一个是等于 1 的。\n",
    "\n",
    "'''\n",
    "a = np.arange(8).reshape(2, 1, 4, 1)\n",
    "b = np.arange(15).reshape(3,1,5)\n",
    "print(a)\n",
    "print(b)\n",
    "print('a.shape:', a.shape)\n",
    "print('b.shape:   ', b.shape)\n",
    "c = a *  b\n",
    "print ('a * b shape:', c.shape)\n",
    "print(a * b)"
   ]
  },
  {
   "cell_type": "markdown",
   "metadata": {},
   "source": [
    "- 下面是一些合法扩散的例子:\n",
    "\n",
    "扩散合法，对应维度的值满足要么有一个维度缺失，要么一个维度为 1， 要么维度完全相等。\n",
    "\n",
    "```\n",
    "A      (2d array):  5 x 4\n",
    "B      (1d array):      1\n",
    "Result (2d array):  5 x 4\n",
    "\n",
    "A      (2d array):  5 x 4\n",
    "B      (1d array):      4\n",
    "Result (2d array):  5 x 4\n",
    "\n",
    "A      (3d array):  15 x 3 x 5\n",
    "B      (3d array):  15 x 1 x 5\n",
    "Result (3d array):  15 x 3 x 5\n",
    "\n",
    "A      (3d array):  15 x 3 x 5\n",
    "B      (2d array):       3 x 5\n",
    "Result (3d array):  15 x 3 x 5\n",
    "\n",
    "A      (3d array):  15 x 3 x 5\n",
    "B      (2d array):       3 x 1\n",
    "Result (3d array):  15 x 3 x 5\n",
    "```\n",
    "\n",
    "- 下面是不满足扩散的例子:\n",
    "\n",
    "```\n",
    "A      (1d array):  3\n",
    "B      (1d array):  4 # trailing dimensions do not match\n",
    "\n",
    "A      (2d array):      2 x 1\n",
    "B      (3d array):  8 x 4 x 3 # second from last dimensions mismatched\n",
    "```"
   ]
  },
  {
   "cell_type": "markdown",
   "metadata": {},
   "source": [
    "扩散提供了一个对数组进行外部操作的快捷的方法。下面一个例子是相加的例子。"
   ]
  },
  {
   "cell_type": "code",
   "execution_count": 28,
   "metadata": {
    "collapsed": false
   },
   "outputs": [
    {
     "name": "stdout",
     "output_type": "stream",
     "text": [
      "(4, 1) (3,)\n",
      "[[  1.   2.   3.]\n",
      " [ 11.  12.  13.]\n",
      " [ 21.  22.  23.]\n",
      " [ 31.  32.  33.]]\n"
     ]
    }
   ],
   "source": [
    "a = np.array([0.0, 10.0, 20.0, 30.0])\n",
    "b = np.array([1.0, 2.0, 3.0])\n",
    "print((a[:, np.newaxis]).shape, b.shape)\n",
    "print(a[:, np.newaxis] + b) # a a[:, np.newaxis] make 4x1.\n"
   ]
  },
  {
   "cell_type": "markdown",
   "metadata": {},
   "source": [
    "参考: \n",
    "-  [Numpy 中的扩散](http://scipy.github.io/old-wiki/pages/EricsBroadcastingDoc)\n",
    "- [Broadcasting](https://docs.scipy.org/doc/numpy-dev/user/basics.broadcasting.html)\n",
    "    "
   ]
  }
 ],
 "metadata": {
  "kernelspec": {
   "display_name": "Python 3",
   "language": "python",
   "name": "python3"
  },
  "language_info": {
   "codemirror_mode": {
    "name": "ipython",
    "version": 3
   },
   "file_extension": ".py",
   "mimetype": "text/x-python",
   "name": "python",
   "nbconvert_exporter": "python",
   "pygments_lexer": "ipython3",
   "version": "3.6.0"
  }
 },
 "nbformat": 4,
 "nbformat_minor": 2
}
