{
 "cells": [
  {
   "cell_type": "markdown",
   "metadata": {},
   "source": [
    "## Linear Algebra\n",
    "### Simple Array Operations\n",
    "See [linalg.py](https://docs.scipy.org/doc/numpy/reference/routines.linalg.html) in numpy folder for more.\n"
   ]
  },
  {
   "cell_type": "code",
   "execution_count": 10,
   "metadata": {
    "collapsed": false
   },
   "outputs": [
    {
     "name": "stdout",
     "output_type": "stream",
     "text": [
      "Original Array:\n",
      " [[ 1.  2.]\n",
      " [ 3.  4.]]\n",
      "a Transpose:\n",
      " [[ 1.  3.]\n",
      " [ 2.  4.]]\n",
      "a Inverse:\n",
      " [[-2.   1. ]\n",
      " [ 1.5 -0.5]]\n",
      "Unit Matrix:\n",
      " [[ 1.  0.]\n",
      " [ 0.  1.]]\n",
      "Matrix product:\n",
      " [[ 1.  2.]\n",
      " [ 3.  4.]]\n",
      "Matrix trace:\n",
      " 2.0\n"
     ]
    }
   ],
   "source": [
    "import numpy as np\n",
    "a = np.array([[1.0, 2.0], [3.0, 4.0]])\n",
    "print('Original Array:\\n', a)\n",
    "print('a Transpose:\\n', a.transpose())\n",
    "print('a Inverse:\\n', np.linalg.inv(a))\n",
    "\n",
    "# 单位矩阵\n",
    "u = np.eye(2)\n",
    "print('Unit Matrix:\\n', u)\n",
    "print('Matrix product:\\n', np.dot(a, u))\n",
    "print('Matrix trace:\\n', np.trace(u))"
   ]
  },
  {
   "cell_type": "code",
   "execution_count": null,
   "metadata": {
    "collapsed": true
   },
   "outputs": [],
   "source": []
  }
 ],
 "metadata": {
  "kernelspec": {
   "display_name": "Python 3",
   "language": "python",
   "name": "python3"
  },
  "language_info": {
   "codemirror_mode": {
    "name": "ipython",
    "version": 3
   },
   "file_extension": ".py",
   "mimetype": "text/x-python",
   "name": "python",
   "nbconvert_exporter": "python",
   "pygments_lexer": "ipython3",
   "version": "3.6.0"
  }
 },
 "nbformat": 4,
 "nbformat_minor": 2
}
