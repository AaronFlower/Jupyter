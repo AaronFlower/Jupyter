{
 "cells": [
  {
   "cell_type": "markdown",
   "metadata": {},
   "source": [
    "## FM\n",
    "\n",
    "FM (Factorization Machines), 因式分解机。对于稀疏矩阵来说，FM 是一个很好的模型。\n",
    "\n",
    "SVM 在稀疏矩阵上不能更好的学习到参数来分隔超平面。\n",
    "\n",
    "FM 的优点：\n",
    "\n",
    "1. 在稀疏矩阵表现很好。\n",
    "\n",
    "2. 模型的计算复杂度是线性的，效率很高。"
   ]
  },
  {
   "cell_type": "markdown",
   "metadata": {},
   "source": [
    "### FM 模型\n",
    "FM 的常见的是 `d = 2` 的模型，其公式为:\n",
    "\n",
    "$$\n",
    "\\hat{y} = w_0 + \\sum_{i=1}^{i=n}w_i x_i \n",
    "    + \\sum_{i=1}^{i=n}\\sum_{j=i+1}^{j=n} \\langle\\textbf{v}_i,\\textbf{v}_j\\rangle x_i x_j\n",
    "$$\n",
    "\n",
    "其中参数空间为：$w_0, w_1, w_2, ..., w_n$ 和 $v_{i,f}$。"
   ]
  }
 ],
 "metadata": {
  "kernelspec": {
   "display_name": "Python 3",
   "language": "python",
   "name": "python3"
  },
  "language_info": {
   "codemirror_mode": {
    "name": "ipython",
    "version": 3
   },
   "file_extension": ".py",
   "mimetype": "text/x-python",
   "name": "python",
   "nbconvert_exporter": "python",
   "pygments_lexer": "ipython3",
   "version": "3.7.0"
  }
 },
 "nbformat": 4,
 "nbformat_minor": 2
}
