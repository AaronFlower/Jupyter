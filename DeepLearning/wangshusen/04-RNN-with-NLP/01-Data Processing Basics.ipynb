{
 "cells": [
  {
   "cell_type": "markdown",
   "id": "genetic-outside",
   "metadata": {},
   "source": [
    "## Data Processing  Basics\n",
    "\n",
    "### 1. Processing Categorical Features\n",
    "Numberic Features and Categorical Features\n",
    "\n",
    "|Age|Gender|Nationality|\n",
    "|---|------|-----------|\n",
    "|35  |Male |US.         |\n",
    "| 31   | Male   | China |\n",
    "| 29   | Female | India |\n",
    "| 27   | Male   | US    |\n",
    "\n",
    "#### Numeric Features\n",
    "- **Age** is a numeric feature because it is **ordered**\n",
    "- 35-year-old is older than 31-year old.\n",
    "\n",
    "#### Binary Features\n",
    "- **Geneder** is a binary feature: female or male. (In most people's opinion)\n",
    "- Represent `female` by 0\n",
    "- Represent `male` by 1\n",
    "\n",
    "#### Categorical feature\n"
   ]
  }
 ],
 "metadata": {
  "kernelspec": {
   "display_name": "Python 3",
   "language": "python",
   "name": "python3"
  },
  "language_info": {
   "codemirror_mode": {
    "name": "ipython",
    "version": 3
   },
   "file_extension": ".py",
   "mimetype": "text/x-python",
   "name": "python",
   "nbconvert_exporter": "python",
   "pygments_lexer": "ipython3",
   "version": "3.8.2"
  }
 },
 "nbformat": 4,
 "nbformat_minor": 5
}
